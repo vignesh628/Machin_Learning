{
  "nbformat": 4,
  "nbformat_minor": 0,
  "metadata": {
    "colab": {
      "name": "human activity assignment final",
      "version": "0.3.2",
      "provenance": [],
      "collapsed_sections": []
    },
    "kernelspec": {
      "name": "python3",
      "display_name": "Python 3"
    },
    "accelerator": "GPU"
  },
  "cells": [
    {
      "cell_type": "markdown",
      "metadata": {
        "id": "mKso43-ePCqj",
        "colab_type": "text"
      },
      "source": [
        "#HUMAN ACTIVITY DETECTION ASSIGNMENT\n",
        "#### WE HAVE RAW DATA OF THE ACCELERATION AND GYROSCOPE DATA OF THE 30 PERSONS COLLECTED."
      ]
    },
    {
      "cell_type": "code",
      "metadata": {
        "id": "d8t5HJzyQRVD",
        "colab_type": "code",
        "outputId": "67a5a4cc-020e-45bf-823d-2b862b5e8db4",
        "colab": {
          "base_uri": "https://localhost:8080/",
          "height": 51
        }
      },
      "source": [
        "# Code to read csv file into Colaboratory:\n",
        "!pip install -U -q PyDrive\n",
        "from pydrive.auth import GoogleAuth\n",
        "from pydrive.drive import GoogleDrive\n",
        "from google.colab import auth\n",
        "from oauth2client.client import GoogleCredentials\n",
        "# Authenticate and create the PyDrive client.\n",
        "auth.authenticate_user()\n",
        "gauth = GoogleAuth()\n",
        "gauth.credentials = GoogleCredentials.get_application_default()\n",
        "drive = GoogleDrive(gauth)"
      ],
      "execution_count": 0,
      "outputs": [
        {
          "output_type": "stream",
          "text": [
            "\u001b[?25l\r\u001b[K    1% |▎                               | 10kB 26.3MB/s eta 0:00:01\r\u001b[K    2% |▋                               | 20kB 2.2MB/s eta 0:00:01\r\u001b[K    3% |█                               | 30kB 3.2MB/s eta 0:00:01\r\u001b[K    4% |█▎                              | 40kB 2.1MB/s eta 0:00:01\r\u001b[K    5% |█▋                              | 51kB 2.6MB/s eta 0:00:01\r\u001b[K    6% |██                              | 61kB 3.1MB/s eta 0:00:01\r\u001b[K    7% |██▎                             | 71kB 3.5MB/s eta 0:00:01\r\u001b[K    8% |██▋                             | 81kB 4.0MB/s eta 0:00:01\r\u001b[K    9% |███                             | 92kB 4.5MB/s eta 0:00:01\r\u001b[K    10% |███▎                            | 102kB 3.4MB/s eta 0:00:01\r\u001b[K    11% |███▋                            | 112kB 3.4MB/s eta 0:00:01\r\u001b[K    12% |████                            | 122kB 4.9MB/s eta 0:00:01\r\u001b[K    13% |████▎                           | 133kB 4.9MB/s eta 0:00:01\r\u001b[K    14% |████▋                           | 143kB 9.2MB/s eta 0:00:01\r\u001b[K    15% |█████                           | 153kB 9.2MB/s eta 0:00:01\r\u001b[K    16% |█████▎                          | 163kB 9.2MB/s eta 0:00:01\r\u001b[K    17% |█████▋                          | 174kB 9.2MB/s eta 0:00:01\r\u001b[K    18% |██████                          | 184kB 9.3MB/s eta 0:00:01\r\u001b[K    19% |██████▎                         | 194kB 9.3MB/s eta 0:00:01\r\u001b[K    20% |██████▋                         | 204kB 49.1MB/s eta 0:00:01\r\u001b[K    21% |███████                         | 215kB 10.1MB/s eta 0:00:01\r\u001b[K    22% |███████▎                        | 225kB 10.1MB/s eta 0:00:01\r\u001b[K    23% |███████▋                        | 235kB 10.3MB/s eta 0:00:01\r\u001b[K    24% |████████                        | 245kB 10.2MB/s eta 0:00:01\r\u001b[K    25% |████████▎                       | 256kB 10.2MB/s eta 0:00:01\r\u001b[K    26% |████████▋                       | 266kB 10.0MB/s eta 0:00:01\r\u001b[K    27% |█████████                       | 276kB 10.1MB/s eta 0:00:01\r\u001b[K    29% |█████████▎                      | 286kB 10.1MB/s eta 0:00:01\r\u001b[K    30% |█████████▋                      | 296kB 10.1MB/s eta 0:00:01\r\u001b[K    31% |██████████                      | 307kB 10.4MB/s eta 0:00:01\r\u001b[K    32% |██████████▎                     | 317kB 59.7MB/s eta 0:00:01\r\u001b[K    33% |██████████▋                     | 327kB 59.9MB/s eta 0:00:01\r\u001b[K    34% |███████████                     | 337kB 61.2MB/s eta 0:00:01\r\u001b[K    35% |███████████▎                    | 348kB 55.5MB/s eta 0:00:01\r\u001b[K    36% |███████████▋                    | 358kB 56.5MB/s eta 0:00:01\r\u001b[K    37% |████████████                    | 368kB 65.3MB/s eta 0:00:01\r\u001b[K    38% |████████████▎                   | 378kB 64.9MB/s eta 0:00:01\r\u001b[K    39% |████████████▋                   | 389kB 65.2MB/s eta 0:00:01\r\u001b[K    40% |█████████████                   | 399kB 11.5MB/s eta 0:00:01\r\u001b[K    41% |█████████████▎                  | 409kB 11.3MB/s eta 0:00:01\r\u001b[K    42% |█████████████▋                  | 419kB 11.3MB/s eta 0:00:01\r\u001b[K    43% |██████████████                  | 430kB 11.3MB/s eta 0:00:01\r\u001b[K    44% |██████████████▎                 | 440kB 11.3MB/s eta 0:00:01\r\u001b[K    45% |██████████████▋                 | 450kB 11.4MB/s eta 0:00:01\r\u001b[K    46% |███████████████                 | 460kB 11.4MB/s eta 0:00:01\r\u001b[K    47% |███████████████▎                | 471kB 11.4MB/s eta 0:00:01\r\u001b[K    48% |███████████████▋                | 481kB 11.4MB/s eta 0:00:01\r\u001b[K    49% |████████████████                | 491kB 11.4MB/s eta 0:00:01\r\u001b[K    50% |████████████████▎               | 501kB 62.4MB/s eta 0:00:01\r\u001b[K    51% |████████████████▋               | 512kB 62.7MB/s eta 0:00:01\r\u001b[K    52% |█████████████████               | 522kB 63.8MB/s eta 0:00:01\r\u001b[K    53% |█████████████████▎              | 532kB 65.3MB/s eta 0:00:01\r\u001b[K    54% |█████████████████▋              | 542kB 65.1MB/s eta 0:00:01\r\u001b[K    55% |██████████████████              | 552kB 71.1MB/s eta 0:00:01\r\u001b[K    57% |██████████████████▎             | 563kB 72.0MB/s eta 0:00:01\r\u001b[K    58% |██████████████████▋             | 573kB 71.7MB/s eta 0:00:01\r\u001b[K    59% |███████████████████             | 583kB 71.9MB/s eta 0:00:01\r\u001b[K    60% |███████████████████▎            | 593kB 71.3MB/s eta 0:00:01\r\u001b[K    61% |███████████████████▋            | 604kB 70.9MB/s eta 0:00:01\r\u001b[K    62% |████████████████████            | 614kB 76.6MB/s eta 0:00:01\r\u001b[K    63% |████████████████████▎           | 624kB 75.2MB/s eta 0:00:01\r\u001b[K    64% |████████████████████▋           | 634kB 74.3MB/s eta 0:00:01\r\u001b[K    65% |█████████████████████           | 645kB 74.2MB/s eta 0:00:01\r\u001b[K    66% |█████████████████████▎          | 655kB 73.1MB/s eta 0:00:01\r\u001b[K    67% |█████████████████████▋          | 665kB 56.0MB/s eta 0:00:01\r\u001b[K    68% |██████████████████████          | 675kB 55.7MB/s eta 0:00:01\r\u001b[K    69% |██████████████████████▎         | 686kB 56.4MB/s eta 0:00:01\r\u001b[K    70% |██████████████████████▋         | 696kB 57.2MB/s eta 0:00:01\r\u001b[K    71% |███████████████████████         | 706kB 57.3MB/s eta 0:00:01\r\u001b[K    72% |███████████████████████▎        | 716kB 58.0MB/s eta 0:00:01\r\u001b[K    73% |███████████████████████▋        | 727kB 58.5MB/s eta 0:00:01\r\u001b[K    74% |████████████████████████        | 737kB 15.0MB/s eta 0:00:01\r\u001b[K    75% |████████████████████████▎       | 747kB 14.8MB/s eta 0:00:01\r\u001b[K    76% |████████████████████████▋       | 757kB 14.7MB/s eta 0:00:01\r\u001b[K    77% |████████████████████████▉       | 768kB 15.6MB/s eta 0:00:01\r\u001b[K    78% |█████████████████████████▏      | 778kB 15.6MB/s eta 0:00:01\r\u001b[K    79% |█████████████████████████▌      | 788kB 15.4MB/s eta 0:00:01\r\u001b[K    80% |█████████████████████████▉      | 798kB 15.3MB/s eta 0:00:01\r\u001b[K    81% |██████████████████████████▏     | 808kB 15.2MB/s eta 0:00:01\r\u001b[K    82% |██████████████████████████▌     | 819kB 15.1MB/s eta 0:00:01\r\u001b[K    83% |██████████████████████████▉     | 829kB 15.1MB/s eta 0:00:01\r\u001b[K    85% |███████████████████████████▏    | 839kB 60.8MB/s eta 0:00:01\r\u001b[K    86% |███████████████████████████▌    | 849kB 62.5MB/s eta 0:00:01\r\u001b[K    87% |███████████████████████████▉    | 860kB 56.1MB/s eta 0:00:01\r\u001b[K    88% |████████████████████████████▏   | 870kB 56.7MB/s eta 0:00:01\r\u001b[K    89% |████████████████████████████▌   | 880kB 58.4MB/s eta 0:00:01\r\u001b[K    90% |████████████████████████████▉   | 890kB 59.4MB/s eta 0:00:01\r\u001b[K    91% |█████████████████████████████▏  | 901kB 59.5MB/s eta 0:00:01\r\u001b[K    92% |█████████████████████████████▌  | 911kB 60.8MB/s eta 0:00:01\r\u001b[K    93% |█████████████████████████████▉  | 921kB 60.8MB/s eta 0:00:01\r\u001b[K    94% |██████████████████████████████▏ | 931kB 59.4MB/s eta 0:00:01\r\u001b[K    95% |██████████████████████████████▌ | 942kB 60.0MB/s eta 0:00:01\r\u001b[K    96% |██████████████████████████████▉ | 952kB 59.9MB/s eta 0:00:01\r\u001b[K    97% |███████████████████████████████▏| 962kB 70.1MB/s eta 0:00:01\r\u001b[K    98% |███████████████████████████████▌| 972kB 69.6MB/s eta 0:00:01\r\u001b[K    99% |███████████████████████████████▉| 983kB 68.0MB/s eta 0:00:01\r\u001b[K    100% |████████████████████████████████| 993kB 23.5MB/s \n",
            "\u001b[?25h  Building wheel for PyDrive (setup.py) ... \u001b[?25ldone\n",
            "\u001b[?25h"
          ],
          "name": "stdout"
        }
      ]
    },
    {
      "cell_type": "code",
      "metadata": {
        "id": "4HtBQVSfQUku",
        "colab_type": "code",
        "colab": {}
      },
      "source": [
        "link = 'https://drive.google.com/open?id=1l1adJnTgeHULVuoLdTRyqi25-z6shBSL' # The shareable link"
      ],
      "execution_count": 0,
      "outputs": []
    },
    {
      "cell_type": "code",
      "metadata": {
        "id": "kVR1ejjNQYYy",
        "colab_type": "code",
        "outputId": "0be381c5-ec66-4dda-a071-1d80096a28f3",
        "colab": {
          "base_uri": "https://localhost:8080/",
          "height": 34
        }
      },
      "source": [
        "fluff, id = link.split('=')\n",
        "print (id) # Verify that you have everything after '='"
      ],
      "execution_count": 0,
      "outputs": [
        {
          "output_type": "stream",
          "text": [
            "1l1adJnTgeHULVuoLdTRyqi25-z6shBSL\n"
          ],
          "name": "stdout"
        }
      ]
    },
    {
      "cell_type": "code",
      "metadata": {
        "id": "F4Kez4oVQcjr",
        "colab_type": "code",
        "colab": {}
      },
      "source": [
        "import pandas as pd\n",
        "downloaded = drive.CreateFile({'id':id}) \n",
        "downloaded.GetContentFile('uploads')  \n"
      ],
      "execution_count": 0,
      "outputs": []
    },
    {
      "cell_type": "code",
      "metadata": {
        "id": "4a9XCplLStHr",
        "colab_type": "code",
        "colab": {}
      },
      "source": [
        "!mkdir traindata"
      ],
      "execution_count": 0,
      "outputs": []
    },
    {
      "cell_type": "code",
      "metadata": {
        "id": "MdGGeUJd1UHP",
        "colab_type": "code",
        "colab": {}
      },
      "source": [
        "import os \n",
        "os.getcwd() \n",
        "os.chdir('/content/traindata') "
      ],
      "execution_count": 0,
      "outputs": []
    },
    {
      "cell_type": "code",
      "metadata": {
        "id": "pmlGQ-8Q1Lsm",
        "colab_type": "code",
        "outputId": "dcec49df-8ce5-4cda-b456-664d9c704ff3",
        "colab": {
          "base_uri": "https://localhost:8080/",
          "height": 34
        }
      },
      "source": [
        "!pwd"
      ],
      "execution_count": 4,
      "outputs": [
        {
          "output_type": "stream",
          "text": [
            "/content/traindata\n"
          ],
          "name": "stdout"
        }
      ]
    },
    {
      "cell_type": "markdown",
      "metadata": {
        "id": "fN7EBQouR5yR",
        "colab_type": "text"
      },
      "source": [
        "#signals in the raw form provided to us based on the person behavior. the activities he can perform are \n",
        "* walking \n",
        "* walking upstairs\n",
        "* walking downstairs\n",
        "* sitting \n",
        "* standing\n",
        "* laying\n",
        "### IN THE ABOVE ACTIVITIES FIRST THREE ACTIVIVTIES ARE DYANMIC WHICH INVLOVES THE MOVEMENT OF THE PERSON WHERE AS THE LAST THREE ACTIVITIES ARE STATIC IN WHICH THE PERSONG DOES NOT MOVE."
      ]
    },
    {
      "cell_type": "markdown",
      "metadata": {
        "id": "EEIuWHwOS4_1",
        "colab_type": "text"
      },
      "source": [
        "#### BASED ON THE OBTAINED DATA WE  CAN PERFORM THE EXPLORATORY DATA ANALYSIS, DO THE FEATURE EXTRACTION AND WITH THE FEATURE ENGINEERING TECHNIQUES WE CAN OBTAIN THE BEST FEATURES BASEF ON THE DATA WE HAVE.\n",
        "#### LATER WE CAN EMPLOY INTO THE MODELS AND OBTAIN THE BEST RESULTS BY CHOOSING THE BEST FEATURES AND BEST MODEL\n",
        "#### WE CAN USE THE DEEP LEARNING MODELS LIKE LSTM IN WHICH WE CAN USE THE RAW DATA WE OBTAINED AND DIRECTLY EMPLOY INTO THE DEEPLEARNING MODELS.\n",
        "#### WE CAN PERFORM THE HYPERPARAMETER TUNING ON THE MODELS AND OBTAIN THE BEST HYPERPARAMETER TO OBTAIN BEST RESULS IN TERMS OF HOW ACCURATE OUR MODEL IS."
      ]
    },
    {
      "cell_type": "code",
      "metadata": {
        "id": "WjbvO2qlS4Op",
        "colab_type": "code",
        "colab": {}
      },
      "source": [
        ""
      ],
      "execution_count": 0,
      "outputs": []
    },
    {
      "cell_type": "code",
      "metadata": {
        "id": "q4dHGesCI3nC",
        "colab_type": "code",
        "outputId": "e00e34fb-3731-461d-d3b6-7a07d7f27b69",
        "colab": {
          "base_uri": "https://localhost:8080/",
          "height": 136
        }
      },
      "source": [
        "!ls"
      ],
      "execution_count": 5,
      "outputs": [
        {
          "output_type": "stream",
          "text": [
            "body_acc_x_test.txt   body_gyro_x_train.txt  total_acc_y_test.txt\n",
            "body_acc_x_train.txt  body_gyro_y_test.txt   total_acc_y_train.txt\n",
            "body_acc_y_test.txt   body_gyro_y_train.txt  total_acc_z_test.txt\n",
            "body_acc_y_train.txt  body_gyro_z_test.txt   total_acc_z_train.txt\n",
            "body_acc_z_test.txt   body_gyro_z_train.txt  y_test.txt\n",
            "body_acc_z_train.txt  total_acc_x_test.txt   y_train.txt\n",
            "body_gyro_x_test.txt  total_acc_x_train.txt\n"
          ],
          "name": "stdout"
        }
      ]
    },
    {
      "cell_type": "code",
      "metadata": {
        "id": "x2SyIweicfoS",
        "colab_type": "code",
        "colab": {}
      },
      "source": [
        "import numpy as np"
      ],
      "execution_count": 0,
      "outputs": []
    },
    {
      "cell_type": "code",
      "metadata": {
        "id": "gLG9o4DhZra6",
        "colab_type": "code",
        "colab": {}
      },
      "source": [
        "signals2=[\n",
        "    \"body_acc_x_test.txt\",\n",
        "    \"body_acc_y_test.txt\",\n",
        "    \"body_acc_z_test.txt\",\n",
        "    \"body_gyro_x_test.txt\",\n",
        "    \"body_gyro_y_test.txt\",\n",
        "    \"body_gyro_z_test.txt\",\n",
        "    \"total_acc_x_test.txt\",\n",
        "    \"total_acc_y_test.txt\",\n",
        "    \"total_acc_z_test.txt\",\n",
        "]"
      ],
      "execution_count": 0,
      "outputs": []
    },
    {
      "cell_type": "code",
      "metadata": {
        "id": "buKCk3soUOmx",
        "colab_type": "code",
        "colab": {}
      },
      "source": [
        "SIGNALS = [\n",
        "    \"body_acc_x\",\n",
        "    \"body_acc_y\",\n",
        "    \"body_acc_z\",\n",
        "    \"body_gyro_x\",\n",
        "    \"body_gyro_y\",\n",
        "    \"body_gyro_z\",\n",
        "    \"total_acc_x\",\n",
        "    \"total_acc_y\",\n",
        "    \"total_acc_z\"\n",
        "]"
      ],
      "execution_count": 0,
      "outputs": []
    },
    {
      "cell_type": "code",
      "metadata": {
        "id": "z26OmQdXKExv",
        "colab_type": "code",
        "colab": {}
      },
      "source": [
        "signals1=[\n",
        "    \"body_acc_x_train.txt\",\n",
        "    \"body_acc_y_train.txt\",\n",
        "    \"body_acc_z_train.txt\",\n",
        "    \"body_gyro_x_train.txt\",\n",
        "    \"body_gyro_y_train.txt\",\n",
        "    \"body_gyro_z_train.txt\",\n",
        "    \"total_acc_x_train.txt\",\n",
        "    \"total_acc_y_train.txt\",\n",
        "    \"total_acc_z_train.txt\"\n",
        "]"
      ],
      "execution_count": 0,
      "outputs": []
    },
    {
      "cell_type": "markdown",
      "metadata": {
        "id": "ERuXiJiaP00V",
        "colab_type": "text"
      },
      "source": [
        ""
      ]
    },
    {
      "cell_type": "code",
      "metadata": {
        "id": "bHlAv-GMlpN3",
        "colab_type": "code",
        "colab": {}
      },
      "source": [
        "def read_csv(filename):\n",
        "    return pd.read_csv(filename,delim_whitespace=True, header=None)\n",
        "\n",
        "# Utility function to load the load\n",
        "def load_signals(subset):\n",
        "    signals_data = []\n",
        "\n",
        "    for signal in signals1:\n",
        "        \n",
        "        signals_data.append(read_csv(signal).as_matrix()) \n",
        "\n",
        "    \n",
        "    return np.transpose(signals_data, (1, 2, 0))\n",
        "def load_signals1(subset):\n",
        "    signals_data = []\n",
        "\n",
        "    for signal in signals2:\n",
        "        \n",
        "        signals_data.append(read_csv(signal).as_matrix()) \n",
        "\n",
        "    \n",
        "    return np.transpose(signals_data, (1, 2, 0))"
      ],
      "execution_count": 0,
      "outputs": []
    },
    {
      "cell_type": "code",
      "metadata": {
        "id": "lwgidP6vGy70",
        "colab_type": "code",
        "colab": {}
      },
      "source": [
        "ACTIVITIES = {\n",
        "    0: 'WALKING',\n",
        "    1: 'WALKING_UPSTAIRS',\n",
        "    2: 'WALKING_DOWNSTAIRS',\n",
        "    3: 'SITTING',\n",
        "    4: 'STANDING',\n",
        "    5: 'LAYING',\n",
        "}\n"
      ],
      "execution_count": 0,
      "outputs": []
    },
    {
      "cell_type": "markdown",
      "metadata": {
        "id": "pti4FfFgUKLG",
        "colab_type": "text"
      },
      "source": [
        "#### get_dummies is atype of encoding .we are using to encode the output label for ex; if the label is zero it is represented as 100000 based on the size of the label."
      ]
    },
    {
      "cell_type": "code",
      "metadata": {
        "id": "CwCAI2L8TnfB",
        "colab_type": "code",
        "colab": {}
      },
      "source": [
        "\n",
        "def load_y(subset):\n",
        "        \n",
        "    y = read_csv(\"y_train.txt\")[0]\n",
        "\n",
        "    \n",
        "    return pd.get_dummies(y).as_matrix()\n",
        "\n",
        "def load_y1(subset):\n",
        "    \n",
        "    \n",
        "    y = read_csv(\"y_test.txt\")[0]\n",
        "\n",
        "    return pd.get_dummies(y).as_matrix()"
      ],
      "execution_count": 0,
      "outputs": []
    },
    {
      "cell_type": "code",
      "metadata": {
        "id": "jJs-Q1ylTs6q",
        "colab_type": "code",
        "colab": {}
      },
      "source": [
        "def load_data():\n",
        "    \"\"\"\n",
        "    Obtain the dataset from multiple files.\n",
        "    Returns: X_train, X_test, y_train, y_test\n",
        "    \"\"\"\n",
        "    X_train,X_test= load_signals('train'),load_signals1('test')\n",
        "    y_train, y_test = load_y('train'), load_y1('test')\n",
        "\n",
        "    return X_train, X_test, y_train, y_test"
      ],
      "execution_count": 0,
      "outputs": []
    },
    {
      "cell_type": "code",
      "metadata": {
        "id": "_BnZ_ds9Tx8F",
        "colab_type": "code",
        "outputId": "3f722dbb-9cf0-4ad6-d996-f18f8d4d6ae5",
        "colab": {
          "base_uri": "https://localhost:8080/",
          "height": 136
        }
      },
      "source": [
        "import  pandas as pd\n",
        "X_train, X_test, Y_train, Y_test = load_data()"
      ],
      "execution_count": 14,
      "outputs": [
        {
          "output_type": "stream",
          "text": [
            "/usr/local/lib/python3.6/dist-packages/ipykernel_launcher.py:10: FutureWarning: Method .as_matrix will be removed in a future version. Use .values instead.\n",
            "  # Remove the CWD from sys.path while we load stuff.\n",
            "/usr/local/lib/python3.6/dist-packages/ipykernel_launcher.py:19: FutureWarning: Method .as_matrix will be removed in a future version. Use .values instead.\n",
            "/usr/local/lib/python3.6/dist-packages/ipykernel_launcher.py:7: FutureWarning: Method .as_matrix will be removed in a future version. Use .values instead.\n",
            "  import sys\n",
            "/usr/local/lib/python3.6/dist-packages/ipykernel_launcher.py:14: FutureWarning: Method .as_matrix will be removed in a future version. Use .values instead.\n",
            "  \n"
          ],
          "name": "stderr"
        }
      ]
    },
    {
      "cell_type": "code",
      "metadata": {
        "id": "tUaufwCIpvAe",
        "colab_type": "code",
        "colab": {}
      },
      "source": [
        "# Importing tensorflow\n",
        "np.random.seed(42)\n",
        "import tensorflow as tf\n",
        "tf.set_random_seed(42)"
      ],
      "execution_count": 0,
      "outputs": []
    },
    {
      "cell_type": "code",
      "metadata": {
        "id": "qXZmvtyzpvAj",
        "colab_type": "code",
        "colab": {}
      },
      "source": [
        "# Configuring a session\n",
        "session_conf = tf.ConfigProto(\n",
        "    intra_op_parallelism_threads=1,\n",
        "    inter_op_parallelism_threads=1\n",
        ")"
      ],
      "execution_count": 0,
      "outputs": []
    },
    {
      "cell_type": "code",
      "metadata": {
        "id": "EFfTfzpfpvAn",
        "colab_type": "code",
        "outputId": "87d7d2a8-4b4d-4825-b5f0-bfb14de6e569",
        "colab": {
          "base_uri": "https://localhost:8080/",
          "height": 34
        }
      },
      "source": [
        "# Import Keras\n",
        "from keras import backend as K\n",
        "sess = tf.Session(graph=tf.get_default_graph(), config=session_conf)\n",
        "K.set_session(sess)"
      ],
      "execution_count": 17,
      "outputs": [
        {
          "output_type": "stream",
          "text": [
            "Using TensorFlow backend.\n"
          ],
          "name": "stderr"
        }
      ]
    },
    {
      "cell_type": "markdown",
      "metadata": {
        "id": "C8pVJevtUpLd",
        "colab_type": "text"
      },
      "source": [
        "### we are using the lstm deeplearning model."
      ]
    },
    {
      "cell_type": "code",
      "metadata": {
        "id": "ZLfBEn6ypvAv",
        "colab_type": "code",
        "colab": {}
      },
      "source": [
        "# Importing libraries\n",
        "from keras.models import Sequential\n",
        "from keras.layers import LSTM\n",
        "from keras.layers.core import Dense, Dropout"
      ],
      "execution_count": 0,
      "outputs": []
    },
    {
      "cell_type": "code",
      "metadata": {
        "id": "5-UpMmnJpvAz",
        "colab_type": "code",
        "colab": {}
      },
      "source": [
        "# Initializing parameters\n",
        "epochs = 30\n",
        "batch_size = 16\n",
        "n_hidden = 32"
      ],
      "execution_count": 0,
      "outputs": []
    },
    {
      "cell_type": "code",
      "metadata": {
        "id": "GN98m-DhpvA7",
        "colab_type": "code",
        "colab": {}
      },
      "source": [
        "# Utility function to count the number of classes\n",
        "def _count_classes(y):\n",
        "    return len(set([tuple(category) for category in y]))"
      ],
      "execution_count": 0,
      "outputs": []
    },
    {
      "cell_type": "code",
      "metadata": {
        "id": "iB3BxVdFpvBM",
        "colab_type": "code",
        "outputId": "1c6bca2c-a2dd-41d6-e18a-0536402b1322",
        "colab": {
          "base_uri": "https://localhost:8080/",
          "height": 136
        }
      },
      "source": [
        "# Loading the train and test data\n",
        "X_train, X_test, Y_train, Y_test = load_data()"
      ],
      "execution_count": 21,
      "outputs": [
        {
          "output_type": "stream",
          "text": [
            "/usr/local/lib/python3.6/dist-packages/ipykernel_launcher.py:10: FutureWarning: Method .as_matrix will be removed in a future version. Use .values instead.\n",
            "  # Remove the CWD from sys.path while we load stuff.\n",
            "/usr/local/lib/python3.6/dist-packages/ipykernel_launcher.py:19: FutureWarning: Method .as_matrix will be removed in a future version. Use .values instead.\n",
            "/usr/local/lib/python3.6/dist-packages/ipykernel_launcher.py:7: FutureWarning: Method .as_matrix will be removed in a future version. Use .values instead.\n",
            "  import sys\n",
            "/usr/local/lib/python3.6/dist-packages/ipykernel_launcher.py:14: FutureWarning: Method .as_matrix will be removed in a future version. Use .values instead.\n",
            "  \n"
          ],
          "name": "stderr"
        }
      ]
    },
    {
      "cell_type": "code",
      "metadata": {
        "id": "k3TV3OzqpvBO",
        "colab_type": "code",
        "outputId": "e5d6ee7e-3bad-4a55-e629-8799aed65cd4",
        "colab": {
          "base_uri": "https://localhost:8080/",
          "height": 68
        }
      },
      "source": [
        "timesteps = len(X_train[0])\n",
        "input_dim = len(X_train[0][0])\n",
        "n_classes = _count_classes(Y_train)\n",
        "\n",
        "print(timesteps)\n",
        "print(input_dim)\n",
        "print(len(X_train))"
      ],
      "execution_count": 22,
      "outputs": [
        {
          "output_type": "stream",
          "text": [
            "128\n",
            "9\n",
            "7352\n"
          ],
          "name": "stdout"
        }
      ]
    },
    {
      "cell_type": "code",
      "metadata": {
        "id": "2isE2obZqmdk",
        "colab_type": "code",
        "colab": {}
      },
      "source": [
        "def errorplot(x,validationy,testy,ax):\n",
        "  ax.plot(x,validationy,label='trainloss')\n",
        "  ax.plot(x,testy,label='validationloss')\n",
        "  plt.xlabel('number_of_epochs')\n",
        "  plt.ylabel('categorical_cross_entropy')\n",
        "  plt.legend()\n",
        "  plt.show()"
      ],
      "execution_count": 0,
      "outputs": []
    },
    {
      "cell_type": "markdown",
      "metadata": {
        "id": "Rqry4m-EpvBV",
        "colab_type": "text"
      },
      "source": [
        "- Defining the Architecture of LSTM"
      ]
    },
    {
      "cell_type": "markdown",
      "metadata": {
        "id": "ge6ikWSiVGgS",
        "colab_type": "text"
      },
      "source": [
        "### AS THE PART OF MODEL 1 WE ARE USING THE  LSTM LAYER WITH THE 32 HIDDEN LAYERS AT FIRST LSTM LAYER. LATER WE ARE USING THE DENSE LAYER WITH THE NUMBER OF OUTPUT ACTIVITIES WE HAVE. WE ARE USING THE DROPOUT INORDER TO REDUCE THE OVERFITTING OF OUR MODEL.SO THAT IF WE GIVE THE 0.5 AS THE DROPOUT VALUE THEN THE 50 PERCENT OF THE LSTM LAYER WILL BE TURNED OFF. "
      ]
    },
    {
      "cell_type": "code",
      "metadata": {
        "id": "KHwSFX2lpvBW",
        "colab_type": "code",
        "outputId": "45de4196-9f38-461e-fd90-fff1a67d0a04",
        "colab": {
          "base_uri": "https://localhost:8080/",
          "height": 361
        }
      },
      "source": [
        "# Initiliazing the sequential model\n",
        "model = Sequential()\n",
        "# Configuring the parameters\n",
        "model.add(LSTM(n_hidden, input_shape=(timesteps, input_dim)))\n",
        "# Adding a dropout layer\n",
        "model.add(Dropout(0.5))\n",
        "# Adding a dense output layer with sigmoid activation\n",
        "model.add(Dense(n_classes, activation='sigmoid'))\n",
        "model.summary()"
      ],
      "execution_count": 23,
      "outputs": [
        {
          "output_type": "stream",
          "text": [
            "WARNING:tensorflow:From /usr/local/lib/python3.6/dist-packages/tensorflow/python/framework/op_def_library.py:263: colocate_with (from tensorflow.python.framework.ops) is deprecated and will be removed in a future version.\n",
            "Instructions for updating:\n",
            "Colocations handled automatically by placer.\n",
            "WARNING:tensorflow:From /usr/local/lib/python3.6/dist-packages/keras/backend/tensorflow_backend.py:3445: calling dropout (from tensorflow.python.ops.nn_ops) with keep_prob is deprecated and will be removed in a future version.\n",
            "Instructions for updating:\n",
            "Please use `rate` instead of `keep_prob`. Rate should be set to `rate = 1 - keep_prob`.\n",
            "_________________________________________________________________\n",
            "Layer (type)                 Output Shape              Param #   \n",
            "=================================================================\n",
            "lstm_1 (LSTM)                (None, 32)                5376      \n",
            "_________________________________________________________________\n",
            "dropout_1 (Dropout)          (None, 32)                0         \n",
            "_________________________________________________________________\n",
            "dense_1 (Dense)              (None, 6)                 198       \n",
            "=================================================================\n",
            "Total params: 5,574\n",
            "Trainable params: 5,574\n",
            "Non-trainable params: 0\n",
            "_________________________________________________________________\n"
          ],
          "name": "stdout"
        }
      ]
    },
    {
      "cell_type": "code",
      "metadata": {
        "id": "X0r-ljkspvBb",
        "colab_type": "code",
        "colab": {}
      },
      "source": [
        "# Compiling the model\n",
        "model.compile(loss='categorical_crossentropy',\n",
        "              optimizer='rmsprop',\n",
        "              metrics=['accuracy'])"
      ],
      "execution_count": 0,
      "outputs": []
    },
    {
      "cell_type": "code",
      "metadata": {
        "id": "nUuGRWoWpvBe",
        "colab_type": "code",
        "outputId": "fdb66464-16d3-40bc-b5cc-ea89c5074896",
        "colab": {
          "base_uri": "https://localhost:8080/",
          "height": 1058
        }
      },
      "source": [
        "# Training the model\n",
        "history=model.fit(X_train,Y_train,batch_size=batch_size,validation_data=(X_test, Y_test),epochs=epochs)"
      ],
      "execution_count": 26,
      "outputs": [
        {
          "output_type": "stream",
          "text": [
            "Train on 7352 samples, validate on 2947 samples\n",
            "Epoch 1/30\n",
            "7352/7352 [==============================] - 92s 12ms/step - loss: 1.1821 - acc: 0.4849 - val_loss: 1.0799 - val_acc: 0.4812\n",
            "Epoch 2/30\n",
            "7352/7352 [==============================] - 92s 13ms/step - loss: 0.8964 - acc: 0.6049 - val_loss: 0.8318 - val_acc: 0.6328\n",
            "Epoch 3/30\n",
            "7352/7352 [==============================] - 91s 12ms/step - loss: 0.7430 - acc: 0.6514 - val_loss: 0.8144 - val_acc: 0.5904\n",
            "Epoch 4/30\n",
            "7352/7352 [==============================] - 90s 12ms/step - loss: 0.6915 - acc: 0.6616 - val_loss: 0.7841 - val_acc: 0.6179\n",
            "Epoch 5/30\n",
            "7352/7352 [==============================] - 92s 13ms/step - loss: 0.8822 - acc: 0.6315 - val_loss: 0.6848 - val_acc: 0.6301\n",
            "Epoch 6/30\n",
            "7352/7352 [==============================] - 90s 12ms/step - loss: 0.6310 - acc: 0.7087 - val_loss: 0.8325 - val_acc: 0.6926\n",
            "Epoch 7/30\n",
            "7352/7352 [==============================] - 91s 12ms/step - loss: 0.5917 - acc: 0.7489 - val_loss: 0.6560 - val_acc: 0.7296\n",
            "Epoch 8/30\n",
            "7352/7352 [==============================] - 92s 12ms/step - loss: 0.5208 - acc: 0.7729 - val_loss: 0.5831 - val_acc: 0.7513\n",
            "Epoch 9/30\n",
            "7352/7352 [==============================] - 90s 12ms/step - loss: 0.4937 - acc: 0.7826 - val_loss: 0.5962 - val_acc: 0.7251\n",
            "Epoch 10/30\n",
            "7352/7352 [==============================] - 90s 12ms/step - loss: 0.4549 - acc: 0.7996 - val_loss: 0.5883 - val_acc: 0.7014\n",
            "Epoch 11/30\n",
            "7352/7352 [==============================] - 90s 12ms/step - loss: 0.4131 - acc: 0.8211 - val_loss: 0.9308 - val_acc: 0.6919\n",
            "Epoch 12/30\n",
            "7352/7352 [==============================] - 91s 12ms/step - loss: 0.3980 - acc: 0.8395 - val_loss: 0.4951 - val_acc: 0.8303\n",
            "Epoch 13/30\n",
            "7352/7352 [==============================] - 88s 12ms/step - loss: 0.3580 - acc: 0.8719 - val_loss: 0.5613 - val_acc: 0.8276\n",
            "Epoch 14/30\n",
            "7352/7352 [==============================] - 88s 12ms/step - loss: 0.3124 - acc: 0.9021 - val_loss: 0.4453 - val_acc: 0.8690\n",
            "Epoch 15/30\n",
            "7352/7352 [==============================] - 91s 12ms/step - loss: 0.2706 - acc: 0.9176 - val_loss: 0.4370 - val_acc: 0.8711\n",
            "Epoch 16/30\n",
            "7352/7352 [==============================] - 89s 12ms/step - loss: 0.2295 - acc: 0.9266 - val_loss: 0.3845 - val_acc: 0.8887\n",
            "Epoch 17/30\n",
            "7352/7352 [==============================] - 88s 12ms/step - loss: 0.2333 - acc: 0.9253 - val_loss: 0.5497 - val_acc: 0.8541\n",
            "Epoch 18/30\n",
            "7352/7352 [==============================] - 89s 12ms/step - loss: 0.2101 - acc: 0.9385 - val_loss: 0.4552 - val_acc: 0.8850\n",
            "Epoch 19/30\n",
            "7352/7352 [==============================] - 90s 12ms/step - loss: 0.1864 - acc: 0.9328 - val_loss: 0.4158 - val_acc: 0.8904\n",
            "Epoch 20/30\n",
            "7352/7352 [==============================] - 88s 12ms/step - loss: 0.1928 - acc: 0.9351 - val_loss: 0.3266 - val_acc: 0.8938\n",
            "Epoch 21/30\n",
            "7352/7352 [==============================] - 88s 12ms/step - loss: 0.2097 - acc: 0.9295 - val_loss: 0.3806 - val_acc: 0.9006\n",
            "Epoch 22/30\n",
            "7352/7352 [==============================] - 90s 12ms/step - loss: 0.1670 - acc: 0.9422 - val_loss: 0.5489 - val_acc: 0.8887\n",
            "Epoch 23/30\n",
            "7352/7352 [==============================] - 88s 12ms/step - loss: 0.1619 - acc: 0.9442 - val_loss: 0.3447 - val_acc: 0.8941\n",
            "Epoch 24/30\n",
            "7352/7352 [==============================] - 88s 12ms/step - loss: 0.1574 - acc: 0.9449 - val_loss: 0.5478 - val_acc: 0.9050\n",
            "Epoch 25/30\n",
            "7352/7352 [==============================] - 89s 12ms/step - loss: 0.1626 - acc: 0.9438 - val_loss: 0.3895 - val_acc: 0.9013\n",
            "Epoch 26/30\n",
            "7352/7352 [==============================] - 90s 12ms/step - loss: 0.1565 - acc: 0.9464 - val_loss: 0.4071 - val_acc: 0.9002\n",
            "Epoch 27/30\n",
            "7352/7352 [==============================] - 90s 12ms/step - loss: 0.1442 - acc: 0.9474 - val_loss: 0.4845 - val_acc: 0.8955\n",
            "Epoch 28/30\n",
            "7352/7352 [==============================] - 93s 13ms/step - loss: 0.1683 - acc: 0.9456 - val_loss: 0.4794 - val_acc: 0.8989\n",
            "Epoch 29/30\n",
            "7352/7352 [==============================] - 94s 13ms/step - loss: 0.1800 - acc: 0.9445 - val_loss: 0.4138 - val_acc: 0.9135\n",
            "Epoch 30/30\n",
            "7352/7352 [==============================] - 92s 13ms/step - loss: 0.1551 - acc: 0.9464 - val_loss: 0.4326 - val_acc: 0.9114\n"
          ],
          "name": "stdout"
        }
      ]
    },
    {
      "cell_type": "code",
      "metadata": {
        "id": "tczE_enOpXU6",
        "colab_type": "code",
        "colab": {
          "base_uri": "https://localhost:8080/",
          "height": 283
        },
        "outputId": "c3f82720-e00e-4d6e-cadc-0633e7ad4a5e"
      },
      "source": [
        "import matplotlib.pyplot as plt\n",
        "fig,ax=plt.subplots()\n",
        "x=list(range(1,31))\n",
        "validationy=history.history['val_loss']\n",
        "testy=history.history['loss']\n",
        "errorplot(x,validationy,testy,ax)"
      ],
      "execution_count": 38,
      "outputs": [
        {
          "output_type": "display_data",
          "data": {
            "image/png": "[encoded data removed]",
            "text/plain": [
              "<Figure size 432x288 with 1 Axes>"
            ]
          },
          "metadata": {
            "tags": []
          }
        }
      ]
    },
    {
      "cell_type": "code",
      "metadata": {
        "id": "KXpU4zz5m_2n",
        "colab_type": "code",
        "colab": {}
      },
      "source": [
        "def confusion_matrix(Y_true, Y_pred):\n",
        "    Y_true = pd.Series([ACTIVITIES[y] for y in np.argmax(Y_true, axis=1)])\n",
        "    Y_pred = pd.Series([ACTIVITIES[y] for y in np.argmax(Y_pred, axis=1)])\n",
        "\n",
        "    return pd.crosstab(Y_true, Y_pred, rownames=['True'], colnames=['Pred'])"
      ],
      "execution_count": 0,
      "outputs": []
    },
    {
      "cell_type": "code",
      "metadata": {
        "id": "GxudHlDDpvBg",
        "colab_type": "code",
        "outputId": "866a1877-09db-441e-8abb-f28bb30653c0",
        "colab": {
          "base_uri": "https://localhost:8080/",
          "height": 307
        }
      },
      "source": [
        "# Confusion Matrix\n",
        "print(confusion_matrix(Y_test, model.predict(X_test)))"
      ],
      "execution_count": 34,
      "outputs": [
        {
          "output_type": "stream",
          "text": [
            "Pred                LAYING  SITTING  STANDING  WALKING  WALKING_DOWNSTAIRS  \\\n",
            "True                                                                         \n",
            "LAYING                 510        0         0        0                   0   \n",
            "SITTING                  0      347       126        0                   0   \n",
            "STANDING                 0       47       484        1                   0   \n",
            "WALKING                  0        0         0      479                  11   \n",
            "WALKING_DOWNSTAIRS       0        0         0        0                 408   \n",
            "WALKING_UPSTAIRS         0        0         2        6                   5   \n",
            "\n",
            "Pred                WALKING_UPSTAIRS  \n",
            "True                                  \n",
            "LAYING                            27  \n",
            "SITTING                           18  \n",
            "STANDING                           0  \n",
            "WALKING                            6  \n",
            "WALKING_DOWNSTAIRS                12  \n",
            "WALKING_UPSTAIRS                 458  \n"
          ],
          "name": "stdout"
        }
      ]
    },
    {
      "cell_type": "code",
      "metadata": {
        "id": "I-KToTfDpvBj",
        "colab_type": "code",
        "colab": {
          "base_uri": "https://localhost:8080/",
          "height": 34
        },
        "outputId": "1e5d91c3-0a55-4a78-dae4-15329b3097b6"
      },
      "source": [
        "score = model.evaluate(X_test, Y_test)"
      ],
      "execution_count": 35,
      "outputs": [
        {
          "output_type": "stream",
          "text": [
            "2947/2947 [==============================] - 6s 2ms/step\n"
          ],
          "name": "stdout"
        }
      ]
    },
    {
      "cell_type": "code",
      "metadata": {
        "id": "Wp9a8D4OpvBp",
        "colab_type": "code",
        "outputId": "5441466c-e53d-4dc7-b39d-0fc19a38c28e",
        "colab": {
          "base_uri": "https://localhost:8080/",
          "height": 34
        }
      },
      "source": [
        "score"
      ],
      "execution_count": 36,
      "outputs": [
        {
          "output_type": "execute_result",
          "data": {
            "text/plain": [
              "[0.43244978515694077, 0.9114353579911775]"
            ]
          },
          "metadata": {
            "tags": []
          },
          "execution_count": 36
        }
      ]
    },
    {
      "cell_type": "markdown",
      "metadata": {
        "id": "BGZxjPueWCcQ",
        "colab_type": "text"
      },
      "source": [
        "##WE HAVE ACHIEVED 90 PERCENT ACCURACY WITH THE SINGLE LSTM LAYER AND 32 CELLS IN LAYER WITH OUT USIG ANY FEATURIASTIONS . WE TRIED TO MINIMISE THE CATEGORICAL CROSS ENTROPY. WE CAN ALO CHANGE AND TUNE THE VARIOUS HYPERPARAMETERS SO THAT WE CAN CONSTRUCT THE BETTER LSTM MODEL."
      ]
    },
    {
      "cell_type": "markdown",
      "metadata": {
        "id": "GgA9h7fgW-9d",
        "colab_type": "text"
      },
      "source": [
        "###model2 we gonna use the 3 lstm layers where the fiirst lstm layer consists of 64 hidden cells and 300 cells in second layer and 200 layers in the third layer.we also use the batch normalisation because we normalise the before entering into the lstm layer but after the data enters into the lstm layers due to performing the activation functions like sigmoid and relu the data may loose the behavior hence we use the batch normalisation so that we can make the data to maintain its behavior we also perform introducing the droput layer to prevent the overfitting in the data."
      ]
    },
    {
      "cell_type": "code",
      "metadata": {
        "id": "17z0aDi1xGrW",
        "colab_type": "code",
        "colab": {}
      },
      "source": [
        "n_hidden = 64\n",
        "from keras.layers.normalization import BatchNormalization"
      ],
      "execution_count": 0,
      "outputs": []
    },
    {
      "cell_type": "code",
      "metadata": {
        "id": "03_JfWCNw7nI",
        "colab_type": "code",
        "outputId": "7e249329-4e3b-4286-e502-17236ef71330",
        "colab": {
          "base_uri": "https://localhost:8080/",
          "height": 477
        }
      },
      "source": [
        "\n",
        "model1 = Sequential()\n",
        "model1.add(LSTM(n_hidden, input_shape=(timesteps, input_dim),return_sequences=True))\n",
        "model1.add(BatchNormalization())\n",
        "model1.add(Dropout(0.6))\n",
        "model1.add(LSTM(300,return_sequences=True))\n",
        "model1.add(BatchNormalization())\n",
        "model1.add(Dropout(0.4))\n",
        "model1.add(LSTM(200))\n",
        "model1.add(BatchNormalization())\n",
        "model1.add(Dropout(0.6))\n",
        "model1.add(Dense(n_classes, activation='sigmoid'))\n",
        "model1.summary()"
      ],
      "execution_count": 49,
      "outputs": [
        {
          "output_type": "stream",
          "text": [
            "_________________________________________________________________\n",
            "Layer (type)                 Output Shape              Param #   \n",
            "=================================================================\n",
            "lstm_5 (LSTM)                (None, 128, 64)           18944     \n",
            "_________________________________________________________________\n",
            "batch_normalization_4 (Batch (None, 128, 64)           256       \n",
            "_________________________________________________________________\n",
            "dropout_5 (Dropout)          (None, 128, 64)           0         \n",
            "_________________________________________________________________\n",
            "lstm_6 (LSTM)                (None, 128, 300)          438000    \n",
            "_________________________________________________________________\n",
            "batch_normalization_5 (Batch (None, 128, 300)          1200      \n",
            "_________________________________________________________________\n",
            "dropout_6 (Dropout)          (None, 128, 300)          0         \n",
            "_________________________________________________________________\n",
            "lstm_7 (LSTM)                (None, 200)               400800    \n",
            "_________________________________________________________________\n",
            "batch_normalization_6 (Batch (None, 200)               800       \n",
            "_________________________________________________________________\n",
            "dropout_7 (Dropout)          (None, 200)               0         \n",
            "_________________________________________________________________\n",
            "dense_3 (Dense)              (None, 6)                 1206      \n",
            "=================================================================\n",
            "Total params: 861,206\n",
            "Trainable params: 860,078\n",
            "Non-trainable params: 1,128\n",
            "_________________________________________________________________\n"
          ],
          "name": "stdout"
        }
      ]
    },
    {
      "cell_type": "code",
      "metadata": {
        "colab_type": "code",
        "id": "z071NcLx2cLm",
        "colab": {}
      },
      "source": [
        "# Compiling the model\n",
        "model1.compile(loss='categorical_crossentropy',\n",
        "              optimizer='rmsprop',\n",
        "              metrics=['accuracy'])"
      ],
      "execution_count": 0,
      "outputs": []
    },
    {
      "cell_type": "code",
      "metadata": {
        "colab_type": "code",
        "outputId": "988d3670-f8b1-4c01-82c7-44ca5a611f69",
        "id": "p24IIgfA2cLp",
        "colab": {
          "base_uri": "https://localhost:8080/",
          "height": 512
        }
      },
      "source": [
        "# Training the model\n",
        "history=model1.fit(X_train,\n",
        "          Y_train,\n",
        "          batch_size=batch_size,\n",
        "          validation_data=(X_test, Y_test),\n",
        "          epochs=14)"
      ],
      "execution_count": 51,
      "outputs": [
        {
          "output_type": "stream",
          "text": [
            "Train on 7352 samples, validate on 2947 samples\n",
            "Epoch 1/14\n",
            "7352/7352 [==============================] - 277s 38ms/step - loss: 0.8985 - acc: 0.6249 - val_loss: 0.8367 - val_acc: 0.6210\n",
            "Epoch 2/14\n",
            "7352/7352 [==============================] - 274s 37ms/step - loss: 0.7580 - acc: 0.6483 - val_loss: 0.7627 - val_acc: 0.6084\n",
            "Epoch 3/14\n",
            "7352/7352 [==============================] - 275s 37ms/step - loss: 0.7036 - acc: 0.6677 - val_loss: 0.6646 - val_acc: 0.6956\n",
            "Epoch 4/14\n",
            "7352/7352 [==============================] - 275s 37ms/step - loss: 0.5740 - acc: 0.7578 - val_loss: 1.2045 - val_acc: 0.7258\n",
            "Epoch 5/14\n",
            "7352/7352 [==============================] - 272s 37ms/step - loss: 0.3500 - acc: 0.8886 - val_loss: 0.3237 - val_acc: 0.8941\n",
            "Epoch 6/14\n",
            "7352/7352 [==============================] - 266s 36ms/step - loss: 0.2516 - acc: 0.9163 - val_loss: 0.4864 - val_acc: 0.8901\n",
            "Epoch 7/14\n",
            "7352/7352 [==============================] - 265s 36ms/step - loss: 0.2380 - acc: 0.9218 - val_loss: 0.5689 - val_acc: 0.8717\n",
            "Epoch 8/14\n",
            "7352/7352 [==============================] - 265s 36ms/step - loss: 0.2096 - acc: 0.9283 - val_loss: 0.3397 - val_acc: 0.9087\n",
            "Epoch 9/14\n",
            "7352/7352 [==============================] - 267s 36ms/step - loss: 0.1997 - acc: 0.9276 - val_loss: 0.5344 - val_acc: 0.8999\n",
            "Epoch 10/14\n",
            "7352/7352 [==============================] - 264s 36ms/step - loss: 0.1917 - acc: 0.9357 - val_loss: 0.2845 - val_acc: 0.9087\n",
            "Epoch 11/14\n",
            "7352/7352 [==============================] - 265s 36ms/step - loss: 0.1825 - acc: 0.9357 - val_loss: 0.3097 - val_acc: 0.8697\n",
            "Epoch 12/14\n",
            "7352/7352 [==============================] - 266s 36ms/step - loss: 0.1995 - acc: 0.9249 - val_loss: 0.2621 - val_acc: 0.9175\n",
            "Epoch 13/14\n",
            "7352/7352 [==============================] - 265s 36ms/step - loss: 0.1848 - acc: 0.9316 - val_loss: 0.5709 - val_acc: 0.8785\n",
            "Epoch 14/14\n",
            "7352/7352 [==============================] - 265s 36ms/step - loss: 0.1899 - acc: 0.9335 - val_loss: 0.2883 - val_acc: 0.9063\n"
          ],
          "name": "stdout"
        }
      ]
    },
    {
      "cell_type": "code",
      "metadata": {
        "id": "yhuyd5hxrtwz",
        "colab_type": "code",
        "colab": {
          "base_uri": "https://localhost:8080/",
          "height": 283
        },
        "outputId": "b62f1f8d-b337-4820-d024-ce51f9a94ac2"
      },
      "source": [
        "fig,ax=plt.subplots()\n",
        "x=list(range(1,15))\n",
        "validationy=history.history['val_loss']\n",
        "testy=history.history['loss']\n",
        "errorplot(x,validationy,testy,ax)"
      ],
      "execution_count": 53,
      "outputs": [
        {
          "output_type": "display_data",
          "data": {
            "image/png": "[encoded data removed]",
            "text/plain": [
              "<Figure size 432x288 with 1 Axes>"
            ]
          },
          "metadata": {
            "tags": []
          }
        }
      ]
    },
    {
      "cell_type": "code",
      "metadata": {
        "id": "bEZ-6nI4xyjw",
        "colab_type": "code",
        "outputId": "1241674b-b94d-40ba-d7cd-2dee4410fa67",
        "colab": {
          "base_uri": "https://localhost:8080/",
          "height": 307
        }
      },
      "source": [
        "# Confusion Matrix\n",
        "print(confusion_matrix(Y_test, model1.predict(X_test)))"
      ],
      "execution_count": 54,
      "outputs": [
        {
          "output_type": "stream",
          "text": [
            "Pred                LAYING  SITTING  STANDING  WALKING  WALKING_DOWNSTAIRS  \\\n",
            "True                                                                         \n",
            "LAYING                 537        0         0        0                   0   \n",
            "SITTING                  5      290       194        0                   0   \n",
            "STANDING                 0       41       490        0                   0   \n",
            "WALKING                  0        0         0      495                   1   \n",
            "WALKING_DOWNSTAIRS       0        0         0        0                 420   \n",
            "WALKING_UPSTAIRS         0        0         0       18                  14   \n",
            "\n",
            "Pred                WALKING_UPSTAIRS  \n",
            "True                                  \n",
            "LAYING                             0  \n",
            "SITTING                            2  \n",
            "STANDING                           1  \n",
            "WALKING                            0  \n",
            "WALKING_DOWNSTAIRS                 0  \n",
            "WALKING_UPSTAIRS                 439  \n"
          ],
          "name": "stdout"
        }
      ]
    },
    {
      "cell_type": "code",
      "metadata": {
        "colab_type": "code",
        "id": "TMo7KmyOzhoz",
        "outputId": "340e95a4-d382-41eb-cf18-af3a5a8df76c",
        "colab": {
          "base_uri": "https://localhost:8080/",
          "height": 34
        }
      },
      "source": [
        "score = model1.evaluate(X_test, Y_test)"
      ],
      "execution_count": 55,
      "outputs": [
        {
          "output_type": "stream",
          "text": [
            "2947/2947 [==============================] - 17s 6ms/step\n"
          ],
          "name": "stdout"
        }
      ]
    },
    {
      "cell_type": "code",
      "metadata": {
        "colab_type": "code",
        "id": "joUIppdRzho-",
        "outputId": "282903d9-782d-47eb-8712-918890e7182e",
        "colab": {
          "base_uri": "https://localhost:8080/",
          "height": 34
        }
      },
      "source": [
        "score"
      ],
      "execution_count": 56,
      "outputs": [
        {
          "output_type": "execute_result",
          "data": {
            "text/plain": [
              "[0.2883422779202473, 0.9063454360366474]"
            ]
          },
          "metadata": {
            "tags": []
          },
          "execution_count": 56
        }
      ]
    },
    {
      "cell_type": "markdown",
      "metadata": {
        "id": "zanDiAkvYT1_",
        "colab_type": "text"
      },
      "source": [
        "### if we observe in the confusion matrix it i very clear that the model is confusing to predict the  difference between standing and sitting. because both the are static and may giving the similar signals as input. we have achieved 91 percent accuracy"
      ]
    },
    {
      "cell_type": "markdown",
      "metadata": {
        "id": "BwtbqaK3KT9r",
        "colab_type": "text"
      },
      "source": [
        "###WE ARE RUNNING THE MODEL WITH 2 LSTM LAYERS WITH 32  CELLS IN THE HIDDEN LAYER WE ADD THE OUTPUT DENSE LAYER AND WE TAKE DENSEOUTPUT AT THE WITH SIGMOID AS THE ACTIVATION FUNCTION. WE USE 30 EPOCHS AND OBTAIN THE PERFORMANCE . THIS CASE WE ADDED THE DROPOUT LAYER BWE HAVE NOT DONE THE BATCHNORMALISATION. WE TAKE THE DROPOUT RATES OF 50 PERCENT AND ANOTHER DROPOUT LAYER OF 50 PERCENT WHICH MEANS 50 PERCENT OF THE HIDDEN CELLS WILL BE INACTIVE WHILE ADJUSTING THE WEIGHTS."
      ]
    },
    {
      "cell_type": "code",
      "metadata": {
        "id": "G_y1SL7sbad2",
        "colab_type": "code",
        "outputId": "29dcdf53-5659-4d5e-d689-50b23319f35c",
        "colab": {
          "base_uri": "https://localhost:8080/",
          "height": 1365
        }
      },
      "source": [
        "epochs=30\n",
        "modelx = Sequential()\n",
        "modelx.add(LSTM(32,return_sequences=True, input_shape=(timesteps, input_dim)))\n",
        "modelx.add(Dropout(0.5))\n",
        "modelx.add(LSTM(32))\n",
        "modelx.add(Dropout(0.5))\n",
        "modelx.add(Dense(n_classes, activation='sigmoid'))\n",
        "print(modelx.summary())\n",
        "modelx.compile(loss='categorical_crossentropy',optimizer='rmsprop',metrics=['accuracy'])\n",
        "\n",
        "history = modelx.fit(X_train,Y_train,batch_size=batch_size,validation_data=(X_test, Y_test),epochs=epochs)"
      ],
      "execution_count": 57,
      "outputs": [
        {
          "output_type": "stream",
          "text": [
            "_________________________________________________________________\n",
            "Layer (type)                 Output Shape              Param #   \n",
            "=================================================================\n",
            "lstm_8 (LSTM)                (None, 128, 32)           5376      \n",
            "_________________________________________________________________\n",
            "dropout_8 (Dropout)          (None, 128, 32)           0         \n",
            "_________________________________________________________________\n",
            "lstm_9 (LSTM)                (None, 32)                8320      \n",
            "_________________________________________________________________\n",
            "dropout_9 (Dropout)          (None, 32)                0         \n",
            "_________________________________________________________________\n",
            "dense_4 (Dense)              (None, 6)                 198       \n",
            "=================================================================\n",
            "Total params: 13,894\n",
            "Trainable params: 13,894\n",
            "Non-trainable params: 0\n",
            "_________________________________________________________________\n",
            "None\n",
            "Train on 7352 samples, validate on 2947 samples\n",
            "Epoch 1/30\n",
            "7352/7352 [==============================] - 185s 25ms/step - loss: 1.2171 - acc: 0.5212 - val_loss: 0.9619 - val_acc: 0.6295\n",
            "Epoch 2/30\n",
            "7352/7352 [==============================] - 183s 25ms/step - loss: 0.8216 - acc: 0.6362 - val_loss: 0.8025 - val_acc: 0.6451\n",
            "Epoch 3/30\n",
            "7352/7352 [==============================] - 183s 25ms/step - loss: 0.6996 - acc: 0.6984 - val_loss: 0.8431 - val_acc: 0.6498\n",
            "Epoch 4/30\n",
            "7352/7352 [==============================] - 180s 25ms/step - loss: 0.5875 - acc: 0.7601 - val_loss: 0.6231 - val_acc: 0.7313\n",
            "Epoch 5/30\n",
            "7352/7352 [==============================] - 179s 24ms/step - loss: 0.5058 - acc: 0.7877 - val_loss: 0.6454 - val_acc: 0.7326\n",
            "Epoch 6/30\n",
            "7352/7352 [==============================] - 177s 24ms/step - loss: 0.4277 - acc: 0.8105 - val_loss: 0.9636 - val_acc: 0.7292\n",
            "Epoch 7/30\n",
            "7352/7352 [==============================] - 178s 24ms/step - loss: 0.3650 - acc: 0.8811 - val_loss: 0.5259 - val_acc: 0.8578\n",
            "Epoch 8/30\n",
            "7352/7352 [==============================] - 179s 24ms/step - loss: 0.3109 - acc: 0.9128 - val_loss: 0.4936 - val_acc: 0.8806\n",
            "Epoch 9/30\n",
            "7352/7352 [==============================] - 181s 25ms/step - loss: 0.2522 - acc: 0.9263 - val_loss: 0.4366 - val_acc: 0.8982\n",
            "Epoch 10/30\n",
            "7352/7352 [==============================] - 180s 24ms/step - loss: 0.2173 - acc: 0.9316 - val_loss: 0.3910 - val_acc: 0.9077\n",
            "Epoch 11/30\n",
            "7352/7352 [==============================] - 177s 24ms/step - loss: 0.1979 - acc: 0.9407 - val_loss: 0.7349 - val_acc: 0.8544\n",
            "Epoch 12/30\n",
            "7352/7352 [==============================] - 178s 24ms/step - loss: 0.1961 - acc: 0.9377 - val_loss: 0.4378 - val_acc: 0.9006\n",
            "Epoch 13/30\n",
            "7352/7352 [==============================] - 178s 24ms/step - loss: 0.1832 - acc: 0.9407 - val_loss: 0.5004 - val_acc: 0.9002\n",
            "Epoch 14/30\n",
            "7352/7352 [==============================] - 179s 24ms/step - loss: 0.1967 - acc: 0.9400 - val_loss: 0.4196 - val_acc: 0.9046\n",
            "Epoch 15/30\n",
            "7352/7352 [==============================] - 178s 24ms/step - loss: 0.1655 - acc: 0.9461 - val_loss: 0.4277 - val_acc: 0.9030\n",
            "Epoch 16/30\n",
            "7352/7352 [==============================] - 180s 24ms/step - loss: 0.1520 - acc: 0.9475 - val_loss: 0.4148 - val_acc: 0.8955\n",
            "Epoch 17/30\n",
            "7352/7352 [==============================] - 180s 25ms/step - loss: 0.1611 - acc: 0.9456 - val_loss: 0.3699 - val_acc: 0.9026\n",
            "Epoch 18/30\n",
            "7352/7352 [==============================] - 178s 24ms/step - loss: 0.1542 - acc: 0.9478 - val_loss: 0.3818 - val_acc: 0.9016\n",
            "Epoch 19/30\n",
            "7352/7352 [==============================] - 180s 24ms/step - loss: 0.1551 - acc: 0.9478 - val_loss: 0.3856 - val_acc: 0.8955\n",
            "Epoch 20/30\n",
            "7352/7352 [==============================] - 181s 25ms/step - loss: 0.1564 - acc: 0.9474 - val_loss: 0.4176 - val_acc: 0.9057\n",
            "Epoch 21/30\n",
            "7352/7352 [==============================] - 184s 25ms/step - loss: 0.1513 - acc: 0.9497 - val_loss: 0.4565 - val_acc: 0.8972\n",
            "Epoch 22/30\n",
            "7352/7352 [==============================] - 186s 25ms/step - loss: 0.1609 - acc: 0.9468 - val_loss: 0.3694 - val_acc: 0.9053\n",
            "Epoch 23/30\n",
            "7352/7352 [==============================] - 181s 25ms/step - loss: 0.1667 - acc: 0.9465 - val_loss: 0.4696 - val_acc: 0.8972\n",
            "Epoch 24/30\n",
            "7352/7352 [==============================] - 184s 25ms/step - loss: 0.1563 - acc: 0.9460 - val_loss: 0.5307 - val_acc: 0.8829\n",
            "Epoch 25/30\n",
            "7352/7352 [==============================] - 180s 24ms/step - loss: 0.1643 - acc: 0.9433 - val_loss: 0.5227 - val_acc: 0.8918\n",
            "Epoch 26/30\n",
            "7352/7352 [==============================] - 179s 24ms/step - loss: 0.1522 - acc: 0.9512 - val_loss: 0.3942 - val_acc: 0.8996\n",
            "Epoch 27/30\n",
            "7352/7352 [==============================] - 178s 24ms/step - loss: 0.1451 - acc: 0.9489 - val_loss: 0.4940 - val_acc: 0.9043\n",
            "Epoch 28/30\n",
            "7352/7352 [==============================] - 178s 24ms/step - loss: 0.1480 - acc: 0.9509 - val_loss: 0.4838 - val_acc: 0.8965\n",
            "Epoch 29/30\n",
            "7352/7352 [==============================] - 179s 24ms/step - loss: 0.1471 - acc: 0.9479 - val_loss: 0.5653 - val_acc: 0.8877\n",
            "Epoch 30/30\n",
            "7352/7352 [==============================] - 177s 24ms/step - loss: 0.1433 - acc: 0.9516 - val_loss: 0.4142 - val_acc: 0.9002\n"
          ],
          "name": "stdout"
        }
      ]
    },
    {
      "cell_type": "code",
      "metadata": {
        "id": "Cka8mV0tsXa7",
        "colab_type": "code",
        "colab": {
          "base_uri": "https://localhost:8080/",
          "height": 283
        },
        "outputId": "9fd9fce1-8ac4-4567-96a0-75790d31dfee"
      },
      "source": [
        "fig,ax=plt.subplots()\n",
        "x=list(range(1,31))\n",
        "validationy=history.history['val_loss']\n",
        "testy=history.history['loss']\n",
        "errorplot(x,validationy,testy,ax)"
      ],
      "execution_count": 58,
      "outputs": [
        {
          "output_type": "display_data",
          "data": {
            "image/png": "[encoded data removed]",
            "text/plain": [
              "<Figure size 432x288 with 1 Axes>"
            ]
          },
          "metadata": {
            "tags": []
          }
        }
      ]
    },
    {
      "cell_type": "code",
      "metadata": {
        "colab_type": "code",
        "outputId": "809ac879-1ac2-436f-8085-d1560e21818e",
        "id": "iD8TNvgWb56k",
        "colab": {
          "base_uri": "https://localhost:8080/",
          "height": 307
        }
      },
      "source": [
        "\n",
        "print(confusion_matrix(Y_test, modelx.predict(X_test)))\n"
      ],
      "execution_count": 59,
      "outputs": [
        {
          "output_type": "stream",
          "text": [
            "Pred                LAYING  SITTING  STANDING  WALKING  WALKING_DOWNSTAIRS  \\\n",
            "True                                                                         \n",
            "LAYING                 510        0         0        0                   0   \n",
            "SITTING                  1      407        80        0                   1   \n",
            "STANDING                 0      108       424        0                   0   \n",
            "WALKING                  0        1         0      474                   9   \n",
            "WALKING_DOWNSTAIRS       0        0         0        0                 413   \n",
            "WALKING_UPSTAIRS         4        5         4       20                  13   \n",
            "\n",
            "Pred                WALKING_UPSTAIRS  \n",
            "True                                  \n",
            "LAYING                            27  \n",
            "SITTING                            2  \n",
            "STANDING                           0  \n",
            "WALKING                           12  \n",
            "WALKING_DOWNSTAIRS                 7  \n",
            "WALKING_UPSTAIRS                 425  \n"
          ],
          "name": "stdout"
        }
      ]
    },
    {
      "cell_type": "code",
      "metadata": {
        "colab_type": "code",
        "outputId": "f15ec872-fd29-4bec-9e14-f49f622bc3c1",
        "id": "PeV_z66Sb56o",
        "colab": {
          "base_uri": "https://localhost:8080/",
          "height": 34
        }
      },
      "source": [
        "score = modelx.evaluate(X_test, Y_test)"
      ],
      "execution_count": 60,
      "outputs": [
        {
          "output_type": "stream",
          "text": [
            "2947/2947 [==============================] - 12s 4ms/step\n"
          ],
          "name": "stdout"
        }
      ]
    },
    {
      "cell_type": "code",
      "metadata": {
        "colab_type": "code",
        "outputId": "49d0d99b-9802-488e-b219-a41c2ca5aee7",
        "id": "5XnAToJ3b56r",
        "colab": {
          "base_uri": "https://localhost:8080/",
          "height": 34
        }
      },
      "source": [
        "score"
      ],
      "execution_count": 61,
      "outputs": [
        {
          "output_type": "execute_result",
          "data": {
            "text/plain": [
              "[0.4144287348136521, 0.9002375296912114]"
            ]
          },
          "metadata": {
            "tags": []
          },
          "execution_count": 61
        }
      ]
    },
    {
      "cell_type": "markdown",
      "metadata": {
        "id": "a0P12msWLXWf",
        "colab_type": "text"
      },
      "source": [
        "##IN THIS MODEL WE HAVE INCREASED THE DROPOUT RATES TO 0.7 BECAUSE THE MODEL IS UNDERGOING OVERFITTING . IF WE OBSERVE THE TRAININGDATA ACCURACY IS NEARLY 0.95 AND 0.9"
      ]
    },
    {
      "cell_type": "code",
      "metadata": {
        "colab_type": "code",
        "outputId": "3dacdae8-9859-4ea2-b981-b546f1e6e05b",
        "id": "Mmh0uedKMMfT",
        "colab": {
          "base_uri": "https://localhost:8080/",
          "height": 1228
        }
      },
      "source": [
        "epochs=30\n",
        "modelx = Sequential()\n",
        "modelx.add(LSTM(32,return_sequences=True, input_shape=(timesteps, input_dim)))\n",
        "modelx.add(Dropout(0.6))\n",
        "modelx.add(LSTM(32))\n",
        "modelx.add(Dropout(0.6))\n",
        "modelx.add(Dense(n_classes, activation='sigmoid'))\n",
        "print(modelx.summary())\n",
        "modelx.compile(loss='categorical_crossentropy',optimizer='rmsprop',metrics=['accuracy'])\n",
        "\n",
        "history = modelx.fit(X_train,Y_train,batch_size=batch_size,validation_data=(X_test, Y_test),epochs=26)"
      ],
      "execution_count": 62,
      "outputs": [
        {
          "output_type": "stream",
          "text": [
            "_________________________________________________________________\n",
            "Layer (type)                 Output Shape              Param #   \n",
            "=================================================================\n",
            "lstm_10 (LSTM)               (None, 128, 32)           5376      \n",
            "_________________________________________________________________\n",
            "dropout_10 (Dropout)         (None, 128, 32)           0         \n",
            "_________________________________________________________________\n",
            "lstm_11 (LSTM)               (None, 32)                8320      \n",
            "_________________________________________________________________\n",
            "dropout_11 (Dropout)         (None, 32)                0         \n",
            "_________________________________________________________________\n",
            "dense_5 (Dense)              (None, 6)                 198       \n",
            "=================================================================\n",
            "Total params: 13,894\n",
            "Trainable params: 13,894\n",
            "Non-trainable params: 0\n",
            "_________________________________________________________________\n",
            "None\n",
            "Train on 7352 samples, validate on 2947 samples\n",
            "Epoch 1/26\n",
            "7352/7352 [==============================] - 187s 25ms/step - loss: 1.2687 - acc: 0.4723 - val_loss: 0.9974 - val_acc: 0.5433\n",
            "Epoch 2/26\n",
            "7352/7352 [==============================] - 183s 25ms/step - loss: 0.8871 - acc: 0.6045 - val_loss: 0.8607 - val_acc: 0.6176\n",
            "Epoch 3/26\n",
            "7352/7352 [==============================] - 185s 25ms/step - loss: 0.8625 - acc: 0.6106 - val_loss: 0.7981 - val_acc: 0.6763\n",
            "Epoch 4/26\n",
            "7352/7352 [==============================] - 181s 25ms/step - loss: 0.7212 - acc: 0.6601 - val_loss: 0.6997 - val_acc: 0.6824\n",
            "Epoch 5/26\n",
            "7352/7352 [==============================] - 182s 25ms/step - loss: 0.6782 - acc: 0.6768 - val_loss: 0.6992 - val_acc: 0.6980\n",
            "Epoch 6/26\n",
            "7352/7352 [==============================] - 181s 25ms/step - loss: 0.6403 - acc: 0.7175 - val_loss: 0.7347 - val_acc: 0.6953\n",
            "Epoch 7/26\n",
            "7352/7352 [==============================] - 182s 25ms/step - loss: 0.5276 - acc: 0.7737 - val_loss: 0.6798 - val_acc: 0.7469\n",
            "Epoch 8/26\n",
            "7352/7352 [==============================] - 183s 25ms/step - loss: 0.4312 - acc: 0.8104 - val_loss: 0.5346 - val_acc: 0.7608\n",
            "Epoch 9/26\n",
            "7352/7352 [==============================] - 181s 25ms/step - loss: 0.3651 - acc: 0.8800 - val_loss: 0.5869 - val_acc: 0.8548\n",
            "Epoch 10/26\n",
            "7352/7352 [==============================] - 182s 25ms/step - loss: 0.2909 - acc: 0.9151 - val_loss: 0.4944 - val_acc: 0.8548\n",
            "Epoch 11/26\n",
            "7352/7352 [==============================] - 181s 25ms/step - loss: 0.2495 - acc: 0.9308 - val_loss: 0.4422 - val_acc: 0.8897\n",
            "Epoch 12/26\n",
            "7352/7352 [==============================] - 179s 24ms/step - loss: 0.2515 - acc: 0.9305 - val_loss: 0.5107 - val_acc: 0.8897\n",
            "Epoch 13/26\n",
            "7352/7352 [==============================] - 179s 24ms/step - loss: 0.2216 - acc: 0.9340 - val_loss: 0.4551 - val_acc: 0.9023\n",
            "Epoch 14/26\n",
            "7352/7352 [==============================] - 180s 25ms/step - loss: 0.2082 - acc: 0.9410 - val_loss: 0.5188 - val_acc: 0.8826\n",
            "Epoch 15/26\n",
            "7352/7352 [==============================] - 182s 25ms/step - loss: 0.2054 - acc: 0.9418 - val_loss: 0.5100 - val_acc: 0.9036\n",
            "Epoch 16/26\n",
            "7352/7352 [==============================] - 180s 24ms/step - loss: 0.1854 - acc: 0.9396 - val_loss: 0.7306 - val_acc: 0.8894\n",
            "Epoch 17/26\n",
            "7352/7352 [==============================] - 180s 25ms/step - loss: 0.1805 - acc: 0.9429 - val_loss: 0.4348 - val_acc: 0.9080\n",
            "Epoch 18/26\n",
            "7352/7352 [==============================] - 179s 24ms/step - loss: 0.1985 - acc: 0.9422 - val_loss: 0.5473 - val_acc: 0.8938\n",
            "Epoch 19/26\n",
            "7352/7352 [==============================] - 181s 25ms/step - loss: 0.1625 - acc: 0.9484 - val_loss: 0.6593 - val_acc: 0.8890\n",
            "Epoch 20/26\n",
            "7352/7352 [==============================] - 181s 25ms/step - loss: 0.1694 - acc: 0.9419 - val_loss: 0.5884 - val_acc: 0.9040\n",
            "Epoch 21/26\n",
            "7352/7352 [==============================] - 179s 24ms/step - loss: 0.1779 - acc: 0.9436 - val_loss: 0.5539 - val_acc: 0.8928\n",
            "Epoch 22/26\n",
            "7352/7352 [==============================] - 180s 24ms/step - loss: 0.1687 - acc: 0.9457 - val_loss: 0.3005 - val_acc: 0.9158\n",
            "Epoch 23/26\n",
            "7352/7352 [==============================] - 180s 25ms/step - loss: 0.1711 - acc: 0.9448 - val_loss: 0.6058 - val_acc: 0.8873\n",
            "Epoch 24/26\n",
            "7352/7352 [==============================] - 180s 24ms/step - loss: 0.1722 - acc: 0.9453 - val_loss: 0.8833 - val_acc: 0.8772\n",
            "Epoch 25/26\n",
            "7352/7352 [==============================] - 182s 25ms/step - loss: 0.1756 - acc: 0.9467 - val_loss: 0.5013 - val_acc: 0.9009\n",
            "Epoch 26/26\n",
            "7352/7352 [==============================] - 181s 25ms/step - loss: 0.1719 - acc: 0.9399 - val_loss: 0.8858 - val_acc: 0.8775\n"
          ],
          "name": "stdout"
        }
      ]
    },
    {
      "cell_type": "code",
      "metadata": {
        "id": "eVXRYu0F62yT",
        "colab_type": "code",
        "outputId": "1bfdf3d7-5e36-45a3-a69c-c04f9cbbd036",
        "colab": {
          "base_uri": "https://localhost:8080/",
          "height": 136
        }
      },
      "source": [
        "print(Y_test)"
      ],
      "execution_count": 63,
      "outputs": [
        {
          "output_type": "stream",
          "text": [
            "[[0 0 0 0 1 0]\n",
            " [0 0 0 0 1 0]\n",
            " [0 0 0 0 1 0]\n",
            " ...\n",
            " [0 1 0 0 0 0]\n",
            " [0 1 0 0 0 0]\n",
            " [0 1 0 0 0 0]]\n"
          ],
          "name": "stdout"
        }
      ]
    },
    {
      "cell_type": "code",
      "metadata": {
        "colab_type": "code",
        "outputId": "f8c9f04e-0783-44fd-a554-4807b3291e58",
        "id": "oKeUkf_RMMff",
        "colab": {
          "base_uri": "https://localhost:8080/",
          "height": 34
        }
      },
      "source": [
        "score = modelx.evaluate(X_test, Y_test)"
      ],
      "execution_count": 64,
      "outputs": [
        {
          "output_type": "stream",
          "text": [
            "2947/2947 [==============================] - 12s 4ms/step\n"
          ],
          "name": "stdout"
        }
      ]
    },
    {
      "cell_type": "code",
      "metadata": {
        "colab_type": "code",
        "outputId": "8fe32162-dde2-45d2-84f8-b3588cae7575",
        "id": "0rT_1S43MMfj",
        "colab": {
          "base_uri": "https://localhost:8080/",
          "height": 34
        }
      },
      "source": [
        "score"
      ],
      "execution_count": 65,
      "outputs": [
        {
          "output_type": "execute_result",
          "data": {
            "text/plain": [
              "[0.8857371849105553, 0.8775025449609772]"
            ]
          },
          "metadata": {
            "tags": []
          },
          "execution_count": 65
        }
      ]
    },
    {
      "cell_type": "code",
      "metadata": {
        "id": "YzCtqOe17Qc4",
        "colab_type": "code",
        "outputId": "66347f8c-9a14-4bfe-973e-6c0d36c77233",
        "colab": {
          "base_uri": "https://localhost:8080/",
          "height": 307
        }
      },
      "source": [
        "\n",
        "print(confusion_matrix(Y_test, modelx.predict(X_test)))\n"
      ],
      "execution_count": 66,
      "outputs": [
        {
          "output_type": "stream",
          "text": [
            "Pred                LAYING  SITTING  STANDING  WALKING  WALKING_DOWNSTAIRS  \\\n",
            "True                                                                         \n",
            "LAYING                 537        0         0        0                   0   \n",
            "SITTING                  5      420        50        0                   1   \n",
            "STANDING                 0      127       405        0                   0   \n",
            "WALKING                  0        0         3      422                  65   \n",
            "WALKING_DOWNSTAIRS       0        0         0        0                 420   \n",
            "WALKING_UPSTAIRS         0        0         0        2                  87   \n",
            "\n",
            "Pred                WALKING_UPSTAIRS  \n",
            "True                                  \n",
            "LAYING                             0  \n",
            "SITTING                           15  \n",
            "STANDING                           0  \n",
            "WALKING                            6  \n",
            "WALKING_DOWNSTAIRS                 0  \n",
            "WALKING_UPSTAIRS                 382  \n"
          ],
          "name": "stdout"
        }
      ]
    },
    {
      "cell_type": "code",
      "metadata": {
        "id": "pYV4z6k7HhXy",
        "colab_type": "code",
        "colab": {
          "base_uri": "https://localhost:8080/",
          "height": 283
        },
        "outputId": "98c8c755-bae3-487a-d551-3f4e9163b9be"
      },
      "source": [
        "fig,ax=plt.subplots()\n",
        "x=list(range(1,27))\n",
        "validationy=history.history['val_loss']\n",
        "testy=history.history['loss']\n",
        "errorplot(x,validationy,testy,ax)"
      ],
      "execution_count": 68,
      "outputs": [
        {
          "output_type": "display_data",
          "data": {
            "image/png": "[encoded data removed]",
            "text/plain": [
              "<Figure size 432x288 with 1 Axes>"
            ]
          },
          "metadata": {
            "tags": []
          }
        }
      ]
    },
    {
      "cell_type": "code",
      "metadata": {
        "id": "wXl47F8h_65a",
        "colab_type": "code",
        "outputId": "12a28882-9c9a-4ba1-bd21-97d4fffd5007",
        "colab": {
          "base_uri": "https://localhost:8080/",
          "height": 1024
        }
      },
      "source": [
        "\n",
        "modelnew = Sequential()\n",
        "\n",
        "modelnew.add(LSTM(64,return_sequences=True, input_shape=(timesteps, input_dim)))\n",
        "modelnew.add(Dropout(0.7))\n",
        "modelnew.add(LSTM(64))\n",
        "modelnew.add(Dropout(0.7))\n",
        "modelnew.add(Dense(n_classes, activation='sigmoid'))\n",
        "print(modelnew.summary())\n",
        "modelnew.compile(loss='categorical_crossentropy',optimizer='rmsprop',metrics=['accuracy'])\n",
        "\n",
        "history= modelnew.fit(X_train,Y_train,batch_size=batch_size,validation_data=(X_test, Y_test),epochs=20)"
      ],
      "execution_count": 69,
      "outputs": [
        {
          "output_type": "stream",
          "text": [
            "_________________________________________________________________\n",
            "Layer (type)                 Output Shape              Param #   \n",
            "=================================================================\n",
            "lstm_12 (LSTM)               (None, 128, 64)           18944     \n",
            "_________________________________________________________________\n",
            "dropout_12 (Dropout)         (None, 128, 64)           0         \n",
            "_________________________________________________________________\n",
            "lstm_13 (LSTM)               (None, 64)                33024     \n",
            "_________________________________________________________________\n",
            "dropout_13 (Dropout)         (None, 64)                0         \n",
            "_________________________________________________________________\n",
            "dense_6 (Dense)              (None, 6)                 390       \n",
            "=================================================================\n",
            "Total params: 52,358\n",
            "Trainable params: 52,358\n",
            "Non-trainable params: 0\n",
            "_________________________________________________________________\n",
            "None\n",
            "Train on 7352 samples, validate on 2947 samples\n",
            "Epoch 1/20\n",
            "7352/7352 [==============================] - 192s 26ms/step - loss: 1.1373 - acc: 0.5105 - val_loss: 0.8658 - val_acc: 0.6210\n",
            "Epoch 2/20\n",
            "7352/7352 [==============================] - 190s 26ms/step - loss: 0.7867 - acc: 0.6147 - val_loss: 0.8071 - val_acc: 0.6043\n",
            "Epoch 3/20\n",
            "7352/7352 [==============================] - 189s 26ms/step - loss: 0.7100 - acc: 0.6568 - val_loss: 0.7686 - val_acc: 0.6186\n",
            "Epoch 4/20\n",
            "7352/7352 [==============================] - 177s 24ms/step - loss: 0.6425 - acc: 0.7016 - val_loss: 0.6528 - val_acc: 0.7285\n",
            "Epoch 5/20\n",
            "7352/7352 [==============================] - 178s 24ms/step - loss: 0.5010 - acc: 0.7841 - val_loss: 0.6199 - val_acc: 0.7832\n",
            "Epoch 6/20\n",
            "7352/7352 [==============================] - 175s 24ms/step - loss: 0.3937 - acc: 0.8475 - val_loss: 0.4984 - val_acc: 0.8568\n",
            "Epoch 7/20\n",
            "7352/7352 [==============================] - 178s 24ms/step - loss: 0.3220 - acc: 0.9038 - val_loss: 0.4374 - val_acc: 0.8778\n",
            "Epoch 8/20\n",
            "7352/7352 [==============================] - 177s 24ms/step - loss: 0.2444 - acc: 0.9263 - val_loss: 0.4876 - val_acc: 0.8792\n",
            "Epoch 9/20\n",
            "7352/7352 [==============================] - 176s 24ms/step - loss: 0.2079 - acc: 0.9342 - val_loss: 0.6881 - val_acc: 0.8643\n",
            "Epoch 10/20\n",
            "7352/7352 [==============================] - 176s 24ms/step - loss: 0.2132 - acc: 0.9353 - val_loss: 0.4767 - val_acc: 0.9040\n",
            "Epoch 11/20\n",
            "7352/7352 [==============================] - 174s 24ms/step - loss: 0.2299 - acc: 0.9346 - val_loss: 0.9965 - val_acc: 0.8235\n",
            "Epoch 12/20\n",
            "7352/7352 [==============================] - 175s 24ms/step - loss: 0.2027 - acc: 0.9374 - val_loss: 0.5993 - val_acc: 0.8972\n",
            "Epoch 13/20\n",
            "7352/7352 [==============================] - 175s 24ms/step - loss: 0.2300 - acc: 0.9317 - val_loss: 0.5145 - val_acc: 0.9019\n",
            "Epoch 14/20\n",
            "7352/7352 [==============================] - 176s 24ms/step - loss: 0.1850 - acc: 0.9384 - val_loss: 0.4399 - val_acc: 0.9067\n",
            "Epoch 15/20\n",
            "7352/7352 [==============================] - 174s 24ms/step - loss: 0.2105 - acc: 0.9406 - val_loss: 0.4615 - val_acc: 0.9101\n",
            "Epoch 16/20\n",
            "7352/7352 [==============================] - 176s 24ms/step - loss: 0.2250 - acc: 0.9340 - val_loss: 0.5820 - val_acc: 0.8941\n",
            "Epoch 17/20\n",
            "7352/7352 [==============================] - 176s 24ms/step - loss: 0.1939 - acc: 0.9396 - val_loss: 0.6567 - val_acc: 0.8833\n",
            "Epoch 18/20\n",
            "7352/7352 [==============================] - 173s 24ms/step - loss: 0.1955 - acc: 0.9406 - val_loss: 0.4993 - val_acc: 0.9057\n",
            "Epoch 19/20\n",
            "7352/7352 [==============================] - 176s 24ms/step - loss: 0.1722 - acc: 0.9442 - val_loss: 0.4915 - val_acc: 0.9070\n",
            "Epoch 20/20\n",
            "7352/7352 [==============================] - 174s 24ms/step - loss: 0.1724 - acc: 0.9467 - val_loss: 0.7762 - val_acc: 0.8795\n"
          ],
          "name": "stdout"
        }
      ]
    },
    {
      "cell_type": "code",
      "metadata": {
        "colab_type": "code",
        "id": "sK_siarJddAC",
        "outputId": "46767421-4cb7-47e2-c136-d138ac0e1123",
        "colab": {
          "base_uri": "https://localhost:8080/",
          "height": 307
        }
      },
      "source": [
        "\n",
        "print(confusion_matrix(Y_test, modelnew.predict(X_test)))\n"
      ],
      "execution_count": 70,
      "outputs": [
        {
          "output_type": "stream",
          "text": [
            "Pred                LAYING  SITTING  STANDING  WALKING  WALKING_DOWNSTAIRS  \\\n",
            "True                                                                         \n",
            "LAYING                 510        0        27        0                   0   \n",
            "SITTING                  0      385       104        0                   0   \n",
            "STANDING                 1       89       442        0                   0   \n",
            "WALKING                  0        0         0      470                   0   \n",
            "WALKING_DOWNSTAIRS       0        0         0        3                 412   \n",
            "WALKING_UPSTAIRS         2        1         0       93                   2   \n",
            "\n",
            "Pred                WALKING_UPSTAIRS  \n",
            "True                                  \n",
            "LAYING                             0  \n",
            "SITTING                            2  \n",
            "STANDING                           0  \n",
            "WALKING                           26  \n",
            "WALKING_DOWNSTAIRS                 5  \n",
            "WALKING_UPSTAIRS                 373  \n"
          ],
          "name": "stdout"
        }
      ]
    },
    {
      "cell_type": "code",
      "metadata": {
        "colab_type": "code",
        "id": "1B1fcmTDddAP",
        "outputId": "030add90-cb51-4d14-c583-ea47d72127ea",
        "colab": {
          "base_uri": "https://localhost:8080/",
          "height": 34
        }
      },
      "source": [
        "score = modelnew.evaluate(X_test, Y_test)"
      ],
      "execution_count": 71,
      "outputs": [
        {
          "output_type": "stream",
          "text": [
            "2947/2947 [==============================] - 12s 4ms/step\n"
          ],
          "name": "stdout"
        }
      ]
    },
    {
      "cell_type": "code",
      "metadata": {
        "colab_type": "code",
        "id": "gfqCseZ6ddAU",
        "outputId": "003e0cc6-b900-487f-e0a8-01f39509b03a",
        "colab": {
          "base_uri": "https://localhost:8080/",
          "height": 34
        }
      },
      "source": [
        "score"
      ],
      "execution_count": 72,
      "outputs": [
        {
          "output_type": "execute_result",
          "data": {
            "text/plain": [
              "[0.7758174211089318, 0.8795385137427892]"
            ]
          },
          "metadata": {
            "tags": []
          },
          "execution_count": 72
        }
      ]
    },
    {
      "cell_type": "code",
      "metadata": {
        "id": "my1yEijujOXC",
        "colab_type": "code",
        "colab": {
          "base_uri": "https://localhost:8080/",
          "height": 283
        },
        "outputId": "ad75d366-eacb-456d-e008-d76d66bc5014"
      },
      "source": [
        "fig,ax=plt.subplots()\n",
        "x=list(range(1,21))\n",
        "validationy=history.history['val_loss']\n",
        "testy=history.history['loss']\n",
        "errorplot(x,validationy,testy,ax)"
      ],
      "execution_count": 73,
      "outputs": [
        {
          "output_type": "display_data",
          "data": {
            "image/png": "[encoded data removed]",
            "text/plain": [
              "<Figure size 432x288 with 1 Axes>"
            ]
          },
          "metadata": {
            "tags": []
          }
        }
      ]
    },
    {
      "cell_type": "markdown",
      "metadata": {
        "id": "YzFhZTqNFH_q",
        "colab_type": "text"
      },
      "source": [
        "##TRAINING THE MODEL WITH MORE NUMBER OF HIDDEN CELLS IN A LAYER WITH HIGHER DROPUTS TO REDUCE THE CHANCES OF OVER FITTING WE HAVE ALSO DONE THE BACHNORMALISATION FOR THE LAYER."
      ]
    },
    {
      "cell_type": "code",
      "metadata": {
        "id": "A-6z6PpKdktg",
        "colab_type": "code",
        "outputId": "8f1741da-b37e-4246-f242-8bde0521e338",
        "colab": {
          "base_uri": "https://localhost:8080/",
          "height": 1058
        }
      },
      "source": [
        "\n",
        "modelnew = Sequential()\n",
        "\n",
        "modelnew.add(LSTM(100,return_sequences=True, input_shape=(timesteps, input_dim)))\n",
        "modelnew.add(Dropout(0.7))\n",
        "modelnew.add(LSTM(300))\n",
        "modelnew.add(Dropout(0.6))\n",
        "modelnew.add(BatchNormalization())\n",
        "modelnew.add(Dense(n_classes, activation='sigmoid'))\n",
        "print(modelnew.summary())\n",
        "modelnew.compile(loss='categorical_crossentropy',optimizer='rmsprop',metrics=['accuracy'])\n",
        "\n",
        "history= modelnew.fit(X_train,Y_train,batch_size=batch_size,validation_data=(X_test, Y_test),epochs=20)"
      ],
      "execution_count": 74,
      "outputs": [
        {
          "output_type": "stream",
          "text": [
            "_________________________________________________________________\n",
            "Layer (type)                 Output Shape              Param #   \n",
            "=================================================================\n",
            "lstm_14 (LSTM)               (None, 128, 100)          44000     \n",
            "_________________________________________________________________\n",
            "dropout_14 (Dropout)         (None, 128, 100)          0         \n",
            "_________________________________________________________________\n",
            "lstm_15 (LSTM)               (None, 300)               481200    \n",
            "_________________________________________________________________\n",
            "dropout_15 (Dropout)         (None, 300)               0         \n",
            "_________________________________________________________________\n",
            "batch_normalization_7 (Batch (None, 300)               1200      \n",
            "_________________________________________________________________\n",
            "dense_7 (Dense)              (None, 6)                 1806      \n",
            "=================================================================\n",
            "Total params: 528,206\n",
            "Trainable params: 527,606\n",
            "Non-trainable params: 600\n",
            "_________________________________________________________________\n",
            "None\n",
            "Train on 7352 samples, validate on 2947 samples\n",
            "Epoch 1/20\n",
            "7352/7352 [==============================] - 178s 24ms/step - loss: 1.0485 - acc: 0.5379 - val_loss: 0.8508 - val_acc: 0.5901\n",
            "Epoch 2/20\n",
            "7352/7352 [==============================] - 173s 24ms/step - loss: 0.8018 - acc: 0.6168 - val_loss: 0.7927 - val_acc: 0.5881\n",
            "Epoch 3/20\n",
            "7352/7352 [==============================] - 173s 24ms/step - loss: 0.7367 - acc: 0.6514 - val_loss: 0.9158 - val_acc: 0.6111\n",
            "Epoch 4/20\n",
            "7352/7352 [==============================] - 174s 24ms/step - loss: 0.7534 - acc: 0.6515 - val_loss: 0.7829 - val_acc: 0.6176\n",
            "Epoch 5/20\n",
            "7352/7352 [==============================] - 171s 23ms/step - loss: 0.7407 - acc: 0.6473 - val_loss: 0.7516 - val_acc: 0.6848\n",
            "Epoch 6/20\n",
            "7352/7352 [==============================] - 173s 24ms/step - loss: 0.9916 - acc: 0.5646 - val_loss: 1.3365 - val_acc: 0.3590\n",
            "Epoch 7/20\n",
            "7352/7352 [==============================] - 171s 23ms/step - loss: 0.9651 - acc: 0.5788 - val_loss: 0.8394 - val_acc: 0.6200\n",
            "Epoch 8/20\n",
            "7352/7352 [==============================] - 173s 23ms/step - loss: 0.7074 - acc: 0.6571 - val_loss: 0.8714 - val_acc: 0.6288\n",
            "Epoch 9/20\n",
            "7352/7352 [==============================] - 172s 23ms/step - loss: 0.6068 - acc: 0.7417 - val_loss: 0.7189 - val_acc: 0.7401\n",
            "Epoch 10/20\n",
            "7352/7352 [==============================] - 173s 23ms/step - loss: 0.7783 - acc: 0.7042 - val_loss: 0.6240 - val_acc: 0.8286\n",
            "Epoch 11/20\n",
            "7352/7352 [==============================] - 171s 23ms/step - loss: 0.3421 - acc: 0.8876 - val_loss: 0.3119 - val_acc: 0.9063\n",
            "Epoch 12/20\n",
            "7352/7352 [==============================] - 172s 23ms/step - loss: 0.2260 - acc: 0.9245 - val_loss: 0.4051 - val_acc: 0.8677\n",
            "Epoch 13/20\n",
            "7352/7352 [==============================] - 173s 24ms/step - loss: 0.2243 - acc: 0.9272 - val_loss: 0.3466 - val_acc: 0.8853\n",
            "Epoch 14/20\n",
            "7352/7352 [==============================] - 171s 23ms/step - loss: 0.2024 - acc: 0.9321 - val_loss: 0.4686 - val_acc: 0.9043\n",
            "Epoch 15/20\n",
            "7352/7352 [==============================] - 172s 23ms/step - loss: 0.2707 - acc: 0.9155 - val_loss: 0.4589 - val_acc: 0.9009\n",
            "Epoch 16/20\n",
            "7352/7352 [==============================] - 170s 23ms/step - loss: 0.1901 - acc: 0.9393 - val_loss: 0.5445 - val_acc: 0.8799\n",
            "Epoch 17/20\n",
            "7352/7352 [==============================] - 173s 23ms/step - loss: 0.1841 - acc: 0.9430 - val_loss: 0.5569 - val_acc: 0.8907\n",
            "Epoch 18/20\n",
            "7352/7352 [==============================] - 170s 23ms/step - loss: 0.1891 - acc: 0.9404 - val_loss: 0.3501 - val_acc: 0.9111\n",
            "Epoch 19/20\n",
            "7352/7352 [==============================] - 171s 23ms/step - loss: 0.1722 - acc: 0.9393 - val_loss: 0.3812 - val_acc: 0.9074\n",
            "Epoch 20/20\n",
            "7352/7352 [==============================] - 170s 23ms/step - loss: 0.1666 - acc: 0.9421 - val_loss: 0.5799 - val_acc: 0.8812\n"
          ],
          "name": "stdout"
        }
      ]
    },
    {
      "cell_type": "code",
      "metadata": {
        "id": "uz76xG3diouG",
        "colab_type": "code",
        "outputId": "a0da2d42-d6fb-4ba4-8d28-b3d424227a88",
        "colab": {
          "base_uri": "https://localhost:8080/",
          "height": 51
        }
      },
      "source": [
        "score=modelnew.evaluate(X_test, Y_test,verbose=0)\n",
        "print('test score',score[0])\n",
        "print('test accuracy',score[1])"
      ],
      "execution_count": 75,
      "outputs": [
        {
          "output_type": "stream",
          "text": [
            "test score 0.5799294071928931\n",
            "test accuracy 0.8812351543942993\n"
          ],
          "name": "stdout"
        }
      ]
    },
    {
      "cell_type": "code",
      "metadata": {
        "id": "6cYgcWuwksc_",
        "colab_type": "code",
        "outputId": "0401dc1d-1501-4169-b032-acd78a18d293",
        "colab": {
          "base_uri": "https://localhost:8080/",
          "height": 307
        }
      },
      "source": [
        "\n",
        "print(confusion_matrix(Y_test, modelnew.predict(X_test)))\n"
      ],
      "execution_count": 76,
      "outputs": [
        {
          "output_type": "stream",
          "text": [
            "Pred                LAYING  SITTING  STANDING  WALKING  WALKING_DOWNSTAIRS  \\\n",
            "True                                                                         \n",
            "LAYING                 537        0         0        0                   0   \n",
            "SITTING                  4      304       182        0                   0   \n",
            "STANDING                 0       24       508        0                   0   \n",
            "WALKING                  0        0         0      386                  68   \n",
            "WALKING_DOWNSTAIRS       0        0         0        1                 419   \n",
            "WALKING_UPSTAIRS         0        0         0        0                  28   \n",
            "\n",
            "Pred                WALKING_UPSTAIRS  \n",
            "True                                  \n",
            "LAYING                             0  \n",
            "SITTING                            1  \n",
            "STANDING                           0  \n",
            "WALKING                           42  \n",
            "WALKING_DOWNSTAIRS                 0  \n",
            "WALKING_UPSTAIRS                 443  \n"
          ],
          "name": "stdout"
        }
      ]
    },
    {
      "cell_type": "code",
      "metadata": {
        "id": "eEvHiw34rX93",
        "colab_type": "code",
        "colab": {
          "base_uri": "https://localhost:8080/",
          "height": 283
        },
        "outputId": "14c44de4-a749-4c80-9ed8-75e0f73c7d69"
      },
      "source": [
        "fig,ax=plt.subplots()\n",
        "x=list(range(1,21))\n",
        "validationy=history.history['val_loss']\n",
        "testy=history.history['loss']\n",
        "errorplot(x,validationy,testy,ax)"
      ],
      "execution_count": 77,
      "outputs": [
        {
          "output_type": "display_data",
          "data": {
            "image/png": "[encoded data removed]",
            "text/plain": [
              "<Figure size 432x288 with 1 Axes>"
            ]
          },
          "metadata": {
            "tags": []
          }
        }
      ]
    },
    {
      "cell_type": "markdown",
      "metadata": {
        "id": "MIlPnnDuFmm8",
        "colab_type": "text"
      },
      "source": [
        "### CHANGING THE ACTIVATION FUNCTION TO SIGMOID SINCE THE SIGMOID GIVES THE OUTPUT PROBABILTIES THAT BELONGING TO THE PARTICULAR CLASS LABEL.WITH SAME CONGIGURATION OF PREVIOUS MODEL WE CHANGE THE ACTIVATION FUNCTION AND CHECK."
      ]
    },
    {
      "cell_type": "code",
      "metadata": {
        "colab_type": "code",
        "outputId": "cd1f169c-4aa3-472b-d844-61eea716130c",
        "id": "DBXvrDPzCOoO",
        "colab": {
          "base_uri": "https://localhost:8080/",
          "height": 1211
        }
      },
      "source": [
        "\n",
        "modelnew = Sequential()\n",
        "\n",
        "modelnew.add(LSTM(100,return_sequences=True, input_shape=(timesteps, input_dim)))\n",
        "modelnew.add(Dropout(0.7))\n",
        "modelnew.add(LSTM(300))\n",
        "modelnew.add(Dropout(0.6))\n",
        "modelnew.add(BatchNormalization())\n",
        "\n",
        "modelnew.add(Dense(n_classes, activation='softmax'))\n",
        "print(modelnew.summary())\n",
        "modelnew.compile(loss='categorical_crossentropy',optimizer='rmsprop',metrics=['accuracy'])\n",
        "\n",
        "history= modelnew.fit(X_train,Y_train,batch_size=batch_size,validation_data=(X_test, Y_test),epochs=20)"
      ],
      "execution_count": 25,
      "outputs": [
        {
          "output_type": "stream",
          "text": [
            "WARNING:tensorflow:From /usr/local/lib/python3.6/dist-packages/tensorflow/python/framework/op_def_library.py:263: colocate_with (from tensorflow.python.framework.ops) is deprecated and will be removed in a future version.\n",
            "Instructions for updating:\n",
            "Colocations handled automatically by placer.\n",
            "WARNING:tensorflow:From /usr/local/lib/python3.6/dist-packages/keras/backend/tensorflow_backend.py:3445: calling dropout (from tensorflow.python.ops.nn_ops) with keep_prob is deprecated and will be removed in a future version.\n",
            "Instructions for updating:\n",
            "Please use `rate` instead of `keep_prob`. Rate should be set to `rate = 1 - keep_prob`.\n",
            "_________________________________________________________________\n",
            "Layer (type)                 Output Shape              Param #   \n",
            "=================================================================\n",
            "lstm_1 (LSTM)                (None, 128, 100)          44000     \n",
            "_________________________________________________________________\n",
            "dropout_1 (Dropout)          (None, 128, 100)          0         \n",
            "_________________________________________________________________\n",
            "lstm_2 (LSTM)                (None, 300)               481200    \n",
            "_________________________________________________________________\n",
            "dropout_2 (Dropout)          (None, 300)               0         \n",
            "_________________________________________________________________\n",
            "batch_normalization_1 (Batch (None, 300)               1200      \n",
            "_________________________________________________________________\n",
            "dense_1 (Dense)              (None, 6)                 1806      \n",
            "=================================================================\n",
            "Total params: 528,206\n",
            "Trainable params: 527,606\n",
            "Non-trainable params: 600\n",
            "_________________________________________________________________\n",
            "None\n",
            "WARNING:tensorflow:From /usr/local/lib/python3.6/dist-packages/tensorflow/python/ops/math_ops.py:3066: to_int32 (from tensorflow.python.ops.math_ops) is deprecated and will be removed in a future version.\n",
            "Instructions for updating:\n",
            "Use tf.cast instead.\n",
            "Train on 7352 samples, validate on 2947 samples\n",
            "Epoch 1/20\n",
            "7352/7352 [==============================] - 159s 22ms/step - loss: 1.0285 - acc: 0.6092 - val_loss: 0.9204 - val_acc: 0.6614\n",
            "Epoch 2/20\n",
            "7352/7352 [==============================] - 155s 21ms/step - loss: 0.4750 - acc: 0.8399 - val_loss: 0.6490 - val_acc: 0.7984\n",
            "Epoch 3/20\n",
            "7352/7352 [==============================] - 157s 21ms/step - loss: 0.3075 - acc: 0.8981 - val_loss: 0.4384 - val_acc: 0.8466\n",
            "Epoch 4/20\n",
            "7352/7352 [==============================] - 154s 21ms/step - loss: 0.2351 - acc: 0.9253 - val_loss: 0.3214 - val_acc: 0.8955\n",
            "Epoch 5/20\n",
            "7352/7352 [==============================] - 157s 21ms/step - loss: 0.2041 - acc: 0.9309 - val_loss: 0.4520 - val_acc: 0.8670\n",
            "Epoch 6/20\n",
            "7352/7352 [==============================] - 154s 21ms/step - loss: 0.1908 - acc: 0.9343 - val_loss: 0.3257 - val_acc: 0.9077\n",
            "Epoch 7/20\n",
            "7352/7352 [==============================] - 155s 21ms/step - loss: 0.1880 - acc: 0.9347 - val_loss: 1.1457 - val_acc: 0.8012\n",
            "Epoch 8/20\n",
            "7352/7352 [==============================] - 154s 21ms/step - loss: 0.1784 - acc: 0.9380 - val_loss: 0.5234 - val_acc: 0.8853\n",
            "Epoch 9/20\n",
            "7352/7352 [==============================] - 156s 21ms/step - loss: 0.1815 - acc: 0.9396 - val_loss: 0.3384 - val_acc: 0.9070\n",
            "Epoch 10/20\n",
            "7352/7352 [==============================] - 154s 21ms/step - loss: 0.1878 - acc: 0.9366 - val_loss: 0.3260 - val_acc: 0.9070\n",
            "Epoch 11/20\n",
            "7352/7352 [==============================] - 157s 21ms/step - loss: 0.2112 - acc: 0.9317 - val_loss: 0.4242 - val_acc: 0.9087\n",
            "Epoch 12/20\n",
            "7352/7352 [==============================] - 155s 21ms/step - loss: 0.2022 - acc: 0.9350 - val_loss: 0.5830 - val_acc: 0.8884\n",
            "Epoch 13/20\n",
            "7352/7352 [==============================] - 156s 21ms/step - loss: 0.1888 - acc: 0.9373 - val_loss: 0.5046 - val_acc: 0.9019\n",
            "Epoch 14/20\n",
            "7352/7352 [==============================] - 154s 21ms/step - loss: 0.1659 - acc: 0.9389 - val_loss: 0.7242 - val_acc: 0.8884\n",
            "Epoch 15/20\n",
            "7352/7352 [==============================] - 157s 21ms/step - loss: 0.1738 - acc: 0.9400 - val_loss: 0.5111 - val_acc: 0.8962\n",
            "Epoch 16/20\n",
            "7352/7352 [==============================] - 155s 21ms/step - loss: 0.1807 - acc: 0.9438 - val_loss: 0.5994 - val_acc: 0.8989\n",
            "Epoch 17/20\n",
            "7352/7352 [==============================] - 157s 21ms/step - loss: 0.1601 - acc: 0.9452 - val_loss: 0.4585 - val_acc: 0.8921\n",
            "Epoch 18/20\n",
            "7352/7352 [==============================] - 155s 21ms/step - loss: 0.1549 - acc: 0.9453 - val_loss: 0.8446 - val_acc: 0.7621\n",
            "Epoch 19/20\n",
            "7352/7352 [==============================] - 157s 21ms/step - loss: 0.2162 - acc: 0.9329 - val_loss: 0.4736 - val_acc: 0.9046\n",
            "Epoch 20/20\n",
            "7352/7352 [==============================] - 154s 21ms/step - loss: 0.1664 - acc: 0.9426 - val_loss: 0.4776 - val_acc: 0.9209\n"
          ],
          "name": "stdout"
        }
      ]
    },
    {
      "cell_type": "code",
      "metadata": {
        "colab_type": "code",
        "outputId": "4bb3f729-c6e6-44b9-94c7-aba61e685840",
        "id": "iYekRNq9COoU",
        "colab": {
          "base_uri": "https://localhost:8080/",
          "height": 51
        }
      },
      "source": [
        "score=modelnew.evaluate(X_test, Y_test,verbose=0)\n",
        "print('test score',score[0])\n",
        "print('test accuracy',score[1])"
      ],
      "execution_count": 26,
      "outputs": [
        {
          "output_type": "stream",
          "text": [
            "test score 0.47755399492043493\n",
            "test accuracy 0.9209365456396336\n"
          ],
          "name": "stdout"
        }
      ]
    },
    {
      "cell_type": "code",
      "metadata": {
        "colab_type": "code",
        "outputId": "96abe3c0-3ac7-4024-ae6e-7496c94614ea",
        "id": "ZSuoqJK-COoZ",
        "colab": {
          "base_uri": "https://localhost:8080/",
          "height": 307
        }
      },
      "source": [
        "\n",
        "print(confusion_matrix(Y_test, modelnew.predict(X_test)))\n"
      ],
      "execution_count": 29,
      "outputs": [
        {
          "output_type": "stream",
          "text": [
            "Pred                LAYING  SITTING  STANDING  WALKING  WALKING_DOWNSTAIRS  \\\n",
            "True                                                                         \n",
            "LAYING                 537        0         0        0                   0   \n",
            "SITTING                  3      414        74        0                   0   \n",
            "STANDING                 0       86       446        0                   0   \n",
            "WALKING                  1        1         0      448                  44   \n",
            "WALKING_DOWNSTAIRS       0        0         0        1                 419   \n",
            "WALKING_UPSTAIRS         1        7         2        6                   5   \n",
            "\n",
            "Pred                WALKING_UPSTAIRS  \n",
            "True                                  \n",
            "LAYING                             0  \n",
            "SITTING                            0  \n",
            "STANDING                           0  \n",
            "WALKING                            2  \n",
            "WALKING_DOWNSTAIRS                 0  \n",
            "WALKING_UPSTAIRS                 450  \n"
          ],
          "name": "stdout"
        }
      ]
    },
    {
      "cell_type": "code",
      "metadata": {
        "id": "LJNWr3VDremK",
        "colab_type": "code",
        "colab": {
          "base_uri": "https://localhost:8080/",
          "height": 283
        },
        "outputId": "c595bdee-de5d-487d-dfa0-f9a3bd760eb6"
      },
      "source": [
        "import matplotlib.pyplot as plt\n",
        "fig,ax=plt.subplots()\n",
        "x=list(range(1,21))\n",
        "validationy=history.history['val_loss']\n",
        "testy=history.history['loss']\n",
        "errorplot(x,validationy,testy,ax)"
      ],
      "execution_count": 31,
      "outputs": [
        {
          "output_type": "display_data",
          "data": {
            "image/png": "[encoded data removed]",
            "text/plain": [
              "<Figure size 432x288 with 1 Axes>"
            ]
          },
          "metadata": {
            "tags": []
          }
        }
      ]
    },
    {
      "cell_type": "markdown",
      "metadata": {
        "id": "Zt_Oi7vdGCb2",
        "colab_type": "text"
      },
      "source": [
        "### USING THE SOFTMAX IN CASE OF SIGMOID ACTUALLY THE TEST ACCURACY REDUCED WITH SIGMOID WE GOT 0.91 WITH SOFTMAX WE GOT 0.892. WE WILL TRY WITH RELU ACTIVATION FUNCTION WITH THE SAME CONFIGUTRATION."
      ]
    },
    {
      "cell_type": "code",
      "metadata": {
        "colab_type": "code",
        "outputId": "83bccc9b-436f-45ea-a610-cdeb23cb8951",
        "id": "JZeeYKHX1Toq",
        "colab": {
          "base_uri": "https://localhost:8080/",
          "height": 1058
        }
      },
      "source": [
        "\n",
        "modela = Sequential()\n",
        "\n",
        "modela.add(LSTM(100,return_sequences=True, input_shape=(timesteps, input_dim)))\n",
        "modela.add(Dropout(0.7))\n",
        "modela.add(LSTM(300))\n",
        "modela.add(Dropout(0.6))\n",
        "modela.add(BatchNormalization())\n",
        "modela.add(Dense(n_classes, activation='relu'))\n",
        "print(modela.summary())\n",
        "modela.compile(loss='categorical_crossentropy',optimizer='rmsprop',metrics=['accuracy'])\n",
        "\n",
        "history= modela.fit(X_train,Y_train,batch_size=batch_size,validation_data=(X_test, Y_test),epochs=20)"
      ],
      "execution_count": 32,
      "outputs": [
        {
          "output_type": "stream",
          "text": [
            "_________________________________________________________________\n",
            "Layer (type)                 Output Shape              Param #   \n",
            "=================================================================\n",
            "lstm_3 (LSTM)                (None, 128, 100)          44000     \n",
            "_________________________________________________________________\n",
            "dropout_3 (Dropout)          (None, 128, 100)          0         \n",
            "_________________________________________________________________\n",
            "lstm_4 (LSTM)                (None, 300)               481200    \n",
            "_________________________________________________________________\n",
            "dropout_4 (Dropout)          (None, 300)               0         \n",
            "_________________________________________________________________\n",
            "batch_normalization_2 (Batch (None, 300)               1200      \n",
            "_________________________________________________________________\n",
            "dense_2 (Dense)              (None, 6)                 1806      \n",
            "=================================================================\n",
            "Total params: 528,206\n",
            "Trainable params: 527,606\n",
            "Non-trainable params: 600\n",
            "_________________________________________________________________\n",
            "None\n",
            "Train on 7352 samples, validate on 2947 samples\n",
            "Epoch 1/20\n",
            "7352/7352 [==============================] - 160s 22ms/step - loss: 2.1252 - acc: 0.4659 - val_loss: 1.2260 - val_acc: 0.6091\n",
            "Epoch 2/20\n",
            "7352/7352 [==============================] - 156s 21ms/step - loss: 1.3158 - acc: 0.5964 - val_loss: 2.1774 - val_acc: 0.5721\n",
            "Epoch 3/20\n",
            "7352/7352 [==============================] - 158s 22ms/step - loss: 1.3191 - acc: 0.6215 - val_loss: 1.6510 - val_acc: 0.6121\n",
            "Epoch 4/20\n",
            "7352/7352 [==============================] - 156s 21ms/step - loss: 1.3987 - acc: 0.6349 - val_loss: 1.3484 - val_acc: 0.6359\n",
            "Epoch 5/20\n",
            "7352/7352 [==============================] - 159s 22ms/step - loss: 1.2176 - acc: 0.6831 - val_loss: 1.9444 - val_acc: 0.6678\n",
            "Epoch 6/20\n",
            "7352/7352 [==============================] - 156s 21ms/step - loss: 1.3150 - acc: 0.6912 - val_loss: 2.1620 - val_acc: 0.6620\n",
            "Epoch 7/20\n",
            "7352/7352 [==============================] - 158s 22ms/step - loss: 1.3720 - acc: 0.7114 - val_loss: 1.9954 - val_acc: 0.7363\n",
            "Epoch 8/20\n",
            "7352/7352 [==============================] - 155s 21ms/step - loss: 1.2773 - acc: 0.7431 - val_loss: 1.3247 - val_acc: 0.7282\n",
            "Epoch 9/20\n",
            "7352/7352 [==============================] - 157s 21ms/step - loss: 0.9720 - acc: 0.8067 - val_loss: 1.1600 - val_acc: 0.8286\n",
            "Epoch 10/20\n",
            "7352/7352 [==============================] - 154s 21ms/step - loss: 0.9090 - acc: 0.8874 - val_loss: 1.8553 - val_acc: 0.8436\n",
            "Epoch 11/20\n",
            "7352/7352 [==============================] - 156s 21ms/step - loss: 1.3277 - acc: 0.8677 - val_loss: 1.5042 - val_acc: 0.8700\n",
            "Epoch 12/20\n",
            "7352/7352 [==============================] - 154s 21ms/step - loss: 0.8304 - acc: 0.9006 - val_loss: 1.2530 - val_acc: 0.8622\n",
            "Epoch 13/20\n",
            "7352/7352 [==============================] - 158s 21ms/step - loss: 0.8321 - acc: 0.9042 - val_loss: 1.7096 - val_acc: 0.8585\n",
            "Epoch 14/20\n",
            "7352/7352 [==============================] - 154s 21ms/step - loss: 0.8371 - acc: 0.8938 - val_loss: 2.2182 - val_acc: 0.7299\n",
            "Epoch 15/20\n",
            "7352/7352 [==============================] - 157s 21ms/step - loss: 0.9504 - acc: 0.8962 - val_loss: 2.8795 - val_acc: 0.7645\n",
            "Epoch 16/20\n",
            "7352/7352 [==============================] - 153s 21ms/step - loss: 0.8878 - acc: 0.9023 - val_loss: 1.7750 - val_acc: 0.8042\n",
            "Epoch 17/20\n",
            "7352/7352 [==============================] - 156s 21ms/step - loss: 1.2889 - acc: 0.8713 - val_loss: 2.7426 - val_acc: 0.8117\n",
            "Epoch 18/20\n",
            "7352/7352 [==============================] - 153s 21ms/step - loss: 2.9924 - acc: 0.7046 - val_loss: 6.0092 - val_acc: 0.6132\n",
            "Epoch 19/20\n",
            "7352/7352 [==============================] - 156s 21ms/step - loss: 3.3477 - acc: 0.6115 - val_loss: 5.4340 - val_acc: 0.3363\n",
            "Epoch 20/20\n",
            "7352/7352 [==============================] - 154s 21ms/step - loss: 2.5352 - acc: 0.4474 - val_loss: 3.2740 - val_acc: 0.6121\n"
          ],
          "name": "stdout"
        }
      ]
    },
    {
      "cell_type": "code",
      "metadata": {
        "colab_type": "code",
        "outputId": "f6190262-3e7c-4744-f0e3-f48aa82dcb92",
        "id": "tpF54Olb1Tot",
        "colab": {
          "base_uri": "https://localhost:8080/",
          "height": 51
        }
      },
      "source": [
        "score=modelnew.evaluate(X_test, Y_test,verbose=0)\n",
        "print('test score',score[0])\n",
        "print('test accuracy',score[1])"
      ],
      "execution_count": 33,
      "outputs": [
        {
          "output_type": "stream",
          "text": [
            "test score 0.47755399492043493\n",
            "test accuracy 0.9209365456396336\n"
          ],
          "name": "stdout"
        }
      ]
    },
    {
      "cell_type": "code",
      "metadata": {
        "colab_type": "code",
        "outputId": "d6300485-36ec-4c8a-9450-63039fcbd55c",
        "id": "-zkDXcPR1Tow",
        "colab": {
          "base_uri": "https://localhost:8080/",
          "height": 307
        }
      },
      "source": [
        "\n",
        "print(confusion_matrix(Y_test, modelnew.predict(X_test)))\n"
      ],
      "execution_count": 34,
      "outputs": [
        {
          "output_type": "stream",
          "text": [
            "Pred                LAYING  SITTING  STANDING  WALKING  WALKING_DOWNSTAIRS  \\\n",
            "True                                                                         \n",
            "LAYING                 537        0         0        0                   0   \n",
            "SITTING                  3      414        74        0                   0   \n",
            "STANDING                 0       86       446        0                   0   \n",
            "WALKING                  1        1         0      448                  44   \n",
            "WALKING_DOWNSTAIRS       0        0         0        1                 419   \n",
            "WALKING_UPSTAIRS         1        7         2        6                   5   \n",
            "\n",
            "Pred                WALKING_UPSTAIRS  \n",
            "True                                  \n",
            "LAYING                             0  \n",
            "SITTING                            0  \n",
            "STANDING                           0  \n",
            "WALKING                            2  \n",
            "WALKING_DOWNSTAIRS                 0  \n",
            "WALKING_UPSTAIRS                 450  \n"
          ],
          "name": "stdout"
        }
      ]
    },
    {
      "cell_type": "code",
      "metadata": {
        "id": "XnUDiJRiri4h",
        "colab_type": "code",
        "colab": {
          "base_uri": "https://localhost:8080/",
          "height": 283
        },
        "outputId": "0cc7cd77-9507-440e-f2a2-73942301dc4d"
      },
      "source": [
        "\n",
        "fig,ax=plt.subplots()\n",
        "x=list(range(1,21))\n",
        "validationy=history.history['val_loss']\n",
        "testy=history.history['loss']\n",
        "errorplot(x,validationy,testy,ax)"
      ],
      "execution_count": 35,
      "outputs": [
        {
          "output_type": "display_data",
          "data": {
            "image/png": "[encoded data removed]",
            "text/plain": [
              "<Figure size 432x288 with 1 Axes>"
            ]
          },
          "metadata": {
            "tags": []
          }
        }
      ]
    },
    {
      "cell_type": "markdown",
      "metadata": {
        "id": "I50gjsrlGevg",
        "colab_type": "text"
      },
      "source": [
        "### WE ACHIEVED 91.6 TEST ACCURACY USING THE RELUAS THE ACTIVATION FUNCTION.\n",
        "### WE GONNA USE THE SINGLE LSTM LAYER SIMPLE MODEL AND ADD DROPOUT OT THE LAYER."
      ]
    },
    {
      "cell_type": "code",
      "metadata": {
        "colab_type": "code",
        "outputId": "9d1ab4b1-2601-4386-d906-bc3d2287d64f",
        "id": "i_Rl3Xp6uEMX",
        "colab": {
          "base_uri": "https://localhost:8080/",
          "height": 1297
        }
      },
      "source": [
        "model3 = Sequential()\n",
        "# Configuring the parameters\n",
        "model3.add(LSTM(64, input_shape=(timesteps, input_dim)))\n",
        "# Adding a dropout layer\n",
        "model3.add(Dropout(0.5))\n",
        "# Adding a dense output layer with sigmoid activation\n",
        "model3.add(Dense(n_classes, activation='sigmoid'))\n",
        "print(model3.summary())\n",
        "\n",
        "# Compiling the model\n",
        "model3.compile(loss='categorical_crossentropy',optimizer='rmsprop',metrics=['accuracy'])\n",
        "\n",
        "# Training the model\n",
        "history= model3.fit(X_train,Y_train,batch_size=batch_size,validation_data=(X_test, Y_test),epochs=epochs)"
      ],
      "execution_count": 36,
      "outputs": [
        {
          "output_type": "stream",
          "text": [
            "_________________________________________________________________\n",
            "Layer (type)                 Output Shape              Param #   \n",
            "=================================================================\n",
            "lstm_5 (LSTM)                (None, 64)                18944     \n",
            "_________________________________________________________________\n",
            "dropout_5 (Dropout)          (None, 64)                0         \n",
            "_________________________________________________________________\n",
            "dense_3 (Dense)              (None, 6)                 390       \n",
            "=================================================================\n",
            "Total params: 19,334\n",
            "Trainable params: 19,334\n",
            "Non-trainable params: 0\n",
            "_________________________________________________________________\n",
            "None\n",
            "Train on 7352 samples, validate on 2947 samples\n",
            "Epoch 1/30\n",
            "7352/7352 [==============================] - 80s 11ms/step - loss: 1.2424 - acc: 0.4739 - val_loss: 1.0771 - val_acc: 0.5212\n",
            "Epoch 2/30\n",
            "7352/7352 [==============================] - 80s 11ms/step - loss: 0.9438 - acc: 0.5826 - val_loss: 0.8838 - val_acc: 0.6535\n",
            "Epoch 3/30\n",
            "7352/7352 [==============================] - 78s 11ms/step - loss: 0.8002 - acc: 0.6474 - val_loss: 0.8034 - val_acc: 0.6960\n",
            "Epoch 4/30\n",
            "7352/7352 [==============================] - 78s 11ms/step - loss: 0.6630 - acc: 0.7349 - val_loss: 0.7763 - val_acc: 0.7106\n",
            "Epoch 5/30\n",
            "7352/7352 [==============================] - 79s 11ms/step - loss: 0.6058 - acc: 0.7622 - val_loss: 0.6271 - val_acc: 0.7913\n",
            "Epoch 6/30\n",
            "7352/7352 [==============================] - 80s 11ms/step - loss: 0.4932 - acc: 0.8248 - val_loss: 0.5687 - val_acc: 0.8049\n",
            "Epoch 7/30\n",
            "7352/7352 [==============================] - 78s 11ms/step - loss: 0.3686 - acc: 0.8810 - val_loss: 0.4586 - val_acc: 0.8463\n",
            "Epoch 8/30\n",
            "7352/7352 [==============================] - 78s 11ms/step - loss: 0.3234 - acc: 0.8962 - val_loss: 0.6586 - val_acc: 0.8100\n",
            "Epoch 9/30\n",
            "7352/7352 [==============================] - 78s 11ms/step - loss: 0.2582 - acc: 0.9196 - val_loss: 0.4392 - val_acc: 0.8643\n",
            "Epoch 10/30\n",
            "7352/7352 [==============================] - 79s 11ms/step - loss: 0.2559 - acc: 0.9187 - val_loss: 0.4315 - val_acc: 0.8700\n",
            "Epoch 11/30\n",
            "7352/7352 [==============================] - 78s 11ms/step - loss: 0.2310 - acc: 0.9274 - val_loss: 0.4122 - val_acc: 0.8863\n",
            "Epoch 12/30\n",
            "7352/7352 [==============================] - 78s 11ms/step - loss: 0.2037 - acc: 0.9347 - val_loss: 0.3960 - val_acc: 0.8768\n",
            "Epoch 13/30\n",
            "7352/7352 [==============================] - 79s 11ms/step - loss: 0.1992 - acc: 0.9339 - val_loss: 0.4048 - val_acc: 0.8823\n",
            "Epoch 14/30\n",
            "7352/7352 [==============================] - 80s 11ms/step - loss: 0.1899 - acc: 0.9372 - val_loss: 0.4433 - val_acc: 0.8843\n",
            "Epoch 15/30\n",
            "7352/7352 [==============================] - 78s 11ms/step - loss: 0.1885 - acc: 0.9319 - val_loss: 0.3658 - val_acc: 0.8935\n",
            "Epoch 16/30\n",
            "7352/7352 [==============================] - 78s 11ms/step - loss: 0.1740 - acc: 0.9408 - val_loss: 0.6261 - val_acc: 0.8918\n",
            "Epoch 17/30\n",
            "7352/7352 [==============================] - 79s 11ms/step - loss: 0.1576 - acc: 0.9445 - val_loss: 0.4291 - val_acc: 0.8951\n",
            "Epoch 18/30\n",
            "7352/7352 [==============================] - 80s 11ms/step - loss: 0.2104 - acc: 0.9381 - val_loss: 0.5909 - val_acc: 0.8894\n",
            "Epoch 19/30\n",
            "7352/7352 [==============================] - 78s 11ms/step - loss: 0.1794 - acc: 0.9411 - val_loss: 0.3231 - val_acc: 0.8958\n",
            "Epoch 20/30\n",
            "7352/7352 [==============================] - 79s 11ms/step - loss: 0.1678 - acc: 0.9448 - val_loss: 0.3884 - val_acc: 0.8823\n",
            "Epoch 21/30\n",
            "7352/7352 [==============================] - 78s 11ms/step - loss: 0.1588 - acc: 0.9478 - val_loss: 0.3436 - val_acc: 0.9036\n",
            "Epoch 22/30\n",
            "7352/7352 [==============================] - 80s 11ms/step - loss: 0.1651 - acc: 0.9430 - val_loss: 0.3266 - val_acc: 0.9101\n",
            "Epoch 23/30\n",
            "7352/7352 [==============================] - 77s 11ms/step - loss: 0.1540 - acc: 0.9476 - val_loss: 0.4088 - val_acc: 0.9023\n",
            "Epoch 24/30\n",
            "7352/7352 [==============================] - 78s 11ms/step - loss: 0.1540 - acc: 0.9479 - val_loss: 0.4793 - val_acc: 0.8941\n",
            "Epoch 25/30\n",
            "7352/7352 [==============================] - 78s 11ms/step - loss: 0.1437 - acc: 0.9486 - val_loss: 0.3938 - val_acc: 0.9036\n",
            "Epoch 26/30\n",
            "7352/7352 [==============================] - 79s 11ms/step - loss: 0.1404 - acc: 0.9502 - val_loss: 0.5132 - val_acc: 0.8965\n",
            "Epoch 27/30\n",
            "7352/7352 [==============================] - 77s 11ms/step - loss: 0.1455 - acc: 0.9498 - val_loss: 0.5158 - val_acc: 0.9067\n",
            "Epoch 28/30\n",
            "7352/7352 [==============================] - 78s 11ms/step - loss: 0.1431 - acc: 0.9509 - val_loss: 0.4635 - val_acc: 0.9023\n",
            "Epoch 29/30\n",
            "7352/7352 [==============================] - 77s 11ms/step - loss: 0.1601 - acc: 0.9491 - val_loss: 0.3193 - val_acc: 0.9019\n",
            "Epoch 30/30\n",
            "7352/7352 [==============================] - 79s 11ms/step - loss: 0.1388 - acc: 0.9509 - val_loss: 0.5589 - val_acc: 0.8894\n"
          ],
          "name": "stdout"
        }
      ]
    },
    {
      "cell_type": "code",
      "metadata": {
        "colab_type": "code",
        "outputId": "a82692ab-d909-4c59-84fb-4a6f1a965aeb",
        "id": "0qmr70ExuEMu",
        "colab": {
          "base_uri": "https://localhost:8080/",
          "height": 51
        }
      },
      "source": [
        "scores3 = model3.evaluate(X_test, Y_test, verbose=0)\n",
        "print(\"Test Score: %f\" % (scores3[0]))\n",
        "print(\"Test Accuracy: %f%%\" % (scores3[1]*100))"
      ],
      "execution_count": 37,
      "outputs": [
        {
          "output_type": "stream",
          "text": [
            "Test Score: 0.559273\n",
            "Test Accuracy: 88.937903%\n"
          ],
          "name": "stdout"
        }
      ]
    },
    {
      "cell_type": "code",
      "metadata": {
        "id": "xgB8sS8xrt_4",
        "colab_type": "code",
        "colab": {
          "base_uri": "https://localhost:8080/",
          "height": 283
        },
        "outputId": "1cf5d913-6024-4e49-84e1-a385357c11fc"
      },
      "source": [
        "fig,ax=plt.subplots()\n",
        "x=list(range(1,31))\n",
        "validationy=history.history['val_loss']\n",
        "testy=history.history['loss']\n",
        "errorplot(x,validationy,testy,ax)"
      ],
      "execution_count": 39,
      "outputs": [
        {
          "output_type": "display_data",
          "data": {
            "image/png": "[encoded data removed]",
            "text/plain": [
              "<Figure size 432x288 with 1 Axes>"
            ]
          },
          "metadata": {
            "tags": []
          }
        }
      ]
    },
    {
      "cell_type": "code",
      "metadata": {
        "id": "FB2qrVwgb7ha",
        "colab_type": "code",
        "colab": {
          "base_uri": "https://localhost:8080/",
          "height": 307
        },
        "outputId": "be3ad464-cbb7-4f35-c970-6dbc7171589c"
      },
      "source": [
        "# Confusion Matrix\n",
        "print(confusion_matrix(Y_test, model3.predict(X_test)))"
      ],
      "execution_count": 40,
      "outputs": [
        {
          "output_type": "stream",
          "text": [
            "Pred                LAYING  SITTING  STANDING  WALKING  WALKING_DOWNSTAIRS  \\\n",
            "True                                                                         \n",
            "LAYING                 510        0        24        0                   0   \n",
            "SITTING                  0      388        97        2                   0   \n",
            "STANDING                 0      101       421        4                   0   \n",
            "WALKING                  0        0         0      464                  19   \n",
            "WALKING_DOWNSTAIRS       0        0         0       22                 389   \n",
            "WALKING_UPSTAIRS         0        0         0       19                   3   \n",
            "\n",
            "Pred                WALKING_UPSTAIRS  \n",
            "True                                  \n",
            "LAYING                             3  \n",
            "SITTING                            4  \n",
            "STANDING                           6  \n",
            "WALKING                           13  \n",
            "WALKING_DOWNSTAIRS                 9  \n",
            "WALKING_UPSTAIRS                 449  \n"
          ],
          "name": "stdout"
        }
      ]
    },
    {
      "cell_type": "markdown",
      "metadata": {
        "id": "CPdNdBNTG3m5",
        "colab_type": "text"
      },
      "source": [
        "###SINGLE LSTM LAYER WITH MPORE NUMBER OF CELLS IN EACH HIDDEN LAYER"
      ]
    },
    {
      "cell_type": "code",
      "metadata": {
        "colab_type": "code",
        "outputId": "72c26ccf-4f96-4b6e-bf89-dce4cb03a1fa",
        "id": "KKQaWDaBwJPL",
        "colab": {
          "base_uri": "https://localhost:8080/",
          "height": 1297
        }
      },
      "source": [
        "model3 = Sequential()\n",
        "# Configuring the parameters\n",
        "model3.add(LSTM(300, input_shape=(timesteps, input_dim)))\n",
        "# Adding a dropout layer\n",
        "model3.add(Dropout(0.5))\n",
        "# Adding a dense output layer with sigmoid activation\n",
        "model3.add(Dense(n_classes, activation='softmax'))\n",
        "print(model3.summary())\n",
        "\n",
        "# Compiling the model\n",
        "model3.compile(loss='categorical_crossentropy',optimizer='adam',metrics=['accuracy'])\n",
        "\n",
        "# Training the model\n",
        "history3 = model3.fit(X_train,Y_train,batch_size=batch_size,validation_data=(X_test, Y_test),epochs=epochs)"
      ],
      "execution_count": 41,
      "outputs": [
        {
          "output_type": "stream",
          "text": [
            "_________________________________________________________________\n",
            "Layer (type)                 Output Shape              Param #   \n",
            "=================================================================\n",
            "lstm_6 (LSTM)                (None, 300)               372000    \n",
            "_________________________________________________________________\n",
            "dropout_6 (Dropout)          (None, 300)               0         \n",
            "_________________________________________________________________\n",
            "dense_4 (Dense)              (None, 6)                 1806      \n",
            "=================================================================\n",
            "Total params: 373,806\n",
            "Trainable params: 373,806\n",
            "Non-trainable params: 0\n",
            "_________________________________________________________________\n",
            "None\n",
            "Train on 7352 samples, validate on 2947 samples\n",
            "Epoch 1/30\n",
            "7352/7352 [==============================] - 77s 10ms/step - loss: 1.3546 - acc: 0.4266 - val_loss: 1.4051 - val_acc: 0.3661\n",
            "Epoch 2/30\n",
            "7352/7352 [==============================] - 76s 10ms/step - loss: 1.3603 - acc: 0.3943 - val_loss: 1.2473 - val_acc: 0.4832\n",
            "Epoch 3/30\n",
            "7352/7352 [==============================] - 75s 10ms/step - loss: 1.0384 - acc: 0.5544 - val_loss: 1.2564 - val_acc: 0.4578\n",
            "Epoch 4/30\n",
            "7352/7352 [==============================] - 76s 10ms/step - loss: 0.9501 - acc: 0.5812 - val_loss: 0.8030 - val_acc: 0.6403\n",
            "Epoch 5/30\n",
            "7352/7352 [==============================] - 75s 10ms/step - loss: 0.7200 - acc: 0.6696 - val_loss: 0.7198 - val_acc: 0.6518\n",
            "Epoch 6/30\n",
            "7352/7352 [==============================] - 76s 10ms/step - loss: 0.6276 - acc: 0.7114 - val_loss: 0.8023 - val_acc: 0.6016\n",
            "Epoch 7/30\n",
            "7352/7352 [==============================] - 75s 10ms/step - loss: 0.6397 - acc: 0.7138 - val_loss: 1.4114 - val_acc: 0.4581\n",
            "Epoch 8/30\n",
            "7352/7352 [==============================] - 77s 10ms/step - loss: 0.6261 - acc: 0.7295 - val_loss: 0.5974 - val_acc: 0.7727\n",
            "Epoch 9/30\n",
            "7352/7352 [==============================] - 75s 10ms/step - loss: 0.4491 - acc: 0.8184 - val_loss: 0.5478 - val_acc: 0.8015\n",
            "Epoch 10/30\n",
            "7352/7352 [==============================] - 76s 10ms/step - loss: 0.4214 - acc: 0.8267 - val_loss: 0.4746 - val_acc: 0.8392\n",
            "Epoch 11/30\n",
            "7352/7352 [==============================] - 75s 10ms/step - loss: 0.3519 - acc: 0.8706 - val_loss: 0.4821 - val_acc: 0.8609\n",
            "Epoch 12/30\n",
            "7352/7352 [==============================] - 77s 10ms/step - loss: 0.2846 - acc: 0.8946 - val_loss: 0.4432 - val_acc: 0.8602\n",
            "Epoch 13/30\n",
            "7352/7352 [==============================] - 75s 10ms/step - loss: 0.2434 - acc: 0.9151 - val_loss: 0.3223 - val_acc: 0.8965\n",
            "Epoch 14/30\n",
            "7352/7352 [==============================] - 74s 10ms/step - loss: 0.2213 - acc: 0.9123 - val_loss: 0.3278 - val_acc: 0.9016\n",
            "Epoch 15/30\n",
            "7352/7352 [==============================] - 74s 10ms/step - loss: 0.1661 - acc: 0.9332 - val_loss: 0.3573 - val_acc: 0.8717\n",
            "Epoch 16/30\n",
            "7352/7352 [==============================] - 77s 10ms/step - loss: 0.1653 - acc: 0.9377 - val_loss: 0.3209 - val_acc: 0.8958\n",
            "Epoch 17/30\n",
            "7352/7352 [==============================] - 75s 10ms/step - loss: 0.1550 - acc: 0.9415 - val_loss: 0.3320 - val_acc: 0.8979\n",
            "Epoch 18/30\n",
            "7352/7352 [==============================] - 75s 10ms/step - loss: 0.1458 - acc: 0.9414 - val_loss: 0.3719 - val_acc: 0.8894\n",
            "Epoch 19/30\n",
            "7352/7352 [==============================] - 76s 10ms/step - loss: 0.1421 - acc: 0.9437 - val_loss: 0.3194 - val_acc: 0.8996\n",
            "Epoch 20/30\n",
            "7352/7352 [==============================] - 77s 10ms/step - loss: 0.1260 - acc: 0.9464 - val_loss: 0.3468 - val_acc: 0.9135\n",
            "Epoch 21/30\n",
            "7352/7352 [==============================] - 75s 10ms/step - loss: 0.1377 - acc: 0.9452 - val_loss: 0.3723 - val_acc: 0.8972\n",
            "Epoch 22/30\n",
            "7352/7352 [==============================] - 75s 10ms/step - loss: 0.1458 - acc: 0.9456 - val_loss: 0.3059 - val_acc: 0.9084\n",
            "Epoch 23/30\n",
            "7352/7352 [==============================] - 76s 10ms/step - loss: 0.1386 - acc: 0.9438 - val_loss: 0.3887 - val_acc: 0.8941\n",
            "Epoch 24/30\n",
            "7352/7352 [==============================] - 77s 10ms/step - loss: 0.1660 - acc: 0.9353 - val_loss: 0.3356 - val_acc: 0.9097\n",
            "Epoch 25/30\n",
            "7352/7352 [==============================] - 75s 10ms/step - loss: 0.1354 - acc: 0.9404 - val_loss: 0.3282 - val_acc: 0.9091\n",
            "Epoch 26/30\n",
            "7352/7352 [==============================] - 75s 10ms/step - loss: 0.1296 - acc: 0.9471 - val_loss: 0.3325 - val_acc: 0.9131\n",
            "Epoch 27/30\n",
            "7352/7352 [==============================] - 75s 10ms/step - loss: 0.1340 - acc: 0.9480 - val_loss: 0.3672 - val_acc: 0.9101\n",
            "Epoch 28/30\n",
            "7352/7352 [==============================] - 74s 10ms/step - loss: 0.1246 - acc: 0.9495 - val_loss: 0.3432 - val_acc: 0.9206\n",
            "Epoch 29/30\n",
            "7352/7352 [==============================] - 76s 10ms/step - loss: 0.1309 - acc: 0.9461 - val_loss: 0.3198 - val_acc: 0.9016\n",
            "Epoch 30/30\n",
            "7352/7352 [==============================] - 74s 10ms/step - loss: 0.1248 - acc: 0.9463 - val_loss: 0.4055 - val_acc: 0.9009\n"
          ],
          "name": "stdout"
        }
      ]
    },
    {
      "cell_type": "code",
      "metadata": {
        "colab_type": "code",
        "outputId": "353da573-e4ca-4a08-e3a2-17ab84b877a1",
        "id": "Gdv0vsgYwJPP",
        "colab": {
          "base_uri": "https://localhost:8080/",
          "height": 51
        }
      },
      "source": [
        "scores3 = model3.evaluate(X_test, Y_test, verbose=0)\n",
        "print(\"Test Score: %f\" % (scores3[0]))\n",
        "print(\"Test Accuracy: %f%%\" % (scores3[1]*100))"
      ],
      "execution_count": 42,
      "outputs": [
        {
          "output_type": "stream",
          "text": [
            "Test Score: 0.405478\n",
            "Test Accuracy: 90.091619%\n"
          ],
          "name": "stdout"
        }
      ]
    },
    {
      "cell_type": "code",
      "metadata": {
        "colab_type": "code",
        "outputId": "a7162652-28a7-445a-ad46-8b40b775a7eb",
        "id": "6wBlFVmexwsq",
        "colab": {
          "base_uri": "https://localhost:8080/",
          "height": 307
        }
      },
      "source": [
        "# Confusion Matrix\n",
        "print(confusion_matrix(Y_test, model3.predict(X_test)))"
      ],
      "execution_count": 43,
      "outputs": [
        {
          "output_type": "stream",
          "text": [
            "Pred                LAYING  SITTING  STANDING  WALKING  WALKING_DOWNSTAIRS  \\\n",
            "True                                                                         \n",
            "LAYING                 510        0         1        0                   0   \n",
            "SITTING                  0      376       111        2                   0   \n",
            "STANDING                 0       86       444        2                   0   \n",
            "WALKING                  0        0         0      439                  45   \n",
            "WALKING_DOWNSTAIRS       0        0         0        0                 420   \n",
            "WALKING_UPSTAIRS         1        0         0        2                   2   \n",
            "\n",
            "Pred                WALKING_UPSTAIRS  \n",
            "True                                  \n",
            "LAYING                            26  \n",
            "SITTING                            2  \n",
            "STANDING                           0  \n",
            "WALKING                           12  \n",
            "WALKING_DOWNSTAIRS                 0  \n",
            "WALKING_UPSTAIRS                 466  \n"
          ],
          "name": "stdout"
        }
      ]
    },
    {
      "cell_type": "code",
      "metadata": {
        "id": "LmKUA1Gib3Ju",
        "colab_type": "code",
        "colab": {
          "base_uri": "https://localhost:8080/",
          "height": 283
        },
        "outputId": "8bfec1aa-4655-4b29-d594-6a5654737074"
      },
      "source": [
        "fig,ax=plt.subplots()\n",
        "x=list(range(1,31))\n",
        "validationy=history.history['val_loss']\n",
        "testy=history.history['loss']\n",
        "errorplot(x,validationy,testy,ax)"
      ],
      "execution_count": 45,
      "outputs": [
        {
          "output_type": "display_data",
          "data": {
            "image/png": "[encoded data removed]",
            "text/plain": [
              "<Figure size 432x288 with 1 Axes>"
            ]
          },
          "metadata": {
            "tags": []
          }
        }
      ]
    },
    {
      "cell_type": "code",
      "metadata": {
        "id": "zslU28_4x6Xi",
        "colab_type": "code",
        "outputId": "c227b92a-fe93-493d-f997-951969364ce6",
        "colab": {
          "base_uri": "https://localhost:8080/",
          "height": 316
        }
      },
      "source": [
        "import pandas as pd\n",
        "data=[[1,(32,6),'YES','YES',0.9,0.3,'SIGMOID'],[3,(64,300,200,6),'YES','YES',0.91,0.3,'SIGMOID'],[2,(32,32,6),'YES','NO',0.90,0.48,'SIGMOID'],[2,(64,64,6),'YES','NO',0.91,0.42,'SIGMOID'],[2,(100,300,6),'YES','YES',0.916,0.53,'SIGMOID'],[2,(100,300,6),'YES','YES',0.89,0.37,'SIGMOID'],[2,(100,300,6),'YES','YES',0.916,0.52,'SOFTMAX'],[1,(64,6),'YES','NO',0.9,0.49,'SIGMOID'],[1,(300,6),'YES','NO',0.91,0.3,'SOFTMAX']]\n",
        "pd.DataFrame(data,columns=['NUMBER_OF_LAYERS_OF_LSTM','CONFIGURATION_OF_HIDDEN_CELLS','DROPOUT','BATCHNORMALISATION','ACCURACY','SCORE','ACTIVATION_FOR_DENSE_LAYER'])"
      ],
      "execution_count": 46,
      "outputs": [
        {
          "output_type": "execute_result",
          "data": {
            "text/html": [
              "<div>\n",
              "<style scoped>\n",
              "    .dataframe tbody tr th:only-of-type {\n",
              "        vertical-align: middle;\n",
              "    }\n",
              "\n",
              "    .dataframe tbody tr th {\n",
              "        vertical-align: top;\n",
              "    }\n",
              "\n",
              "    .dataframe thead th {\n",
              "        text-align: right;\n",
              "    }\n",
              "</style>\n",
              "<table border=\"1\" class=\"dataframe\">\n",
              "  <thead>\n",
              "    <tr style=\"text-align: right;\">\n",
              "      <th></th>\n",
              "      <th>NUMBER_OF_LAYERS_OF_LSTM</th>\n",
              "      <th>CONFIGURATION_OF_HIDDEN_CELLS</th>\n",
              "      <th>DROPOUT</th>\n",
              "      <th>BATCHNORMALISATION</th>\n",
              "      <th>ACCURACY</th>\n",
              "      <th>SCORE</th>\n",
              "      <th>ACTIVATION_FOR_DENSE_LAYER</th>\n",
              "    </tr>\n",
              "  </thead>\n",
              "  <tbody>\n",
              "    <tr>\n",
              "      <th>0</th>\n",
              "      <td>1</td>\n",
              "      <td>(32, 6)</td>\n",
              "      <td>YES</td>\n",
              "      <td>YES</td>\n",
              "      <td>0.900</td>\n",
              "      <td>0.30</td>\n",
              "      <td>SIGMOID</td>\n",
              "    </tr>\n",
              "    <tr>\n",
              "      <th>1</th>\n",
              "      <td>3</td>\n",
              "      <td>(64, 300, 200, 6)</td>\n",
              "      <td>YES</td>\n",
              "      <td>YES</td>\n",
              "      <td>0.910</td>\n",
              "      <td>0.30</td>\n",
              "      <td>SIGMOID</td>\n",
              "    </tr>\n",
              "    <tr>\n",
              "      <th>2</th>\n",
              "      <td>2</td>\n",
              "      <td>(32, 32, 6)</td>\n",
              "      <td>YES</td>\n",
              "      <td>NO</td>\n",
              "      <td>0.900</td>\n",
              "      <td>0.48</td>\n",
              "      <td>SIGMOID</td>\n",
              "    </tr>\n",
              "    <tr>\n",
              "      <th>3</th>\n",
              "      <td>2</td>\n",
              "      <td>(64, 64, 6)</td>\n",
              "      <td>YES</td>\n",
              "      <td>NO</td>\n",
              "      <td>0.910</td>\n",
              "      <td>0.42</td>\n",
              "      <td>SIGMOID</td>\n",
              "    </tr>\n",
              "    <tr>\n",
              "      <th>4</th>\n",
              "      <td>2</td>\n",
              "      <td>(100, 300, 6)</td>\n",
              "      <td>YES</td>\n",
              "      <td>YES</td>\n",
              "      <td>0.916</td>\n",
              "      <td>0.53</td>\n",
              "      <td>SIGMOID</td>\n",
              "    </tr>\n",
              "    <tr>\n",
              "      <th>5</th>\n",
              "      <td>2</td>\n",
              "      <td>(100, 300, 6)</td>\n",
              "      <td>YES</td>\n",
              "      <td>YES</td>\n",
              "      <td>0.890</td>\n",
              "      <td>0.37</td>\n",
              "      <td>SIGMOID</td>\n",
              "    </tr>\n",
              "    <tr>\n",
              "      <th>6</th>\n",
              "      <td>2</td>\n",
              "      <td>(100, 300, 6)</td>\n",
              "      <td>YES</td>\n",
              "      <td>YES</td>\n",
              "      <td>0.916</td>\n",
              "      <td>0.52</td>\n",
              "      <td>SOFTMAX</td>\n",
              "    </tr>\n",
              "    <tr>\n",
              "      <th>7</th>\n",
              "      <td>1</td>\n",
              "      <td>(64, 6)</td>\n",
              "      <td>YES</td>\n",
              "      <td>NO</td>\n",
              "      <td>0.900</td>\n",
              "      <td>0.49</td>\n",
              "      <td>SIGMOID</td>\n",
              "    </tr>\n",
              "    <tr>\n",
              "      <th>8</th>\n",
              "      <td>1</td>\n",
              "      <td>(300, 6)</td>\n",
              "      <td>YES</td>\n",
              "      <td>NO</td>\n",
              "      <td>0.910</td>\n",
              "      <td>0.30</td>\n",
              "      <td>SOFTMAX</td>\n",
              "    </tr>\n",
              "  </tbody>\n",
              "</table>\n",
              "</div>"
            ],
            "text/plain": [
              "   NUMBER_OF_LAYERS_OF_LSTM CONFIGURATION_OF_HIDDEN_CELLS DROPOUT  \\\n",
              "0                         1                       (32, 6)     YES   \n",
              "1                         3             (64, 300, 200, 6)     YES   \n",
              "2                         2                   (32, 32, 6)     YES   \n",
              "3                         2                   (64, 64, 6)     YES   \n",
              "4                         2                 (100, 300, 6)     YES   \n",
              "5                         2                 (100, 300, 6)     YES   \n",
              "6                         2                 (100, 300, 6)     YES   \n",
              "7                         1                       (64, 6)     YES   \n",
              "8                         1                      (300, 6)     YES   \n",
              "\n",
              "  BATCHNORMALISATION  ACCURACY  SCORE ACTIVATION_FOR_DENSE_LAYER  \n",
              "0                YES     0.900   0.30                    SIGMOID  \n",
              "1                YES     0.910   0.30                    SIGMOID  \n",
              "2                 NO     0.900   0.48                    SIGMOID  \n",
              "3                 NO     0.910   0.42                    SIGMOID  \n",
              "4                YES     0.916   0.53                    SIGMOID  \n",
              "5                YES     0.890   0.37                    SIGMOID  \n",
              "6                YES     0.916   0.52                    SOFTMAX  \n",
              "7                 NO     0.900   0.49                    SIGMOID  \n",
              "8                 NO     0.910   0.30                    SOFTMAX  "
            ]
          },
          "metadata": {
            "tags": []
          },
          "execution_count": 46
        }
      ]
    },
    {
      "cell_type": "markdown",
      "metadata": {
        "id": "2sn1mPnLHBN8",
        "colab_type": "text"
      },
      "source": [
        "## CONCLUSION DOCUMENTATION AND KEYTAKEAWAYS \n",
        "### WE ARE PROVIDED WITHE DATA OF RAW SIGNALS AND THE CLASS LABEL IS MULTILABELLED.THE DATA IS OBTAINED FROM THE ACCELEROMETER AND GYROSCOPE SENSORS IN THE PHONE.GYROSCOPE IS USED TO MEASURE THE ANGULAR VELOCITYAND ACCELEROMETER USED TO MEASURE THE ACCELERATION WE WILL PREDICT WHAT THE PERSON IS PERFORMING.\n",
        "### THE ACCELEROMETERS ARE TRIAXIAL ANDGYROSCOPE IS TRIAXIAL.GIVEN THE TIMESERIES DATA TO PREDICT THE ACTIVITY. WE HAVE BUILD MODELS USING THE LSTM LAYERS AND THE EXTRACTING THE FEATURES FROM THE GIVEN DATA.USING THE FEATURES WE HAVE USED THE MACHINE LEARNING MODELSAND USED MULTICLASSLOGLOSS AS THE METRIC.\n",
        "##USING THE SIMPLE LSTM LAYERS WITH OUT ANY FEATURE EXTACTION AND FEATURE ENGINEERING WE ARE ABLE TO ACHIEVE THE ACCURACY OF  92 PERCENTAGE"
      ]
    },
    {
      "cell_type": "code",
      "metadata": {
        "id": "p7hcDTBaJNdn",
        "colab_type": "code",
        "colab": {}
      },
      "source": [
        ""
      ],
      "execution_count": 0,
      "outputs": []
    }
  ]
}
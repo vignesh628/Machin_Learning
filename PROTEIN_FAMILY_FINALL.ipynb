{
  "nbformat": 4,
  "nbformat_minor": 0,
  "metadata": {
    "colab": {
      "name": "PROTEIN.FAMILY_FINALL.ipynb",
      "version": "0.3.2",
      "provenance": [],
      "collapsed_sections": []
    },
    "kernelspec": {
      "name": "python3",
      "display_name": "Python 3"
    },
    "accelerator": "GPU"
  },
  "cells": [
    {
      "cell_type": "code",
      "metadata": {
        "id": "b7IKaRTWJkYm",
        "colab_type": "code",
        "colab": {}
      },
      "source": [
        "import pandas as pd\n",
        "import numpy as np"
      ],
      "execution_count": 0,
      "outputs": []
    },
    {
      "cell_type": "code",
      "metadata": {
        "id": "XcJi4EBuJwML",
        "colab_type": "code",
        "colab": {
          "base_uri": "https://localhost:8080/",
          "height": 51
        },
        "outputId": "883f826f-4394-44f3-a3eb-e76095bf7c87"
      },
      "source": [
        "\n",
        "!pip install -U -q PyDrive\n",
        "from pydrive.auth import GoogleAuth\n",
        "from pydrive.drive import GoogleDrive\n",
        "from google.colab import auth\n",
        "from oauth2client.client import GoogleCredentials\n",
        "# Authenticate and create the PyDrive client.\n",
        "auth.authenticate_user()\n",
        "gauth = GoogleAuth()\n",
        "gauth.credentials = GoogleCredentials.get_application_default()\n",
        "drive = GoogleDrive(gauth)"
      ],
      "execution_count": 2,
      "outputs": [
        {
          "output_type": "stream",
          "text": [
            "\u001b[?25l\r\u001b[K     |▎                               | 10kB 26.2MB/s eta 0:00:01\r\u001b[K     |▋                               | 20kB 30.9MB/s eta 0:00:01\r\u001b[K     |█                               | 30kB 35.7MB/s eta 0:00:01\r\u001b[K     |█▎                              | 40kB 40.2MB/s eta 0:00:01\r\u001b[K     |█▋                              | 51kB 42.2MB/s eta 0:00:01\r\u001b[K     |██                              | 61kB 43.9MB/s eta 0:00:01\r\u001b[K     |██▎                             | 71kB 44.2MB/s eta 0:00:01\r\u001b[K     |██▋                             | 81kB 45.4MB/s eta 0:00:01\r\u001b[K     |███                             | 92kB 47.2MB/s eta 0:00:01\r\u001b[K     |███▎                            | 102kB 45.6MB/s eta 0:00:01\r\u001b[K     |███▋                            | 112kB 45.6MB/s eta 0:00:01\r\u001b[K     |████                            | 122kB 45.6MB/s eta 0:00:01\r\u001b[K     |████▎                           | 133kB 45.6MB/s eta 0:00:01\r\u001b[K     |████▋                           | 143kB 45.6MB/s eta 0:00:01\r\u001b[K     |█████                           | 153kB 45.6MB/s eta 0:00:01\r\u001b[K     |█████▎                          | 163kB 45.6MB/s eta 0:00:01\r\u001b[K     |█████▋                          | 174kB 45.6MB/s eta 0:00:01\r\u001b[K     |██████                          | 184kB 45.6MB/s eta 0:00:01\r\u001b[K     |██████▎                         | 194kB 45.6MB/s eta 0:00:01\r\u001b[K     |██████▋                         | 204kB 45.6MB/s eta 0:00:01\r\u001b[K     |███████                         | 215kB 45.6MB/s eta 0:00:01\r\u001b[K     |███████▎                        | 225kB 45.6MB/s eta 0:00:01\r\u001b[K     |███████▋                        | 235kB 45.6MB/s eta 0:00:01\r\u001b[K     |████████                        | 245kB 45.6MB/s eta 0:00:01\r\u001b[K     |████████▎                       | 256kB 45.6MB/s eta 0:00:01\r\u001b[K     |████████▋                       | 266kB 45.6MB/s eta 0:00:01\r\u001b[K     |█████████                       | 276kB 45.6MB/s eta 0:00:01\r\u001b[K     |█████████▎                      | 286kB 45.6MB/s eta 0:00:01\r\u001b[K     |█████████▋                      | 296kB 45.6MB/s eta 0:00:01\r\u001b[K     |██████████                      | 307kB 45.6MB/s eta 0:00:01\r\u001b[K     |██████████▎                     | 317kB 45.6MB/s eta 0:00:01\r\u001b[K     |██████████▋                     | 327kB 45.6MB/s eta 0:00:01\r\u001b[K     |███████████                     | 337kB 45.6MB/s eta 0:00:01\r\u001b[K     |███████████▎                    | 348kB 45.6MB/s eta 0:00:01\r\u001b[K     |███████████▋                    | 358kB 45.6MB/s eta 0:00:01\r\u001b[K     |████████████                    | 368kB 45.6MB/s eta 0:00:01\r\u001b[K     |████████████▎                   | 378kB 45.6MB/s eta 0:00:01\r\u001b[K     |████████████▋                   | 389kB 45.6MB/s eta 0:00:01\r\u001b[K     |█████████████                   | 399kB 45.6MB/s eta 0:00:01\r\u001b[K     |█████████████▎                  | 409kB 45.6MB/s eta 0:00:01\r\u001b[K     |█████████████▋                  | 419kB 45.6MB/s eta 0:00:01\r\u001b[K     |██████████████                  | 430kB 45.6MB/s eta 0:00:01\r\u001b[K     |██████████████▎                 | 440kB 45.6MB/s eta 0:00:01\r\u001b[K     |██████████████▋                 | 450kB 45.6MB/s eta 0:00:01\r\u001b[K     |███████████████                 | 460kB 45.6MB/s eta 0:00:01\r\u001b[K     |███████████████▎                | 471kB 45.6MB/s eta 0:00:01\r\u001b[K     |███████████████▋                | 481kB 45.6MB/s eta 0:00:01\r\u001b[K     |████████████████                | 491kB 45.6MB/s eta 0:00:01\r\u001b[K     |████████████████▎               | 501kB 45.6MB/s eta 0:00:01\r\u001b[K     |████████████████▋               | 512kB 45.6MB/s eta 0:00:01\r\u001b[K     |█████████████████               | 522kB 45.6MB/s eta 0:00:01\r\u001b[K     |█████████████████▎              | 532kB 45.6MB/s eta 0:00:01\r\u001b[K     |█████████████████▋              | 542kB 45.6MB/s eta 0:00:01\r\u001b[K     |██████████████████              | 552kB 45.6MB/s eta 0:00:01\r\u001b[K     |██████████████████▎             | 563kB 45.6MB/s eta 0:00:01\r\u001b[K     |██████████████████▋             | 573kB 45.6MB/s eta 0:00:01\r\u001b[K     |███████████████████             | 583kB 45.6MB/s eta 0:00:01\r\u001b[K     |███████████████████▎            | 593kB 45.6MB/s eta 0:00:01\r\u001b[K     |███████████████████▋            | 604kB 45.6MB/s eta 0:00:01\r\u001b[K     |████████████████████            | 614kB 45.6MB/s eta 0:00:01\r\u001b[K     |████████████████████▎           | 624kB 45.6MB/s eta 0:00:01\r\u001b[K     |████████████████████▋           | 634kB 45.6MB/s eta 0:00:01\r\u001b[K     |█████████████████████           | 645kB 45.6MB/s eta 0:00:01\r\u001b[K     |█████████████████████▎          | 655kB 45.6MB/s eta 0:00:01\r\u001b[K     |█████████████████████▋          | 665kB 45.6MB/s eta 0:00:01\r\u001b[K     |██████████████████████          | 675kB 45.6MB/s eta 0:00:01\r\u001b[K     |██████████████████████▎         | 686kB 45.6MB/s eta 0:00:01\r\u001b[K     |██████████████████████▋         | 696kB 45.6MB/s eta 0:00:01\r\u001b[K     |███████████████████████         | 706kB 45.6MB/s eta 0:00:01\r\u001b[K     |███████████████████████▎        | 716kB 45.6MB/s eta 0:00:01\r\u001b[K     |███████████████████████▋        | 727kB 45.6MB/s eta 0:00:01\r\u001b[K     |████████████████████████        | 737kB 45.6MB/s eta 0:00:01\r\u001b[K     |████████████████████████▎       | 747kB 45.6MB/s eta 0:00:01\r\u001b[K     |████████████████████████▋       | 757kB 45.6MB/s eta 0:00:01\r\u001b[K     |████████████████████████▉       | 768kB 45.6MB/s eta 0:00:01\r\u001b[K     |█████████████████████████▏      | 778kB 45.6MB/s eta 0:00:01\r\u001b[K     |█████████████████████████▌      | 788kB 45.6MB/s eta 0:00:01\r\u001b[K     |█████████████████████████▉      | 798kB 45.6MB/s eta 0:00:01\r\u001b[K     |██████████████████████████▏     | 808kB 45.6MB/s eta 0:00:01\r\u001b[K     |██████████████████████████▌     | 819kB 45.6MB/s eta 0:00:01\r\u001b[K     |██████████████████████████▉     | 829kB 45.6MB/s eta 0:00:01\r\u001b[K     |███████████████████████████▏    | 839kB 45.6MB/s eta 0:00:01\r\u001b[K     |███████████████████████████▌    | 849kB 45.6MB/s eta 0:00:01\r\u001b[K     |███████████████████████████▉    | 860kB 45.6MB/s eta 0:00:01\r\u001b[K     |████████████████████████████▏   | 870kB 45.6MB/s eta 0:00:01\r\u001b[K     |████████████████████████████▌   | 880kB 45.6MB/s eta 0:00:01\r\u001b[K     |████████████████████████████▉   | 890kB 45.6MB/s eta 0:00:01\r\u001b[K     |█████████████████████████████▏  | 901kB 45.6MB/s eta 0:00:01\r\u001b[K     |█████████████████████████████▌  | 911kB 45.6MB/s eta 0:00:01\r\u001b[K     |█████████████████████████████▉  | 921kB 45.6MB/s eta 0:00:01\r\u001b[K     |██████████████████████████████▏ | 931kB 45.6MB/s eta 0:00:01\r\u001b[K     |██████████████████████████████▌ | 942kB 45.6MB/s eta 0:00:01\r\u001b[K     |██████████████████████████████▉ | 952kB 45.6MB/s eta 0:00:01\r\u001b[K     |███████████████████████████████▏| 962kB 45.6MB/s eta 0:00:01\r\u001b[K     |███████████████████████████████▌| 972kB 45.6MB/s eta 0:00:01\r\u001b[K     |███████████████████████████████▉| 983kB 45.6MB/s eta 0:00:01\r\u001b[K     |████████████████████████████████| 993kB 45.6MB/s \n",
            "\u001b[?25h  Building wheel for PyDrive (setup.py) ... \u001b[?25l\u001b[?25hdone\n"
          ],
          "name": "stdout"
        }
      ]
    },
    {
      "cell_type": "code",
      "metadata": {
        "id": "h6oO4qqfJ6lO",
        "colab_type": "code",
        "colab": {}
      },
      "source": [
        "link = 'https://drive.google.com/open?id=1wLPB72yau1pfH8uMp4Mx1Wo0sopd7Y2r' # The shareable link"
      ],
      "execution_count": 0,
      "outputs": []
    },
    {
      "cell_type": "code",
      "metadata": {
        "id": "o7eQ17AmKFWV",
        "colab_type": "code",
        "colab": {}
      },
      "source": [
        "fluff, id = link.split('=')"
      ],
      "execution_count": 0,
      "outputs": []
    },
    {
      "cell_type": "code",
      "metadata": {
        "id": "wXtyUZLgKIaU",
        "colab_type": "code",
        "colab": {}
      },
      "source": [
        "downloaded = drive.CreateFile({'id':id}) \n",
        "downloaded.GetContentFile('traindataframeuploadfinalforsubmission.csv')  \n",
        "traindataframe= pd.read_csv('traindataframeuploadfinalforsubmission.csv',nrows=130000)"
      ],
      "execution_count": 0,
      "outputs": []
    },
    {
      "cell_type": "code",
      "metadata": {
        "colab_type": "code",
        "id": "5ZEIEbwjKb_a",
        "colab": {}
      },
      "source": [
        "link = 'https://drive.google.com/open?id=1-e0aY1FCfhTZ0y7uAlRN3j6MOMdvXYeS' # The shareable link"
      ],
      "execution_count": 0,
      "outputs": []
    },
    {
      "cell_type": "code",
      "metadata": {
        "colab_type": "code",
        "id": "-zQYBBkZKb_y",
        "colab": {}
      },
      "source": [
        "fluff, id = link.split('=')"
      ],
      "execution_count": 0,
      "outputs": []
    },
    {
      "cell_type": "code",
      "metadata": {
        "colab_type": "code",
        "id": "rxPOIq70Kb_6",
        "colab": {}
      },
      "source": [
        "downloaded = drive.CreateFile({'id':id}) \n",
        "downloaded.GetContentFile('testdataframeuploadfinalforsubmission.csv')  \n",
        "testdataframe= pd.read_csv('testdataframeuploadfinalforsubmission.csv',nrows=20072)"
      ],
      "execution_count": 0,
      "outputs": []
    },
    {
      "cell_type": "code",
      "metadata": {
        "id": "3JPJvFOt5q73",
        "colab_type": "code",
        "colab": {
          "base_uri": "https://localhost:8080/",
          "height": 34
        },
        "outputId": "3f59c629-f727-410c-9f72-1ca9de82b024"
      },
      "source": [
        "print(testdataframe.shape)"
      ],
      "execution_count": 11,
      "outputs": [
        {
          "output_type": "stream",
          "text": [
            "(20000, 6)\n"
          ],
          "name": "stdout"
        }
      ]
    },
    {
      "cell_type": "code",
      "metadata": {
        "colab_type": "code",
        "id": "R93UJ_sGKkLL",
        "colab": {}
      },
      "source": [
        "link = 'https://drive.google.com/open?id=1S8YirWWFIgpxNLuqiTjiIAAtyuIeRA7r' # The shareable link"
      ],
      "execution_count": 0,
      "outputs": []
    },
    {
      "cell_type": "code",
      "metadata": {
        "colab_type": "code",
        "id": "jns-4xDHKkLS",
        "colab": {}
      },
      "source": [
        "fluff, id = link.split('=')"
      ],
      "execution_count": 0,
      "outputs": []
    },
    {
      "cell_type": "code",
      "metadata": {
        "colab_type": "code",
        "id": "gd2-GBEFKkLW",
        "colab": {}
      },
      "source": [
        "downloaded = drive.CreateFile({'id':id}) \n",
        "downloaded.GetContentFile('cvdataframeuploadfinalforsubmission.csv')  \n",
        "cvdataframe= pd.read_csv('cvdataframeuploadfinalforsubmission.csv')"
      ],
      "execution_count": 0,
      "outputs": []
    },
    {
      "cell_type": "code",
      "metadata": {
        "colab_type": "code",
        "id": "9ik4xO8aUQeY",
        "outputId": "aceca6bd-91d5-4e25-dea3-13b890545fef",
        "colab": {}
      },
      "source": [
        "fd=pd.DataFrame()\n",
        "import matplotlib.pyplot as plt\n",
        "fd['alignment_length'] = traindataframe.aligned_sequence.str.len()\n",
        "fd.alignment_length.hist(bins=30)\n",
        "plt.title('Distribution of alignment lengths')\n",
        "plt.xlabel('Alignment length')\n",
        "plt.ylabel('Number of sequences')"
      ],
      "execution_count": 0,
      "outputs": [
        {
          "output_type": "execute_result",
          "data": {
            "text/plain": [
              "<matplotlib.text.Text at 0x2519beec5f8>"
            ]
          },
          "metadata": {
            "tags": []
          },
          "execution_count": 9
        },
        {
          "output_type": "display_data",
          "data": {
            "image/png": "[encoded data removed]",
            "text/plain": [
              "<matplotlib.figure.Figure at 0x25191aa6dd8>"
            ]
          },
          "metadata": {
            "tags": [],
            "needs_background": "light"
          }
        }
      ]
    },
    {
      "cell_type": "code",
      "metadata": {
        "colab_type": "code",
        "id": "oo3ahFlhUQee",
        "outputId": "81708d50-039f-4b40-982a-5d661ec22e8d",
        "colab": {}
      },
      "source": [
        "fd1=pd.DataFrame()\n",
        "fd1['alignment_length'] = testdataframe.aligned_sequence.str.len()\n",
        "fd1.alignment_length.hist(bins=30)\n",
        "plt.title('Distribution of alignment lengths')\n",
        "plt.xlabel('Alignment length')\n",
        "plt.ylabel('Number of sequences')"
      ],
      "execution_count": 0,
      "outputs": [
        {
          "output_type": "execute_result",
          "data": {
            "text/plain": [
              "<matplotlib.text.Text at 0x25191d42c50>"
            ]
          },
          "metadata": {
            "tags": []
          },
          "execution_count": 10
        },
        {
          "output_type": "display_data",
          "data": {
            "image/png": "[encoded data removed]",
            "text/plain": [
              "<matplotlib.figure.Figure at 0x25191d12d30>"
            ]
          },
          "metadata": {
            "tags": [],
            "needs_background": "light"
          }
        }
      ]
    },
    {
      "cell_type": "code",
      "metadata": {
        "colab_type": "code",
        "id": "JcdN4bQ5UQej",
        "outputId": "c0ed80e9-785a-4f41-e8d5-b36566fff9a4",
        "colab": {}
      },
      "source": [
        "fd2=pd.DataFrame()\n",
        "fd2['alignment_length'] = cvdataframe.aligned_sequence.str.len()\n",
        "fd2.alignment_length.hist(bins=30)\n",
        "plt.title('Distribution of alignment lengths')\n",
        "plt.xlabel('Alignment length')\n",
        "plt.ylabel('Number of sequences')"
      ],
      "execution_count": 0,
      "outputs": [
        {
          "output_type": "execute_result",
          "data": {
            "text/plain": [
              "<matplotlib.text.Text at 0x251a52e2f98>"
            ]
          },
          "metadata": {
            "tags": []
          },
          "execution_count": 14
        },
        {
          "output_type": "display_data",
          "data": {
            "image/png": "[encoded data removed]",
            "text/plain": [
              "<matplotlib.figure.Figure at 0x251971a6c50>"
            ]
          },
          "metadata": {
            "tags": [],
            "needs_background": "light"
          }
        }
      ]
    },
    {
      "cell_type": "code",
      "metadata": {
        "colab_type": "code",
        "id": "MGPUfBADUQeo",
        "outputId": "3a185e58-6d08-49e2-8632-2aa79c2d975e",
        "colab": {}
      },
      "source": [
        "import seaborn as sns\n",
        "sns.violinplot(fd['alignment_length'])"
      ],
      "execution_count": 0,
      "outputs": [
        {
          "output_type": "execute_result",
          "data": {
            "text/plain": [
              "<matplotlib.axes._subplots.AxesSubplot at 0x251926946d8>"
            ]
          },
          "metadata": {
            "tags": []
          },
          "execution_count": 12
        },
        {
          "output_type": "display_data",
          "data": {
            "image/png": "[encoded data removed]",
            "text/plain": [
              "<matplotlib.figure.Figure at 0x25191e5eb00>"
            ]
          },
          "metadata": {
            "tags": [],
            "needs_background": "light"
          }
        }
      ]
    },
    {
      "cell_type": "code",
      "metadata": {
        "colab_type": "code",
        "id": "_oWUfiWcUQes",
        "outputId": "9641b8bb-0fef-4134-f8ce-5c4f807ba025",
        "colab": {}
      },
      "source": [
        "from sklearn.feature_extraction.text import CountVectorizer\n",
        "vect1=CountVectorizer()\n",
        "out1=vect1.fit_transform(totaldataframe['family_id'])\n",
        "features1=vect1.get_feature_names()\n",
        "counts1=out1.sum(axis=0)\n",
        "print('number of unique families are',len(features1))"
      ],
      "execution_count": 0,
      "outputs": [
        {
          "output_type": "stream",
          "text": [
            "number of unique families are 13562\n"
          ],
          "name": "stdout"
        }
      ]
    },
    {
      "cell_type": "code",
      "metadata": {
        "colab_type": "code",
        "id": "4mVd39M2UQew",
        "colab": {}
      },
      "source": [
        "from sklearn.feature_extraction.text import CountVectorizer\n",
        "vect=CountVectorizer()\n",
        "out=vect.fit_transform(totaldataframe['family_accession'])"
      ],
      "execution_count": 0,
      "outputs": []
    },
    {
      "cell_type": "code",
      "metadata": {
        "colab_type": "code",
        "id": "zRgt53IrUQez",
        "outputId": "c97b4b1a-90c0-438a-ba0b-70ad4781aac0",
        "colab": {}
      },
      "source": [
        "traincount=traindataframe1['family_accession'].value_counts()\n",
        "plt.plot(traincount.values)"
      ],
      "execution_count": 0,
      "outputs": [
        {
          "output_type": "execute_result",
          "data": {
            "text/plain": [
              "[<matplotlib.lines.Line2D at 0x25199e09978>]"
            ]
          },
          "metadata": {
            "tags": []
          },
          "execution_count": 20
        },
        {
          "output_type": "display_data",
          "data": {
            "image/png": "[encoded data removed]",
            "text/plain": [
              "<matplotlib.figure.Figure at 0x251999597f0>"
            ]
          },
          "metadata": {
            "tags": [],
            "needs_background": "light"
          }
        }
      ]
    },
    {
      "cell_type": "code",
      "metadata": {
        "colab_type": "code",
        "id": "2f1xecd5UQe4",
        "colab": {}
      },
      "source": [
        "lengthofsequence=traindataframe['sequence'].apply(lambda x: len(x))"
      ],
      "execution_count": 0,
      "outputs": []
    },
    {
      "cell_type": "code",
      "metadata": {
        "colab_type": "code",
        "id": "gncVYcEAUQe8",
        "outputId": "3c6afd55-534d-452f-dbfa-c849e81018a7",
        "colab": {}
      },
      "source": [
        "print(lengthofsequence.values)"
      ],
      "execution_count": 0,
      "outputs": [
        {
          "output_type": "stream",
          "text": [
            "[169  86  46 ...  65  90  57]\n"
          ],
          "name": "stdout"
        }
      ]
    },
    {
      "cell_type": "code",
      "metadata": {
        "colab_type": "code",
        "id": "GYATZhu9UQfC",
        "outputId": "e9348edf-6bf1-4be1-d70d-7f334e89625a",
        "colab": {}
      },
      "source": [
        "import seaborn as sns\n",
        "plt.figure(figsize=(10,10))\n",
        "sns.distplot(lengthofsequence.values,hist=True,bins=100)\n",
        "plt.xlabel('length of sequence')\n",
        "plt.ylabel('occurence')"
      ],
      "execution_count": 0,
      "outputs": [
        {
          "output_type": "execute_result",
          "data": {
            "text/plain": [
              "<matplotlib.text.Text at 0x251a2af2c88>"
            ]
          },
          "metadata": {
            "tags": []
          },
          "execution_count": 36
        },
        {
          "output_type": "display_data",
          "data": {
            "image/png": "[encoded data removed]",
            "text/plain": [
              "<matplotlib.figure.Figure at 0x2519ed1f2e8>"
            ]
          },
          "metadata": {
            "tags": [],
            "needs_background": "light"
          }
        }
      ]
    },
    {
      "cell_type": "code",
      "metadata": {
        "id": "3137S8jdJkYx",
        "colab_type": "code",
        "colab": {}
      },
      "source": [
        "import string\n",
        "def string_vectorizer(strng, alphabet=string.ascii_lowercase):\n",
        "    \n",
        "    vector = [[0 if char != letter else 1 for char in alphabet] \n",
        "                  for letter in strng]\n",
        "    vector1=np.array(vector)\n",
        "    shapeout=vector1.shape[0]\n",
        "    diff=200-shapeout\n",
        "    reshapearray=np.zeros((diff,26),dtype=int)\n",
        "    lenarray=len(strng)\n",
        "    finalarray=np.vstack((vector,reshapearray,newarray))\n",
        "    return finalarray\n",
        "\n",
        "    "
      ],
      "execution_count": 0,
      "outputs": []
    },
    {
      "cell_type": "code",
      "metadata": {
        "id": "Wng5F_5wCcRs",
        "colab_type": "code",
        "colab": {}
      },
      "source": [
        "trainarray1=[]\n",
        "for sen in traindataframe['sequence']:\n",
        "   trainarray1.append(string_vectorizer(sen.lower()))\n",
        " \n",
        "    "
      ],
      "execution_count": 0,
      "outputs": []
    },
    {
      "cell_type": "code",
      "metadata": {
        "id": "zNHFK88KJkY7",
        "colab_type": "code",
        "colab": {}
      },
      "source": [
        "testarray1=[]\n",
        "for sen in testdataframe['sequence']:\n",
        "    testarray1.append(string_vectorizer(sen.lower()))\n",
        "\n",
        "    "
      ],
      "execution_count": 0,
      "outputs": []
    },
    {
      "cell_type": "code",
      "metadata": {
        "id": "1nD7tY9tJkZE",
        "colab_type": "code",
        "colab": {}
      },
      "source": [
        "cvarray1=[]\n",
        "for sen in cvdataframe['sequence']:\n",
        "    cvarray1.append(string_vectorizer(sen.lower()))\n",
        "       "
      ],
      "execution_count": 0,
      "outputs": []
    },
    {
      "cell_type": "code",
      "metadata": {
        "id": "KaYk4H0DJkZG",
        "colab_type": "code",
        "colab": {}
      },
      "source": [
        "trainarray1=np.array(trainarray1).reshape(130000,200,26)"
      ],
      "execution_count": 0,
      "outputs": []
    },
    {
      "cell_type": "code",
      "metadata": {
        "id": "vtyNupfStD9t",
        "colab_type": "code",
        "colab": {}
      },
      "source": [
        "testarray1=np.array(testarray1).reshape(20000,200,26)\n",
        "cvarray1=np.array(cvarray1).reshape(20000,200,26)"
      ],
      "execution_count": 0,
      "outputs": []
    },
    {
      "cell_type": "code",
      "metadata": {
        "id": "MCNVkDYnJkZU",
        "colab_type": "code",
        "colab": {}
      },
      "source": [
        "totaldataframe=pd.concat([traindataframe,testdataframe],axis=0)"
      ],
      "execution_count": 0,
      "outputs": []
    },
    {
      "cell_type": "code",
      "metadata": {
        "id": "G-bFmknuOCEG",
        "colab_type": "code",
        "colab": {}
      },
      "source": [
        "from sklearn.feature_extraction.text import CountVectorizer\n",
        "vect=CountVectorizer()\n",
        "out=vect.fit_transform(totaldataframe['family_accession'])\n",
        "features=vect.get_feature_names()\n",
        "counts=out.sum(axis=0)\n"
      ],
      "execution_count": 0,
      "outputs": []
    },
    {
      "cell_type": "code",
      "metadata": {
        "id": "E8crk5xsJkZd",
        "colab_type": "code",
        "colab": {}
      },
      "source": [
        "from keras.models import Sequential\n",
        "from keras.layers import Flatten,Activation,Dense,Dropout\n",
        "from keras.utils import np_utils"
      ],
      "execution_count": 0,
      "outputs": []
    },
    {
      "cell_type": "code",
      "metadata": {
        "id": "LfUSW0TbJkZj",
        "colab_type": "code",
        "colab": {}
      },
      "source": [
        "from sklearn.preprocessing import LabelEncoder\n",
        "label1=LabelEncoder()\n",
        "label1.fit(totaldataframe['family_accession'])\n",
        "trainy=label1.transform(traindataframe['family_accession'])\n",
        "testy=label1.transform(testdataframe['family_accession'])\n",
        "cvy=label1.transform(cvdataframe['family_accession'])"
      ],
      "execution_count": 0,
      "outputs": []
    },
    {
      "cell_type": "code",
      "metadata": {
        "colab_type": "code",
        "id": "jbevjrFySQ4r",
        "colab": {}
      },
      "source": [
        "# this function is used draw Binary Crossentropy Loss VS No. of epochs plot\n",
        "def plt_dynamic(x, vy, ty):\n",
        "  plt.figure(figsize=(10,5))\n",
        "  plt.plot(x, vy, 'b', label=\"Validation Loss\")\n",
        "  plt.plot(x, ty, 'r', label=\"Train Loss\")\n",
        "  plt.xlabel('Epochs') \n",
        "  plt.ylabel('Binary Crossentropy Loss')\n",
        "  plt.title('\\nBinary Crossentropy Loss VS Epochs')\n",
        "  plt.legend()\n",
        "  plt.grid()\n",
        "  plt.show()"
      ],
      "execution_count": 0,
      "outputs": []
    },
    {
      "cell_type": "code",
      "metadata": {
        "id": "QxkPTvE26gOb",
        "colab_type": "code",
        "colab": {
          "base_uri": "https://localhost:8080/",
          "height": 2511
        },
        "outputId": "fce4ee9c-4cff-4920-cf5c-8dc254c14048"
      },
      "source": [
        "import keras as keras\n",
        "import tensorflow as tf\n",
        "from keras.models import Sequential\n",
        "from keras.layers import Dense,Dropout,Flatten,BatchNormalization\n",
        "from keras.layers import Conv1D,MaxPooling1D\n",
        "model=Sequential()\n",
        "model.add(Conv1D(100,kernel_size=(21),activation='relu',input_shape=(200,26)))\n",
        "model.add(MaxPooling1D(pool_size=2))\n",
        "model.add(Dropout(0.5))\n",
        "model.add(BatchNormalization())\n",
        "model.add(Conv1D(250,26,activation='relu'))\n",
        "model.add(MaxPooling1D(pool_size=4))\n",
        "model.add(Dropout(0.6))\n",
        "model.add(BatchNormalization())\n",
        "model.add(Flatten())\n",
        "model.add(Dense(11180,activation='softmax'))\n",
        "model.compile(loss=keras.losses.sparse_categorical_crossentropy,optimizer='adam',metrics=['accuracy'])\n",
        "history=model.fit(trainarray1,trainy,epochs=70,validation_data=[testarray1,testy],batch_size=128) \n"
      ],
      "execution_count": 24,
      "outputs": [
        {
          "output_type": "stream",
          "text": [
            "W0618 18:56:06.568818 139743238666112 nn_ops.py:4224] Large dropout rate: 0.6 (>0.5). In TensorFlow 2.x, dropout() uses dropout rate instead of keep_prob. Please ensure that this is intended.\n",
            "W0618 18:56:06.841839 139743238666112 deprecation.py:323] From /usr/local/lib/python3.6/dist-packages/tensorflow/python/ops/math_grad.py:1250: add_dispatch_support.<locals>.wrapper (from tensorflow.python.ops.array_ops) is deprecated and will be removed in a future version.\n",
            "Instructions for updating:\n",
            "Use tf.where in 2.0, which has the same broadcast rule as np.where\n"
          ],
          "name": "stderr"
        },
        {
          "output_type": "stream",
          "text": [
            "Train on 130000 samples, validate on 20000 samples\n",
            "Epoch 1/70\n",
            "130000/130000 [==============================] - 121s 933us/step - loss: 5.7690 - acc: 0.2431 - val_loss: 4.1239 - val_acc: 0.3526\n",
            "Epoch 2/70\n",
            "130000/130000 [==============================] - 113s 870us/step - loss: 2.1282 - acc: 0.6275 - val_loss: 3.1806 - val_acc: 0.4644\n",
            "Epoch 3/70\n",
            "130000/130000 [==============================] - 113s 869us/step - loss: 1.0520 - acc: 0.7813 - val_loss: 1.9398 - val_acc: 0.6472\n",
            "Epoch 4/70\n",
            "130000/130000 [==============================] - 113s 870us/step - loss: 0.6432 - acc: 0.8529 - val_loss: 1.4035 - val_acc: 0.7410\n",
            "Epoch 5/70\n",
            "130000/130000 [==============================] - 113s 870us/step - loss: 0.4576 - acc: 0.8898 - val_loss: 1.2556 - val_acc: 0.7703\n",
            "Epoch 6/70\n",
            "130000/130000 [==============================] - 113s 869us/step - loss: 0.3547 - acc: 0.9109 - val_loss: 0.8780 - val_acc: 0.8448\n",
            "Epoch 7/70\n",
            "130000/130000 [==============================] - 113s 872us/step - loss: 0.2904 - acc: 0.9263 - val_loss: 0.8866 - val_acc: 0.8447\n",
            "Epoch 8/70\n",
            "130000/130000 [==============================] - 113s 871us/step - loss: 0.2575 - acc: 0.9338 - val_loss: 0.8659 - val_acc: 0.8517\n",
            "Epoch 9/70\n",
            "130000/130000 [==============================] - 113s 872us/step - loss: 0.2224 - acc: 0.9425 - val_loss: 0.7825 - val_acc: 0.8648\n",
            "Epoch 10/70\n",
            "130000/130000 [==============================] - 113s 872us/step - loss: 0.2035 - acc: 0.9464 - val_loss: 0.7975 - val_acc: 0.8652\n",
            "Epoch 11/70\n",
            "130000/130000 [==============================] - 113s 871us/step - loss: 0.1886 - acc: 0.9511 - val_loss: 0.7368 - val_acc: 0.8810\n",
            "Epoch 12/70\n",
            "130000/130000 [==============================] - 113s 871us/step - loss: 0.1727 - acc: 0.9547 - val_loss: 0.7894 - val_acc: 0.8694\n",
            "Epoch 13/70\n",
            "130000/130000 [==============================] - 113s 870us/step - loss: 0.1663 - acc: 0.9571 - val_loss: 0.7784 - val_acc: 0.8756\n",
            "Epoch 14/70\n",
            "130000/130000 [==============================] - 113s 867us/step - loss: 0.1540 - acc: 0.9604 - val_loss: 0.7448 - val_acc: 0.8809\n",
            "Epoch 15/70\n",
            "130000/130000 [==============================] - 113s 869us/step - loss: 0.1495 - acc: 0.9616 - val_loss: 0.7589 - val_acc: 0.8790\n",
            "Epoch 16/70\n",
            "130000/130000 [==============================] - 113s 867us/step - loss: 0.1390 - acc: 0.9637 - val_loss: 0.7803 - val_acc: 0.8771\n",
            "Epoch 17/70\n",
            "130000/130000 [==============================] - 113s 867us/step - loss: 0.1355 - acc: 0.9648 - val_loss: 0.7963 - val_acc: 0.8770\n",
            "Epoch 18/70\n",
            "130000/130000 [==============================] - 113s 867us/step - loss: 0.1337 - acc: 0.9662 - val_loss: 0.7456 - val_acc: 0.8835\n",
            "Epoch 19/70\n",
            "130000/130000 [==============================] - 113s 866us/step - loss: 0.1237 - acc: 0.9687 - val_loss: 0.8482 - val_acc: 0.8694\n",
            "Epoch 20/70\n",
            "130000/130000 [==============================] - 113s 866us/step - loss: 0.1180 - acc: 0.9699 - val_loss: 0.8330 - val_acc: 0.8685\n",
            "Epoch 21/70\n",
            "130000/130000 [==============================] - 113s 870us/step - loss: 0.1180 - acc: 0.9696 - val_loss: 0.8984 - val_acc: 0.8591\n",
            "Epoch 22/70\n",
            "130000/130000 [==============================] - 113s 872us/step - loss: 0.1113 - acc: 0.9716 - val_loss: 0.8394 - val_acc: 0.8720\n",
            "Epoch 23/70\n",
            "130000/130000 [==============================] - 113s 872us/step - loss: 0.1076 - acc: 0.9731 - val_loss: 0.8682 - val_acc: 0.8674\n",
            "Epoch 24/70\n",
            "130000/130000 [==============================] - 114s 874us/step - loss: 0.1038 - acc: 0.9737 - val_loss: 0.7545 - val_acc: 0.8857\n",
            "Epoch 25/70\n",
            "130000/130000 [==============================] - 113s 868us/step - loss: 0.1023 - acc: 0.9740 - val_loss: 0.7933 - val_acc: 0.8801\n",
            "Epoch 26/70\n",
            "130000/130000 [==============================] - 113s 873us/step - loss: 0.0984 - acc: 0.9751 - val_loss: 0.8213 - val_acc: 0.8781\n",
            "Epoch 27/70\n",
            "130000/130000 [==============================] - 113s 872us/step - loss: 0.0970 - acc: 0.9758 - val_loss: 0.8161 - val_acc: 0.8785\n",
            "Epoch 28/70\n",
            "130000/130000 [==============================] - 113s 869us/step - loss: 0.0951 - acc: 0.9758 - val_loss: 0.8145 - val_acc: 0.8796\n",
            "Epoch 29/70\n",
            "130000/130000 [==============================] - 113s 866us/step - loss: 0.0908 - acc: 0.9766 - val_loss: 0.8507 - val_acc: 0.8701\n",
            "Epoch 30/70\n",
            "130000/130000 [==============================] - 113s 866us/step - loss: 0.0907 - acc: 0.9771 - val_loss: 0.8163 - val_acc: 0.8780\n",
            "Epoch 31/70\n",
            "130000/130000 [==============================] - 113s 866us/step - loss: 0.0864 - acc: 0.9782 - val_loss: 0.8379 - val_acc: 0.8741\n",
            "Epoch 32/70\n",
            "130000/130000 [==============================] - 113s 865us/step - loss: 0.0850 - acc: 0.9784 - val_loss: 0.7650 - val_acc: 0.8848\n",
            "Epoch 33/70\n",
            "130000/130000 [==============================] - 112s 865us/step - loss: 0.0808 - acc: 0.9793 - val_loss: 0.8455 - val_acc: 0.8759\n",
            "Epoch 34/70\n",
            "130000/130000 [==============================] - 113s 866us/step - loss: 0.0789 - acc: 0.9799 - val_loss: 0.7777 - val_acc: 0.8846\n",
            "Epoch 35/70\n",
            "130000/130000 [==============================] - 113s 865us/step - loss: 0.0778 - acc: 0.9804 - val_loss: 0.8512 - val_acc: 0.8707\n",
            "Epoch 36/70\n",
            "130000/130000 [==============================] - 112s 865us/step - loss: 0.0760 - acc: 0.9809 - val_loss: 0.7819 - val_acc: 0.8850\n",
            "Epoch 37/70\n",
            "130000/130000 [==============================] - 112s 865us/step - loss: 0.0748 - acc: 0.9811 - val_loss: 0.8929 - val_acc: 0.8682\n",
            "Epoch 38/70\n",
            "130000/130000 [==============================] - 113s 866us/step - loss: 0.0755 - acc: 0.9810 - val_loss: 0.8348 - val_acc: 0.8783\n",
            "Epoch 39/70\n",
            "130000/130000 [==============================] - 112s 865us/step - loss: 0.0723 - acc: 0.9816 - val_loss: 0.8440 - val_acc: 0.8764\n",
            "Epoch 40/70\n",
            "130000/130000 [==============================] - 113s 867us/step - loss: 0.0711 - acc: 0.9820 - val_loss: 0.8757 - val_acc: 0.8721\n",
            "Epoch 41/70\n",
            "130000/130000 [==============================] - 112s 864us/step - loss: 0.0699 - acc: 0.9827 - val_loss: 0.8580 - val_acc: 0.8770\n",
            "Epoch 42/70\n",
            "130000/130000 [==============================] - 112s 865us/step - loss: 0.0693 - acc: 0.9823 - val_loss: 0.8636 - val_acc: 0.8764\n",
            "Epoch 43/70\n",
            "130000/130000 [==============================] - 112s 865us/step - loss: 0.0662 - acc: 0.9835 - val_loss: 0.8575 - val_acc: 0.8759\n",
            "Epoch 44/70\n",
            "130000/130000 [==============================] - 113s 866us/step - loss: 0.0658 - acc: 0.9833 - val_loss: 0.7781 - val_acc: 0.8868\n",
            "Epoch 45/70\n",
            "130000/130000 [==============================] - 113s 866us/step - loss: 0.0644 - acc: 0.9833 - val_loss: 0.8697 - val_acc: 0.8740\n",
            "Epoch 46/70\n",
            "130000/130000 [==============================] - 112s 865us/step - loss: 0.0621 - acc: 0.9840 - val_loss: 0.8078 - val_acc: 0.8831\n",
            "Epoch 47/70\n",
            "130000/130000 [==============================] - 112s 864us/step - loss: 0.0592 - acc: 0.9848 - val_loss: 0.7940 - val_acc: 0.8854\n",
            "Epoch 48/70\n",
            "130000/130000 [==============================] - 113s 866us/step - loss: 0.0597 - acc: 0.9847 - val_loss: 0.7380 - val_acc: 0.8949\n",
            "Epoch 49/70\n",
            "130000/130000 [==============================] - 112s 865us/step - loss: 0.0624 - acc: 0.9842 - val_loss: 0.8336 - val_acc: 0.8794\n",
            "Epoch 50/70\n",
            "130000/130000 [==============================] - 112s 865us/step - loss: 0.0579 - acc: 0.9853 - val_loss: 0.7954 - val_acc: 0.8854\n",
            "Epoch 51/70\n",
            "130000/130000 [==============================] - 112s 865us/step - loss: 0.0574 - acc: 0.9853 - val_loss: 0.8689 - val_acc: 0.8755\n",
            "Epoch 52/70\n",
            "130000/130000 [==============================] - 112s 865us/step - loss: 0.0566 - acc: 0.9857 - val_loss: 0.8988 - val_acc: 0.8711\n",
            "Epoch 53/70\n",
            "130000/130000 [==============================] - 113s 865us/step - loss: 0.0555 - acc: 0.9857 - val_loss: 0.8346 - val_acc: 0.8800\n",
            "Epoch 54/70\n",
            "130000/130000 [==============================] - 112s 865us/step - loss: 0.0530 - acc: 0.9862 - val_loss: 1.0208 - val_acc: 0.8511\n",
            "Epoch 55/70\n",
            "130000/130000 [==============================] - 112s 864us/step - loss: 0.0526 - acc: 0.9864 - val_loss: 0.7981 - val_acc: 0.8838\n",
            "Epoch 56/70\n",
            "130000/130000 [==============================] - 112s 864us/step - loss: 0.0525 - acc: 0.9864 - val_loss: 0.8352 - val_acc: 0.8786\n",
            "Epoch 57/70\n",
            "130000/130000 [==============================] - 113s 865us/step - loss: 0.0524 - acc: 0.9867 - val_loss: 0.8263 - val_acc: 0.8814\n",
            "Epoch 58/70\n",
            "130000/130000 [==============================] - 112s 864us/step - loss: 0.0519 - acc: 0.9862 - val_loss: 0.9964 - val_acc: 0.8572\n",
            "Epoch 59/70\n",
            "130000/130000 [==============================] - 113s 866us/step - loss: 0.0525 - acc: 0.9867 - val_loss: 0.7538 - val_acc: 0.8932\n",
            "Epoch 60/70\n",
            "130000/130000 [==============================] - 112s 865us/step - loss: 0.0501 - acc: 0.9872 - val_loss: 0.8136 - val_acc: 0.8853\n",
            "Epoch 61/70\n",
            "130000/130000 [==============================] - 113s 865us/step - loss: 0.0504 - acc: 0.9870 - val_loss: 0.8633 - val_acc: 0.8766\n",
            "Epoch 62/70\n",
            "130000/130000 [==============================] - 112s 865us/step - loss: 0.0490 - acc: 0.9877 - val_loss: 0.7601 - val_acc: 0.8905\n",
            "Epoch 63/70\n",
            "130000/130000 [==============================] - 113s 866us/step - loss: 0.0474 - acc: 0.9877 - val_loss: 0.8829 - val_acc: 0.8750\n",
            "Epoch 64/70\n",
            "130000/130000 [==============================] - 112s 865us/step - loss: 0.0489 - acc: 0.9876 - val_loss: 0.7767 - val_acc: 0.8882\n",
            "Epoch 65/70\n",
            "130000/130000 [==============================] - 112s 865us/step - loss: 0.0490 - acc: 0.9874 - val_loss: 0.8346 - val_acc: 0.8799\n",
            "Epoch 66/70\n",
            "130000/130000 [==============================] - 112s 864us/step - loss: 0.0464 - acc: 0.9882 - val_loss: 0.8580 - val_acc: 0.8760\n",
            "Epoch 67/70\n",
            "130000/130000 [==============================] - 112s 865us/step - loss: 0.0457 - acc: 0.9885 - val_loss: 0.8592 - val_acc: 0.8777\n",
            "Epoch 68/70\n",
            "130000/130000 [==============================] - 112s 865us/step - loss: 0.0467 - acc: 0.9882 - val_loss: 0.8854 - val_acc: 0.8767\n",
            "Epoch 69/70\n",
            "130000/130000 [==============================] - 112s 864us/step - loss: 0.0470 - acc: 0.9879 - val_loss: 0.7671 - val_acc: 0.8929\n",
            "Epoch 70/70\n",
            "130000/130000 [==============================] - 112s 865us/step - loss: 0.0448 - acc: 0.9887 - val_loss: 0.7847 - val_acc: 0.8873\n"
          ],
          "name": "stdout"
        }
      ]
    },
    {
      "cell_type": "code",
      "metadata": {
        "id": "61lrHBaL7FoZ",
        "colab_type": "code",
        "colab": {
          "base_uri": "https://localhost:8080/",
          "height": 2440
        },
        "outputId": "b43edb29-7667-47db-f1db-6b0ab8cbe2ba"
      },
      "source": [
        "import keras as keras\n",
        "import tensorflow as tf\n",
        "from keras.models import Sequential\n",
        "from keras.layers import Dense,Dropout,Flatten,BatchNormalization\n",
        "from keras.layers import Conv1D,MaxPooling1D\n",
        "from keras.layers import LSTM\n",
        "model=Sequential()\n",
        "model.add(Conv1D(300,kernel_size=(21),activation='relu',input_shape=(200,26)))\n",
        "model.add(MaxPooling1D(pool_size=2))\n",
        "model.add(Dropout(0.4))\n",
        "model.add(BatchNormalization())\n",
        "model.add(Conv1D(250,26,activation='relu'))\n",
        "model.add(MaxPooling1D(pool_size=4))\n",
        "model.add(Dropout(0.6))\n",
        "model.add(BatchNormalization())\n",
        "model.add(LSTM(300,dropout=0.4,return_sequences=True))\n",
        "model.add(Flatten())\n",
        "model.add(Dense(11180,activation='softmax'))\n",
        "model.compile(loss=keras.losses.sparse_categorical_crossentropy,optimizer='adam',metrics=['accuracy'])\n",
        "history=model.fit(trainarray1,trainy,epochs=70,validation_data=[testarray1,testy],batch_size=128) \n"
      ],
      "execution_count": 23,
      "outputs": [
        {
          "output_type": "stream",
          "text": [
            "W0619 05:54:02.029180 139960010635136 nn_ops.py:4224] Large dropout rate: 0.6 (>0.5). In TensorFlow 2.x, dropout() uses dropout rate instead of keep_prob. Please ensure that this is intended.\n"
          ],
          "name": "stderr"
        },
        {
          "output_type": "stream",
          "text": [
            "Train on 130000 samples, validate on 20000 samples\n",
            "Epoch 1/70\n",
            "130000/130000 [==============================] - 118s 904us/step - loss: 4.9852 - acc: 0.2799 - val_loss: 1.9962 - val_acc: 0.6245\n",
            "Epoch 2/70\n",
            "130000/130000 [==============================] - 114s 880us/step - loss: 1.6706 - acc: 0.6640 - val_loss: 1.0969 - val_acc: 0.7780\n",
            "Epoch 3/70\n",
            "130000/130000 [==============================] - 114s 880us/step - loss: 0.7416 - acc: 0.8196 - val_loss: 0.9559 - val_acc: 0.8147\n",
            "Epoch 4/70\n",
            "130000/130000 [==============================] - 114s 880us/step - loss: 0.4538 - acc: 0.8806 - val_loss: 0.9333 - val_acc: 0.8303\n",
            "Epoch 5/70\n",
            "130000/130000 [==============================] - 114s 879us/step - loss: 0.3307 - acc: 0.9079 - val_loss: 0.8951 - val_acc: 0.8394\n",
            "Epoch 6/70\n",
            "130000/130000 [==============================] - 114s 880us/step - loss: 0.2645 - acc: 0.9257 - val_loss: 0.8944 - val_acc: 0.8469\n",
            "Epoch 7/70\n",
            "130000/130000 [==============================] - 114s 878us/step - loss: 0.2243 - acc: 0.9352 - val_loss: 0.8788 - val_acc: 0.8512\n",
            "Epoch 8/70\n",
            "130000/130000 [==============================] - 115s 881us/step - loss: 0.1914 - acc: 0.9447 - val_loss: 0.8882 - val_acc: 0.8536\n",
            "Epoch 9/70\n",
            "130000/130000 [==============================] - 114s 880us/step - loss: 0.1705 - acc: 0.9497 - val_loss: 0.8974 - val_acc: 0.8546\n",
            "Epoch 10/70\n",
            "130000/130000 [==============================] - 114s 877us/step - loss: 0.1536 - acc: 0.9552 - val_loss: 0.8856 - val_acc: 0.8614\n",
            "Epoch 11/70\n",
            "130000/130000 [==============================] - 114s 879us/step - loss: 0.1377 - acc: 0.9590 - val_loss: 0.8921 - val_acc: 0.8627\n",
            "Epoch 12/70\n",
            "130000/130000 [==============================] - 114s 877us/step - loss: 0.1257 - acc: 0.9629 - val_loss: 0.9089 - val_acc: 0.8601\n",
            "Epoch 13/70\n",
            "130000/130000 [==============================] - 114s 876us/step - loss: 0.1162 - acc: 0.9655 - val_loss: 0.9008 - val_acc: 0.8655\n",
            "Epoch 14/70\n",
            "130000/130000 [==============================] - 114s 880us/step - loss: 0.1102 - acc: 0.9676 - val_loss: 0.9064 - val_acc: 0.8652\n",
            "Epoch 15/70\n",
            "130000/130000 [==============================] - 114s 878us/step - loss: 0.1007 - acc: 0.9701 - val_loss: 0.9010 - val_acc: 0.8659\n",
            "Epoch 16/70\n",
            "130000/130000 [==============================] - 114s 879us/step - loss: 0.0981 - acc: 0.9709 - val_loss: 0.9005 - val_acc: 0.8691\n",
            "Epoch 17/70\n",
            "130000/130000 [==============================] - 115s 881us/step - loss: 0.0889 - acc: 0.9737 - val_loss: 0.9129 - val_acc: 0.8660\n",
            "Epoch 18/70\n",
            "130000/130000 [==============================] - 114s 880us/step - loss: 0.0852 - acc: 0.9748 - val_loss: 0.9198 - val_acc: 0.8697\n",
            "Epoch 19/70\n",
            "130000/130000 [==============================] - 114s 879us/step - loss: 0.0837 - acc: 0.9756 - val_loss: 0.9320 - val_acc: 0.8696\n",
            "Epoch 20/70\n",
            "130000/130000 [==============================] - 114s 875us/step - loss: 0.0798 - acc: 0.9764 - val_loss: 0.9294 - val_acc: 0.8719\n",
            "Epoch 21/70\n",
            "130000/130000 [==============================] - 114s 876us/step - loss: 0.0751 - acc: 0.9778 - val_loss: 0.9433 - val_acc: 0.8716\n",
            "Epoch 22/70\n",
            "130000/130000 [==============================] - 114s 879us/step - loss: 0.0736 - acc: 0.9779 - val_loss: 0.9338 - val_acc: 0.8727\n",
            "Epoch 23/70\n",
            "130000/130000 [==============================] - 114s 875us/step - loss: 0.0705 - acc: 0.9793 - val_loss: 0.9497 - val_acc: 0.8718\n",
            "Epoch 24/70\n",
            "130000/130000 [==============================] - 114s 876us/step - loss: 0.0670 - acc: 0.9799 - val_loss: 0.9546 - val_acc: 0.8720\n",
            "Epoch 25/70\n",
            "130000/130000 [==============================] - 114s 877us/step - loss: 0.0644 - acc: 0.9809 - val_loss: 0.9439 - val_acc: 0.8721\n",
            "Epoch 26/70\n",
            "130000/130000 [==============================] - 114s 876us/step - loss: 0.0614 - acc: 0.9820 - val_loss: 0.9518 - val_acc: 0.8734\n",
            "Epoch 27/70\n",
            "130000/130000 [==============================] - 114s 876us/step - loss: 0.0600 - acc: 0.9821 - val_loss: 0.9610 - val_acc: 0.8721\n",
            "Epoch 28/70\n",
            "130000/130000 [==============================] - 114s 875us/step - loss: 0.0630 - acc: 0.9817 - val_loss: 0.9718 - val_acc: 0.8720\n",
            "Epoch 29/70\n",
            "130000/130000 [==============================] - 114s 877us/step - loss: 0.0584 - acc: 0.9830 - val_loss: 0.9599 - val_acc: 0.8741\n",
            "Epoch 30/70\n",
            "130000/130000 [==============================] - 114s 880us/step - loss: 0.0548 - acc: 0.9841 - val_loss: 0.9793 - val_acc: 0.8723\n",
            "Epoch 31/70\n",
            "130000/130000 [==============================] - 115s 882us/step - loss: 0.0545 - acc: 0.9844 - val_loss: 0.9744 - val_acc: 0.8738\n",
            "Epoch 32/70\n",
            "130000/130000 [==============================] - 115s 882us/step - loss: 0.0547 - acc: 0.9840 - val_loss: 0.9775 - val_acc: 0.8730\n",
            "Epoch 33/70\n",
            "130000/130000 [==============================] - 115s 884us/step - loss: 0.0526 - acc: 0.9846 - val_loss: 0.9838 - val_acc: 0.8720\n",
            "Epoch 34/70\n",
            "130000/130000 [==============================] - 115s 882us/step - loss: 0.0527 - acc: 0.9847 - val_loss: 0.9818 - val_acc: 0.8726\n",
            "Epoch 35/70\n",
            "130000/130000 [==============================] - 115s 882us/step - loss: 0.0518 - acc: 0.9850 - val_loss: 0.9866 - val_acc: 0.8749\n",
            "Epoch 36/70\n",
            "130000/130000 [==============================] - 115s 882us/step - loss: 0.0501 - acc: 0.9855 - val_loss: 0.9820 - val_acc: 0.8739\n",
            "Epoch 37/70\n",
            "130000/130000 [==============================] - 115s 881us/step - loss: 0.0499 - acc: 0.9856 - val_loss: 0.9883 - val_acc: 0.8750\n",
            "Epoch 38/70\n",
            "130000/130000 [==============================] - 115s 883us/step - loss: 0.0464 - acc: 0.9864 - val_loss: 1.0078 - val_acc: 0.8733\n",
            "Epoch 39/70\n",
            "130000/130000 [==============================] - 115s 882us/step - loss: 0.0475 - acc: 0.9864 - val_loss: 0.9859 - val_acc: 0.8753\n",
            "Epoch 40/70\n",
            "130000/130000 [==============================] - 115s 882us/step - loss: 0.0457 - acc: 0.9868 - val_loss: 0.9909 - val_acc: 0.8761\n",
            "Epoch 41/70\n",
            "130000/130000 [==============================] - 115s 881us/step - loss: 0.0475 - acc: 0.9865 - val_loss: 0.9938 - val_acc: 0.8768\n",
            "Epoch 42/70\n",
            "130000/130000 [==============================] - 115s 882us/step - loss: 0.0453 - acc: 0.9872 - val_loss: 0.9964 - val_acc: 0.8764\n",
            "Epoch 43/70\n",
            "130000/130000 [==============================] - 115s 882us/step - loss: 0.0450 - acc: 0.9872 - val_loss: 0.9944 - val_acc: 0.8760\n",
            "Epoch 44/70\n",
            "130000/130000 [==============================] - 115s 884us/step - loss: 0.0420 - acc: 0.9881 - val_loss: 0.9966 - val_acc: 0.8755\n",
            "Epoch 45/70\n",
            "130000/130000 [==============================] - 115s 883us/step - loss: 0.0408 - acc: 0.9886 - val_loss: 0.9931 - val_acc: 0.8768\n",
            "Epoch 46/70\n",
            "130000/130000 [==============================] - 115s 882us/step - loss: 0.0418 - acc: 0.9880 - val_loss: 0.9936 - val_acc: 0.8774\n",
            "Epoch 47/70\n",
            "130000/130000 [==============================] - 115s 882us/step - loss: 0.0388 - acc: 0.9888 - val_loss: 1.0055 - val_acc: 0.8751\n",
            "Epoch 48/70\n",
            "130000/130000 [==============================] - 115s 882us/step - loss: 0.0414 - acc: 0.9884 - val_loss: 0.9978 - val_acc: 0.8783\n",
            "Epoch 49/70\n",
            "130000/130000 [==============================] - 115s 884us/step - loss: 0.0387 - acc: 0.9893 - val_loss: 1.0141 - val_acc: 0.8774\n",
            "Epoch 50/70\n",
            "130000/130000 [==============================] - 115s 884us/step - loss: 0.0405 - acc: 0.9888 - val_loss: 1.0102 - val_acc: 0.8760\n",
            "Epoch 51/70\n",
            "130000/130000 [==============================] - 115s 882us/step - loss: 0.0400 - acc: 0.9889 - val_loss: 1.0148 - val_acc: 0.8767\n",
            "Epoch 52/70\n",
            "130000/130000 [==============================] - 115s 883us/step - loss: 0.0371 - acc: 0.9895 - val_loss: 1.0072 - val_acc: 0.8789\n",
            "Epoch 53/70\n",
            "130000/130000 [==============================] - 115s 882us/step - loss: 0.0375 - acc: 0.9896 - val_loss: 1.0324 - val_acc: 0.8762\n",
            "Epoch 54/70\n",
            "130000/130000 [==============================] - 115s 883us/step - loss: 0.0397 - acc: 0.9888 - val_loss: 1.0212 - val_acc: 0.8770\n",
            "Epoch 55/70\n",
            "130000/130000 [==============================] - 115s 883us/step - loss: 0.0376 - acc: 0.9896 - val_loss: 1.0132 - val_acc: 0.8767\n",
            "Epoch 56/70\n",
            "130000/130000 [==============================] - 115s 884us/step - loss: 0.0379 - acc: 0.9893 - val_loss: 1.0211 - val_acc: 0.8780\n",
            "Epoch 57/70\n",
            "130000/130000 [==============================] - 115s 884us/step - loss: 0.0375 - acc: 0.9895 - val_loss: 1.0294 - val_acc: 0.8768\n",
            "Epoch 58/70\n",
            "130000/130000 [==============================] - 115s 883us/step - loss: 0.0353 - acc: 0.9898 - val_loss: 1.0155 - val_acc: 0.8765\n",
            "Epoch 59/70\n",
            "130000/130000 [==============================] - 114s 880us/step - loss: 0.0355 - acc: 0.9902 - val_loss: 1.0221 - val_acc: 0.8764\n",
            "Epoch 60/70\n",
            "130000/130000 [==============================] - 115s 882us/step - loss: 0.0349 - acc: 0.9905 - val_loss: 1.0265 - val_acc: 0.8779\n",
            "Epoch 61/70\n",
            "130000/130000 [==============================] - 115s 882us/step - loss: 0.0355 - acc: 0.9902 - val_loss: 1.0188 - val_acc: 0.8773\n",
            "Epoch 62/70\n",
            "130000/130000 [==============================] - 115s 881us/step - loss: 0.0344 - acc: 0.9906 - val_loss: 1.0290 - val_acc: 0.8767\n",
            "Epoch 63/70\n",
            "130000/130000 [==============================] - 115s 882us/step - loss: 0.0333 - acc: 0.9909 - val_loss: 1.0305 - val_acc: 0.8785\n",
            "Epoch 64/70\n",
            "130000/130000 [==============================] - 115s 881us/step - loss: 0.0352 - acc: 0.9905 - val_loss: 1.0466 - val_acc: 0.8743\n",
            "Epoch 65/70\n",
            "130000/130000 [==============================] - 115s 883us/step - loss: 0.0347 - acc: 0.9904 - val_loss: 1.0349 - val_acc: 0.8759\n",
            "Epoch 66/70\n",
            "130000/130000 [==============================] - 114s 879us/step - loss: 0.0330 - acc: 0.9911 - val_loss: 1.0333 - val_acc: 0.8774\n",
            "Epoch 67/70\n",
            "130000/130000 [==============================] - 114s 880us/step - loss: 0.0332 - acc: 0.9908 - val_loss: 1.0315 - val_acc: 0.8770\n",
            "Epoch 68/70\n",
            "130000/130000 [==============================] - 114s 880us/step - loss: 0.0330 - acc: 0.9910 - val_loss: 1.0360 - val_acc: 0.8773\n",
            "Epoch 69/70\n",
            "130000/130000 [==============================] - 115s 881us/step - loss: 0.0320 - acc: 0.9916 - val_loss: 1.0224 - val_acc: 0.8786\n",
            "Epoch 70/70\n",
            "130000/130000 [==============================] - 114s 880us/step - loss: 0.0325 - acc: 0.9912 - val_loss: 1.0297 - val_acc: 0.8781\n"
          ],
          "name": "stdout"
        }
      ]
    },
    {
      "cell_type": "code",
      "metadata": {
        "id": "PitAOBw06ljF",
        "colab_type": "code",
        "colab": {
          "base_uri": "https://localhost:8080/",
          "height": 381
        },
        "outputId": "add1381d-4711-44f4-8c69-02bc685c39ff"
      },
      "source": [
        "import matplotlib.pyplot as plt\n",
        "scores = model.evaluate(testarray1,testy, verbose=0)\n",
        "print(\"Accuracy: %.2f%%\" % (scores[1]*100))\n",
        "\n",
        "# Test and train accuracy of the model\n",
        "model_3_test = scores[1]\n",
        "model_3_train = max(history.history['acc'])\n",
        "\n",
        "# Plotting Train and Test Loss VS no. of epochs\n",
        "# list of epoch numbers\n",
        "x = list(range(1,71))\n",
        "\n",
        "# Validation loss\n",
        "vy = history.history['val_loss']\n",
        "# Training loss\n",
        "ty = history.history['loss']\n",
        "\n",
        "# Calling the function to draw the plot\n",
        "plt_dynamic(x, vy, ty)"
      ],
      "execution_count": 24,
      "outputs": [
        {
          "output_type": "stream",
          "text": [
            "Accuracy: 87.81%\n"
          ],
          "name": "stdout"
        },
        {
          "output_type": "display_data",
          "data": {
            "image/png": "[encoded data removed]",
            "text/plain": [
              "<Figure size 720x360 with 1 Axes>"
            ]
          },
          "metadata": {
            "tags": []
          }
        }
      ]
    },
    {
      "cell_type": "code",
      "metadata": {
        "id": "zq7ATUqnyap_",
        "colab_type": "code",
        "colab": {
          "base_uri": "https://localhost:8080/",
          "height": 2457
        },
        "outputId": "dc5328d9-4fce-4fb4-fd64-b0f02d7199fa"
      },
      "source": [
        "import keras as keras\n",
        "import tensorflow as tf\n",
        "from keras.models import Sequential\n",
        "from keras.layers import Dense,Dropout,Flatten,BatchNormalization\n",
        "from keras.layers import Conv1D,MaxPooling1D\n",
        "from keras.layers import LSTM\n",
        "model=Sequential()\n",
        "model.add(Conv1D(300,kernel_size=(26),activation='relu',input_shape=(200,26)))\n",
        "model.add(MaxPooling1D(pool_size=2))\n",
        "model.add(Dropout(0.7))\n",
        "model.add(BatchNormalization())\n",
        "model.add(Conv1D(250,26,activation='relu'))\n",
        "model.add(MaxPooling1D(pool_size=4))\n",
        "model.add(Dropout(0.7))\n",
        "model.add(BatchNormalization())\n",
        "model.add(LSTM(500,dropout=0.4,return_sequences=True))\n",
        "model.add(BatchNormalization())\n",
        "model.add(Flatten())\n",
        "model.add(Dense(11180,activation='softmax'))\n",
        "model.compile(loss=keras.losses.sparse_categorical_crossentropy,optimizer='adam',metrics=['accuracy'])\n",
        "history=model.fit(trainarray1,trainy,epochs=70,validation_data=[testarray1,testy],batch_size=256) \n"
      ],
      "execution_count": 25,
      "outputs": [
        {
          "output_type": "stream",
          "text": [
            "W0619 08:12:08.018236 139960010635136 nn_ops.py:4224] Large dropout rate: 0.7 (>0.5). In TensorFlow 2.x, dropout() uses dropout rate instead of keep_prob. Please ensure that this is intended.\n",
            "W0619 08:12:08.141388 139960010635136 nn_ops.py:4224] Large dropout rate: 0.7 (>0.5). In TensorFlow 2.x, dropout() uses dropout rate instead of keep_prob. Please ensure that this is intended.\n"
          ],
          "name": "stderr"
        },
        {
          "output_type": "stream",
          "text": [
            "Train on 130000 samples, validate on 20000 samples\n",
            "Epoch 1/70\n",
            "130000/130000 [==============================] - 116s 894us/step - loss: 6.0865 - acc: 0.1738 - val_loss: 2.9649 - val_acc: 0.4763\n",
            "Epoch 2/70\n",
            "130000/130000 [==============================] - 112s 862us/step - loss: 2.6262 - acc: 0.5068 - val_loss: 1.6330 - val_acc: 0.6788\n",
            "Epoch 3/70\n",
            "130000/130000 [==============================] - 112s 864us/step - loss: 1.4468 - acc: 0.6791 - val_loss: 1.2906 - val_acc: 0.7484\n",
            "Epoch 4/70\n",
            "130000/130000 [==============================] - 112s 862us/step - loss: 0.9376 - acc: 0.7732 - val_loss: 1.1468 - val_acc: 0.7808\n",
            "Epoch 5/70\n",
            "130000/130000 [==============================] - 112s 863us/step - loss: 0.6741 - acc: 0.8260 - val_loss: 1.1004 - val_acc: 0.7991\n",
            "Epoch 6/70\n",
            "130000/130000 [==============================] - 112s 864us/step - loss: 0.5243 - acc: 0.8610 - val_loss: 1.0694 - val_acc: 0.8101\n",
            "Epoch 7/70\n",
            "130000/130000 [==============================] - 113s 866us/step - loss: 0.4319 - acc: 0.8832 - val_loss: 1.0478 - val_acc: 0.8183\n",
            "Epoch 8/70\n",
            "130000/130000 [==============================] - 112s 865us/step - loss: 0.3615 - acc: 0.8987 - val_loss: 1.0683 - val_acc: 0.8242\n",
            "Epoch 9/70\n",
            "130000/130000 [==============================] - 112s 865us/step - loss: 0.3156 - acc: 0.9107 - val_loss: 1.0538 - val_acc: 0.8271\n",
            "Epoch 10/70\n",
            "130000/130000 [==============================] - 112s 863us/step - loss: 0.2759 - acc: 0.9220 - val_loss: 1.0504 - val_acc: 0.8314\n",
            "Epoch 11/70\n",
            "130000/130000 [==============================] - 112s 862us/step - loss: 0.2455 - acc: 0.9296 - val_loss: 1.0662 - val_acc: 0.8348\n",
            "Epoch 12/70\n",
            "130000/130000 [==============================] - 112s 862us/step - loss: 0.2253 - acc: 0.9351 - val_loss: 1.0562 - val_acc: 0.8360\n",
            "Epoch 13/70\n",
            "130000/130000 [==============================] - 112s 860us/step - loss: 0.2059 - acc: 0.9404 - val_loss: 1.0502 - val_acc: 0.8389\n",
            "Epoch 14/70\n",
            "130000/130000 [==============================] - 112s 862us/step - loss: 0.1910 - acc: 0.9442 - val_loss: 1.0618 - val_acc: 0.8393\n",
            "Epoch 15/70\n",
            "130000/130000 [==============================] - 112s 865us/step - loss: 0.1692 - acc: 0.9512 - val_loss: 1.0514 - val_acc: 0.8467\n",
            "Epoch 16/70\n",
            "130000/130000 [==============================] - 112s 865us/step - loss: 0.1658 - acc: 0.9523 - val_loss: 1.0507 - val_acc: 0.8464\n",
            "Epoch 17/70\n",
            "130000/130000 [==============================] - 112s 862us/step - loss: 0.1497 - acc: 0.9559 - val_loss: 1.0728 - val_acc: 0.8437\n",
            "Epoch 18/70\n",
            "130000/130000 [==============================] - 112s 865us/step - loss: 0.1421 - acc: 0.9586 - val_loss: 1.0778 - val_acc: 0.8433\n",
            "Epoch 19/70\n",
            "130000/130000 [==============================] - 112s 863us/step - loss: 0.1358 - acc: 0.9604 - val_loss: 1.0748 - val_acc: 0.8454\n",
            "Epoch 20/70\n",
            "130000/130000 [==============================] - 112s 865us/step - loss: 0.1287 - acc: 0.9622 - val_loss: 1.0761 - val_acc: 0.8488\n",
            "Epoch 21/70\n",
            "130000/130000 [==============================] - 112s 865us/step - loss: 0.1239 - acc: 0.9639 - val_loss: 1.0911 - val_acc: 0.8467\n",
            "Epoch 22/70\n",
            "130000/130000 [==============================] - 112s 863us/step - loss: 0.1145 - acc: 0.9669 - val_loss: 1.0812 - val_acc: 0.8502\n",
            "Epoch 23/70\n",
            "130000/130000 [==============================] - 112s 865us/step - loss: 0.1107 - acc: 0.9681 - val_loss: 1.0889 - val_acc: 0.8484\n",
            "Epoch 24/70\n",
            "130000/130000 [==============================] - 112s 864us/step - loss: 0.1077 - acc: 0.9683 - val_loss: 1.0920 - val_acc: 0.8486\n",
            "Epoch 25/70\n",
            "130000/130000 [==============================] - 112s 863us/step - loss: 0.1056 - acc: 0.9692 - val_loss: 1.0778 - val_acc: 0.8505\n",
            "Epoch 26/70\n",
            "130000/130000 [==============================] - 112s 862us/step - loss: 0.0990 - acc: 0.9709 - val_loss: 1.0583 - val_acc: 0.8531\n",
            "Epoch 27/70\n",
            "130000/130000 [==============================] - 112s 861us/step - loss: 0.0918 - acc: 0.9732 - val_loss: 1.0762 - val_acc: 0.8525\n",
            "Epoch 28/70\n",
            "130000/130000 [==============================] - 112s 861us/step - loss: 0.0900 - acc: 0.9738 - val_loss: 1.0879 - val_acc: 0.8531\n",
            "Epoch 29/70\n",
            "130000/130000 [==============================] - 112s 862us/step - loss: 0.0870 - acc: 0.9744 - val_loss: 1.0883 - val_acc: 0.8520\n",
            "Epoch 30/70\n",
            "130000/130000 [==============================] - 112s 861us/step - loss: 0.0848 - acc: 0.9748 - val_loss: 1.0937 - val_acc: 0.8540\n",
            "Epoch 31/70\n",
            "130000/130000 [==============================] - 112s 861us/step - loss: 0.0816 - acc: 0.9762 - val_loss: 1.1076 - val_acc: 0.8522\n",
            "Epoch 32/70\n",
            "130000/130000 [==============================] - 112s 863us/step - loss: 0.0781 - acc: 0.9770 - val_loss: 1.0945 - val_acc: 0.8540\n",
            "Epoch 33/70\n",
            "130000/130000 [==============================] - 112s 863us/step - loss: 0.0756 - acc: 0.9777 - val_loss: 1.1066 - val_acc: 0.8551\n",
            "Epoch 34/70\n",
            "130000/130000 [==============================] - 112s 864us/step - loss: 0.0736 - acc: 0.9787 - val_loss: 1.1017 - val_acc: 0.8542\n",
            "Epoch 35/70\n",
            "130000/130000 [==============================] - 112s 862us/step - loss: 0.0692 - acc: 0.9798 - val_loss: 1.0889 - val_acc: 0.8565\n",
            "Epoch 36/70\n",
            "130000/130000 [==============================] - 112s 863us/step - loss: 0.0714 - acc: 0.9790 - val_loss: 1.0994 - val_acc: 0.8564\n",
            "Epoch 37/70\n",
            "130000/130000 [==============================] - 112s 863us/step - loss: 0.0669 - acc: 0.9806 - val_loss: 1.1082 - val_acc: 0.8535\n",
            "Epoch 38/70\n",
            "130000/130000 [==============================] - 112s 864us/step - loss: 0.0644 - acc: 0.9809 - val_loss: 1.1136 - val_acc: 0.8553\n",
            "Epoch 39/70\n",
            "130000/130000 [==============================] - 112s 863us/step - loss: 0.0633 - acc: 0.9818 - val_loss: 1.1184 - val_acc: 0.8539\n",
            "Epoch 40/70\n",
            "130000/130000 [==============================] - 112s 865us/step - loss: 0.0625 - acc: 0.9819 - val_loss: 1.1116 - val_acc: 0.8560\n",
            "Epoch 41/70\n",
            "130000/130000 [==============================] - 112s 862us/step - loss: 0.0613 - acc: 0.9822 - val_loss: 1.1049 - val_acc: 0.8569\n",
            "Epoch 42/70\n",
            "130000/130000 [==============================] - 112s 862us/step - loss: 0.0585 - acc: 0.9829 - val_loss: 1.1242 - val_acc: 0.8568\n",
            "Epoch 43/70\n",
            "130000/130000 [==============================] - 112s 865us/step - loss: 0.0573 - acc: 0.9835 - val_loss: 1.1039 - val_acc: 0.8563\n",
            "Epoch 44/70\n",
            "130000/130000 [==============================] - 112s 862us/step - loss: 0.0559 - acc: 0.9837 - val_loss: 1.1024 - val_acc: 0.8577\n",
            "Epoch 45/70\n",
            "130000/130000 [==============================] - 112s 863us/step - loss: 0.0551 - acc: 0.9837 - val_loss: 1.1113 - val_acc: 0.8573\n",
            "Epoch 46/70\n",
            "130000/130000 [==============================] - 112s 861us/step - loss: 0.0546 - acc: 0.9841 - val_loss: 1.1059 - val_acc: 0.8549\n",
            "Epoch 47/70\n",
            "130000/130000 [==============================] - 112s 861us/step - loss: 0.0535 - acc: 0.9846 - val_loss: 1.1075 - val_acc: 0.8538\n",
            "Epoch 48/70\n",
            "130000/130000 [==============================] - 112s 863us/step - loss: 0.0534 - acc: 0.9845 - val_loss: 1.1074 - val_acc: 0.8593\n",
            "Epoch 49/70\n",
            "130000/130000 [==============================] - 112s 860us/step - loss: 0.0494 - acc: 0.9859 - val_loss: 1.0916 - val_acc: 0.8588\n",
            "Epoch 50/70\n",
            "130000/130000 [==============================] - 112s 859us/step - loss: 0.0510 - acc: 0.9851 - val_loss: 1.1015 - val_acc: 0.8562\n",
            "Epoch 51/70\n",
            "130000/130000 [==============================] - 112s 861us/step - loss: 0.0468 - acc: 0.9864 - val_loss: 1.1149 - val_acc: 0.8555\n",
            "Epoch 52/70\n",
            "130000/130000 [==============================] - 112s 861us/step - loss: 0.0487 - acc: 0.9859 - val_loss: 1.0895 - val_acc: 0.8601\n",
            "Epoch 53/70\n",
            "130000/130000 [==============================] - 112s 862us/step - loss: 0.0474 - acc: 0.9864 - val_loss: 1.1081 - val_acc: 0.8601\n",
            "Epoch 54/70\n",
            "130000/130000 [==============================] - 112s 863us/step - loss: 0.0458 - acc: 0.9865 - val_loss: 1.1379 - val_acc: 0.8556\n",
            "Epoch 55/70\n",
            "130000/130000 [==============================] - 112s 863us/step - loss: 0.0443 - acc: 0.9873 - val_loss: 1.1161 - val_acc: 0.8578\n",
            "Epoch 56/70\n",
            "130000/130000 [==============================] - 112s 864us/step - loss: 0.0459 - acc: 0.9868 - val_loss: 1.1063 - val_acc: 0.8588\n",
            "Epoch 57/70\n",
            "130000/130000 [==============================] - 112s 862us/step - loss: 0.0441 - acc: 0.9872 - val_loss: 1.1033 - val_acc: 0.8586\n",
            "Epoch 58/70\n",
            "130000/130000 [==============================] - 112s 862us/step - loss: 0.0437 - acc: 0.9875 - val_loss: 1.1107 - val_acc: 0.8595\n",
            "Epoch 59/70\n",
            "130000/130000 [==============================] - 112s 863us/step - loss: 0.0416 - acc: 0.9879 - val_loss: 1.1113 - val_acc: 0.8606\n",
            "Epoch 60/70\n",
            "130000/130000 [==============================] - 112s 860us/step - loss: 0.0416 - acc: 0.9879 - val_loss: 1.1092 - val_acc: 0.8613\n",
            "Epoch 61/70\n",
            "130000/130000 [==============================] - 112s 862us/step - loss: 0.0407 - acc: 0.9884 - val_loss: 1.1364 - val_acc: 0.8575\n",
            "Epoch 62/70\n",
            "130000/130000 [==============================] - 112s 863us/step - loss: 0.0413 - acc: 0.9880 - val_loss: 1.1274 - val_acc: 0.8563\n",
            "Epoch 63/70\n",
            "130000/130000 [==============================] - 112s 860us/step - loss: 0.0401 - acc: 0.9882 - val_loss: 1.1242 - val_acc: 0.8586\n",
            "Epoch 64/70\n",
            "130000/130000 [==============================] - 112s 860us/step - loss: 0.0392 - acc: 0.9888 - val_loss: 1.0945 - val_acc: 0.8604\n",
            "Epoch 65/70\n",
            "130000/130000 [==============================] - 112s 862us/step - loss: 0.0390 - acc: 0.9887 - val_loss: 1.0978 - val_acc: 0.8631\n",
            "Epoch 66/70\n",
            "130000/130000 [==============================] - 112s 860us/step - loss: 0.0372 - acc: 0.9893 - val_loss: 1.1241 - val_acc: 0.8603\n",
            "Epoch 67/70\n",
            "130000/130000 [==============================] - 112s 860us/step - loss: 0.0378 - acc: 0.9892 - val_loss: 1.0979 - val_acc: 0.8629\n",
            "Epoch 68/70\n",
            "130000/130000 [==============================] - 112s 861us/step - loss: 0.0365 - acc: 0.9894 - val_loss: 1.1314 - val_acc: 0.8572\n",
            "Epoch 69/70\n",
            "130000/130000 [==============================] - 112s 861us/step - loss: 0.0368 - acc: 0.9892 - val_loss: 1.1309 - val_acc: 0.8585\n",
            "Epoch 70/70\n",
            "130000/130000 [==============================] - 112s 861us/step - loss: 0.0379 - acc: 0.9888 - val_loss: 1.1260 - val_acc: 0.8600\n"
          ],
          "name": "stdout"
        }
      ]
    },
    {
      "cell_type": "code",
      "metadata": {
        "id": "N1Su3mkKywRM",
        "colab_type": "code",
        "colab": {
          "base_uri": "https://localhost:8080/",
          "height": 381
        },
        "outputId": "7a17c298-adcb-4b60-9bee-ef7dfc9a229b"
      },
      "source": [
        "import matplotlib.pyplot as plt\n",
        "scores = model.evaluate(testarray1,testy, verbose=0)\n",
        "print(\"Accuracy: %.2f%%\" % (scores[1]*100))\n",
        "\n",
        "# Test and train accuracy of the model\n",
        "model_3_test = scores[1]\n",
        "model_3_train = max(history.history['acc'])\n",
        "\n",
        "# Plotting Train and Test Loss VS no. of epochs\n",
        "# list of epoch numbers\n",
        "x = list(range(1,71))\n",
        "\n",
        "# Validation loss\n",
        "vy = history.history['val_loss']\n",
        "# Training loss\n",
        "ty = history.history['loss']\n",
        "\n",
        "# Calling the function to draw the plot\n",
        "plt_dynamic(x, vy, ty)"
      ],
      "execution_count": 26,
      "outputs": [
        {
          "output_type": "stream",
          "text": [
            "Accuracy: 86.00%\n"
          ],
          "name": "stdout"
        },
        {
          "output_type": "display_data",
          "data": {
            "image/png": "[encoded data removed]",
            "text/plain": [
              "<Figure size 720x360 with 1 Axes>"
            ]
          },
          "metadata": {
            "tags": []
          }
        }
      ]
    },
    {
      "cell_type": "code",
      "metadata": {
        "id": "tcqN4CZnS69R",
        "colab_type": "code",
        "colab": {
          "base_uri": "https://localhost:8080/",
          "height": 221
        },
        "outputId": "1fffb5cb-b79e-49ff-99e4-121c44ec66ca"
      },
      "source": [
        "import keras as keras\n",
        "import tensorflow as tf\n",
        "from keras.models import Sequential\n",
        "from keras.layers import Dense,Dropout,Flatten,BatchNormalization\n",
        "from keras.layers import Conv1D,MaxPooling1D\n",
        "from keras.layers import LSTM,Bidirectional\n",
        "model=Sequential()\n",
        "model.add(Dense(256,activation='relu',input_shape=(200,26)))\n",
        "model.add(Dropout(0.7))\n",
        "model.add(BatchNormalization())\n",
        "model.add(Bidirectional(LSTM(26,dropout=0.5,return_sequences=True)))\n",
        "model.add(BatchNormalization())\n",
        "model.add(Flatten())\n",
        "model.add(Dense(11180,activation='softmax'))\n",
        "model.compile(loss=keras.losses.sparse_categorical_crossentropy,optimizer='adam',metrics=['accuracy'])\n",
        "history=model.fit(trainarray1,trainy,epochs=5,validation_data=[testarray1,testy],batch_size=128) \n"
      ],
      "execution_count": 25,
      "outputs": [
        {
          "output_type": "stream",
          "text": [
            "W0619 20:24:43.532114 140629908809600 nn_ops.py:4224] Large dropout rate: 0.7 (>0.5). In TensorFlow 2.x, dropout() uses dropout rate instead of keep_prob. Please ensure that this is intended.\n"
          ],
          "name": "stderr"
        },
        {
          "output_type": "stream",
          "text": [
            "Train on 130000 samples, validate on 20000 samples\n",
            "Epoch 1/5\n",
            "130000/130000 [==============================] - 801s 6ms/step - loss: 3.7448 - acc: 0.5683 - val_loss: 0.8746 - val_acc: 0.8793\n",
            "Epoch 2/5\n",
            "130000/130000 [==============================] - 788s 6ms/step - loss: 0.2431 - acc: 0.9697 - val_loss: 0.8588 - val_acc: 0.8860\n",
            "Epoch 3/5\n",
            "130000/130000 [==============================] - 786s 6ms/step - loss: 0.1112 - acc: 0.9911 - val_loss: 0.8922 - val_acc: 0.8881\n",
            "Epoch 4/5\n",
            "130000/130000 [==============================] - 788s 6ms/step - loss: 0.1043 - acc: 0.9925 - val_loss: 0.9823 - val_acc: 0.8818\n",
            "Epoch 5/5\n",
            "130000/130000 [==============================] - 792s 6ms/step - loss: 0.1062 - acc: 0.9915 - val_loss: 1.1620 - val_acc: 0.8638\n"
          ],
          "name": "stdout"
        }
      ]
    },
    {
      "cell_type": "code",
      "metadata": {
        "id": "blgEcbdvl6PG",
        "colab_type": "code",
        "colab": {
          "base_uri": "https://localhost:8080/",
          "height": 381
        },
        "outputId": "a14e34d7-c1f2-4740-8673-0e97202ec689"
      },
      "source": [
        "import matplotlib.pyplot as plt\n",
        "scores = model.evaluate(testarray1,testy, verbose=0)\n",
        "print(\"Accuracy: %.2f%%\" % (scores[1]*100))\n",
        "\n",
        "# Test and train accuracy of the model\n",
        "model_3_test = scores[1]\n",
        "model_3_train = max(history.history['acc'])\n",
        "\n",
        "# Plotting Train and Test Loss VS no. of epochs\n",
        "# list of epoch numbers\n",
        "x = list(range(1,6))\n",
        "\n",
        "# Validation loss\n",
        "vy = history.history['val_loss']\n",
        "# Training loss\n",
        "ty = history.history['loss']\n",
        "\n",
        "# Calling the function to draw the plot\n",
        "plt_dynamic(x, vy, ty)"
      ],
      "execution_count": 27,
      "outputs": [
        {
          "output_type": "stream",
          "text": [
            "Accuracy: 86.38%\n"
          ],
          "name": "stdout"
        },
        {
          "output_type": "display_data",
          "data": {
            "image/png": "[encoded data removed]",
            "text/plain": [
              "<Figure size 720x360 with 1 Axes>"
            ]
          },
          "metadata": {
            "tags": []
          }
        }
      ]
    },
    {
      "cell_type": "code",
      "metadata": {
        "colab_type": "code",
        "outputId": "c29fbd4b-0aa5-41a4-c22a-5396adcdb675",
        "id": "j5DaFJElSQ4g",
        "colab": {
          "base_uri": "https://localhost:8080/",
          "height": 887
        }
      },
      "source": [
        "import keras as keras\n",
        "import tensorflow as tf\n",
        "from keras.models import Sequential\n",
        "from keras.layers import Dense,Dropout,Flatten,BatchNormalization\n",
        "from keras.layers import Conv1D,MaxPooling1D\n",
        "model=Sequential()\n",
        "model.add(Conv1D(100,kernel_size=10,activation='relu',input_shape=(200,26)))\n",
        "model.add(MaxPooling1D(pool_size=2))\n",
        "model.add(Dropout(0.2))\n",
        "model.add(Conv1D(250,20,activation='relu'))\n",
        "model.add(MaxPooling1D(pool_size=4))\n",
        "model.add(Dropout(0.2))\n",
        "model.add(BatchNormalization())\n",
        "\n",
        "model.add(Flatten())\n",
        "model.add(Dense(11180,activation='softmax'))\n",
        "model.compile(loss=keras.losses.sparse_categorical_crossentropy,optimizer='adam',metrics=['accuracy'])\n",
        "history=model.fit(trainarray1,trainy,epochs=25,validation_data=[testarray1,testy],batch_size=256) \n"
      ],
      "execution_count": 0,
      "outputs": [
        {
          "output_type": "stream",
          "text": [
            "Train on 115275 samples, validate on 21113 samples\n",
            "Epoch 1/25\n",
            "115275/115275 [==============================] - 67s 578us/step - loss: 5.3151 - acc: 0.2801 - val_loss: 2.2157 - val_acc: 0.6586\n",
            "Epoch 2/25\n",
            "115275/115275 [==============================] - 65s 564us/step - loss: 1.4764 - acc: 0.7387 - val_loss: 1.1932 - val_acc: 0.8027\n",
            "Epoch 3/25\n",
            "115275/115275 [==============================] - 65s 563us/step - loss: 0.4694 - acc: 0.8962 - val_loss: 1.0867 - val_acc: 0.8221\n",
            "Epoch 4/25\n",
            "115275/115275 [==============================] - 65s 565us/step - loss: 0.2276 - acc: 0.9449 - val_loss: 1.1101 - val_acc: 0.8257\n",
            "Epoch 5/25\n",
            "115275/115275 [==============================] - 65s 564us/step - loss: 0.1566 - acc: 0.9601 - val_loss: 1.0820 - val_acc: 0.8377\n",
            "Epoch 6/25\n",
            "115275/115275 [==============================] - 65s 563us/step - loss: 0.1241 - acc: 0.9668 - val_loss: 1.1276 - val_acc: 0.8399\n",
            "Epoch 7/25\n",
            "115275/115275 [==============================] - 65s 563us/step - loss: 0.1139 - acc: 0.9698 - val_loss: 1.1402 - val_acc: 0.8387\n",
            "Epoch 8/25\n",
            "115275/115275 [==============================] - 65s 563us/step - loss: 0.1019 - acc: 0.9722 - val_loss: 1.1203 - val_acc: 0.8421\n",
            "Epoch 9/25\n",
            "115275/115275 [==============================] - 65s 563us/step - loss: 0.0911 - acc: 0.9757 - val_loss: 1.1661 - val_acc: 0.8440\n",
            "Epoch 10/25\n",
            "115275/115275 [==============================] - 63s 549us/step - loss: 0.0830 - acc: 0.9782 - val_loss: 1.1724 - val_acc: 0.8444\n",
            "Epoch 11/25\n",
            "115275/115275 [==============================] - 62s 541us/step - loss: 0.0788 - acc: 0.9793 - val_loss: 1.1980 - val_acc: 0.8418\n",
            "Epoch 12/25\n",
            "115275/115275 [==============================] - 62s 541us/step - loss: 0.0710 - acc: 0.9816 - val_loss: 1.1586 - val_acc: 0.8520\n",
            "Epoch 13/25\n",
            "115275/115275 [==============================] - 62s 540us/step - loss: 0.0683 - acc: 0.9825 - val_loss: 1.1932 - val_acc: 0.8500\n",
            "Epoch 14/25\n",
            "115275/115275 [==============================] - 62s 541us/step - loss: 0.0657 - acc: 0.9831 - val_loss: 1.1901 - val_acc: 0.8523\n",
            "Epoch 15/25\n",
            "115275/115275 [==============================] - 62s 539us/step - loss: 0.0627 - acc: 0.9841 - val_loss: 1.1953 - val_acc: 0.8503\n",
            "Epoch 16/25\n",
            "115275/115275 [==============================] - 62s 539us/step - loss: 0.0597 - acc: 0.9849 - val_loss: 1.2241 - val_acc: 0.8511\n",
            "Epoch 17/25\n",
            "115275/115275 [==============================] - 62s 538us/step - loss: 0.0577 - acc: 0.9855 - val_loss: 1.2474 - val_acc: 0.8504\n",
            "Epoch 18/25\n",
            "115275/115275 [==============================] - 62s 538us/step - loss: 0.0534 - acc: 0.9867 - val_loss: 1.2401 - val_acc: 0.8482\n",
            "Epoch 19/25\n",
            "115275/115275 [==============================] - 62s 539us/step - loss: 0.0504 - acc: 0.9872 - val_loss: 1.2454 - val_acc: 0.8503\n",
            "Epoch 20/25\n",
            "115275/115275 [==============================] - 62s 538us/step - loss: 0.0499 - acc: 0.9880 - val_loss: 1.2413 - val_acc: 0.8538\n",
            "Epoch 21/25\n",
            "115275/115275 [==============================] - 62s 538us/step - loss: 0.0480 - acc: 0.9883 - val_loss: 1.2119 - val_acc: 0.8576\n",
            "Epoch 22/25\n",
            "115275/115275 [==============================] - 62s 538us/step - loss: 0.0484 - acc: 0.9884 - val_loss: 1.2224 - val_acc: 0.8580\n",
            "Epoch 23/25\n",
            "115275/115275 [==============================] - 62s 538us/step - loss: 0.0450 - acc: 0.9891 - val_loss: 1.2322 - val_acc: 0.8582\n",
            "Epoch 24/25\n",
            "115275/115275 [==============================] - 62s 540us/step - loss: 0.0444 - acc: 0.9896 - val_loss: 1.2356 - val_acc: 0.8557\n",
            "Epoch 25/25\n",
            "115275/115275 [==============================] - 62s 538us/step - loss: 0.0446 - acc: 0.9891 - val_loss: 1.2405 - val_acc: 0.8553\n"
          ],
          "name": "stdout"
        }
      ]
    },
    {
      "cell_type": "code",
      "metadata": {
        "id": "pXmN78_0k7_t",
        "colab_type": "code",
        "outputId": "411eaf2e-39b1-4759-fa45-c4ec92c7e01d",
        "colab": {
          "base_uri": "https://localhost:8080/",
          "height": 381
        }
      },
      "source": [
        "import matplotlib.pyplot as plt\n",
        "scores = model.evaluate(testarray1,testy, verbose=0)\n",
        "print(\"Accuracy: %.2f%%\" % (scores[1]*100))\n",
        "\n",
        "# Test and train accuracy of the model\n",
        "model_3_test = scores[1]\n",
        "model_3_train = max(history.history['acc'])\n",
        "\n",
        "# Plotting Train and Test Loss VS no. of epochs\n",
        "# list of epoch numbers\n",
        "x = list(range(1,26))\n",
        "\n",
        "# Validation loss\n",
        "vy = history.history['val_loss']\n",
        "# Training loss\n",
        "ty = history.history['loss']\n",
        "\n",
        "# Calling the function to draw the plot\n",
        "plt_dynamic(x, vy, ty)"
      ],
      "execution_count": 0,
      "outputs": [
        {
          "output_type": "stream",
          "text": [
            "Accuracy: 85.53%\n"
          ],
          "name": "stdout"
        },
        {
          "output_type": "display_data",
          "data": {
            "image/png": "[encoded data removed]",
            "text/plain": [
              "<Figure size 720x360 with 1 Axes>"
            ]
          },
          "metadata": {
            "tags": []
          }
        }
      ]
    },
    {
      "cell_type": "code",
      "metadata": {
        "id": "D3oiCH10j11L",
        "colab_type": "code",
        "outputId": "c0c4275b-1d4f-4810-9070-867989915699",
        "colab": {
          "base_uri": "https://localhost:8080/",
          "height": 2781
        }
      },
      "source": [
        "import keras as keras\n",
        "import tensorflow as tf\n",
        "from keras.models import Sequential\n",
        "from keras.layers import Dense,Dropout,Flatten,BatchNormalization\n",
        "from keras.layers import Conv1D,MaxPooling1D\n",
        "model=Sequential()\n",
        "model.add(Conv1D(2000,kernel_size=26,activation='relu',input_shape=(200,26)))\n",
        "model.add(MaxPooling1D(pool_size=2))\n",
        "model.add(Dropout(0.4))\n",
        "model.add(Conv1D(250,20,activation='relu'))\n",
        "model.add(MaxPooling1D(pool_size=4))\n",
        "model.add(Dropout(0.6))\n",
        "model.add(BatchNormalization())\n",
        "\n",
        "model.add(Flatten())\n",
        "model.add(Dense(11180,activation='softmax'))\n",
        "model.compile(loss=keras.losses.sparse_categorical_crossentropy,optimizer='adam',metrics=['accuracy'])\n",
        "history=model.fit(trainarray1,trainy,epochs=80,validation_data=[testarray1,testy],batch_size=128) \n"
      ],
      "execution_count": 0,
      "outputs": [
        {
          "output_type": "stream",
          "text": [
            "W0619 09:23:08.199344 140477795272576 nn_ops.py:4224] Large dropout rate: 0.6 (>0.5). In TensorFlow 2.x, dropout() uses dropout rate instead of keep_prob. Please ensure that this is intended.\n"
          ],
          "name": "stderr"
        },
        {
          "output_type": "stream",
          "text": [
            "Train on 130000 samples, validate on 20000 samples\n",
            "Epoch 1/80\n",
            "130000/130000 [==============================] - 210s 2ms/step - loss: 6.7167 - acc: 0.1176 - val_loss: 3.9094 - val_acc: 0.4072\n",
            "Epoch 2/80\n",
            "130000/130000 [==============================] - 207s 2ms/step - loss: 3.6362 - acc: 0.4200 - val_loss: 2.0259 - val_acc: 0.6724\n",
            "Epoch 3/80\n",
            "130000/130000 [==============================] - 207s 2ms/step - loss: 2.2216 - acc: 0.5902 - val_loss: 1.4423 - val_acc: 0.7579\n",
            "Epoch 4/80\n",
            "130000/130000 [==============================] - 207s 2ms/step - loss: 1.5199 - acc: 0.6887 - val_loss: 1.1751 - val_acc: 0.7984\n",
            "Epoch 5/80\n",
            "130000/130000 [==============================] - 207s 2ms/step - loss: 1.1232 - acc: 0.7518 - val_loss: 1.0267 - val_acc: 0.8250\n",
            "Epoch 6/80\n",
            "130000/130000 [==============================] - 207s 2ms/step - loss: 0.8600 - acc: 0.7990 - val_loss: 0.9646 - val_acc: 0.8383\n",
            "Epoch 7/80\n",
            "130000/130000 [==============================] - 207s 2ms/step - loss: 0.6916 - acc: 0.8312 - val_loss: 0.9139 - val_acc: 0.8487\n",
            "Epoch 8/80\n",
            "130000/130000 [==============================] - 207s 2ms/step - loss: 0.5715 - acc: 0.8562 - val_loss: 0.8772 - val_acc: 0.8534\n",
            "Epoch 9/80\n",
            "130000/130000 [==============================] - 206s 2ms/step - loss: 0.4941 - acc: 0.8716 - val_loss: 0.8622 - val_acc: 0.8614\n",
            "Epoch 10/80\n",
            "130000/130000 [==============================] - 207s 2ms/step - loss: 0.4336 - acc: 0.8860 - val_loss: 0.8879 - val_acc: 0.8614\n",
            "Epoch 11/80\n",
            "130000/130000 [==============================] - 207s 2ms/step - loss: 0.3850 - acc: 0.8974 - val_loss: 0.8403 - val_acc: 0.8688\n",
            "Epoch 12/80\n",
            "130000/130000 [==============================] - 207s 2ms/step - loss: 0.3440 - acc: 0.9070 - val_loss: 0.8286 - val_acc: 0.8694\n",
            "Epoch 13/80\n",
            "130000/130000 [==============================] - 207s 2ms/step - loss: 0.3167 - acc: 0.9134 - val_loss: 0.8284 - val_acc: 0.8703\n",
            "Epoch 14/80\n",
            "130000/130000 [==============================] - 207s 2ms/step - loss: 0.2980 - acc: 0.9179 - val_loss: 0.8511 - val_acc: 0.8739\n",
            "Epoch 15/80\n",
            "130000/130000 [==============================] - 206s 2ms/step - loss: 0.2689 - acc: 0.9251 - val_loss: 0.8374 - val_acc: 0.8747\n",
            "Epoch 16/80\n",
            "130000/130000 [==============================] - 206s 2ms/step - loss: 0.2545 - acc: 0.9290 - val_loss: 0.8265 - val_acc: 0.8755\n",
            "Epoch 17/80\n",
            "130000/130000 [==============================] - 206s 2ms/step - loss: 0.2384 - acc: 0.9337 - val_loss: 0.8368 - val_acc: 0.8776\n",
            "Epoch 18/80\n",
            "130000/130000 [==============================] - 206s 2ms/step - loss: 0.2298 - acc: 0.9358 - val_loss: 0.8363 - val_acc: 0.8791\n",
            "Epoch 19/80\n",
            "130000/130000 [==============================] - 206s 2ms/step - loss: 0.2141 - acc: 0.9396 - val_loss: 0.8347 - val_acc: 0.8793\n",
            "Epoch 20/80\n",
            "130000/130000 [==============================] - 206s 2ms/step - loss: 0.2060 - acc: 0.9420 - val_loss: 0.7848 - val_acc: 0.8840\n",
            "Epoch 21/80\n",
            "130000/130000 [==============================] - 206s 2ms/step - loss: 0.1941 - acc: 0.9452 - val_loss: 0.7954 - val_acc: 0.8847\n",
            "Epoch 22/80\n",
            "130000/130000 [==============================] - 206s 2ms/step - loss: 0.1797 - acc: 0.9490 - val_loss: 0.8097 - val_acc: 0.8833\n",
            "Epoch 23/80\n",
            "130000/130000 [==============================] - 206s 2ms/step - loss: 0.1750 - acc: 0.9498 - val_loss: 0.8052 - val_acc: 0.8846\n",
            "Epoch 24/80\n",
            "130000/130000 [==============================] - 206s 2ms/step - loss: 0.1669 - acc: 0.9527 - val_loss: 0.8236 - val_acc: 0.8843\n",
            "Epoch 25/80\n",
            "130000/130000 [==============================] - 206s 2ms/step - loss: 0.1624 - acc: 0.9542 - val_loss: 0.8016 - val_acc: 0.8860\n",
            "Epoch 26/80\n",
            "130000/130000 [==============================] - 206s 2ms/step - loss: 0.1533 - acc: 0.9559 - val_loss: 0.7958 - val_acc: 0.8872\n",
            "Epoch 27/80\n",
            "130000/130000 [==============================] - 206s 2ms/step - loss: 0.1463 - acc: 0.9577 - val_loss: 0.8126 - val_acc: 0.8881\n",
            "Epoch 28/80\n",
            "130000/130000 [==============================] - 206s 2ms/step - loss: 0.1452 - acc: 0.9583 - val_loss: 0.8112 - val_acc: 0.8886\n",
            "Epoch 29/80\n",
            "130000/130000 [==============================] - 206s 2ms/step - loss: 0.1389 - acc: 0.9600 - val_loss: 0.8024 - val_acc: 0.8892\n",
            "Epoch 30/80\n",
            "130000/130000 [==============================] - 206s 2ms/step - loss: 0.1372 - acc: 0.9607 - val_loss: 0.7927 - val_acc: 0.8890\n",
            "Epoch 31/80\n",
            "130000/130000 [==============================] - 206s 2ms/step - loss: 0.1317 - acc: 0.9622 - val_loss: 0.7913 - val_acc: 0.8892\n",
            "Epoch 32/80\n",
            "130000/130000 [==============================] - 206s 2ms/step - loss: 0.1281 - acc: 0.9632 - val_loss: 0.8051 - val_acc: 0.8874\n",
            "Epoch 33/80\n",
            "130000/130000 [==============================] - 206s 2ms/step - loss: 0.1217 - acc: 0.9650 - val_loss: 0.7938 - val_acc: 0.8917\n",
            "Epoch 34/80\n",
            "130000/130000 [==============================] - 206s 2ms/step - loss: 0.1184 - acc: 0.9660 - val_loss: 0.7883 - val_acc: 0.8922\n",
            "Epoch 35/80\n",
            "130000/130000 [==============================] - 206s 2ms/step - loss: 0.1155 - acc: 0.9665 - val_loss: 0.7669 - val_acc: 0.8942\n",
            "Epoch 36/80\n",
            "130000/130000 [==============================] - 206s 2ms/step - loss: 0.1140 - acc: 0.9671 - val_loss: 0.8297 - val_acc: 0.8902\n",
            "Epoch 37/80\n",
            "130000/130000 [==============================] - 206s 2ms/step - loss: 0.1129 - acc: 0.9681 - val_loss: 0.8031 - val_acc: 0.8920\n",
            "Epoch 38/80\n",
            "130000/130000 [==============================] - 206s 2ms/step - loss: 0.1057 - acc: 0.9693 - val_loss: 0.7931 - val_acc: 0.8933\n",
            "Epoch 39/80\n",
            "130000/130000 [==============================] - 206s 2ms/step - loss: 0.1032 - acc: 0.9706 - val_loss: 0.7741 - val_acc: 0.8950\n",
            "Epoch 40/80\n",
            "130000/130000 [==============================] - 206s 2ms/step - loss: 0.0999 - acc: 0.9722 - val_loss: 0.8107 - val_acc: 0.8941\n",
            "Epoch 41/80\n",
            "130000/130000 [==============================] - 206s 2ms/step - loss: 0.0974 - acc: 0.9720 - val_loss: 0.8019 - val_acc: 0.8933\n",
            "Epoch 42/80\n",
            "130000/130000 [==============================] - 206s 2ms/step - loss: 0.0961 - acc: 0.9727 - val_loss: 0.8070 - val_acc: 0.8934\n",
            "Epoch 43/80\n",
            "130000/130000 [==============================] - 206s 2ms/step - loss: 0.0943 - acc: 0.9729 - val_loss: 0.7963 - val_acc: 0.8940\n",
            "Epoch 44/80\n",
            "130000/130000 [==============================] - 206s 2ms/step - loss: 0.0953 - acc: 0.9722 - val_loss: 0.7794 - val_acc: 0.8941\n",
            "Epoch 45/80\n",
            "130000/130000 [==============================] - 206s 2ms/step - loss: 0.0902 - acc: 0.9739 - val_loss: 0.7772 - val_acc: 0.8963\n",
            "Epoch 46/80\n",
            "130000/130000 [==============================] - 206s 2ms/step - loss: 0.0903 - acc: 0.9741 - val_loss: 0.7836 - val_acc: 0.8945\n",
            "Epoch 47/80\n",
            "130000/130000 [==============================] - 206s 2ms/step - loss: 0.0890 - acc: 0.9748 - val_loss: 0.7851 - val_acc: 0.8959\n",
            "Epoch 48/80\n",
            "130000/130000 [==============================] - 207s 2ms/step - loss: 0.0863 - acc: 0.9752 - val_loss: 0.7761 - val_acc: 0.8962\n",
            "Epoch 49/80\n",
            "130000/130000 [==============================] - 207s 2ms/step - loss: 0.0866 - acc: 0.9757 - val_loss: 0.7920 - val_acc: 0.8957\n",
            "Epoch 50/80\n",
            "130000/130000 [==============================] - 207s 2ms/step - loss: 0.0817 - acc: 0.9764 - val_loss: 0.7716 - val_acc: 0.8976\n",
            "Epoch 51/80\n",
            "130000/130000 [==============================] - 207s 2ms/step - loss: 0.0817 - acc: 0.9756 - val_loss: 0.7723 - val_acc: 0.8975\n",
            "Epoch 52/80\n",
            "130000/130000 [==============================] - 207s 2ms/step - loss: 0.0817 - acc: 0.9766 - val_loss: 0.8065 - val_acc: 0.8940\n",
            "Epoch 53/80\n",
            "130000/130000 [==============================] - 207s 2ms/step - loss: 0.0807 - acc: 0.9768 - val_loss: 0.8028 - val_acc: 0.8950\n",
            "Epoch 54/80\n",
            "130000/130000 [==============================] - 207s 2ms/step - loss: 0.0781 - acc: 0.9774 - val_loss: 0.7828 - val_acc: 0.8979\n",
            "Epoch 55/80\n",
            "130000/130000 [==============================] - 207s 2ms/step - loss: 0.0772 - acc: 0.9776 - val_loss: 0.7769 - val_acc: 0.8982\n",
            "Epoch 56/80\n",
            "130000/130000 [==============================] - 207s 2ms/step - loss: 0.0743 - acc: 0.9788 - val_loss: 0.7777 - val_acc: 0.8972\n",
            "Epoch 57/80\n",
            "130000/130000 [==============================] - 207s 2ms/step - loss: 0.0756 - acc: 0.9783 - val_loss: 0.7816 - val_acc: 0.8982\n",
            "Epoch 58/80\n",
            "130000/130000 [==============================] - 207s 2ms/step - loss: 0.0713 - acc: 0.9793 - val_loss: 0.7880 - val_acc: 0.8980\n",
            "Epoch 59/80\n",
            "130000/130000 [==============================] - 207s 2ms/step - loss: 0.0736 - acc: 0.9791 - val_loss: 0.7590 - val_acc: 0.8990\n",
            "Epoch 60/80\n",
            "130000/130000 [==============================] - 207s 2ms/step - loss: 0.0712 - acc: 0.9799 - val_loss: 0.7806 - val_acc: 0.8994\n",
            "Epoch 61/80\n",
            "130000/130000 [==============================] - 207s 2ms/step - loss: 0.0702 - acc: 0.9799 - val_loss: 0.7773 - val_acc: 0.9000\n",
            "Epoch 62/80\n",
            "130000/130000 [==============================] - 207s 2ms/step - loss: 0.0691 - acc: 0.9806 - val_loss: 0.7952 - val_acc: 0.8991\n",
            "Epoch 63/80\n",
            "130000/130000 [==============================] - 207s 2ms/step - loss: 0.0678 - acc: 0.9801 - val_loss: 0.7714 - val_acc: 0.9011\n",
            "Epoch 64/80\n",
            "130000/130000 [==============================] - 207s 2ms/step - loss: 0.0682 - acc: 0.9808 - val_loss: 0.7852 - val_acc: 0.9001\n",
            "Epoch 65/80\n",
            "130000/130000 [==============================] - 207s 2ms/step - loss: 0.0655 - acc: 0.9810 - val_loss: 0.7679 - val_acc: 0.8996\n",
            "Epoch 66/80\n",
            "130000/130000 [==============================] - 207s 2ms/step - loss: 0.0650 - acc: 0.9811 - val_loss: 0.7763 - val_acc: 0.8999\n",
            "Epoch 67/80\n",
            "130000/130000 [==============================] - 207s 2ms/step - loss: 0.0636 - acc: 0.9817 - val_loss: 0.7892 - val_acc: 0.9008\n",
            "Epoch 68/80\n",
            "130000/130000 [==============================] - 207s 2ms/step - loss: 0.0625 - acc: 0.9818 - val_loss: 0.7571 - val_acc: 0.9017\n",
            "Epoch 69/80\n",
            "130000/130000 [==============================] - 207s 2ms/step - loss: 0.0595 - acc: 0.9827 - val_loss: 0.7780 - val_acc: 0.9005\n",
            "Epoch 70/80\n",
            "130000/130000 [==============================] - 207s 2ms/step - loss: 0.0629 - acc: 0.9819 - val_loss: 0.7730 - val_acc: 0.9006\n",
            "Epoch 71/80\n",
            "130000/130000 [==============================] - 207s 2ms/step - loss: 0.0623 - acc: 0.9825 - val_loss: 0.7901 - val_acc: 0.8988\n",
            "Epoch 72/80\n",
            "130000/130000 [==============================] - 207s 2ms/step - loss: 0.0614 - acc: 0.9826 - val_loss: 0.7837 - val_acc: 0.9005\n",
            "Epoch 73/80\n",
            "130000/130000 [==============================] - 207s 2ms/step - loss: 0.0603 - acc: 0.9830 - val_loss: 0.8077 - val_acc: 0.8963\n",
            "Epoch 74/80\n",
            "130000/130000 [==============================] - 207s 2ms/step - loss: 0.0621 - acc: 0.9824 - val_loss: 0.7569 - val_acc: 0.9016\n",
            "Epoch 75/80\n",
            "130000/130000 [==============================] - 207s 2ms/step - loss: 0.0593 - acc: 0.9833 - val_loss: 0.7522 - val_acc: 0.9019\n",
            "Epoch 76/80\n",
            "130000/130000 [==============================] - 207s 2ms/step - loss: 0.0587 - acc: 0.9835 - val_loss: 0.7670 - val_acc: 0.9006\n",
            "Epoch 77/80\n",
            "130000/130000 [==============================] - 207s 2ms/step - loss: 0.0584 - acc: 0.9836 - val_loss: 0.7596 - val_acc: 0.9018\n",
            "Epoch 78/80\n",
            "130000/130000 [==============================] - 207s 2ms/step - loss: 0.0559 - acc: 0.9840 - val_loss: 0.7602 - val_acc: 0.9006\n",
            "Epoch 79/80\n",
            "130000/130000 [==============================] - 207s 2ms/step - loss: 0.0564 - acc: 0.9838 - val_loss: 0.7728 - val_acc: 0.9000\n",
            "Epoch 80/80\n",
            "130000/130000 [==============================] - 207s 2ms/step - loss: 0.0574 - acc: 0.9832 - val_loss: 0.7615 - val_acc: 0.9034\n"
          ],
          "name": "stdout"
        }
      ]
    },
    {
      "cell_type": "code",
      "metadata": {
        "id": "YH4iqbOOoXnX",
        "colab_type": "code",
        "outputId": "2151602c-bcdc-4595-8aca-d65cdd6e5c11",
        "colab": {
          "base_uri": "https://localhost:8080/",
          "height": 381
        }
      },
      "source": [
        "import matplotlib.pyplot as plt\n",
        "scores = model.evaluate(testarray1,testy, verbose=0)\n",
        "print(\"Accuracy: %.2f%%\" % (scores[1]*100))\n",
        "\n",
        "# Test and train accuracy of the model\n",
        "model_3_test = scores[1]\n",
        "model_3_train = max(history.history['acc'])\n",
        "\n",
        "# Plotting Train and Test Loss VS no. of epochs\n",
        "# list of epoch numbers\n",
        "x = list(range(1,81))\n",
        "\n",
        "# Validation loss\n",
        "vy = history.history['val_loss']\n",
        "# Training loss\n",
        "ty = history.history['loss']\n",
        "\n",
        "# Calling the function to draw the plot\n",
        "plt_dynamic(x, vy, ty)"
      ],
      "execution_count": 0,
      "outputs": [
        {
          "output_type": "stream",
          "text": [
            "Accuracy: 90.34%\n"
          ],
          "name": "stdout"
        },
        {
          "output_type": "display_data",
          "data": {
            "image/png": "[encoded data removed]",
            "text/plain": [
              "<Figure size 720x360 with 1 Axes>"
            ]
          },
          "metadata": {
            "tags": []
          }
        }
      ]
    },
    {
      "cell_type": "code",
      "metadata": {
        "id": "KZeQ5a4XGZhW",
        "colab_type": "code",
        "outputId": "a118ac98-2603-4245-ca3e-5ac39b8f9614",
        "colab": {
          "base_uri": "https://localhost:8080/",
          "height": 2358
        }
      },
      "source": [
        "import keras as keras\n",
        "import tensorflow as tf\n",
        "from keras.models import Sequential\n",
        "from keras.layers import Dense,Dropout,Flatten,BatchNormalization\n",
        "from keras.layers import Conv1D,MaxPooling1D\n",
        "from keras.layers import LSTM,Bidirectional\n",
        "model=Sequential()\n",
        "model.add(Dense(256,activation='relu',input_shape=(200,26)))\n",
        "model.add(Dropout(0.3))\n",
        "model.add(BatchNormalization())\n",
        "model.add(LSTM(26,dropout=0.2,return_sequences=True))\n",
        "model.add(BatchNormalization())\n",
        "model.add(Flatten())\n",
        "model.add(Dense(128,activation='relu',input_shape=(200,26)))\n",
        "model.add(Dropout(0.3))\n",
        "model.add(BatchNormalization())\n",
        "model.add(Dense(11180,activation='softmax'))\n",
        "model.compile(loss=keras.losses.sparse_categorical_crossentropy,optimizer='adam',metrics=['accuracy'])\n",
        "history=model.fit(trainarray1,trainy,epochs=60,validation_data=[testarray1,testy],batch_size=128) \n"
      ],
      "execution_count": 0,
      "outputs": [
        {
          "output_type": "stream",
          "text": [
            "WARNING: Logging before flag parsing goes to stderr.\n",
            "W0619 16:14:51.595402 140045008664448 deprecation_wrapper.py:119] From /usr/local/lib/python3.6/dist-packages/keras/backend/tensorflow_backend.py:74: The name tf.get_default_graph is deprecated. Please use tf.compat.v1.get_default_graph instead.\n",
            "\n",
            "W0619 16:14:51.627513 140045008664448 deprecation_wrapper.py:119] From /usr/local/lib/python3.6/dist-packages/keras/backend/tensorflow_backend.py:517: The name tf.placeholder is deprecated. Please use tf.compat.v1.placeholder instead.\n",
            "\n",
            "W0619 16:14:51.638072 140045008664448 deprecation_wrapper.py:119] From /usr/local/lib/python3.6/dist-packages/keras/backend/tensorflow_backend.py:4138: The name tf.random_uniform is deprecated. Please use tf.random.uniform instead.\n",
            "\n",
            "W0619 16:14:51.663547 140045008664448 deprecation_wrapper.py:119] From /usr/local/lib/python3.6/dist-packages/keras/backend/tensorflow_backend.py:133: The name tf.placeholder_with_default is deprecated. Please use tf.compat.v1.placeholder_with_default instead.\n",
            "\n",
            "W0619 16:14:51.673146 140045008664448 deprecation.py:506] From /usr/local/lib/python3.6/dist-packages/keras/backend/tensorflow_backend.py:3445: calling dropout (from tensorflow.python.ops.nn_ops) with keep_prob is deprecated and will be removed in a future version.\n",
            "Instructions for updating:\n",
            "Please use `rate` instead of `keep_prob`. Rate should be set to `rate = 1 - keep_prob`.\n",
            "W0619 16:14:52.402341 140045008664448 deprecation_wrapper.py:119] From /usr/local/lib/python3.6/dist-packages/keras/optimizers.py:790: The name tf.train.Optimizer is deprecated. Please use tf.compat.v1.train.Optimizer instead.\n",
            "\n",
            "W0619 16:14:52.425379 140045008664448 deprecation_wrapper.py:119] From /usr/local/lib/python3.6/dist-packages/keras/backend/tensorflow_backend.py:3341: The name tf.log is deprecated. Please use tf.math.log instead.\n",
            "\n",
            "W0619 16:14:52.531753 140045008664448 deprecation.py:323] From /usr/local/lib/python3.6/dist-packages/tensorflow/python/ops/math_grad.py:1250: add_dispatch_support.<locals>.wrapper (from tensorflow.python.ops.array_ops) is deprecated and will be removed in a future version.\n",
            "Instructions for updating:\n",
            "Use tf.where in 2.0, which has the same broadcast rule as np.where\n"
          ],
          "name": "stderr"
        },
        {
          "output_type": "stream",
          "text": [
            "Train on 130000 samples, validate on 20000 samples\n",
            "Epoch 1/60\n",
            "130000/130000 [==============================] - 364s 3ms/step - loss: 7.1105 - acc: 0.0813 - val_loss: 5.0234 - val_acc: 0.3011\n",
            "Epoch 2/60\n",
            "130000/130000 [==============================] - 354s 3ms/step - loss: 4.0551 - acc: 0.3979 - val_loss: 2.2129 - val_acc: 0.6724\n",
            "Epoch 3/60\n",
            "130000/130000 [==============================] - 356s 3ms/step - loss: 2.1054 - acc: 0.6402 - val_loss: 1.2749 - val_acc: 0.7995\n",
            "Epoch 4/60\n",
            "130000/130000 [==============================] - 357s 3ms/step - loss: 1.2024 - acc: 0.7645 - val_loss: 0.9455 - val_acc: 0.8418\n",
            "Epoch 5/60\n",
            "130000/130000 [==============================] - 356s 3ms/step - loss: 0.7732 - acc: 0.8329 - val_loss: 0.8285 - val_acc: 0.8560\n",
            "Epoch 6/60\n",
            "130000/130000 [==============================] - 348s 3ms/step - loss: 0.5557 - acc: 0.8712 - val_loss: 0.7840 - val_acc: 0.8620\n",
            "Epoch 7/60\n",
            "130000/130000 [==============================] - 351s 3ms/step - loss: 0.4395 - acc: 0.8931 - val_loss: 0.7603 - val_acc: 0.8665\n",
            "Epoch 8/60\n",
            "130000/130000 [==============================] - 350s 3ms/step - loss: 0.3698 - acc: 0.9051 - val_loss: 0.7541 - val_acc: 0.8669\n",
            "Epoch 9/60\n",
            "130000/130000 [==============================] - 358s 3ms/step - loss: 0.3255 - acc: 0.9154 - val_loss: 0.7593 - val_acc: 0.8695\n",
            "Epoch 10/60\n",
            "130000/130000 [==============================] - 359s 3ms/step - loss: 0.2862 - acc: 0.9230 - val_loss: 0.7505 - val_acc: 0.8728\n",
            "Epoch 11/60\n",
            "130000/130000 [==============================] - 351s 3ms/step - loss: 0.2600 - acc: 0.9296 - val_loss: 0.7510 - val_acc: 0.8728\n",
            "Epoch 12/60\n",
            "130000/130000 [==============================] - 351s 3ms/step - loss: 0.2408 - acc: 0.9343 - val_loss: 0.7619 - val_acc: 0.8719\n",
            "Epoch 13/60\n",
            "130000/130000 [==============================] - 348s 3ms/step - loss: 0.2261 - acc: 0.9375 - val_loss: 0.7672 - val_acc: 0.8732\n",
            "Epoch 14/60\n",
            "130000/130000 [==============================] - 347s 3ms/step - loss: 0.2149 - acc: 0.9403 - val_loss: 0.7720 - val_acc: 0.8720\n",
            "Epoch 15/60\n",
            "130000/130000 [==============================] - 347s 3ms/step - loss: 0.1985 - acc: 0.9444 - val_loss: 0.7741 - val_acc: 0.8718\n",
            "Epoch 16/60\n",
            "130000/130000 [==============================] - 346s 3ms/step - loss: 0.1896 - acc: 0.9467 - val_loss: 0.7699 - val_acc: 0.8752\n",
            "Epoch 17/60\n",
            "130000/130000 [==============================] - 349s 3ms/step - loss: 0.1817 - acc: 0.9484 - val_loss: 0.7783 - val_acc: 0.8742\n",
            "Epoch 18/60\n",
            "130000/130000 [==============================] - 353s 3ms/step - loss: 0.1705 - acc: 0.9515 - val_loss: 0.7826 - val_acc: 0.8750\n",
            "Epoch 19/60\n",
            "130000/130000 [==============================] - 350s 3ms/step - loss: 0.1637 - acc: 0.9538 - val_loss: 0.7891 - val_acc: 0.8775\n",
            "Epoch 20/60\n",
            "130000/130000 [==============================] - 348s 3ms/step - loss: 0.1598 - acc: 0.9549 - val_loss: 0.7953 - val_acc: 0.8738\n",
            "Epoch 21/60\n",
            "130000/130000 [==============================] - 349s 3ms/step - loss: 0.1567 - acc: 0.9551 - val_loss: 0.7832 - val_acc: 0.8774\n",
            "Epoch 22/60\n",
            "130000/130000 [==============================] - 348s 3ms/step - loss: 0.1511 - acc: 0.9569 - val_loss: 0.7959 - val_acc: 0.8748\n",
            "Epoch 23/60\n",
            "130000/130000 [==============================] - 346s 3ms/step - loss: 0.1450 - acc: 0.9580 - val_loss: 0.7964 - val_acc: 0.8768\n",
            "Epoch 24/60\n",
            "130000/130000 [==============================] - 347s 3ms/step - loss: 0.1406 - acc: 0.9596 - val_loss: 0.8018 - val_acc: 0.8761\n",
            "Epoch 25/60\n",
            "130000/130000 [==============================] - 345s 3ms/step - loss: 0.1376 - acc: 0.9602 - val_loss: 0.8057 - val_acc: 0.8779\n",
            "Epoch 26/60\n",
            "130000/130000 [==============================] - 345s 3ms/step - loss: 0.1319 - acc: 0.9614 - val_loss: 0.8022 - val_acc: 0.8775\n",
            "Epoch 27/60\n",
            "130000/130000 [==============================] - 347s 3ms/step - loss: 0.1293 - acc: 0.9625 - val_loss: 0.8029 - val_acc: 0.8774\n",
            "Epoch 28/60\n",
            "130000/130000 [==============================] - 349s 3ms/step - loss: 0.1273 - acc: 0.9632 - val_loss: 0.8071 - val_acc: 0.8779\n",
            "Epoch 29/60\n",
            "130000/130000 [==============================] - 347s 3ms/step - loss: 0.1256 - acc: 0.9640 - val_loss: 0.7995 - val_acc: 0.8778\n",
            "Epoch 30/60\n",
            "130000/130000 [==============================] - 349s 3ms/step - loss: 0.1164 - acc: 0.9662 - val_loss: 0.8161 - val_acc: 0.8770\n",
            "Epoch 31/60\n",
            "130000/130000 [==============================] - 351s 3ms/step - loss: 0.1188 - acc: 0.9654 - val_loss: 0.8068 - val_acc: 0.8780\n",
            "Epoch 32/60\n",
            "130000/130000 [==============================] - 354s 3ms/step - loss: 0.1140 - acc: 0.9662 - val_loss: 0.8140 - val_acc: 0.8799\n",
            "Epoch 33/60\n",
            "130000/130000 [==============================] - 353s 3ms/step - loss: 0.1124 - acc: 0.9676 - val_loss: 0.8021 - val_acc: 0.8793\n",
            "Epoch 34/60\n",
            "130000/130000 [==============================] - 352s 3ms/step - loss: 0.1067 - acc: 0.9686 - val_loss: 0.8056 - val_acc: 0.8797\n",
            "Epoch 35/60\n",
            "130000/130000 [==============================] - 349s 3ms/step - loss: 0.1088 - acc: 0.9679 - val_loss: 0.8234 - val_acc: 0.8788\n",
            "Epoch 36/60\n",
            "130000/130000 [==============================] - 350s 3ms/step - loss: 0.1072 - acc: 0.9687 - val_loss: 0.8215 - val_acc: 0.8774\n",
            "Epoch 37/60\n",
            "130000/130000 [==============================] - 352s 3ms/step - loss: 0.1065 - acc: 0.9687 - val_loss: 0.8254 - val_acc: 0.8796\n",
            "Epoch 38/60\n",
            "130000/130000 [==============================] - 352s 3ms/step - loss: 0.1149 - acc: 0.9669 - val_loss: 0.8336 - val_acc: 0.8789\n",
            "Epoch 39/60\n",
            "130000/130000 [==============================] - 349s 3ms/step - loss: 0.1023 - acc: 0.9699 - val_loss: 0.8270 - val_acc: 0.8800\n",
            "Epoch 40/60\n",
            "130000/130000 [==============================] - 350s 3ms/step - loss: 0.0967 - acc: 0.9714 - val_loss: 0.8330 - val_acc: 0.8794\n",
            "Epoch 41/60\n",
            "130000/130000 [==============================] - 351s 3ms/step - loss: 0.0959 - acc: 0.9718 - val_loss: 0.8277 - val_acc: 0.8810\n",
            "Epoch 42/60\n",
            "130000/130000 [==============================] - 350s 3ms/step - loss: 0.0961 - acc: 0.9715 - val_loss: 0.8361 - val_acc: 0.8769\n",
            "Epoch 43/60\n",
            "130000/130000 [==============================] - 350s 3ms/step - loss: 0.0930 - acc: 0.9725 - val_loss: 0.8367 - val_acc: 0.8816\n",
            "Epoch 44/60\n",
            "130000/130000 [==============================] - 350s 3ms/step - loss: 0.0947 - acc: 0.9728 - val_loss: 0.8306 - val_acc: 0.8809\n",
            "Epoch 45/60\n",
            "130000/130000 [==============================] - 350s 3ms/step - loss: 0.0918 - acc: 0.9731 - val_loss: 0.8391 - val_acc: 0.8805\n",
            "Epoch 46/60\n",
            "130000/130000 [==============================] - 351s 3ms/step - loss: 0.0873 - acc: 0.9743 - val_loss: 0.8397 - val_acc: 0.8806\n",
            "Epoch 47/60\n",
            "130000/130000 [==============================] - 351s 3ms/step - loss: 0.0902 - acc: 0.9736 - val_loss: 0.8352 - val_acc: 0.8816\n",
            "Epoch 48/60\n",
            "130000/130000 [==============================] - 350s 3ms/step - loss: 0.0867 - acc: 0.9742 - val_loss: 0.8360 - val_acc: 0.8820\n",
            "Epoch 49/60\n",
            "130000/130000 [==============================] - 353s 3ms/step - loss: 0.0852 - acc: 0.9743 - val_loss: 0.8438 - val_acc: 0.8806\n",
            "Epoch 50/60\n",
            "130000/130000 [==============================] - 352s 3ms/step - loss: 0.0852 - acc: 0.9750 - val_loss: 0.8409 - val_acc: 0.8825\n",
            "Epoch 51/60\n",
            "130000/130000 [==============================] - 355s 3ms/step - loss: 0.0812 - acc: 0.9756 - val_loss: 0.8556 - val_acc: 0.8812\n",
            "Epoch 52/60\n",
            "130000/130000 [==============================] - 354s 3ms/step - loss: 0.0824 - acc: 0.9757 - val_loss: 0.8384 - val_acc: 0.8831\n",
            "Epoch 53/60\n",
            "130000/130000 [==============================] - 353s 3ms/step - loss: 0.0816 - acc: 0.9764 - val_loss: 0.8481 - val_acc: 0.8814\n",
            "Epoch 54/60\n",
            "130000/130000 [==============================] - 352s 3ms/step - loss: 0.0813 - acc: 0.9758 - val_loss: 0.8457 - val_acc: 0.8817\n",
            "Epoch 55/60\n",
            "130000/130000 [==============================] - 351s 3ms/step - loss: 0.0806 - acc: 0.9763 - val_loss: 0.8539 - val_acc: 0.8822\n",
            "Epoch 56/60\n",
            "130000/130000 [==============================] - 350s 3ms/step - loss: 0.0771 - acc: 0.9778 - val_loss: 0.8569 - val_acc: 0.8811\n",
            "Epoch 57/60\n",
            "130000/130000 [==============================] - 350s 3ms/step - loss: 0.0762 - acc: 0.9775 - val_loss: 0.8511 - val_acc: 0.8827\n",
            "Epoch 58/60\n",
            " 29056/130000 [=====>........................] - ETA: 4:18 - loss: 0.0658 - acc: 0.9801Buffered data was truncated after reaching the output size limit."
          ],
          "name": "stdout"
        }
      ]
    },
    {
      "cell_type": "code",
      "metadata": {
        "id": "4hv4BhYHam9I",
        "colab_type": "code",
        "outputId": "42a02871-4101-49a5-ca24-4a00eabaf34e",
        "colab": {
          "base_uri": "https://localhost:8080/",
          "height": 381
        }
      },
      "source": [
        "import matplotlib.pyplot as plt\n",
        "scores = model.evaluate(testarray1,testy, verbose=0)\n",
        "print(\"Accuracy: %.2f%%\" % (scores[1]*100))\n",
        "\n",
        "# Test and train accuracy of the model\n",
        "model_3_test = scores[1]\n",
        "model_3_train = max(history.history['acc'])\n",
        "\n",
        "# Plotting Train and Test Loss VS no. of epochs\n",
        "# list of epoch numbers\n",
        "x = list(range(1,61))\n",
        "\n",
        "# Validation loss\n",
        "vy = history.history['val_loss']\n",
        "# Training loss\n",
        "ty = history.history['loss']\n",
        "\n",
        "# Calling the function to draw the plot\n",
        "plt_dynamic(x, vy, ty)"
      ],
      "execution_count": 0,
      "outputs": [
        {
          "output_type": "stream",
          "text": [
            "Accuracy: 88.17%\n"
          ],
          "name": "stdout"
        },
        {
          "output_type": "display_data",
          "data": {
            "image/png": "[encoded data removed]",
            "text/plain": [
              "<Figure size 720x360 with 1 Axes>"
            ]
          },
          "metadata": {
            "tags": []
          }
        }
      ]
    },
    {
      "cell_type": "code",
      "metadata": {
        "id": "nfKgalL92CrW",
        "colab_type": "code",
        "outputId": "179dc443-61c1-4265-f65a-729b47112d7f",
        "colab": {
          "base_uri": "https://localhost:8080/",
          "height": 1299
        }
      },
      "source": [
        "import keras as keras\n",
        "import tensorflow as tf\n",
        "from keras.models import Sequential\n",
        "from keras.layers import Dense,Dropout,Flatten,BatchNormalization\n",
        "from keras.layers import Conv1D,MaxPooling1D\n",
        "model=Sequential()\n",
        "model.add(Conv1D(100,kernel_size=10,activation='relu',input_shape=(200,26)))\n",
        "model.add(MaxPooling1D(pool_size=2))\n",
        "model.add(Dropout(0.2))\n",
        "model.add(Conv1D(250,20,activation='relu'))\n",
        "model.add(MaxPooling1D(pool_size=4))\n",
        "model.add(Dropout(0.2))\n",
        "model.add(BatchNormalization())\n",
        "\n",
        "model.add(Flatten())\n",
        "model.add(Dense(11180,activation='softmax'))\n",
        "model.compile(loss=keras.losses.sparse_categorical_crossentropy,optimizer='adam',metrics=['accuracy'])\n",
        "history=model.fit(trainarray1,trainy,epochs=25,validation_data=[testarray1,testy],batch_size=256) \n"
      ],
      "execution_count": 0,
      "outputs": [
        {
          "output_type": "stream",
          "text": [
            "WARNING: Logging before flag parsing goes to stderr.\n",
            "W0618 13:48:12.199924 140483376052096 deprecation_wrapper.py:119] From /usr/local/lib/python3.6/dist-packages/keras/backend/tensorflow_backend.py:74: The name tf.get_default_graph is deprecated. Please use tf.compat.v1.get_default_graph instead.\n",
            "\n",
            "W0618 13:48:12.241334 140483376052096 deprecation_wrapper.py:119] From /usr/local/lib/python3.6/dist-packages/keras/backend/tensorflow_backend.py:517: The name tf.placeholder is deprecated. Please use tf.compat.v1.placeholder instead.\n",
            "\n",
            "W0618 13:48:12.250728 140483376052096 deprecation_wrapper.py:119] From /usr/local/lib/python3.6/dist-packages/keras/backend/tensorflow_backend.py:4138: The name tf.random_uniform is deprecated. Please use tf.random.uniform instead.\n",
            "\n",
            "W0618 13:48:12.290457 140483376052096 deprecation_wrapper.py:119] From /usr/local/lib/python3.6/dist-packages/keras/backend/tensorflow_backend.py:3976: The name tf.nn.max_pool is deprecated. Please use tf.nn.max_pool2d instead.\n",
            "\n",
            "W0618 13:48:12.305730 140483376052096 deprecation_wrapper.py:119] From /usr/local/lib/python3.6/dist-packages/keras/backend/tensorflow_backend.py:133: The name tf.placeholder_with_default is deprecated. Please use tf.compat.v1.placeholder_with_default instead.\n",
            "\n",
            "W0618 13:48:12.314735 140483376052096 deprecation.py:506] From /usr/local/lib/python3.6/dist-packages/keras/backend/tensorflow_backend.py:3445: calling dropout (from tensorflow.python.ops.nn_ops) with keep_prob is deprecated and will be removed in a future version.\n",
            "Instructions for updating:\n",
            "Please use `rate` instead of `keep_prob`. Rate should be set to `rate = 1 - keep_prob`.\n",
            "W0618 13:48:12.492441 140483376052096 deprecation_wrapper.py:119] From /usr/local/lib/python3.6/dist-packages/keras/optimizers.py:790: The name tf.train.Optimizer is deprecated. Please use tf.compat.v1.train.Optimizer instead.\n",
            "\n",
            "W0618 13:48:12.514500 140483376052096 deprecation_wrapper.py:119] From /usr/local/lib/python3.6/dist-packages/keras/backend/tensorflow_backend.py:3341: The name tf.log is deprecated. Please use tf.math.log instead.\n",
            "\n",
            "W0618 13:48:12.617041 140483376052096 deprecation.py:323] From /usr/local/lib/python3.6/dist-packages/tensorflow/python/ops/math_grad.py:1250: add_dispatch_support.<locals>.wrapper (from tensorflow.python.ops.array_ops) is deprecated and will be removed in a future version.\n",
            "Instructions for updating:\n",
            "Use tf.where in 2.0, which has the same broadcast rule as np.where\n"
          ],
          "name": "stderr"
        },
        {
          "output_type": "stream",
          "text": [
            "Train on 130000 samples, validate on 20000 samples\n",
            "Epoch 1/25\n",
            "130000/130000 [==============================] - 77s 591us/step - loss: 5.1009 - acc: 0.3052 - val_loss: 1.9616 - val_acc: 0.6892\n",
            "Epoch 2/25\n",
            "130000/130000 [==============================] - 69s 535us/step - loss: 1.3050 - acc: 0.7648 - val_loss: 1.0471 - val_acc: 0.8212\n",
            "Epoch 3/25\n",
            "130000/130000 [==============================] - 69s 532us/step - loss: 0.4258 - acc: 0.9047 - val_loss: 0.9388 - val_acc: 0.8430\n",
            "Epoch 4/25\n",
            "130000/130000 [==============================] - 69s 531us/step - loss: 0.2238 - acc: 0.9454 - val_loss: 0.9228 - val_acc: 0.8507\n",
            "Epoch 5/25\n",
            "130000/130000 [==============================] - 69s 531us/step - loss: 0.1656 - acc: 0.9579 - val_loss: 1.0461 - val_acc: 0.8388\n",
            "Epoch 6/25\n",
            "130000/130000 [==============================] - 69s 531us/step - loss: 0.1384 - acc: 0.9646 - val_loss: 0.9860 - val_acc: 0.8503\n",
            "Epoch 7/25\n",
            "130000/130000 [==============================] - 69s 531us/step - loss: 0.1185 - acc: 0.9691 - val_loss: 0.9931 - val_acc: 0.8566\n",
            "Epoch 8/25\n",
            "130000/130000 [==============================] - 70s 535us/step - loss: 0.1103 - acc: 0.9708 - val_loss: 1.0009 - val_acc: 0.8611\n",
            "Epoch 9/25\n",
            "130000/130000 [==============================] - 69s 530us/step - loss: 0.0987 - acc: 0.9747 - val_loss: 0.9943 - val_acc: 0.8600\n",
            "Epoch 10/25\n",
            "130000/130000 [==============================] - 69s 529us/step - loss: 0.0927 - acc: 0.9766 - val_loss: 0.9953 - val_acc: 0.8648\n",
            "Epoch 11/25\n",
            "130000/130000 [==============================] - 69s 531us/step - loss: 0.0841 - acc: 0.9788 - val_loss: 1.0196 - val_acc: 0.8641\n",
            "Epoch 12/25\n",
            "130000/130000 [==============================] - 69s 534us/step - loss: 0.0777 - acc: 0.9808 - val_loss: 1.0280 - val_acc: 0.8656\n",
            "Epoch 13/25\n",
            "130000/130000 [==============================] - 69s 532us/step - loss: 0.0733 - acc: 0.9819 - val_loss: 0.9936 - val_acc: 0.8682\n",
            "Epoch 14/25\n",
            "130000/130000 [==============================] - 69s 531us/step - loss: 0.0699 - acc: 0.9831 - val_loss: 1.0235 - val_acc: 0.8646\n",
            "Epoch 15/25\n",
            "130000/130000 [==============================] - 69s 531us/step - loss: 0.0669 - acc: 0.9834 - val_loss: 1.0636 - val_acc: 0.8653\n",
            "Epoch 16/25\n",
            "130000/130000 [==============================] - 69s 529us/step - loss: 0.0622 - acc: 0.9855 - val_loss: 2.5383 - val_acc: 0.7006\n",
            "Epoch 17/25\n",
            "130000/130000 [==============================] - 69s 528us/step - loss: 0.0579 - acc: 0.9864 - val_loss: 1.0205 - val_acc: 0.8738\n",
            "Epoch 18/25\n",
            "130000/130000 [==============================] - 69s 528us/step - loss: 0.0579 - acc: 0.9866 - val_loss: 1.0162 - val_acc: 0.8747\n",
            "Epoch 19/25\n",
            "130000/130000 [==============================] - 69s 529us/step - loss: 0.0531 - acc: 0.9878 - val_loss: 1.0443 - val_acc: 0.8726\n",
            "Epoch 20/25\n",
            "130000/130000 [==============================] - 69s 529us/step - loss: 0.0540 - acc: 0.9874 - val_loss: 1.0252 - val_acc: 0.8741\n",
            "Epoch 21/25\n",
            "130000/130000 [==============================] - 69s 528us/step - loss: 0.0522 - acc: 0.9881 - val_loss: 1.0139 - val_acc: 0.8741\n",
            "Epoch 22/25\n",
            "130000/130000 [==============================] - 69s 527us/step - loss: 0.0489 - acc: 0.9892 - val_loss: 1.0241 - val_acc: 0.8778\n",
            "Epoch 23/25\n",
            "130000/130000 [==============================] - 69s 528us/step - loss: 0.0502 - acc: 0.9888 - val_loss: 1.0487 - val_acc: 0.8726\n",
            "Epoch 24/25\n",
            "130000/130000 [==============================] - 69s 529us/step - loss: 0.0464 - acc: 0.9900 - val_loss: 1.0362 - val_acc: 0.8773\n",
            "Epoch 25/25\n",
            "130000/130000 [==============================] - 69s 528us/step - loss: 0.0469 - acc: 0.9899 - val_loss: 1.0409 - val_acc: 0.8772\n"
          ],
          "name": "stdout"
        }
      ]
    },
    {
      "cell_type": "code",
      "metadata": {
        "id": "sJ3FUzaU7Le1",
        "colab_type": "code",
        "outputId": "415aa4d7-ba85-4de4-e63b-5935dbda7e0b",
        "colab": {
          "base_uri": "https://localhost:8080/",
          "height": 383
        }
      },
      "source": [
        "import matplotlib.pyplot as plt\n",
        "scores = model.evaluate(testarray1,testy, verbose=0)\n",
        "print(\"Accuracy: %.2f%%\" % (scores[1]*100))\n",
        "\n",
        "# Test and train accuracy of the model\n",
        "model_3_test = scores[1]\n",
        "model_3_train = max(history.history['acc'])\n",
        "\n",
        "# Plotting Train and Test Loss VS no. of epochs\n",
        "# list of epoch numbers\n",
        "x = list(range(1,26))\n",
        "\n",
        "# Validation loss\n",
        "vy = history.history['val_loss']\n",
        "# Training loss\n",
        "ty = history.history['loss']\n",
        "\n",
        "# Calling the function to draw the plot\n",
        "plt_dynamic(x, vy, ty)"
      ],
      "execution_count": 0,
      "outputs": [
        {
          "output_type": "stream",
          "text": [
            "Accuracy: 87.72%\n"
          ],
          "name": "stdout"
        },
        {
          "output_type": "display_data",
          "data": {
            "image/png": "[encoded data removed]",
            "text/plain": [
              "<Figure size 720x360 with 1 Axes>"
            ]
          },
          "metadata": {
            "tags": []
          }
        }
      ]
    },
    {
      "cell_type": "code",
      "metadata": {
        "id": "-f6YYGDm9Dd9",
        "colab_type": "code",
        "outputId": "80e0a2fd-20bf-44fc-a33c-ec02e9120e24",
        "colab": {
          "base_uri": "https://localhost:8080/",
          "height": 2034
        }
      },
      "source": [
        "import keras as keras\n",
        "import tensorflow as tf\n",
        "from keras.models import Sequential\n",
        "from keras.layers import Dense,Dropout,Flatten,BatchNormalization\n",
        "from keras.layers import Conv1D,MaxPooling1D\n",
        "model=Sequential()\n",
        "model.add(Conv1D(100,kernel_size=25,activation='relu',input_shape=(200,26)))\n",
        "model.add(MaxPooling1D(pool_size=2))\n",
        "model.add(Dropout(0.2))\n",
        "model.add(Conv1D(250,26,activation='relu'))\n",
        "model.add(MaxPooling1D(pool_size=4))\n",
        "\n",
        "model.add(Dropout(0.3))\n",
        "model.add(BatchNormalization())\n",
        "\n",
        "model.add(Flatten())\n",
        "model.add(Dense(11180,activation='softmax'))\n",
        "model.compile(loss=keras.losses.sparse_categorical_crossentropy,optimizer='adam',metrics=['accuracy'])\n",
        "history=model.fit(trainarray1,trainy,epochs=55,validation_data=[testarray1,testy],batch_size=64) \n"
      ],
      "execution_count": 0,
      "outputs": [
        {
          "output_type": "stream",
          "text": [
            "Train on 130000 samples, validate on 20000 samples\n",
            "Epoch 1/80\n",
            "130000/130000 [==============================] - 98s 755us/step - loss: 5.9637 - acc: 0.1907 - val_loss: 2.9397 - val_acc: 0.5316\n",
            "Epoch 2/80\n",
            "130000/130000 [==============================] - 95s 729us/step - loss: 2.6973 - acc: 0.5357 - val_loss: 1.5884 - val_acc: 0.7259\n",
            "Epoch 3/80\n",
            "130000/130000 [==============================] - 95s 728us/step - loss: 1.5215 - acc: 0.6920 - val_loss: 1.2224 - val_acc: 0.7853\n",
            "Epoch 4/80\n",
            "130000/130000 [==============================] - 95s 728us/step - loss: 1.0194 - acc: 0.7727 - val_loss: 1.0830 - val_acc: 0.8136\n",
            "Epoch 5/80\n",
            "130000/130000 [==============================] - 95s 729us/step - loss: 0.7519 - acc: 0.8211 - val_loss: 1.0255 - val_acc: 0.8237\n",
            "Epoch 6/80\n",
            "130000/130000 [==============================] - 95s 728us/step - loss: 0.6017 - acc: 0.8516 - val_loss: 0.9725 - val_acc: 0.8367\n",
            "Epoch 7/80\n",
            "130000/130000 [==============================] - 95s 729us/step - loss: 0.5003 - acc: 0.8719 - val_loss: 0.9515 - val_acc: 0.8442\n",
            "Epoch 8/80\n",
            "130000/130000 [==============================] - 95s 728us/step - loss: 0.4340 - acc: 0.8874 - val_loss: 0.9436 - val_acc: 0.8474\n",
            "Epoch 9/80\n",
            "130000/130000 [==============================] - 95s 728us/step - loss: 0.3851 - acc: 0.8985 - val_loss: 0.9444 - val_acc: 0.8515\n",
            "Epoch 10/80\n",
            "130000/130000 [==============================] - 94s 727us/step - loss: 0.3467 - acc: 0.9069 - val_loss: 0.9340 - val_acc: 0.8546\n",
            "Epoch 11/80\n",
            "130000/130000 [==============================] - 95s 727us/step - loss: 0.3239 - acc: 0.9135 - val_loss: 0.9380 - val_acc: 0.8571\n",
            "Epoch 12/80\n",
            "130000/130000 [==============================] - 94s 727us/step - loss: 0.2959 - acc: 0.9198 - val_loss: 0.9285 - val_acc: 0.8603\n",
            "Epoch 13/80\n",
            "130000/130000 [==============================] - 95s 728us/step - loss: 0.2776 - acc: 0.9250 - val_loss: 0.9277 - val_acc: 0.8610\n",
            "Epoch 14/80\n",
            "130000/130000 [==============================] - 95s 727us/step - loss: 0.2538 - acc: 0.9308 - val_loss: 0.9311 - val_acc: 0.8636\n",
            "Epoch 15/80\n",
            "130000/130000 [==============================] - 95s 727us/step - loss: 0.2433 - acc: 0.9337 - val_loss: 0.9091 - val_acc: 0.8671\n",
            "Epoch 16/80\n",
            "130000/130000 [==============================] - 95s 727us/step - loss: 0.2336 - acc: 0.9363 - val_loss: 0.9291 - val_acc: 0.8642\n",
            "Epoch 17/80\n",
            "130000/130000 [==============================] - 95s 727us/step - loss: 0.2204 - acc: 0.9397 - val_loss: 0.9106 - val_acc: 0.8659\n",
            "Epoch 18/80\n",
            "130000/130000 [==============================] - 95s 727us/step - loss: 0.2116 - acc: 0.9431 - val_loss: 0.8966 - val_acc: 0.8700\n",
            "Epoch 19/80\n",
            "130000/130000 [==============================] - 95s 727us/step - loss: 0.2009 - acc: 0.9450 - val_loss: 0.9074 - val_acc: 0.8717\n",
            "Epoch 20/80\n",
            "130000/130000 [==============================] - 94s 726us/step - loss: 0.1941 - acc: 0.9463 - val_loss: 0.8932 - val_acc: 0.8721\n",
            "Epoch 21/80\n",
            "130000/130000 [==============================] - 95s 727us/step - loss: 0.1859 - acc: 0.9489 - val_loss: 0.9019 - val_acc: 0.8721\n",
            "Epoch 22/80\n",
            "130000/130000 [==============================] - 95s 727us/step - loss: 0.1826 - acc: 0.9501 - val_loss: 0.8993 - val_acc: 0.8744\n",
            "Epoch 23/80\n",
            "130000/130000 [==============================] - 95s 728us/step - loss: 0.1741 - acc: 0.9526 - val_loss: 0.9086 - val_acc: 0.8718\n",
            "Epoch 24/80\n",
            "130000/130000 [==============================] - 95s 728us/step - loss: 0.1663 - acc: 0.9544 - val_loss: 0.8825 - val_acc: 0.8750\n",
            "Epoch 25/80\n",
            "130000/130000 [==============================] - 95s 728us/step - loss: 0.1666 - acc: 0.9545 - val_loss: 0.8968 - val_acc: 0.8749\n",
            "Epoch 26/80\n",
            "130000/130000 [==============================] - 95s 728us/step - loss: 0.1564 - acc: 0.9572 - val_loss: 0.8901 - val_acc: 0.8753\n",
            "Epoch 27/80\n",
            "130000/130000 [==============================] - 95s 728us/step - loss: 0.1568 - acc: 0.9572 - val_loss: 0.8926 - val_acc: 0.8768\n",
            "Epoch 28/80\n",
            "130000/130000 [==============================] - 95s 727us/step - loss: 0.1505 - acc: 0.9592 - val_loss: 0.8964 - val_acc: 0.8769\n",
            "Epoch 29/80\n",
            "130000/130000 [==============================] - 95s 728us/step - loss: 0.1443 - acc: 0.9610 - val_loss: 0.8780 - val_acc: 0.8797\n",
            "Epoch 30/80\n",
            "130000/130000 [==============================] - 95s 727us/step - loss: 0.1426 - acc: 0.9609 - val_loss: 0.9063 - val_acc: 0.8762\n",
            "Epoch 31/80\n",
            "130000/130000 [==============================] - 95s 727us/step - loss: 0.1384 - acc: 0.9620 - val_loss: 0.8973 - val_acc: 0.8783\n",
            "Epoch 32/80\n",
            "130000/130000 [==============================] - 95s 727us/step - loss: 0.1329 - acc: 0.9632 - val_loss: 0.8948 - val_acc: 0.8797\n",
            "Epoch 33/80\n",
            "130000/130000 [==============================] - 94s 727us/step - loss: 0.1314 - acc: 0.9639 - val_loss: 0.8832 - val_acc: 0.8812\n",
            "Epoch 34/80\n",
            "130000/130000 [==============================] - 96s 735us/step - loss: 0.1264 - acc: 0.9650 - val_loss: 0.8835 - val_acc: 0.8800\n",
            "Epoch 35/80\n",
            "130000/130000 [==============================] - 95s 730us/step - loss: 0.1274 - acc: 0.9652 - val_loss: 0.8742 - val_acc: 0.8829\n",
            "Epoch 36/80\n",
            "130000/130000 [==============================] - 95s 730us/step - loss: 0.1214 - acc: 0.9669 - val_loss: 0.8891 - val_acc: 0.8798\n",
            "Epoch 37/80\n",
            "130000/130000 [==============================] - 95s 729us/step - loss: 0.1245 - acc: 0.9657 - val_loss: 0.8730 - val_acc: 0.8835\n",
            "Epoch 38/80\n",
            "130000/130000 [==============================] - 95s 731us/step - loss: 0.1195 - acc: 0.9673 - val_loss: 0.8715 - val_acc: 0.8819\n",
            "Epoch 39/80\n",
            "130000/130000 [==============================] - 95s 733us/step - loss: 0.1151 - acc: 0.9684 - val_loss: 0.8703 - val_acc: 0.8832\n",
            "Epoch 40/80\n",
            "130000/130000 [==============================] - 95s 733us/step - loss: 0.1134 - acc: 0.9693 - val_loss: 0.8643 - val_acc: 0.8832\n",
            "Epoch 41/80\n",
            "130000/130000 [==============================] - 96s 738us/step - loss: 0.1143 - acc: 0.9688 - val_loss: 0.8697 - val_acc: 0.8839\n",
            "Epoch 42/80\n",
            "130000/130000 [==============================] - 96s 735us/step - loss: 0.1094 - acc: 0.9702 - val_loss: 0.8668 - val_acc: 0.8849\n",
            "Epoch 43/80\n",
            "130000/130000 [==============================] - 95s 734us/step - loss: 0.1075 - acc: 0.9708 - val_loss: 0.8576 - val_acc: 0.8841\n",
            "Epoch 44/80\n",
            "130000/130000 [==============================] - 95s 734us/step - loss: 0.1071 - acc: 0.9713 - val_loss: 0.8601 - val_acc: 0.8844\n",
            "Epoch 45/80\n",
            "130000/130000 [==============================] - 96s 735us/step - loss: 0.1053 - acc: 0.9715 - val_loss: 0.8715 - val_acc: 0.8850\n",
            "Epoch 46/80\n",
            "130000/130000 [==============================] - 96s 735us/step - loss: 0.1056 - acc: 0.9716 - val_loss: 0.8693 - val_acc: 0.8855\n",
            "Epoch 47/80\n",
            "130000/130000 [==============================] - 96s 735us/step - loss: 0.1004 - acc: 0.9729 - val_loss: 0.8746 - val_acc: 0.8846\n",
            "Epoch 48/80\n",
            "130000/130000 [==============================] - 96s 735us/step - loss: 0.0994 - acc: 0.9732 - val_loss: 0.8684 - val_acc: 0.8840\n",
            "Epoch 49/80\n",
            "130000/130000 [==============================] - 96s 735us/step - loss: 0.0980 - acc: 0.9735 - val_loss: 0.8739 - val_acc: 0.8850\n",
            "Epoch 50/80\n",
            "130000/130000 [==============================] - 96s 735us/step - loss: 0.0977 - acc: 0.9738 - val_loss: 0.8547 - val_acc: 0.8856\n",
            "Epoch 51/80\n",
            "130000/130000 [==============================] - 95s 734us/step - loss: 0.0971 - acc: 0.9738 - val_loss: 0.8667 - val_acc: 0.8857\n",
            "Epoch 52/80\n",
            "130000/130000 [==============================] - 96s 736us/step - loss: 0.0942 - acc: 0.9743 - val_loss: 0.8669 - val_acc: 0.8850\n",
            "Epoch 53/80\n",
            "130000/130000 [==============================] - 96s 735us/step - loss: 0.0946 - acc: 0.9745 - val_loss: 0.8598 - val_acc: 0.8870\n",
            "Epoch 54/80\n",
            "130000/130000 [==============================] - 96s 735us/step - loss: 0.0934 - acc: 0.9749 - val_loss: 0.8530 - val_acc: 0.8872\n",
            "Epoch 55/80\n",
            "130000/130000 [==============================] - 96s 737us/step - loss: 0.0902 - acc: 0.9759 - val_loss: 0.8600 - val_acc: 0.8869\n",
            "Epoch 56/80\n",
            "130000/130000 [==============================] - 95s 734us/step - loss: 0.0914 - acc: 0.9755 - val_loss: 0.8576 - val_acc: 0.8897\n",
            "Epoch 57/80\n",
            " 83776/130000 [==================>...........] - ETA: 33s - loss: 0.0883 - acc: 0.9761Buffered data was truncated after reaching the output size limit."
          ],
          "name": "stdout"
        }
      ]
    },
    {
      "cell_type": "code",
      "metadata": {
        "id": "PTiS6DDH9VlC",
        "colab_type": "code",
        "outputId": "dfbcadf3-d3ef-4511-e557-88b5cf638a46",
        "colab": {
          "base_uri": "https://localhost:8080/",
          "height": 383
        }
      },
      "source": [
        "import matplotlib.pyplot as plt\n",
        "scores = model.evaluate(testarray1,testy, verbose=0)\n",
        "print(\"Accuracy: %.2f%%\" % (scores[1]*100))\n",
        "\n",
        "# Test and train accuracy of the model\n",
        "model_3_test = scores[1]\n",
        "model_3_train = max(history.history['acc'])\n",
        "\n",
        "# Plotting Train and Test Loss VS no. of epochs\n",
        "# list of epoch numbers\n",
        "x = list(range(1,66))\n",
        "\n",
        "# Validation loss\n",
        "\n",
        "vy = history.history['val_loss']\n",
        "# Training loss\n",
        "ty = history.history['loss']\n",
        "\n",
        "# Calling the function to draw the plot\n",
        "plt_dynamic(x, vy, ty)"
      ],
      "execution_count": 0,
      "outputs": [
        {
          "output_type": "stream",
          "text": [
            "Accuracy: 88.89%\n"
          ],
          "name": "stdout"
        },
        {
          "output_type": "display_data",
          "data": {
            "image/png": "[encoded data removed]",
            "text/plain": [
              "<Figure size 720x360 with 1 Axes>"
            ]
          },
          "metadata": {
            "tags": []
          }
        }
      ]
    },
    {
      "cell_type": "code",
      "metadata": {
        "id": "s-WV8sWsiJCd",
        "colab_type": "code",
        "outputId": "069a8d84-f50d-42db-c310-7dbc5f162a96",
        "colab": {
          "base_uri": "https://localhost:8080/",
          "height": 2176
        }
      },
      "source": [
        "import keras as keras\n",
        "import tensorflow as tf\n",
        "from keras.models import Sequential\n",
        "from keras.layers import Dense,Dropout,Flatten,BatchNormalization\n",
        "from keras.layers import Conv1D,MaxPooling1D\n",
        "model=Sequential()\n",
        "model.add(Conv1D(100,kernel_size=(26),activation='relu',input_shape=(200,26)))\n",
        "model.add(MaxPooling1D(pool_size=2))\n",
        "model.add(Dropout(0.5))\n",
        "model.add(Conv1D(250,26,activation='relu'))\n",
        "model.add(MaxPooling1D(pool_size=4))\n",
        "model.add(Flatten())\n",
        "model.add(Dense(11180,activation='softmax'))\n",
        "model.compile(loss=keras.losses.sparse_categorical_crossentropy,optimizer='adam',metrics=['accuracy'])\n",
        "history=model.fit(trainarray1,trainy,epochs=60,validation_data=[testarray1,testy],batch_size=128) \n"
      ],
      "execution_count": 0,
      "outputs": [
        {
          "output_type": "stream",
          "text": [
            "W0618 17:02:57.990099 140483376052096 nn_ops.py:4224] Large dropout rate: 0.6 (>0.5). In TensorFlow 2.x, dropout() uses dropout rate instead of keep_prob. Please ensure that this is intended.\n"
          ],
          "name": "stderr"
        },
        {
          "output_type": "stream",
          "text": [
            "Train on 130000 samples, validate on 20000 samples\n",
            "Epoch 1/60\n",
            "130000/130000 [==============================] - 63s 484us/step - loss: 6.9390 - acc: 0.0836 - val_loss: 4.6362 - val_acc: 0.3158\n",
            "Epoch 2/60\n",
            "130000/130000 [==============================] - 60s 461us/step - loss: 4.3252 - acc: 0.3231 - val_loss: 2.6183 - val_acc: 0.5752\n",
            "Epoch 3/60\n",
            "130000/130000 [==============================] - 60s 462us/step - loss: 2.9310 - acc: 0.4804 - val_loss: 1.8188 - val_acc: 0.6942\n",
            "Epoch 4/60\n",
            "130000/130000 [==============================] - 60s 463us/step - loss: 2.1949 - acc: 0.5759 - val_loss: 1.4445 - val_acc: 0.7467\n",
            "Epoch 5/60\n",
            "130000/130000 [==============================] - 60s 462us/step - loss: 1.7564 - acc: 0.6377 - val_loss: 1.2535 - val_acc: 0.7788\n",
            "Epoch 6/60\n",
            "130000/130000 [==============================] - 60s 462us/step - loss: 1.4390 - acc: 0.6879 - val_loss: 1.1255 - val_acc: 0.8014\n",
            "Epoch 7/60\n",
            "130000/130000 [==============================] - 60s 461us/step - loss: 1.2149 - acc: 0.7254 - val_loss: 1.0493 - val_acc: 0.8143\n",
            "Epoch 8/60\n",
            "130000/130000 [==============================] - 60s 461us/step - loss: 1.0434 - acc: 0.7577 - val_loss: 0.9952 - val_acc: 0.8243\n",
            "Epoch 9/60\n",
            "130000/130000 [==============================] - 60s 462us/step - loss: 0.9207 - acc: 0.7793 - val_loss: 0.9584 - val_acc: 0.8323\n",
            "Epoch 10/60\n",
            "130000/130000 [==============================] - 60s 461us/step - loss: 0.8185 - acc: 0.7998 - val_loss: 0.9210 - val_acc: 0.8423\n",
            "Epoch 11/60\n",
            "130000/130000 [==============================] - 60s 461us/step - loss: 0.7371 - acc: 0.8177 - val_loss: 0.8977 - val_acc: 0.8477\n",
            "Epoch 12/60\n",
            "130000/130000 [==============================] - 60s 461us/step - loss: 0.6679 - acc: 0.8312 - val_loss: 0.8848 - val_acc: 0.8504\n",
            "Epoch 13/60\n",
            "130000/130000 [==============================] - 60s 461us/step - loss: 0.6205 - acc: 0.8411 - val_loss: 0.8671 - val_acc: 0.8534\n",
            "Epoch 14/60\n",
            "130000/130000 [==============================] - 60s 463us/step - loss: 0.5728 - acc: 0.8515 - val_loss: 0.8536 - val_acc: 0.8585\n",
            "Epoch 15/60\n",
            "130000/130000 [==============================] - 60s 462us/step - loss: 0.5408 - acc: 0.8592 - val_loss: 0.8465 - val_acc: 0.8614\n",
            "Epoch 16/60\n",
            "130000/130000 [==============================] - 60s 462us/step - loss: 0.5023 - acc: 0.8678 - val_loss: 0.8340 - val_acc: 0.8633\n",
            "Epoch 17/60\n",
            "130000/130000 [==============================] - 60s 462us/step - loss: 0.4788 - acc: 0.8731 - val_loss: 0.8375 - val_acc: 0.8637\n",
            "Epoch 18/60\n",
            "130000/130000 [==============================] - 60s 461us/step - loss: 0.4502 - acc: 0.8786 - val_loss: 0.8299 - val_acc: 0.8683\n",
            "Epoch 19/60\n",
            "130000/130000 [==============================] - 60s 462us/step - loss: 0.4278 - acc: 0.8847 - val_loss: 0.8158 - val_acc: 0.8703\n",
            "Epoch 20/60\n",
            "130000/130000 [==============================] - 60s 462us/step - loss: 0.4183 - acc: 0.8872 - val_loss: 0.8119 - val_acc: 0.8694\n",
            "Epoch 21/60\n",
            "130000/130000 [==============================] - 60s 462us/step - loss: 0.3872 - acc: 0.8940 - val_loss: 0.8085 - val_acc: 0.8741\n",
            "Epoch 22/60\n",
            "130000/130000 [==============================] - 60s 460us/step - loss: 0.3785 - acc: 0.8960 - val_loss: 0.8044 - val_acc: 0.8760\n",
            "Epoch 23/60\n",
            "130000/130000 [==============================] - 60s 461us/step - loss: 0.3663 - acc: 0.9000 - val_loss: 0.7931 - val_acc: 0.8763\n",
            "Epoch 24/60\n",
            "130000/130000 [==============================] - 60s 462us/step - loss: 0.3512 - acc: 0.9044 - val_loss: 0.7933 - val_acc: 0.8755\n",
            "Epoch 25/60\n",
            "130000/130000 [==============================] - 60s 462us/step - loss: 0.3425 - acc: 0.9045 - val_loss: 0.7896 - val_acc: 0.8770\n",
            "Epoch 26/60\n",
            "130000/130000 [==============================] - 60s 460us/step - loss: 0.3285 - acc: 0.9098 - val_loss: 0.7876 - val_acc: 0.8783\n",
            "Epoch 27/60\n",
            "130000/130000 [==============================] - 60s 461us/step - loss: 0.3170 - acc: 0.9116 - val_loss: 0.7894 - val_acc: 0.8776\n",
            "Epoch 28/60\n",
            "130000/130000 [==============================] - 60s 462us/step - loss: 0.3065 - acc: 0.9144 - val_loss: 0.7886 - val_acc: 0.8787\n",
            "Epoch 29/60\n",
            "130000/130000 [==============================] - 60s 462us/step - loss: 0.3018 - acc: 0.9168 - val_loss: 0.7785 - val_acc: 0.8802\n",
            "Epoch 30/60\n",
            "130000/130000 [==============================] - 60s 464us/step - loss: 0.2937 - acc: 0.9188 - val_loss: 0.7768 - val_acc: 0.8818\n",
            "Epoch 31/60\n",
            "130000/130000 [==============================] - 60s 463us/step - loss: 0.2796 - acc: 0.9221 - val_loss: 0.7875 - val_acc: 0.8797\n",
            "Epoch 32/60\n",
            "130000/130000 [==============================] - 60s 462us/step - loss: 0.2782 - acc: 0.9229 - val_loss: 0.7841 - val_acc: 0.8820\n",
            "Epoch 33/60\n",
            "130000/130000 [==============================] - 60s 463us/step - loss: 0.2666 - acc: 0.9250 - val_loss: 0.7796 - val_acc: 0.8818\n",
            "Epoch 34/60\n",
            "130000/130000 [==============================] - 60s 465us/step - loss: 0.2644 - acc: 0.9255 - val_loss: 0.7733 - val_acc: 0.8841\n",
            "Epoch 35/60\n",
            "130000/130000 [==============================] - 60s 465us/step - loss: 0.2563 - acc: 0.9283 - val_loss: 0.7663 - val_acc: 0.8838\n",
            "Epoch 36/60\n",
            "130000/130000 [==============================] - 60s 463us/step - loss: 0.2503 - acc: 0.9292 - val_loss: 0.7710 - val_acc: 0.8845\n",
            "Epoch 37/60\n",
            "130000/130000 [==============================] - 60s 462us/step - loss: 0.2434 - acc: 0.9309 - val_loss: 0.7629 - val_acc: 0.8854\n",
            "Epoch 38/60\n",
            "130000/130000 [==============================] - 60s 463us/step - loss: 0.2353 - acc: 0.9340 - val_loss: 0.7754 - val_acc: 0.8861\n",
            "Epoch 39/60\n",
            "130000/130000 [==============================] - 60s 462us/step - loss: 0.2319 - acc: 0.9354 - val_loss: 0.7614 - val_acc: 0.8864\n",
            "Epoch 40/60\n",
            "130000/130000 [==============================] - 60s 463us/step - loss: 0.2229 - acc: 0.9369 - val_loss: 0.7643 - val_acc: 0.8881\n",
            "Epoch 41/60\n",
            "130000/130000 [==============================] - 60s 461us/step - loss: 0.2258 - acc: 0.9369 - val_loss: 0.7774 - val_acc: 0.8855\n",
            "Epoch 42/60\n",
            "130000/130000 [==============================] - 60s 461us/step - loss: 0.2225 - acc: 0.9371 - val_loss: 0.7653 - val_acc: 0.8879\n",
            "Epoch 43/60\n",
            "130000/130000 [==============================] - 60s 462us/step - loss: 0.2145 - acc: 0.9405 - val_loss: 0.7537 - val_acc: 0.8883\n",
            "Epoch 44/60\n",
            "130000/130000 [==============================] - 60s 462us/step - loss: 0.2090 - acc: 0.9409 - val_loss: 0.7583 - val_acc: 0.8892\n",
            "Epoch 45/60\n",
            "130000/130000 [==============================] - 60s 462us/step - loss: 0.2064 - acc: 0.9416 - val_loss: 0.7566 - val_acc: 0.8908\n",
            "Epoch 46/60\n",
            "130000/130000 [==============================] - 60s 462us/step - loss: 0.1980 - acc: 0.9438 - val_loss: 0.7459 - val_acc: 0.8921\n",
            "Epoch 47/60\n",
            "130000/130000 [==============================] - 60s 461us/step - loss: 0.2013 - acc: 0.9433 - val_loss: 0.7500 - val_acc: 0.8924\n",
            "Epoch 48/60\n",
            "130000/130000 [==============================] - 60s 460us/step - loss: 0.1967 - acc: 0.9440 - val_loss: 0.7514 - val_acc: 0.8904\n",
            "Epoch 49/60\n",
            "130000/130000 [==============================] - 60s 462us/step - loss: 0.1909 - acc: 0.9455 - val_loss: 0.7493 - val_acc: 0.8915\n",
            "Epoch 50/60\n",
            "130000/130000 [==============================] - 60s 462us/step - loss: 0.1859 - acc: 0.9466 - val_loss: 0.7406 - val_acc: 0.8928\n",
            "Epoch 51/60\n",
            "130000/130000 [==============================] - 60s 462us/step - loss: 0.1883 - acc: 0.9466 - val_loss: 0.7377 - val_acc: 0.8928\n",
            "Epoch 52/60\n",
            "130000/130000 [==============================] - 60s 460us/step - loss: 0.1864 - acc: 0.9478 - val_loss: 0.7423 - val_acc: 0.8935\n",
            "Epoch 53/60\n",
            "130000/130000 [==============================] - 60s 461us/step - loss: 0.1824 - acc: 0.9482 - val_loss: 0.7467 - val_acc: 0.8924\n",
            "Epoch 54/60\n",
            "130000/130000 [==============================] - 60s 462us/step - loss: 0.1782 - acc: 0.9497 - val_loss: 0.7514 - val_acc: 0.8924\n",
            "Epoch 55/60\n",
            "130000/130000 [==============================] - 60s 462us/step - loss: 0.1761 - acc: 0.9503 - val_loss: 0.7476 - val_acc: 0.8924\n",
            "Epoch 56/60\n",
            "130000/130000 [==============================] - 60s 462us/step - loss: 0.1707 - acc: 0.9520 - val_loss: 0.7331 - val_acc: 0.8934\n",
            "Epoch 57/60\n",
            "130000/130000 [==============================] - 60s 462us/step - loss: 0.1691 - acc: 0.9516 - val_loss: 0.7376 - val_acc: 0.8932\n",
            "Epoch 58/60\n",
            "130000/130000 [==============================] - 60s 462us/step - loss: 0.1672 - acc: 0.9517 - val_loss: 0.7382 - val_acc: 0.8957\n",
            "Epoch 59/60\n",
            "130000/130000 [==============================] - 60s 462us/step - loss: 0.1652 - acc: 0.9532 - val_loss: 0.7340 - val_acc: 0.8971\n",
            "Epoch 60/60\n",
            "130000/130000 [==============================] - 60s 462us/step - loss: 0.1650 - acc: 0.9524 - val_loss: 0.7369 - val_acc: 0.8960\n"
          ],
          "name": "stdout"
        }
      ]
    },
    {
      "cell_type": "code",
      "metadata": {
        "id": "ewFM1ACji0Rg",
        "colab_type": "code",
        "outputId": "6c9b2fce-01a5-48ff-d95b-3a2094d9a17d",
        "colab": {
          "base_uri": "https://localhost:8080/",
          "height": 383
        }
      },
      "source": [
        "import matplotlib.pyplot as plt\n",
        "scores = model.evaluate(testarray1,testy, verbose=0)\n",
        "print(\"Accuracy: %.2f%%\" % (scores[1]*100))\n",
        "\n",
        "# Test and train accuracy of the model\n",
        "model_3_test = scores[1]\n",
        "# Calling the function to draw the plot\n",
        "plt_dynamic(x, vy, ty)"
      ],
      "execution_count": 0,
      "outputs": [
        {
          "output_type": "stream",
          "text": [
            "Accuracy: 89.60%\n"
          ],
          "name": "stdout"
        },
        {
          "output_type": "display_data",
          "data": {
            "image/png": "[encoded data removed]",
            "text/plain": [
              "<Figure size 720x360 with 1 Axes>"
            ]
          },
          "metadata": {
            "tags": []
          }
        }
      ]
    },
    {
      "cell_type": "code",
      "metadata": {
        "id": "cCcLAG7vw3oN",
        "colab_type": "code",
        "outputId": "2f025f5c-a25e-45b2-c757-b30afc834f76",
        "colab": {
          "base_uri": "https://localhost:8080/",
          "height": 3541
        }
      },
      "source": [
        "import keras as keras\n",
        "import tensorflow as tf\n",
        "from keras.models import Sequential\n",
        "from keras.layers import Dense,Dropout,Flatten,BatchNormalization\n",
        "from keras.layers import Conv1D,MaxPooling1D\n",
        "model=Sequential()\n",
        "model.add(Conv1D(1500,kernel_size=21,activation='relu',input_shape=(200,26)))\n",
        "model.add(MaxPooling1D(pool_size=2))\n",
        "model.add(Dropout(0.5))\n",
        "model.add(BatchNormalization())\n",
        "model.add(Conv1D(500,26,dilation_rate=2,activation='relu'))\n",
        "model.add(MaxPooling1D(pool_size=4))\n",
        "model.add(Dropout(0.4))\n",
        "model.add(BatchNormalization())\n",
        "model.add(Conv1D(512,1,activation='relu'))\n",
        "model.add(MaxPooling1D(pool_size=4))\n",
        "model.add(Dropout(0.4))\n",
        "model.add(BatchNormalization())\n",
        "model.add(Flatten())\n",
        "model.add(Dense(11180,activation='softmax'))\n",
        "model.compile(loss=keras.losses.sparse_categorical_crossentropy,optimizer='adam',metrics=['accuracy'])\n",
        "history=model.fit(trainarray1,trainy,epochs=100,validation_data=[testarray1,testy],batch_size=256) \n"
      ],
      "execution_count": 0,
      "outputs": [
        {
          "output_type": "stream",
          "text": [
            "Train on 130000 samples, validate on 20000 samples\n",
            "Epoch 1/100\n",
            "130000/130000 [==============================] - 233s 2ms/step - loss: 6.5850 - acc: 0.1133 - val_loss: 4.0728 - val_acc: 0.3664\n",
            "Epoch 2/100\n",
            "130000/130000 [==============================] - 221s 2ms/step - loss: 3.2637 - acc: 0.4496 - val_loss: 2.0201 - val_acc: 0.6458\n",
            "Epoch 3/100\n",
            "130000/130000 [==============================] - 220s 2ms/step - loss: 1.7078 - acc: 0.6577 - val_loss: 1.3805 - val_acc: 0.7435\n",
            "Epoch 4/100\n",
            "130000/130000 [==============================] - 220s 2ms/step - loss: 1.0127 - acc: 0.7693 - val_loss: 1.0908 - val_acc: 0.7903\n",
            "Epoch 5/100\n",
            "130000/130000 [==============================] - 220s 2ms/step - loss: 0.6610 - acc: 0.8369 - val_loss: 0.9763 - val_acc: 0.8131\n",
            "Epoch 6/100\n",
            "130000/130000 [==============================] - 220s 2ms/step - loss: 0.4879 - acc: 0.8733 - val_loss: 0.9408 - val_acc: 0.8196\n",
            "Epoch 7/100\n",
            "130000/130000 [==============================] - 220s 2ms/step - loss: 0.3828 - acc: 0.8969 - val_loss: 0.8822 - val_acc: 0.8310\n",
            "Epoch 8/100\n",
            "130000/130000 [==============================] - 220s 2ms/step - loss: 0.3162 - acc: 0.9114 - val_loss: 0.8725 - val_acc: 0.8351\n",
            "Epoch 9/100\n",
            "130000/130000 [==============================] - 220s 2ms/step - loss: 0.2695 - acc: 0.9239 - val_loss: 0.8530 - val_acc: 0.8440\n",
            "Epoch 10/100\n",
            "130000/130000 [==============================] - 220s 2ms/step - loss: 0.2446 - acc: 0.9300 - val_loss: 0.8557 - val_acc: 0.8419\n",
            "Epoch 11/100\n",
            "130000/130000 [==============================] - 220s 2ms/step - loss: 0.2211 - acc: 0.9363 - val_loss: 0.8405 - val_acc: 0.8483\n",
            "Epoch 12/100\n",
            "130000/130000 [==============================] - 220s 2ms/step - loss: 0.1988 - acc: 0.9425 - val_loss: 0.8408 - val_acc: 0.8520\n",
            "Epoch 13/100\n",
            "130000/130000 [==============================] - 220s 2ms/step - loss: 0.1876 - acc: 0.9452 - val_loss: 0.8326 - val_acc: 0.8523\n",
            "Epoch 14/100\n",
            "130000/130000 [==============================] - 220s 2ms/step - loss: 0.1750 - acc: 0.9496 - val_loss: 0.8308 - val_acc: 0.8574\n",
            "Epoch 15/100\n",
            "130000/130000 [==============================] - 220s 2ms/step - loss: 0.1687 - acc: 0.9505 - val_loss: 0.8251 - val_acc: 0.8560\n",
            "Epoch 16/100\n",
            "130000/130000 [==============================] - 220s 2ms/step - loss: 0.1543 - acc: 0.9547 - val_loss: 0.8130 - val_acc: 0.8601\n",
            "Epoch 17/100\n",
            "130000/130000 [==============================] - 220s 2ms/step - loss: 0.1448 - acc: 0.9578 - val_loss: 0.8132 - val_acc: 0.8623\n",
            "Epoch 18/100\n",
            "130000/130000 [==============================] - 220s 2ms/step - loss: 0.1392 - acc: 0.9587 - val_loss: 0.8004 - val_acc: 0.8649\n",
            "Epoch 19/100\n",
            "130000/130000 [==============================] - 220s 2ms/step - loss: 0.1340 - acc: 0.9605 - val_loss: 0.8170 - val_acc: 0.8648\n",
            "Epoch 20/100\n",
            "130000/130000 [==============================] - 220s 2ms/step - loss: 0.1300 - acc: 0.9628 - val_loss: 0.8300 - val_acc: 0.8640\n",
            "Epoch 21/100\n",
            "130000/130000 [==============================] - 220s 2ms/step - loss: 0.1245 - acc: 0.9630 - val_loss: 0.8126 - val_acc: 0.8669\n",
            "Epoch 22/100\n",
            "130000/130000 [==============================] - 220s 2ms/step - loss: 0.1153 - acc: 0.9661 - val_loss: 0.8035 - val_acc: 0.8697\n",
            "Epoch 23/100\n",
            "130000/130000 [==============================] - 220s 2ms/step - loss: 0.1156 - acc: 0.9666 - val_loss: 0.8372 - val_acc: 0.8675\n",
            "Epoch 24/100\n",
            "130000/130000 [==============================] - 220s 2ms/step - loss: 0.1095 - acc: 0.9674 - val_loss: 0.8409 - val_acc: 0.8671\n",
            "Epoch 25/100\n",
            "130000/130000 [==============================] - 220s 2ms/step - loss: 0.1080 - acc: 0.9684 - val_loss: 0.8288 - val_acc: 0.8711\n",
            "Epoch 26/100\n",
            "130000/130000 [==============================] - 221s 2ms/step - loss: 0.1034 - acc: 0.9698 - val_loss: 0.8144 - val_acc: 0.8722\n",
            "Epoch 27/100\n",
            "130000/130000 [==============================] - 220s 2ms/step - loss: 0.0979 - acc: 0.9713 - val_loss: 0.8275 - val_acc: 0.8722\n",
            "Epoch 28/100\n",
            "130000/130000 [==============================] - 220s 2ms/step - loss: 0.0979 - acc: 0.9712 - val_loss: 0.8265 - val_acc: 0.8711\n",
            "Epoch 29/100\n",
            "130000/130000 [==============================] - 220s 2ms/step - loss: 0.0949 - acc: 0.9720 - val_loss: 0.8239 - val_acc: 0.8712\n",
            "Epoch 30/100\n",
            "130000/130000 [==============================] - 220s 2ms/step - loss: 0.0903 - acc: 0.9736 - val_loss: 0.8343 - val_acc: 0.8719\n",
            "Epoch 31/100\n",
            "130000/130000 [==============================] - 220s 2ms/step - loss: 0.0860 - acc: 0.9751 - val_loss: 0.8114 - val_acc: 0.8744\n",
            "Epoch 32/100\n",
            "130000/130000 [==============================] - 220s 2ms/step - loss: 0.0844 - acc: 0.9750 - val_loss: 0.8240 - val_acc: 0.8759\n",
            "Epoch 33/100\n",
            "130000/130000 [==============================] - 220s 2ms/step - loss: 0.0809 - acc: 0.9760 - val_loss: 0.8141 - val_acc: 0.8765\n",
            "Epoch 34/100\n",
            "130000/130000 [==============================] - 220s 2ms/step - loss: 0.0840 - acc: 0.9752 - val_loss: 0.8193 - val_acc: 0.8747\n",
            "Epoch 35/100\n",
            "130000/130000 [==============================] - 220s 2ms/step - loss: 0.0784 - acc: 0.9772 - val_loss: 0.8078 - val_acc: 0.8781\n",
            "Epoch 36/100\n",
            "130000/130000 [==============================] - 220s 2ms/step - loss: 0.0772 - acc: 0.9774 - val_loss: 0.8039 - val_acc: 0.8791\n",
            "Epoch 37/100\n",
            "130000/130000 [==============================] - 220s 2ms/step - loss: 0.0778 - acc: 0.9775 - val_loss: 0.8066 - val_acc: 0.8803\n",
            "Epoch 38/100\n",
            "130000/130000 [==============================] - 220s 2ms/step - loss: 0.0749 - acc: 0.9784 - val_loss: 0.8236 - val_acc: 0.8801\n",
            "Epoch 39/100\n",
            "130000/130000 [==============================] - 220s 2ms/step - loss: 0.0733 - acc: 0.9788 - val_loss: 0.8207 - val_acc: 0.8794\n",
            "Epoch 40/100\n",
            "130000/130000 [==============================] - 220s 2ms/step - loss: 0.0713 - acc: 0.9795 - val_loss: 0.8178 - val_acc: 0.8803\n",
            "Epoch 41/100\n",
            "130000/130000 [==============================] - 220s 2ms/step - loss: 0.0689 - acc: 0.9799 - val_loss: 0.8259 - val_acc: 0.8796\n",
            "Epoch 42/100\n",
            "130000/130000 [==============================] - 220s 2ms/step - loss: 0.0686 - acc: 0.9804 - val_loss: 0.8047 - val_acc: 0.8827\n",
            "Epoch 43/100\n",
            "130000/130000 [==============================] - 220s 2ms/step - loss: 0.0682 - acc: 0.9804 - val_loss: 0.8131 - val_acc: 0.8815\n",
            "Epoch 44/100\n",
            "130000/130000 [==============================] - 220s 2ms/step - loss: 0.0675 - acc: 0.9807 - val_loss: 0.8176 - val_acc: 0.8826\n",
            "Epoch 45/100\n",
            "130000/130000 [==============================] - 220s 2ms/step - loss: 0.0646 - acc: 0.9813 - val_loss: 0.8021 - val_acc: 0.8826\n",
            "Epoch 46/100\n",
            "130000/130000 [==============================] - 220s 2ms/step - loss: 0.0627 - acc: 0.9823 - val_loss: 0.8121 - val_acc: 0.8821\n",
            "Epoch 47/100\n",
            "130000/130000 [==============================] - 220s 2ms/step - loss: 0.0601 - acc: 0.9827 - val_loss: 0.8150 - val_acc: 0.8822\n",
            "Epoch 48/100\n",
            "130000/130000 [==============================] - 220s 2ms/step - loss: 0.0602 - acc: 0.9829 - val_loss: 0.8108 - val_acc: 0.8814\n",
            "Epoch 49/100\n",
            "130000/130000 [==============================] - 220s 2ms/step - loss: 0.0581 - acc: 0.9834 - val_loss: 0.8134 - val_acc: 0.8820\n",
            "Epoch 50/100\n",
            "130000/130000 [==============================] - 220s 2ms/step - loss: 0.0590 - acc: 0.9832 - val_loss: 0.8152 - val_acc: 0.8842\n",
            "Epoch 51/100\n",
            "130000/130000 [==============================] - 220s 2ms/step - loss: 0.0582 - acc: 0.9834 - val_loss: 0.8135 - val_acc: 0.8838\n",
            "Epoch 52/100\n",
            "130000/130000 [==============================] - 220s 2ms/step - loss: 0.0567 - acc: 0.9838 - val_loss: 0.8171 - val_acc: 0.8846\n",
            "Epoch 53/100\n",
            "130000/130000 [==============================] - 220s 2ms/step - loss: 0.0579 - acc: 0.9838 - val_loss: 0.8127 - val_acc: 0.8850\n",
            "Epoch 54/100\n",
            "130000/130000 [==============================] - 220s 2ms/step - loss: 0.0541 - acc: 0.9842 - val_loss: 0.8073 - val_acc: 0.8851\n",
            "Epoch 55/100\n",
            "130000/130000 [==============================] - 220s 2ms/step - loss: 0.0535 - acc: 0.9848 - val_loss: 0.8122 - val_acc: 0.8840\n",
            "Epoch 56/100\n",
            "130000/130000 [==============================] - 220s 2ms/step - loss: 0.0555 - acc: 0.9847 - val_loss: 0.8182 - val_acc: 0.8858\n",
            "Epoch 57/100\n",
            "130000/130000 [==============================] - 220s 2ms/step - loss: 0.0531 - acc: 0.9853 - val_loss: 0.8082 - val_acc: 0.8859\n",
            "Epoch 58/100\n",
            "130000/130000 [==============================] - 220s 2ms/step - loss: 0.0511 - acc: 0.9857 - val_loss: 0.7998 - val_acc: 0.8863\n",
            "Epoch 59/100\n",
            "130000/130000 [==============================] - 220s 2ms/step - loss: 0.0519 - acc: 0.9857 - val_loss: 0.8064 - val_acc: 0.8867\n",
            "Epoch 60/100\n",
            "130000/130000 [==============================] - 220s 2ms/step - loss: 0.0509 - acc: 0.9856 - val_loss: 0.8140 - val_acc: 0.8846\n",
            "Epoch 61/100\n",
            "130000/130000 [==============================] - 220s 2ms/step - loss: 0.0504 - acc: 0.9858 - val_loss: 0.8104 - val_acc: 0.8834\n",
            "Epoch 62/100\n",
            "130000/130000 [==============================] - 220s 2ms/step - loss: 0.0497 - acc: 0.9860 - val_loss: 0.8116 - val_acc: 0.8868\n",
            "Epoch 63/100\n",
            "130000/130000 [==============================] - 220s 2ms/step - loss: 0.0493 - acc: 0.9858 - val_loss: 0.8004 - val_acc: 0.8871\n",
            "Epoch 64/100\n",
            "130000/130000 [==============================] - 220s 2ms/step - loss: 0.0480 - acc: 0.9864 - val_loss: 0.8082 - val_acc: 0.8874\n",
            "Epoch 65/100\n",
            "130000/130000 [==============================] - 220s 2ms/step - loss: 0.0437 - acc: 0.9876 - val_loss: 0.8151 - val_acc: 0.8877\n",
            "Epoch 66/100\n",
            "130000/130000 [==============================] - 220s 2ms/step - loss: 0.0470 - acc: 0.9866 - val_loss: 0.7966 - val_acc: 0.8879\n",
            "Epoch 67/100\n",
            "130000/130000 [==============================] - 220s 2ms/step - loss: 0.0453 - acc: 0.9872 - val_loss: 0.8057 - val_acc: 0.8887\n",
            "Epoch 68/100\n",
            "130000/130000 [==============================] - 220s 2ms/step - loss: 0.0452 - acc: 0.9874 - val_loss: 0.8074 - val_acc: 0.8878\n",
            "Epoch 69/100\n",
            "130000/130000 [==============================] - 220s 2ms/step - loss: 0.0447 - acc: 0.9875 - val_loss: 0.8000 - val_acc: 0.8892\n",
            "Epoch 70/100\n",
            "130000/130000 [==============================] - 220s 2ms/step - loss: 0.0426 - acc: 0.9882 - val_loss: 0.8054 - val_acc: 0.8882\n",
            "Epoch 71/100\n",
            "130000/130000 [==============================] - 220s 2ms/step - loss: 0.0437 - acc: 0.9878 - val_loss: 0.7996 - val_acc: 0.8881\n",
            "Epoch 72/100\n",
            "130000/130000 [==============================] - 220s 2ms/step - loss: 0.0422 - acc: 0.9882 - val_loss: 0.8031 - val_acc: 0.8898\n",
            "Epoch 73/100\n",
            "130000/130000 [==============================] - 220s 2ms/step - loss: 0.0425 - acc: 0.9882 - val_loss: 0.8017 - val_acc: 0.8912\n",
            "Epoch 74/100\n",
            "130000/130000 [==============================] - 220s 2ms/step - loss: 0.0417 - acc: 0.9884 - val_loss: 0.8013 - val_acc: 0.8901\n",
            "Epoch 75/100\n",
            "130000/130000 [==============================] - 220s 2ms/step - loss: 0.0427 - acc: 0.9880 - val_loss: 0.8003 - val_acc: 0.8920\n",
            "Epoch 76/100\n",
            "130000/130000 [==============================] - 220s 2ms/step - loss: 0.0430 - acc: 0.9882 - val_loss: 0.8002 - val_acc: 0.8924\n",
            "Epoch 77/100\n",
            "130000/130000 [==============================] - 220s 2ms/step - loss: 0.0407 - acc: 0.9888 - val_loss: 0.7862 - val_acc: 0.8913\n",
            "Epoch 78/100\n",
            "130000/130000 [==============================] - 220s 2ms/step - loss: 0.0396 - acc: 0.9888 - val_loss: 0.7895 - val_acc: 0.8913\n",
            "Epoch 79/100\n",
            "130000/130000 [==============================] - 220s 2ms/step - loss: 0.0397 - acc: 0.9890 - val_loss: 0.7963 - val_acc: 0.8908\n",
            "Epoch 80/100\n",
            "130000/130000 [==============================] - 220s 2ms/step - loss: 0.0386 - acc: 0.9894 - val_loss: 0.7989 - val_acc: 0.8905\n",
            "Epoch 81/100\n",
            "130000/130000 [==============================] - 220s 2ms/step - loss: 0.0381 - acc: 0.9892 - val_loss: 0.8054 - val_acc: 0.8910\n",
            "Epoch 82/100\n",
            "130000/130000 [==============================] - 220s 2ms/step - loss: 0.0393 - acc: 0.9891 - val_loss: 0.7988 - val_acc: 0.8911\n",
            "Epoch 83/100\n",
            "130000/130000 [==============================] - 220s 2ms/step - loss: 0.0383 - acc: 0.9895 - val_loss: 0.7946 - val_acc: 0.8934\n",
            "Epoch 84/100\n",
            "130000/130000 [==============================] - 220s 2ms/step - loss: 0.0360 - acc: 0.9898 - val_loss: 0.8105 - val_acc: 0.8912\n",
            "Epoch 85/100\n",
            "130000/130000 [==============================] - 220s 2ms/step - loss: 0.0359 - acc: 0.9901 - val_loss: 0.7996 - val_acc: 0.8938\n",
            "Epoch 86/100\n",
            "130000/130000 [==============================] - 219s 2ms/step - loss: 0.0374 - acc: 0.9895 - val_loss: 0.7912 - val_acc: 0.8924\n",
            "Epoch 87/100\n",
            "130000/130000 [==============================] - 220s 2ms/step - loss: 0.0360 - acc: 0.9902 - val_loss: 0.7915 - val_acc: 0.8948\n",
            "Epoch 88/100\n",
            "130000/130000 [==============================] - 219s 2ms/step - loss: 0.0361 - acc: 0.9898 - val_loss: 0.7991 - val_acc: 0.8948\n",
            "Epoch 89/100\n",
            "130000/130000 [==============================] - 220s 2ms/step - loss: 0.0377 - acc: 0.9894 - val_loss: 0.7881 - val_acc: 0.8951\n",
            "Epoch 90/100\n",
            "130000/130000 [==============================] - 220s 2ms/step - loss: 0.0354 - acc: 0.9904 - val_loss: 0.7907 - val_acc: 0.8933\n",
            "Epoch 91/100\n",
            "130000/130000 [==============================] - 220s 2ms/step - loss: 0.0365 - acc: 0.9904 - val_loss: 0.7820 - val_acc: 0.8940\n",
            "Epoch 92/100\n",
            "130000/130000 [==============================] - 220s 2ms/step - loss: 0.0348 - acc: 0.9903 - val_loss: 0.7792 - val_acc: 0.8920\n",
            "Epoch 93/100\n",
            "130000/130000 [==============================] - 220s 2ms/step - loss: 0.0329 - acc: 0.9908 - val_loss: 0.7893 - val_acc: 0.8932\n",
            "Epoch 94/100\n",
            "130000/130000 [==============================] - 220s 2ms/step - loss: 0.0346 - acc: 0.9905 - val_loss: 0.7954 - val_acc: 0.8935\n",
            "Epoch 95/100\n",
            "130000/130000 [==============================] - 220s 2ms/step - loss: 0.0333 - acc: 0.9909 - val_loss: 0.7850 - val_acc: 0.8938\n",
            "Epoch 96/100\n",
            "130000/130000 [==============================] - 220s 2ms/step - loss: 0.0326 - acc: 0.9914 - val_loss: 0.7812 - val_acc: 0.8950\n",
            "Epoch 97/100\n",
            "130000/130000 [==============================] - 220s 2ms/step - loss: 0.0331 - acc: 0.9909 - val_loss: 0.7753 - val_acc: 0.8949\n",
            "Epoch 98/100\n",
            "130000/130000 [==============================] - 220s 2ms/step - loss: 0.0327 - acc: 0.9910 - val_loss: 0.7795 - val_acc: 0.8951\n",
            "Epoch 99/100\n",
            "130000/130000 [==============================] - 220s 2ms/step - loss: 0.0311 - acc: 0.9914 - val_loss: 0.7846 - val_acc: 0.8947\n",
            "Epoch 100/100\n",
            "130000/130000 [==============================] - 220s 2ms/step - loss: 0.0312 - acc: 0.9918 - val_loss: 0.7741 - val_acc: 0.8962\n"
          ],
          "name": "stdout"
        }
      ]
    },
    {
      "cell_type": "code",
      "metadata": {
        "id": "DfXJdDa54Dqp",
        "colab_type": "code",
        "outputId": "a2a35f38-3a56-4c51-8bee-85e08aa4ebce",
        "colab": {
          "base_uri": "https://localhost:8080/",
          "height": 2474
        }
      },
      "source": [
        "import keras as keras\n",
        "import tensorflow as tf\n",
        "from keras.models import Sequential\n",
        "from keras.layers import Dense,Dropout,Flatten,BatchNormalization\n",
        "from keras.layers import Conv1D,MaxPooling1D\n",
        "from keras.layers import LSTM,Bidirectional\n",
        "model=Sequential()\n",
        "model.add(Conv1D(500,kernel_size=(26),activation='relu',input_shape=(200,26)))\n",
        "model.add(MaxPooling1D(pool_size=2))\n",
        "model.add(Dropout(0.5))\n",
        "model.add(Conv1D(250,26,activation='relu'))\n",
        "model.add(MaxPooling1D(pool_size=4))\n",
        "model.add(Dropout(0.7))\n",
        "model.add(Bidirectional(LSTM(300,dropout=0.4,return_sequences=True)))\n",
        "model.add(Flatten())\n",
        "model.add(Dense(11180,activation='softmax'))\n",
        "model.compile(loss=keras.losses.sparse_categorical_crossentropy,optimizer='adam',metrics=['accuracy'])\n",
        "history=model.fit(trainarray1,trainy,epochs=60,validation_data=[testarray1,testy],batch_size=128) \n"
      ],
      "execution_count": 0,
      "outputs": [
        {
          "output_type": "stream",
          "text": [
            "WARNING: Logging before flag parsing goes to stderr.\n",
            "W0619 07:20:06.596103 140182523484032 deprecation_wrapper.py:119] From /usr/local/lib/python3.6/dist-packages/keras/backend/tensorflow_backend.py:74: The name tf.get_default_graph is deprecated. Please use tf.compat.v1.get_default_graph instead.\n",
            "\n",
            "W0619 07:20:06.654401 140182523484032 deprecation_wrapper.py:119] From /usr/local/lib/python3.6/dist-packages/keras/backend/tensorflow_backend.py:517: The name tf.placeholder is deprecated. Please use tf.compat.v1.placeholder instead.\n",
            "\n",
            "W0619 07:20:06.676386 140182523484032 deprecation_wrapper.py:119] From /usr/local/lib/python3.6/dist-packages/keras/backend/tensorflow_backend.py:4138: The name tf.random_uniform is deprecated. Please use tf.random.uniform instead.\n",
            "\n",
            "W0619 07:20:06.721345 140182523484032 deprecation_wrapper.py:119] From /usr/local/lib/python3.6/dist-packages/keras/backend/tensorflow_backend.py:3976: The name tf.nn.max_pool is deprecated. Please use tf.nn.max_pool2d instead.\n",
            "\n",
            "W0619 07:20:06.729445 140182523484032 deprecation_wrapper.py:119] From /usr/local/lib/python3.6/dist-packages/keras/backend/tensorflow_backend.py:133: The name tf.placeholder_with_default is deprecated. Please use tf.compat.v1.placeholder_with_default instead.\n",
            "\n",
            "W0619 07:20:06.741749 140182523484032 deprecation.py:506] From /usr/local/lib/python3.6/dist-packages/keras/backend/tensorflow_backend.py:3445: calling dropout (from tensorflow.python.ops.nn_ops) with keep_prob is deprecated and will be removed in a future version.\n",
            "Instructions for updating:\n",
            "Please use `rate` instead of `keep_prob`. Rate should be set to `rate = 1 - keep_prob`.\n",
            "W0619 07:20:06.790762 140182523484032 nn_ops.py:4224] Large dropout rate: 0.7 (>0.5). In TensorFlow 2.x, dropout() uses dropout rate instead of keep_prob. Please ensure that this is intended.\n",
            "W0619 07:20:07.862491 140182523484032 deprecation_wrapper.py:119] From /usr/local/lib/python3.6/dist-packages/keras/optimizers.py:790: The name tf.train.Optimizer is deprecated. Please use tf.compat.v1.train.Optimizer instead.\n",
            "\n",
            "W0619 07:20:07.891538 140182523484032 deprecation_wrapper.py:119] From /usr/local/lib/python3.6/dist-packages/keras/backend/tensorflow_backend.py:3341: The name tf.log is deprecated. Please use tf.math.log instead.\n",
            "\n",
            "W0619 07:20:08.062929 140182523484032 deprecation.py:323] From /usr/local/lib/python3.6/dist-packages/tensorflow/python/ops/math_grad.py:1250: add_dispatch_support.<locals>.wrapper (from tensorflow.python.ops.array_ops) is deprecated and will be removed in a future version.\n",
            "Instructions for updating:\n",
            "Use tf.where in 2.0, which has the same broadcast rule as np.where\n"
          ],
          "name": "stderr"
        },
        {
          "output_type": "stream",
          "text": [
            "Train on 130000 samples, validate on 20000 samples\n",
            "Epoch 1/60\n",
            "130000/130000 [==============================] - 349s 3ms/step - loss: 6.2155 - acc: 0.1286 - val_loss: 3.5157 - val_acc: 0.3762\n",
            "Epoch 2/60\n",
            "130000/130000 [==============================] - 340s 3ms/step - loss: 3.0838 - acc: 0.4326 - val_loss: 1.9675 - val_acc: 0.6191\n",
            "Epoch 3/60\n",
            "130000/130000 [==============================] - 339s 3ms/step - loss: 1.7447 - acc: 0.6145 - val_loss: 1.5395 - val_acc: 0.7067\n",
            "Epoch 4/60\n",
            "130000/130000 [==============================] - 339s 3ms/step - loss: 1.1114 - acc: 0.7286 - val_loss: 1.4451 - val_acc: 0.7418\n",
            "Epoch 5/60\n",
            "130000/130000 [==============================] - 340s 3ms/step - loss: 0.7962 - acc: 0.7921 - val_loss: 1.4290 - val_acc: 0.7565\n",
            "Epoch 6/60\n",
            "130000/130000 [==============================] - 340s 3ms/step - loss: 0.6128 - acc: 0.8333 - val_loss: 1.4331 - val_acc: 0.7676\n",
            "Epoch 7/60\n",
            "130000/130000 [==============================] - 339s 3ms/step - loss: 0.5084 - acc: 0.8577 - val_loss: 1.4481 - val_acc: 0.7764\n",
            "Epoch 8/60\n",
            "130000/130000 [==============================] - 340s 3ms/step - loss: 0.4364 - acc: 0.8759 - val_loss: 1.4578 - val_acc: 0.7810\n",
            "Epoch 9/60\n",
            "130000/130000 [==============================] - 339s 3ms/step - loss: 0.3888 - acc: 0.8885 - val_loss: 1.4733 - val_acc: 0.7853\n",
            "Epoch 10/60\n",
            "130000/130000 [==============================] - 340s 3ms/step - loss: 0.3509 - acc: 0.8988 - val_loss: 1.4891 - val_acc: 0.7907\n",
            "Epoch 11/60\n",
            "130000/130000 [==============================] - 340s 3ms/step - loss: 0.3227 - acc: 0.9067 - val_loss: 1.4949 - val_acc: 0.7913\n",
            "Epoch 12/60\n",
            "130000/130000 [==============================] - 340s 3ms/step - loss: 0.2980 - acc: 0.9138 - val_loss: 1.5222 - val_acc: 0.7931\n",
            "Epoch 13/60\n",
            "130000/130000 [==============================] - 340s 3ms/step - loss: 0.2831 - acc: 0.9173 - val_loss: 1.5176 - val_acc: 0.7964\n",
            "Epoch 14/60\n",
            "130000/130000 [==============================] - 340s 3ms/step - loss: 0.2732 - acc: 0.9201 - val_loss: 1.5296 - val_acc: 0.7997\n",
            "Epoch 15/60\n",
            "130000/130000 [==============================] - 340s 3ms/step - loss: 0.2556 - acc: 0.9246 - val_loss: 1.5402 - val_acc: 0.7997\n",
            "Epoch 16/60\n",
            "130000/130000 [==============================] - 340s 3ms/step - loss: 0.2444 - acc: 0.9286 - val_loss: 1.5830 - val_acc: 0.8005\n",
            "Epoch 17/60\n",
            "130000/130000 [==============================] - 340s 3ms/step - loss: 0.2366 - acc: 0.9312 - val_loss: 1.5664 - val_acc: 0.8042\n",
            "Epoch 18/60\n",
            "130000/130000 [==============================] - 341s 3ms/step - loss: 0.2372 - acc: 0.9312 - val_loss: 1.5775 - val_acc: 0.8046\n",
            "Epoch 19/60\n",
            "130000/130000 [==============================] - 340s 3ms/step - loss: 0.2278 - acc: 0.9343 - val_loss: 1.5857 - val_acc: 0.8061\n",
            "Epoch 20/60\n",
            "130000/130000 [==============================] - 340s 3ms/step - loss: 0.2228 - acc: 0.9357 - val_loss: 1.6240 - val_acc: 0.8030\n",
            "Epoch 21/60\n",
            "130000/130000 [==============================] - 340s 3ms/step - loss: 0.2140 - acc: 0.9391 - val_loss: 1.6130 - val_acc: 0.8078\n",
            "Epoch 22/60\n",
            "130000/130000 [==============================] - 339s 3ms/step - loss: 0.2165 - acc: 0.9390 - val_loss: 1.5987 - val_acc: 0.8099\n",
            "Epoch 23/60\n",
            "130000/130000 [==============================] - 337s 3ms/step - loss: 0.2104 - acc: 0.9390 - val_loss: 1.6263 - val_acc: 0.8075\n",
            "Epoch 24/60\n",
            "130000/130000 [==============================] - 338s 3ms/step - loss: 0.2052 - acc: 0.9418 - val_loss: 1.6465 - val_acc: 0.8088\n",
            "Epoch 25/60\n",
            "130000/130000 [==============================] - 338s 3ms/step - loss: 0.2041 - acc: 0.9415 - val_loss: 1.6627 - val_acc: 0.8090\n",
            "Epoch 26/60\n",
            "130000/130000 [==============================] - 341s 3ms/step - loss: 0.2080 - acc: 0.9418 - val_loss: 1.6815 - val_acc: 0.8046\n",
            "Epoch 27/60\n",
            "130000/130000 [==============================] - 340s 3ms/step - loss: 0.2014 - acc: 0.9441 - val_loss: 1.6783 - val_acc: 0.8095\n",
            "Epoch 28/60\n",
            "130000/130000 [==============================] - 340s 3ms/step - loss: 0.2040 - acc: 0.9430 - val_loss: 1.6943 - val_acc: 0.8099\n",
            "Epoch 29/60\n",
            "130000/130000 [==============================] - 339s 3ms/step - loss: 0.2047 - acc: 0.9438 - val_loss: 1.6972 - val_acc: 0.8105\n",
            "Epoch 30/60\n",
            "130000/130000 [==============================] - 341s 3ms/step - loss: 0.1971 - acc: 0.9450 - val_loss: 1.7195 - val_acc: 0.8112\n",
            "Epoch 31/60\n",
            "130000/130000 [==============================] - 339s 3ms/step - loss: 0.1986 - acc: 0.9454 - val_loss: 1.7212 - val_acc: 0.8119\n",
            "Epoch 32/60\n",
            "130000/130000 [==============================] - 340s 3ms/step - loss: 0.1990 - acc: 0.9453 - val_loss: 1.7186 - val_acc: 0.8127\n",
            "Epoch 33/60\n",
            "130000/130000 [==============================] - 339s 3ms/step - loss: 0.1960 - acc: 0.9467 - val_loss: 1.7237 - val_acc: 0.8124\n",
            "Epoch 34/60\n",
            "130000/130000 [==============================] - 339s 3ms/step - loss: 0.1843 - acc: 0.9495 - val_loss: 1.7130 - val_acc: 0.8155\n",
            "Epoch 35/60\n",
            "130000/130000 [==============================] - 340s 3ms/step - loss: 0.1923 - acc: 0.9481 - val_loss: 1.7422 - val_acc: 0.8147\n",
            "Epoch 36/60\n",
            "130000/130000 [==============================] - 341s 3ms/step - loss: 0.1946 - acc: 0.9480 - val_loss: 1.7336 - val_acc: 0.8167\n",
            "Epoch 37/60\n",
            "130000/130000 [==============================] - 341s 3ms/step - loss: 0.1947 - acc: 0.9477 - val_loss: 1.7657 - val_acc: 0.8124\n",
            "Epoch 38/60\n",
            "130000/130000 [==============================] - 343s 3ms/step - loss: 0.1906 - acc: 0.9494 - val_loss: 1.7356 - val_acc: 0.8168\n",
            "Epoch 39/60\n",
            "130000/130000 [==============================] - 341s 3ms/step - loss: 0.1955 - acc: 0.9485 - val_loss: 1.7648 - val_acc: 0.8152\n",
            "Epoch 40/60\n",
            "130000/130000 [==============================] - 339s 3ms/step - loss: 0.1948 - acc: 0.9490 - val_loss: 1.7760 - val_acc: 0.8155\n",
            "Epoch 41/60\n",
            "130000/130000 [==============================] - 340s 3ms/step - loss: 0.1953 - acc: 0.9485 - val_loss: 1.7433 - val_acc: 0.8191\n",
            "Epoch 42/60\n",
            "130000/130000 [==============================] - 341s 3ms/step - loss: 0.2005 - acc: 0.9478 - val_loss: 1.7837 - val_acc: 0.8141\n",
            "Epoch 43/60\n",
            "130000/130000 [==============================] - 340s 3ms/step - loss: 0.1910 - acc: 0.9501 - val_loss: 1.8055 - val_acc: 0.8152\n",
            "Epoch 44/60\n",
            "130000/130000 [==============================] - 339s 3ms/step - loss: 0.1905 - acc: 0.9499 - val_loss: 1.7772 - val_acc: 0.8165\n",
            "Epoch 45/60\n",
            "130000/130000 [==============================] - 340s 3ms/step - loss: 0.1924 - acc: 0.9496 - val_loss: 1.7689 - val_acc: 0.8193\n",
            "Epoch 46/60\n",
            "130000/130000 [==============================] - 340s 3ms/step - loss: 0.1957 - acc: 0.9501 - val_loss: 1.7821 - val_acc: 0.8154\n",
            "Epoch 47/60\n",
            "130000/130000 [==============================] - 340s 3ms/step - loss: 0.1924 - acc: 0.9503 - val_loss: 1.7999 - val_acc: 0.8162\n",
            "Epoch 48/60\n",
            "130000/130000 [==============================] - 340s 3ms/step - loss: 0.1900 - acc: 0.9513 - val_loss: 1.7920 - val_acc: 0.8177\n",
            "Epoch 49/60\n",
            "130000/130000 [==============================] - 339s 3ms/step - loss: 0.1890 - acc: 0.9515 - val_loss: 1.8059 - val_acc: 0.8164\n",
            "Epoch 50/60\n",
            "130000/130000 [==============================] - 340s 3ms/step - loss: 0.1940 - acc: 0.9506 - val_loss: 1.8129 - val_acc: 0.8175\n",
            "Epoch 51/60\n",
            "130000/130000 [==============================] - 341s 3ms/step - loss: 0.1983 - acc: 0.9498 - val_loss: 1.8269 - val_acc: 0.8174\n",
            "Epoch 52/60\n",
            "130000/130000 [==============================] - 342s 3ms/step - loss: 0.1956 - acc: 0.9512 - val_loss: 1.8062 - val_acc: 0.8207\n",
            "Epoch 53/60\n",
            "130000/130000 [==============================] - 340s 3ms/step - loss: 0.1870 - acc: 0.9521 - val_loss: 1.8060 - val_acc: 0.8187\n",
            "Epoch 54/60\n",
            "130000/130000 [==============================] - 339s 3ms/step - loss: 0.1947 - acc: 0.9513 - val_loss: 1.8046 - val_acc: 0.8191\n",
            "Epoch 55/60\n",
            "130000/130000 [==============================] - 338s 3ms/step - loss: 0.1873 - acc: 0.9536 - val_loss: 1.8131 - val_acc: 0.8185\n",
            "Epoch 56/60\n",
            "130000/130000 [==============================] - 341s 3ms/step - loss: 0.1971 - acc: 0.9510 - val_loss: 1.8387 - val_acc: 0.8175\n",
            "Epoch 57/60\n",
            "130000/130000 [==============================] - 341s 3ms/step - loss: 0.1924 - acc: 0.9525 - val_loss: 1.8332 - val_acc: 0.8174\n",
            "Epoch 58/60\n",
            " 28800/130000 [=====>........................] - ETA: 4:17 - loss: 0.1789 - acc: 0.9552Buffered data was truncated after reaching the output size limit."
          ],
          "name": "stdout"
        }
      ]
    },
    {
      "cell_type": "code",
      "metadata": {
        "id": "UwIiT2uC1MQ2",
        "colab_type": "code",
        "outputId": "f7527d9c-7cea-4a92-8690-29c1c563cd39",
        "colab": {
          "base_uri": "https://localhost:8080/",
          "height": 383
        }
      },
      "source": [
        "import matplotlib.pyplot as plt\n",
        "scores = model.evaluate(testarray1,testy, verbose=0)\n",
        "print(\"Accuracy: %.2f%%\" % (scores[1]*100))\n",
        "\n",
        "# Test and train accuracy of the model\n",
        "model_3_test = scores[1]\n",
        "model_3_train = max(history.history['acc'])\n",
        "\n",
        "# Plotting Train and Test Loss VS no. of epochs\n",
        "# list of epoch numbers\n",
        "x = list(range(1,61))\n",
        "\n",
        "# Validation loss\n",
        "\n",
        "vy = history.history['val_loss']\n",
        "# Training loss\n",
        "ty = history.history['loss']\n",
        "\n",
        "# Calling the function to draw the plot\n",
        "plt_dynamic(x, vy, ty)"
      ],
      "execution_count": 0,
      "outputs": [
        {
          "output_type": "stream",
          "text": [
            "Accuracy: 81.77%\n"
          ],
          "name": "stdout"
        },
        {
          "output_type": "display_data",
          "data": {
            "image/png": "[encoded data removed]",
            "text/plain": [
              "<Figure size 720x360 with 1 Axes>"
            ]
          },
          "metadata": {
            "tags": []
          }
        }
      ]
    },
    {
      "cell_type": "code",
      "metadata": {
        "id": "OjNXvmx6QRoy",
        "colab_type": "code",
        "outputId": "b272241e-12f9-45cc-dbec-fd2ea46e6e02",
        "colab": {
          "base_uri": "https://localhost:8080/",
          "height": 105
        }
      },
      "source": [
        "import keras as keras\n",
        "import tensorflow as tf\n",
        "from keras.models import Sequential\n",
        "from keras.layers import Dense,Dropout,Flatten,BatchNormalization\n",
        "from keras.layers import Conv1D,MaxPooling1D\n",
        "from keras.layers import LSTM,Bidirectional\n",
        "model=Sequential()\n",
        "model.add(Dense(200,activation='relu',input_shape=(200,26)))\n",
        "model.add(Dropout(0.4))\n",
        "model.add(BatchNormalization())\n",
        "model.add(Bidirectional(LSTM(26,dropout=0.2,return_sequences=True)))\n",
        "model.add(BatchNormalization())\n",
        "model.add(Flatten())\n",
        "model.add(Dense(11180,activation='softmax'))\n",
        "model.compile(loss=keras.losses.sparse_categorical_crossentropy,optimizer='adam',metrics=['accuracy'])\n",
        "history=model.fit(trainarray1,trainy,epochs=2,validation_data=[testarray1,testy],batch_size=128) \n"
      ],
      "execution_count": 0,
      "outputs": [
        {
          "output_type": "stream",
          "text": [
            "Train on 130000 samples, validate on 20000 samples\n",
            "Epoch 1/2\n",
            "130000/130000 [==============================] - 766s 6ms/step - loss: 2.7829 - acc: 0.6851 - val_loss: 0.8493 - val_acc: 0.8886\n",
            "Epoch 2/2\n",
            "130000/130000 [==============================] - 761s 6ms/step - loss: 0.2382 - acc: 0.9801 - val_loss: 0.8404 - val_acc: 0.8921\n"
          ],
          "name": "stdout"
        }
      ]
    },
    {
      "cell_type": "code",
      "metadata": {
        "id": "YZplT100aBV5",
        "colab_type": "code",
        "outputId": "57d11ad1-2c3f-4501-c6cc-329e78d4f05c",
        "colab": {
          "base_uri": "https://localhost:8080/",
          "height": 383
        }
      },
      "source": [
        "import matplotlib.pyplot as plt\n",
        "scores = model.evaluate(testarray1,testy, verbose=0)\n",
        "print(\"Accuracy: %.2f%%\" % (scores[1]*100))\n",
        "\n",
        "# Test and train accuracy of the model\n",
        "model_3_test = scores[1]\n",
        "model_3_train = max(history.history['acc'])\n",
        "\n",
        "# Plotting Train and Test Loss VS no. of epochs\n",
        "# list of epoch numbers\n",
        "x = list(range(1,3))\n",
        "\n",
        "# Validation loss\n",
        "\n",
        "vy = history.history['val_loss']\n",
        "# Training loss\n",
        "ty = history.history['loss']\n",
        "\n",
        "# Calling the function to draw the plot\n",
        "plt_dynamic(x, vy, ty)"
      ],
      "execution_count": 0,
      "outputs": [
        {
          "output_type": "stream",
          "text": [
            "Accuracy: 89.22%\n"
          ],
          "name": "stdout"
        },
        {
          "output_type": "display_data",
          "data": {
            "image/png": "[encoded data removed]",
            "text/plain": [
              "<Figure size 720x360 with 1 Axes>"
            ]
          },
          "metadata": {
            "tags": []
          }
        }
      ]
    },
    {
      "cell_type": "markdown",
      "metadata": {
        "id": "amjHxZk-Ll2l",
        "colab_type": "text"
      },
      "source": [
        "**** ****\n",
        "## ** WITH 180000 POINTS AS TRIAINING DATA "
      ]
    },
    {
      "cell_type": "code",
      "metadata": {
        "colab_type": "code",
        "id": "yf4QWk9ULzK-",
        "colab": {}
      },
      "source": [
        "import pandas as pd\n",
        "import numpy as np"
      ],
      "execution_count": 0,
      "outputs": []
    },
    {
      "cell_type": "code",
      "metadata": {
        "colab_type": "code",
        "outputId": "e80aaf13-52f3-475f-a0c3-ad6bad0d0235",
        "id": "3ykNSpO4LzLB",
        "colab": {
          "base_uri": "https://localhost:8080/",
          "height": 51
        }
      },
      "source": [
        "\n",
        "!pip install -U -q PyDrive\n",
        "from pydrive.auth import GoogleAuth\n",
        "from pydrive.drive import GoogleDrive\n",
        "from google.colab import auth\n",
        "from oauth2client.client import GoogleCredentials\n",
        "# Authenticate and create the PyDrive client.\n",
        "auth.authenticate_user()\n",
        "gauth = GoogleAuth()\n",
        "gauth.credentials = GoogleCredentials.get_application_default()\n",
        "drive = GoogleDrive(gauth)"
      ],
      "execution_count": 0,
      "outputs": [
        {
          "output_type": "stream",
          "text": [
            "\u001b[?25l\r\u001b[K     |▎                               | 10kB 13.3MB/s eta 0:00:01\r\u001b[K     |▋                               | 20kB 5.2MB/s eta 0:00:01\r\u001b[K     |█                               | 30kB 7.1MB/s eta 0:00:01\r\u001b[K     |█▎                              | 40kB 4.2MB/s eta 0:00:01\r\u001b[K     |█▋                              | 51kB 5.0MB/s eta 0:00:01\r\u001b[K     |██                              | 61kB 5.9MB/s eta 0:00:01\r\u001b[K     |██▎                             | 71kB 6.7MB/s eta 0:00:01\r\u001b[K     |██▋                             | 81kB 7.5MB/s eta 0:00:01\r\u001b[K     |███                             | 92kB 8.3MB/s eta 0:00:01\r\u001b[K     |███▎                            | 102kB 6.6MB/s eta 0:00:01\r\u001b[K     |███▋                            | 112kB 6.6MB/s eta 0:00:01\r\u001b[K     |████                            | 122kB 6.6MB/s eta 0:00:01\r\u001b[K     |████▎                           | 133kB 6.6MB/s eta 0:00:01\r\u001b[K     |████▋                           | 143kB 6.6MB/s eta 0:00:01\r\u001b[K     |█████                           | 153kB 6.6MB/s eta 0:00:01\r\u001b[K     |█████▎                          | 163kB 6.6MB/s eta 0:00:01\r\u001b[K     |█████▋                          | 174kB 6.6MB/s eta 0:00:01\r\u001b[K     |██████                          | 184kB 6.6MB/s eta 0:00:01\r\u001b[K     |██████▎                         | 194kB 6.6MB/s eta 0:00:01\r\u001b[K     |██████▋                         | 204kB 6.6MB/s eta 0:00:01\r\u001b[K     |███████                         | 215kB 6.6MB/s eta 0:00:01\r\u001b[K     |███████▎                        | 225kB 6.6MB/s eta 0:00:01\r\u001b[K     |███████▋                        | 235kB 6.6MB/s eta 0:00:01\r\u001b[K     |████████                        | 245kB 6.6MB/s eta 0:00:01\r\u001b[K     |████████▎                       | 256kB 6.6MB/s eta 0:00:01\r\u001b[K     |████████▋                       | 266kB 6.6MB/s eta 0:00:01\r\u001b[K     |█████████                       | 276kB 6.6MB/s eta 0:00:01\r\u001b[K     |█████████▎                      | 286kB 6.6MB/s eta 0:00:01\r\u001b[K     |█████████▋                      | 296kB 6.6MB/s eta 0:00:01\r\u001b[K     |██████████                      | 307kB 6.6MB/s eta 0:00:01\r\u001b[K     |██████████▎                     | 317kB 6.6MB/s eta 0:00:01\r\u001b[K     |██████████▋                     | 327kB 6.6MB/s eta 0:00:01\r\u001b[K     |███████████                     | 337kB 6.6MB/s eta 0:00:01\r\u001b[K     |███████████▎                    | 348kB 6.6MB/s eta 0:00:01\r\u001b[K     |███████████▋                    | 358kB 6.6MB/s eta 0:00:01\r\u001b[K     |████████████                    | 368kB 6.6MB/s eta 0:00:01\r\u001b[K     |████████████▎                   | 378kB 6.6MB/s eta 0:00:01\r\u001b[K     |████████████▋                   | 389kB 6.6MB/s eta 0:00:01\r\u001b[K     |█████████████                   | 399kB 6.6MB/s eta 0:00:01\r\u001b[K     |█████████████▎                  | 409kB 6.6MB/s eta 0:00:01\r\u001b[K     |█████████████▋                  | 419kB 6.6MB/s eta 0:00:01\r\u001b[K     |██████████████                  | 430kB 6.6MB/s eta 0:00:01\r\u001b[K     |██████████████▎                 | 440kB 6.6MB/s eta 0:00:01\r\u001b[K     |██████████████▋                 | 450kB 6.6MB/s eta 0:00:01\r\u001b[K     |███████████████                 | 460kB 6.6MB/s eta 0:00:01\r\u001b[K     |███████████████▎                | 471kB 6.6MB/s eta 0:00:01\r\u001b[K     |███████████████▋                | 481kB 6.6MB/s eta 0:00:01\r\u001b[K     |████████████████                | 491kB 6.6MB/s eta 0:00:01\r\u001b[K     |████████████████▎               | 501kB 6.6MB/s eta 0:00:01\r\u001b[K     |████████████████▋               | 512kB 6.6MB/s eta 0:00:01\r\u001b[K     |█████████████████               | 522kB 6.6MB/s eta 0:00:01\r\u001b[K     |█████████████████▎              | 532kB 6.6MB/s eta 0:00:01\r\u001b[K     |█████████████████▋              | 542kB 6.6MB/s eta 0:00:01\r\u001b[K     |██████████████████              | 552kB 6.6MB/s eta 0:00:01\r\u001b[K     |██████████████████▎             | 563kB 6.6MB/s eta 0:00:01\r\u001b[K     |██████████████████▋             | 573kB 6.6MB/s eta 0:00:01\r\u001b[K     |███████████████████             | 583kB 6.6MB/s eta 0:00:01\r\u001b[K     |███████████████████▎            | 593kB 6.6MB/s eta 0:00:01\r\u001b[K     |███████████████████▋            | 604kB 6.6MB/s eta 0:00:01\r\u001b[K     |████████████████████            | 614kB 6.6MB/s eta 0:00:01\r\u001b[K     |████████████████████▎           | 624kB 6.6MB/s eta 0:00:01\r\u001b[K     |████████████████████▋           | 634kB 6.6MB/s eta 0:00:01\r\u001b[K     |█████████████████████           | 645kB 6.6MB/s eta 0:00:01\r\u001b[K     |█████████████████████▎          | 655kB 6.6MB/s eta 0:00:01\r\u001b[K     |█████████████████████▋          | 665kB 6.6MB/s eta 0:00:01\r\u001b[K     |██████████████████████          | 675kB 6.6MB/s eta 0:00:01\r\u001b[K     |██████████████████████▎         | 686kB 6.6MB/s eta 0:00:01\r\u001b[K     |██████████████████████▋         | 696kB 6.6MB/s eta 0:00:01\r\u001b[K     |███████████████████████         | 706kB 6.6MB/s eta 0:00:01\r\u001b[K     |███████████████████████▎        | 716kB 6.6MB/s eta 0:00:01\r\u001b[K     |███████████████████████▋        | 727kB 6.6MB/s eta 0:00:01\r\u001b[K     |████████████████████████        | 737kB 6.6MB/s eta 0:00:01\r\u001b[K     |████████████████████████▎       | 747kB 6.6MB/s eta 0:00:01\r\u001b[K     |████████████████████████▋       | 757kB 6.6MB/s eta 0:00:01\r\u001b[K     |████████████████████████▉       | 768kB 6.6MB/s eta 0:00:01\r\u001b[K     |█████████████████████████▏      | 778kB 6.6MB/s eta 0:00:01\r\u001b[K     |█████████████████████████▌      | 788kB 6.6MB/s eta 0:00:01\r\u001b[K     |█████████████████████████▉      | 798kB 6.6MB/s eta 0:00:01\r\u001b[K     |██████████████████████████▏     | 808kB 6.6MB/s eta 0:00:01\r\u001b[K     |██████████████████████████▌     | 819kB 6.6MB/s eta 0:00:01\r\u001b[K     |██████████████████████████▉     | 829kB 6.6MB/s eta 0:00:01\r\u001b[K     |███████████████████████████▏    | 839kB 6.6MB/s eta 0:00:01\r\u001b[K     |███████████████████████████▌    | 849kB 6.6MB/s eta 0:00:01\r\u001b[K     |███████████████████████████▉    | 860kB 6.6MB/s eta 0:00:01\r\u001b[K     |████████████████████████████▏   | 870kB 6.6MB/s eta 0:00:01\r\u001b[K     |████████████████████████████▌   | 880kB 6.6MB/s eta 0:00:01\r\u001b[K     |████████████████████████████▉   | 890kB 6.6MB/s eta 0:00:01\r\u001b[K     |█████████████████████████████▏  | 901kB 6.6MB/s eta 0:00:01\r\u001b[K     |█████████████████████████████▌  | 911kB 6.6MB/s eta 0:00:01\r\u001b[K     |█████████████████████████████▉  | 921kB 6.6MB/s eta 0:00:01\r\u001b[K     |██████████████████████████████▏ | 931kB 6.6MB/s eta 0:00:01\r\u001b[K     |██████████████████████████████▌ | 942kB 6.6MB/s eta 0:00:01\r\u001b[K     |██████████████████████████████▉ | 952kB 6.6MB/s eta 0:00:01\r\u001b[K     |███████████████████████████████▏| 962kB 6.6MB/s eta 0:00:01\r\u001b[K     |███████████████████████████████▌| 972kB 6.6MB/s eta 0:00:01\r\u001b[K     |███████████████████████████████▉| 983kB 6.6MB/s eta 0:00:01\r\u001b[K     |████████████████████████████████| 993kB 6.6MB/s \n",
            "\u001b[?25h  Building wheel for PyDrive (setup.py) ... \u001b[?25l\u001b[?25hdone\n"
          ],
          "name": "stdout"
        }
      ]
    },
    {
      "cell_type": "code",
      "metadata": {
        "colab_type": "code",
        "id": "7Mck5W3ILzLH",
        "colab": {}
      },
      "source": [
        "link = 'https://drive.google.com/open?id=1dRP2sKGX_8oOqlRSR2FQNUhneR3bfGrc' # The shareable link"
      ],
      "execution_count": 0,
      "outputs": []
    },
    {
      "cell_type": "code",
      "metadata": {
        "colab_type": "code",
        "id": "Makl9eZVLzLJ",
        "colab": {}
      },
      "source": [
        "fluff, id = link.split('=')"
      ],
      "execution_count": 0,
      "outputs": []
    },
    {
      "cell_type": "code",
      "metadata": {
        "colab_type": "code",
        "id": "lsVNwtA9LzLL",
        "colab": {}
      },
      "source": [
        "import pickle\n",
        "downloaded = drive.CreateFile({'id':id}) \n",
        "downloaded.GetContentFile('trainarray.npy')  \n",
        "trainarray= np.load('trainarray.npy')"
      ],
      "execution_count": 0,
      "outputs": []
    },
    {
      "cell_type": "code",
      "metadata": {
        "colab_type": "code",
        "id": "FCrvMrn8LzLT",
        "colab": {}
      },
      "source": [
        "link = 'https://drive.google.com/open?id=1Bd2MrmGsDVmQZgt5xCphyhLWHctuOwG8' # The shareable link"
      ],
      "execution_count": 0,
      "outputs": []
    },
    {
      "cell_type": "code",
      "metadata": {
        "colab_type": "code",
        "id": "2pT_zOE8LzLV",
        "colab": {}
      },
      "source": [
        "fluff, id = link.split('=')"
      ],
      "execution_count": 0,
      "outputs": []
    },
    {
      "cell_type": "code",
      "metadata": {
        "colab_type": "code",
        "id": "zaNiWpc3LzLY",
        "colab": {}
      },
      "source": [
        "downloaded = drive.CreateFile({'id':id}) \n",
        "downloaded.GetContentFile('testarray.npy')  \n",
        "testarray= np.load('testarray.npy')"
      ],
      "execution_count": 0,
      "outputs": []
    },
    {
      "cell_type": "code",
      "metadata": {
        "colab_type": "code",
        "id": "hAPD-lOVUmQh",
        "colab": {}
      },
      "source": [
        "link = 'https://drive.google.com/open?id=1Di8VvI-XxNcTtcYIC3zk-lOO1TiOPU0q' # The shareable link"
      ],
      "execution_count": 0,
      "outputs": []
    },
    {
      "cell_type": "code",
      "metadata": {
        "colab_type": "code",
        "id": "RlpEy4cEUmQl",
        "colab": {}
      },
      "source": [
        "fluff, id = link.split('=')"
      ],
      "execution_count": 0,
      "outputs": []
    },
    {
      "cell_type": "code",
      "metadata": {
        "colab_type": "code",
        "id": "XaTJTllIUmQo",
        "colab": {}
      },
      "source": [
        "downloaded = drive.CreateFile({'id':id}) \n",
        "downloaded.GetContentFile('cvarray.npy')  \n",
        "cvarray= np.load('cvarray.npy')"
      ],
      "execution_count": 0,
      "outputs": []
    },
    {
      "cell_type": "code",
      "metadata": {
        "colab_type": "code",
        "id": "itzvC-_qTHWf",
        "colab": {}
      },
      "source": [
        "link = 'https://drive.google.com/open?id=1Jw6cyVYaJ-HL16Ox6X0Ab5KsqQxGEClR' # The shareable link"
      ],
      "execution_count": 0,
      "outputs": []
    },
    {
      "cell_type": "code",
      "metadata": {
        "colab_type": "code",
        "id": "FJMKSpKITHWj",
        "colab": {}
      },
      "source": [
        "fluff, id = link.split('=')"
      ],
      "execution_count": 0,
      "outputs": []
    },
    {
      "cell_type": "code",
      "metadata": {
        "colab_type": "code",
        "id": "bqjT-zC6THWm",
        "colab": {}
      },
      "source": [
        "downloaded = drive.CreateFile({'id':id}) \n",
        "downloaded.GetContentFile('traindataframeclasslabel.csv')  \n",
        "traindataframe= pd.read_csv('traindataframeclasslabel.csv',names=['a','b'])"
      ],
      "execution_count": 0,
      "outputs": []
    },
    {
      "cell_type": "code",
      "metadata": {
        "colab_type": "code",
        "id": "ZTvmcTZMVB-t",
        "colab": {}
      },
      "source": [
        "link = 'https://drive.google.com/open?id=1hhWTqUSQ1TVQtvp-YN36E5sCx7XkPDh7' # The shareable link"
      ],
      "execution_count": 0,
      "outputs": []
    },
    {
      "cell_type": "code",
      "metadata": {
        "colab_type": "code",
        "id": "CMztuvnKVB-u",
        "colab": {}
      },
      "source": [
        "fluff, id = link.split('=')"
      ],
      "execution_count": 0,
      "outputs": []
    },
    {
      "cell_type": "code",
      "metadata": {
        "colab_type": "code",
        "id": "xHxE8XdYVB-w",
        "colab": {}
      },
      "source": [
        "downloaded = drive.CreateFile({'id':id}) \n",
        "downloaded.GetContentFile('testdataframeclasslabel.csv')  \n",
        "testdataframe= pd.read_csv('testdataframeclasslabel.csv',names=['a','b'])"
      ],
      "execution_count": 0,
      "outputs": []
    },
    {
      "cell_type": "code",
      "metadata": {
        "colab_type": "code",
        "id": "Repee98YVTQg",
        "colab": {}
      },
      "source": [
        "link = 'https://drive.google.com/open?id=1BzVl-SWjGkQ1819BSQ9GbgHf-8PLcJNH' # The shareable link"
      ],
      "execution_count": 0,
      "outputs": []
    },
    {
      "cell_type": "code",
      "metadata": {
        "colab_type": "code",
        "id": "cnBr2OvtVTQk",
        "colab": {}
      },
      "source": [
        "fluff, id = link.split('=')"
      ],
      "execution_count": 0,
      "outputs": []
    },
    {
      "cell_type": "code",
      "metadata": {
        "colab_type": "code",
        "id": "TyODwyOwVTQo",
        "colab": {}
      },
      "source": [
        "downloaded = drive.CreateFile({'id':id}) \n",
        "downloaded.GetContentFile('cvdataframeclasslabel.csv')  \n",
        "cvdataframe= pd.read_csv('cvdataframeclasslabel.csv',names=['a','b'])"
      ],
      "execution_count": 0,
      "outputs": []
    },
    {
      "cell_type": "code",
      "metadata": {
        "id": "LzxgrTHFVbNx",
        "colab_type": "code",
        "outputId": "8df1fea7-ea2a-47e0-8969-bd320a49b7e7",
        "colab": {
          "base_uri": "https://localhost:8080/",
          "height": 68
        }
      },
      "source": [
        "print(traindataframe.shape)\n",
        "print(testdataframe.shape)\n",
        "print(cvdataframe.shape)"
      ],
      "execution_count": 0,
      "outputs": [
        {
          "output_type": "stream",
          "text": [
            "(180000,)\n",
            "(20000, 2)\n",
            "(20000, 2)\n"
          ],
          "name": "stdout"
        }
      ]
    },
    {
      "cell_type": "code",
      "metadata": {
        "id": "E-QhmpvgVlCY",
        "colab_type": "code",
        "outputId": "740ea9f2-86f1-4b9b-fd44-861cd014c8d4",
        "colab": {
          "base_uri": "https://localhost:8080/",
          "height": 85
        }
      },
      "source": [
        "print(traindataframe.head(3))"
      ],
      "execution_count": 0,
      "outputs": [
        {
          "output_type": "stream",
          "text": [
            "0     PF13376.6\n",
            "1    PF01381.22\n",
            "2    PF00300.22\n",
            "Name: b, dtype: object\n"
          ],
          "name": "stdout"
        }
      ]
    },
    {
      "cell_type": "code",
      "metadata": {
        "colab_type": "code",
        "id": "XSOFCIdqLzMP",
        "colab": {}
      },
      "source": [
        "traindataframe=traindataframe['b']\n"
      ],
      "execution_count": 0,
      "outputs": []
    },
    {
      "cell_type": "code",
      "metadata": {
        "id": "LV54EVInWeAv",
        "colab_type": "code",
        "colab": {}
      },
      "source": [
        "testdataframe=testdataframe['b']\n",
        "cvdataframe=cvdataframe['b']"
      ],
      "execution_count": 0,
      "outputs": []
    },
    {
      "cell_type": "code",
      "metadata": {
        "colab_type": "code",
        "id": "n8UKGEA-LzMV",
        "colab": {}
      },
      "source": [
        "totaldataframe=pd.concat([traindataframe,testdataframe],axis=0)"
      ],
      "execution_count": 0,
      "outputs": []
    },
    {
      "cell_type": "code",
      "metadata": {
        "id": "HqVDW5OWWvD7",
        "colab_type": "code",
        "outputId": "ff95f1b0-0b91-4f99-b465-3d86e2261058",
        "colab": {
          "base_uri": "https://localhost:8080/",
          "height": 85
        }
      },
      "source": [
        "totaldataframe.head(3)"
      ],
      "execution_count": 0,
      "outputs": [
        {
          "output_type": "execute_result",
          "data": {
            "text/plain": [
              "0     PF13376.6\n",
              "1    PF01381.22\n",
              "2    PF00300.22\n",
              "Name: b, dtype: object"
            ]
          },
          "metadata": {
            "tags": []
          },
          "execution_count": 25
        }
      ]
    },
    {
      "cell_type": "code",
      "metadata": {
        "colab_type": "code",
        "outputId": "4590179f-d323-4158-f740-d66003eb9883",
        "id": "3aL4z4AWLzMd",
        "colab": {
          "base_uri": "https://localhost:8080/",
          "height": 34
        }
      },
      "source": [
        "from sklearn.feature_extraction.text import CountVectorizer\n",
        "vect=CountVectorizer()\n",
        "out=vect.fit_transform(totaldataframe)\n",
        "features=vect.get_feature_names()\n",
        "counts=out.sum(axis=0)\n",
        "print('number of unique class lables are',len(features))"
      ],
      "execution_count": 0,
      "outputs": [
        {
          "output_type": "stream",
          "text": [
            "number of unique class lables are 11836\n"
          ],
          "name": "stdout"
        }
      ]
    },
    {
      "cell_type": "code",
      "metadata": {
        "colab_type": "code",
        "id": "7SlLfK0WLzMi",
        "colab": {}
      },
      "source": [
        "from keras.models import Sequential\n",
        "from keras.layers import Flatten,Activation,Dense,Dropout\n",
        "from keras.utils import np_utils"
      ],
      "execution_count": 0,
      "outputs": []
    },
    {
      "cell_type": "code",
      "metadata": {
        "colab_type": "code",
        "id": "OCoUnYKdLzMj",
        "colab": {}
      },
      "source": [
        "from sklearn.preprocessing import LabelEncoder\n",
        "label1=LabelEncoder()\n",
        "label1.fit(totaldataframe)\n",
        "trainy=label1.transform(traindataframe)\n",
        "testy=label1.transform(testdataframe)\n",
        "#cvy=label1.transform(cvdataframe['family_accession'])"
      ],
      "execution_count": 0,
      "outputs": []
    },
    {
      "cell_type": "code",
      "metadata": {
        "colab_type": "code",
        "id": "cYmnjEG9LzMo",
        "colab": {}
      },
      "source": [
        "# this function is used draw Binary Crossentropy Loss VS No. of epochs plot\n",
        "def plt_dynamic(x, vy, ty):\n",
        "  plt.figure(figsize=(10,5))\n",
        "  plt.plot(x, vy, 'b', label=\"Validation Loss\")\n",
        "  plt.plot(x, ty, 'r', label=\"Train Loss\")\n",
        "  plt.xlabel('Epochs') \n",
        "  plt.ylabel('Binary Crossentropy Loss')\n",
        "  plt.title('\\nBinary Crossentropy Loss VS Epochs')\n",
        "  plt.legend()\n",
        "  plt.grid()\n",
        "  plt.show()"
      ],
      "execution_count": 0,
      "outputs": []
    },
    {
      "cell_type": "code",
      "metadata": {
        "id": "HzkcotVZXCUe",
        "colab_type": "code",
        "outputId": "a7d4c3ac-51e5-4ba5-ea60-47479e66ad15",
        "colab": {
          "base_uri": "https://localhost:8080/",
          "height": 2460
        }
      },
      "source": [
        "import keras as keras\n",
        "import tensorflow as tf\n",
        "from keras.models import Sequential\n",
        "from keras.layers import Dense,Dropout,Flatten,BatchNormalization\n",
        "from keras.layers import Conv1D,MaxPooling1D\n",
        "model=Sequential()\n",
        "model.add(Conv1D(100,kernel_size=(26),activation='relu',input_shape=(200,26)))\n",
        "model.add(MaxPooling1D(pool_size=2))\n",
        "model.add(Dropout(0.5))\n",
        "model.add(Conv1D(250,26,activation='relu'))\n",
        "model.add(MaxPooling1D(pool_size=4))\n",
        "model.add(Flatten())\n",
        "model.add(Dense(11836,activation='softmax'))\n",
        "model.compile(loss=keras.losses.sparse_categorical_crossentropy,optimizer='adam',metrics=['accuracy'])\n",
        "history=model.fit(trainarray,trainy,epochs=60,validation_data=[testarray,testy],batch_size=128) "
      ],
      "execution_count": 0,
      "outputs": [
        {
          "output_type": "stream",
          "text": [
            "WARNING: Logging before flag parsing goes to stderr.\n",
            "W0619 10:52:49.821394 139727061636992 deprecation_wrapper.py:119] From /usr/local/lib/python3.6/dist-packages/keras/backend/tensorflow_backend.py:74: The name tf.get_default_graph is deprecated. Please use tf.compat.v1.get_default_graph instead.\n",
            "\n",
            "W0619 10:52:49.864488 139727061636992 deprecation_wrapper.py:119] From /usr/local/lib/python3.6/dist-packages/keras/backend/tensorflow_backend.py:517: The name tf.placeholder is deprecated. Please use tf.compat.v1.placeholder instead.\n",
            "\n",
            "W0619 10:52:49.874052 139727061636992 deprecation_wrapper.py:119] From /usr/local/lib/python3.6/dist-packages/keras/backend/tensorflow_backend.py:4138: The name tf.random_uniform is deprecated. Please use tf.random.uniform instead.\n",
            "\n",
            "W0619 10:52:49.918748 139727061636992 deprecation_wrapper.py:119] From /usr/local/lib/python3.6/dist-packages/keras/backend/tensorflow_backend.py:3976: The name tf.nn.max_pool is deprecated. Please use tf.nn.max_pool2d instead.\n",
            "\n",
            "W0619 10:52:49.928320 139727061636992 deprecation_wrapper.py:119] From /usr/local/lib/python3.6/dist-packages/keras/backend/tensorflow_backend.py:133: The name tf.placeholder_with_default is deprecated. Please use tf.compat.v1.placeholder_with_default instead.\n",
            "\n",
            "W0619 10:52:49.940415 139727061636992 deprecation.py:506] From /usr/local/lib/python3.6/dist-packages/keras/backend/tensorflow_backend.py:3445: calling dropout (from tensorflow.python.ops.nn_ops) with keep_prob is deprecated and will be removed in a future version.\n",
            "Instructions for updating:\n",
            "Please use `rate` instead of `keep_prob`. Rate should be set to `rate = 1 - keep_prob`.\n",
            "W0619 10:52:50.011578 139727061636992 deprecation_wrapper.py:119] From /usr/local/lib/python3.6/dist-packages/keras/optimizers.py:790: The name tf.train.Optimizer is deprecated. Please use tf.compat.v1.train.Optimizer instead.\n",
            "\n",
            "W0619 10:52:50.039674 139727061636992 deprecation_wrapper.py:119] From /usr/local/lib/python3.6/dist-packages/keras/backend/tensorflow_backend.py:3341: The name tf.log is deprecated. Please use tf.math.log instead.\n",
            "\n",
            "W0619 10:52:50.175851 139727061636992 deprecation.py:323] From /usr/local/lib/python3.6/dist-packages/tensorflow/python/ops/math_grad.py:1250: add_dispatch_support.<locals>.wrapper (from tensorflow.python.ops.array_ops) is deprecated and will be removed in a future version.\n",
            "Instructions for updating:\n",
            "Use tf.where in 2.0, which has the same broadcast rule as np.where\n"
          ],
          "name": "stderr"
        },
        {
          "output_type": "stream",
          "text": [
            "Train on 180000 samples, validate on 20000 samples\n",
            "Epoch 1/60\n",
            "180000/180000 [==============================] - 157s 874us/step - loss: 5.5257 - acc: 0.2277 - val_loss: 2.8999 - val_acc: 0.5254\n",
            "Epoch 2/60\n",
            "180000/180000 [==============================] - 149s 825us/step - loss: 2.0066 - acc: 0.6391 - val_loss: 1.6602 - val_acc: 0.7128\n",
            "Epoch 3/60\n",
            "180000/180000 [==============================] - 149s 826us/step - loss: 0.9869 - acc: 0.8030 - val_loss: 1.3317 - val_acc: 0.7723\n",
            "Epoch 4/60\n",
            "180000/180000 [==============================] - 148s 823us/step - loss: 0.6012 - acc: 0.8794 - val_loss: 1.2425 - val_acc: 0.7936\n",
            "Epoch 5/60\n",
            "180000/180000 [==============================] - 148s 822us/step - loss: 0.4280 - acc: 0.9166 - val_loss: 1.2195 - val_acc: 0.8114\n",
            "Epoch 6/60\n",
            "180000/180000 [==============================] - 148s 824us/step - loss: 0.3434 - acc: 0.9367 - val_loss: 1.2495 - val_acc: 0.8144\n",
            "Epoch 7/60\n",
            "180000/180000 [==============================] - 148s 824us/step - loss: 0.2966 - acc: 0.9475 - val_loss: 1.2795 - val_acc: 0.8261\n",
            "Epoch 8/60\n",
            "180000/180000 [==============================] - 148s 824us/step - loss: 0.2669 - acc: 0.9563 - val_loss: 1.2914 - val_acc: 0.8247\n",
            "Epoch 9/60\n",
            "180000/180000 [==============================] - 148s 824us/step - loss: 0.2537 - acc: 0.9602 - val_loss: 1.2948 - val_acc: 0.8323\n",
            "Epoch 10/60\n",
            "180000/180000 [==============================] - 147s 818us/step - loss: 0.2397 - acc: 0.9646 - val_loss: 1.3121 - val_acc: 0.8372\n",
            "Epoch 11/60\n",
            "180000/180000 [==============================] - 147s 819us/step - loss: 0.2320 - acc: 0.9670 - val_loss: 1.3329 - val_acc: 0.8395\n",
            "Epoch 12/60\n",
            "180000/180000 [==============================] - 147s 816us/step - loss: 0.2240 - acc: 0.9692 - val_loss: 1.3685 - val_acc: 0.8390\n",
            "Epoch 13/60\n",
            "180000/180000 [==============================] - 148s 822us/step - loss: 0.2178 - acc: 0.9714 - val_loss: 1.4026 - val_acc: 0.8408\n",
            "Epoch 14/60\n",
            "180000/180000 [==============================] - 148s 822us/step - loss: 0.2165 - acc: 0.9724 - val_loss: 1.3675 - val_acc: 0.8469\n",
            "Epoch 15/60\n",
            "180000/180000 [==============================] - 148s 820us/step - loss: 0.2119 - acc: 0.9736 - val_loss: 1.4069 - val_acc: 0.8476\n",
            "Epoch 16/60\n",
            "180000/180000 [==============================] - 148s 821us/step - loss: 0.2079 - acc: 0.9748 - val_loss: 1.4261 - val_acc: 0.8462\n",
            "Epoch 17/60\n",
            "180000/180000 [==============================] - 148s 822us/step - loss: 0.2062 - acc: 0.9758 - val_loss: 1.4319 - val_acc: 0.8493\n",
            "Epoch 18/60\n",
            "180000/180000 [==============================] - 148s 823us/step - loss: 0.2052 - acc: 0.9765 - val_loss: 1.4688 - val_acc: 0.8476\n",
            "Epoch 19/60\n",
            "180000/180000 [==============================] - 148s 822us/step - loss: 0.2040 - acc: 0.9770 - val_loss: 1.4723 - val_acc: 0.8484\n",
            "Epoch 20/60\n",
            "180000/180000 [==============================] - 148s 822us/step - loss: 0.2015 - acc: 0.9774 - val_loss: 1.4961 - val_acc: 0.8513\n",
            "Epoch 21/60\n",
            "180000/180000 [==============================] - 148s 821us/step - loss: 0.2020 - acc: 0.9780 - val_loss: 1.4971 - val_acc: 0.8522\n",
            "Epoch 22/60\n",
            "180000/180000 [==============================] - 148s 822us/step - loss: 0.1988 - acc: 0.9788 - val_loss: 1.5217 - val_acc: 0.8515\n",
            "Epoch 23/60\n",
            "180000/180000 [==============================] - 148s 820us/step - loss: 0.2021 - acc: 0.9788 - val_loss: 1.5570 - val_acc: 0.8507\n",
            "Epoch 24/60\n",
            "180000/180000 [==============================] - 148s 821us/step - loss: 0.1988 - acc: 0.9796 - val_loss: 1.5296 - val_acc: 0.8526\n",
            "Epoch 25/60\n",
            "180000/180000 [==============================] - 148s 820us/step - loss: 0.1992 - acc: 0.9794 - val_loss: 1.5206 - val_acc: 0.8585\n",
            "Epoch 26/60\n",
            "180000/180000 [==============================] - 148s 822us/step - loss: 0.1963 - acc: 0.9803 - val_loss: 1.5375 - val_acc: 0.8596\n",
            "Epoch 27/60\n",
            "180000/180000 [==============================] - 148s 822us/step - loss: 0.2003 - acc: 0.9802 - val_loss: 1.5813 - val_acc: 0.8574\n",
            "Epoch 28/60\n",
            "180000/180000 [==============================] - 148s 822us/step - loss: 0.1967 - acc: 0.9810 - val_loss: 1.5897 - val_acc: 0.8569\n",
            "Epoch 29/60\n",
            "180000/180000 [==============================] - 148s 821us/step - loss: 0.1982 - acc: 0.9808 - val_loss: 1.6297 - val_acc: 0.8561\n",
            "Epoch 30/60\n",
            "180000/180000 [==============================] - 148s 822us/step - loss: 0.1981 - acc: 0.9815 - val_loss: 1.5936 - val_acc: 0.8610\n",
            "Epoch 31/60\n",
            "180000/180000 [==============================] - 148s 821us/step - loss: 0.1931 - acc: 0.9823 - val_loss: 1.6144 - val_acc: 0.8587\n",
            "Epoch 32/60\n",
            "180000/180000 [==============================] - 148s 822us/step - loss: 0.1961 - acc: 0.9820 - val_loss: 1.6397 - val_acc: 0.8577\n",
            "Epoch 33/60\n",
            "180000/180000 [==============================] - 148s 821us/step - loss: 0.1988 - acc: 0.9815 - val_loss: 1.6595 - val_acc: 0.8570\n",
            "Epoch 34/60\n",
            "180000/180000 [==============================] - 148s 820us/step - loss: 0.1979 - acc: 0.9819 - val_loss: 1.6654 - val_acc: 0.8568\n",
            "Epoch 35/60\n",
            "180000/180000 [==============================] - 148s 821us/step - loss: 0.1973 - acc: 0.9824 - val_loss: 1.6312 - val_acc: 0.8628\n",
            "Epoch 36/60\n",
            "180000/180000 [==============================] - 148s 820us/step - loss: 0.1994 - acc: 0.9818 - val_loss: 1.6544 - val_acc: 0.8636\n",
            "Epoch 37/60\n",
            "180000/180000 [==============================] - 148s 822us/step - loss: 0.1984 - acc: 0.9824 - val_loss: 1.7020 - val_acc: 0.8570\n",
            "Epoch 38/60\n",
            "180000/180000 [==============================] - 148s 822us/step - loss: 0.2005 - acc: 0.9821 - val_loss: 1.6565 - val_acc: 0.8636\n",
            "Epoch 39/60\n",
            "180000/180000 [==============================] - 148s 821us/step - loss: 0.1992 - acc: 0.9828 - val_loss: 1.6592 - val_acc: 0.8639\n",
            "Epoch 40/60\n",
            "180000/180000 [==============================] - 148s 821us/step - loss: 0.1964 - acc: 0.9831 - val_loss: 1.7462 - val_acc: 0.8600\n",
            "Epoch 41/60\n",
            "180000/180000 [==============================] - 148s 821us/step - loss: 0.1998 - acc: 0.9827 - val_loss: 1.7084 - val_acc: 0.8648\n",
            "Epoch 42/60\n",
            "180000/180000 [==============================] - 148s 820us/step - loss: 0.1971 - acc: 0.9835 - val_loss: 1.7081 - val_acc: 0.8640\n",
            "Epoch 43/60\n",
            "180000/180000 [==============================] - 147s 819us/step - loss: 0.1990 - acc: 0.9831 - val_loss: 1.7628 - val_acc: 0.8606\n",
            "Epoch 44/60\n",
            "180000/180000 [==============================] - 146s 811us/step - loss: 0.1964 - acc: 0.9837 - val_loss: 1.7827 - val_acc: 0.8612\n",
            "Epoch 45/60\n",
            "180000/180000 [==============================] - 146s 811us/step - loss: 0.1979 - acc: 0.9835 - val_loss: 1.7522 - val_acc: 0.8627\n",
            "Epoch 46/60\n",
            "180000/180000 [==============================] - 146s 810us/step - loss: 0.2000 - acc: 0.9834 - val_loss: 1.7651 - val_acc: 0.8635\n",
            "Epoch 47/60\n",
            "180000/180000 [==============================] - 146s 811us/step - loss: 0.1979 - acc: 0.9838 - val_loss: 1.7817 - val_acc: 0.8636\n",
            "Epoch 48/60\n",
            "180000/180000 [==============================] - 146s 811us/step - loss: 0.1974 - acc: 0.9841 - val_loss: 1.7953 - val_acc: 0.8606\n",
            "Epoch 49/60\n",
            "180000/180000 [==============================] - 146s 811us/step - loss: 0.2005 - acc: 0.9837 - val_loss: 1.7954 - val_acc: 0.8637\n",
            "Epoch 50/60\n",
            "180000/180000 [==============================] - 146s 812us/step - loss: 0.1989 - acc: 0.9841 - val_loss: 1.7745 - val_acc: 0.8635\n",
            "Epoch 51/60\n",
            "180000/180000 [==============================] - 147s 814us/step - loss: 0.2007 - acc: 0.9841 - val_loss: 1.7846 - val_acc: 0.8643\n",
            "Epoch 52/60\n",
            "180000/180000 [==============================] - 146s 811us/step - loss: 0.2015 - acc: 0.9840 - val_loss: 1.7881 - val_acc: 0.8660\n",
            "Epoch 53/60\n",
            "180000/180000 [==============================] - 146s 812us/step - loss: 0.1968 - acc: 0.9846 - val_loss: 1.7539 - val_acc: 0.8689\n",
            "Epoch 54/60\n",
            "180000/180000 [==============================] - 147s 815us/step - loss: 0.1975 - acc: 0.9847 - val_loss: 1.7651 - val_acc: 0.8690\n",
            "Epoch 55/60\n",
            "180000/180000 [==============================] - 147s 816us/step - loss: 0.1984 - acc: 0.9847 - val_loss: 1.8288 - val_acc: 0.8648\n",
            "Epoch 56/60\n",
            "180000/180000 [==============================] - 146s 810us/step - loss: 0.2038 - acc: 0.9841 - val_loss: 1.7976 - val_acc: 0.8675\n",
            "Epoch 57/60\n",
            "180000/180000 [==============================] - 147s 816us/step - loss: 0.1988 - acc: 0.9846 - val_loss: 1.8241 - val_acc: 0.8656\n",
            "Epoch 58/60\n",
            "180000/180000 [==============================] - 147s 814us/step - loss: 0.1984 - acc: 0.9849 - val_loss: 1.8200 - val_acc: 0.8680\n",
            "Epoch 59/60\n",
            "180000/180000 [==============================] - 146s 814us/step - loss: 0.2062 - acc: 0.9843 - val_loss: 1.8341 - val_acc: 0.8671\n",
            "Epoch 60/60\n",
            "180000/180000 [==============================] - 147s 816us/step - loss: 0.1988 - acc: 0.9849 - val_loss: 1.8329 - val_acc: 0.8682\n"
          ],
          "name": "stdout"
        }
      ]
    },
    {
      "cell_type": "code",
      "metadata": {
        "id": "8Hj40lmVXiO6",
        "colab_type": "code",
        "outputId": "1dd2999d-d526-4d95-d4e1-f167505e9f96",
        "colab": {
          "base_uri": "https://localhost:8080/",
          "height": 381
        }
      },
      "source": [
        "import matplotlib.pyplot as plt\n",
        "scores = model.evaluate(testarray,testy, verbose=0)\n",
        "print(\"Accuracy: %.2f%%\" % (scores[1]*100))\n",
        "\n",
        "# Test and train accuracy of the model\n",
        "model_3_test = scores[1]\n",
        "model_3_train = max(history.history['acc'])\n",
        "\n",
        "# Plotting Train and Test Loss VS no. of epochs\n",
        "# list of epoch numbers\n",
        "x = list(range(1,61))\n",
        "\n",
        "# Validation loss\n",
        "vy = history.history['val_loss']\n",
        "# Training loss\n",
        "ty = history.history['loss']\n",
        "\n",
        "# Calling the function to draw the plot\n",
        "plt_dynamic(x, vy, ty)"
      ],
      "execution_count": 0,
      "outputs": [
        {
          "output_type": "stream",
          "text": [
            "Accuracy: 86.83%\n"
          ],
          "name": "stdout"
        },
        {
          "output_type": "display_data",
          "data": {
            "image/png": "[encoded data removed]",
            "text/plain": [
              "<Figure size 720x360 with 1 Axes>"
            ]
          },
          "metadata": {
            "tags": []
          }
        }
      ]
    },
    {
      "cell_type": "code",
      "metadata": {
        "id": "H1gAniaw5zNH",
        "colab_type": "code",
        "outputId": "809ede6d-f33e-41bb-eae7-7af49b08b4cd",
        "colab": {
          "base_uri": "https://localhost:8080/",
          "height": 1146
        }
      },
      "source": [
        "import keras as keras\n",
        "import tensorflow as tf\n",
        "from keras.models import Sequential\n",
        "from keras.layers import Dense,Dropout,Flatten,BatchNormalization\n",
        "from keras.layers import Conv1D,MaxPooling1D\n",
        "model=Sequential()\n",
        "model.add(Conv1D(2000,kernel_size=26,activation='relu',input_shape=(200,26)))\n",
        "model.add(MaxPooling1D(pool_size=2))\n",
        "model.add(Dropout(0.4))\n",
        "model.add(BatchNormalization())\n",
        "model.add(Conv1D(250,20,activation='relu'))\n",
        "model.add(MaxPooling1D(pool_size=4))\n",
        "model.add(Dropout(0.6))\n",
        "model.add(BatchNormalization())\n",
        "model.add(Flatten())\n",
        "model.add(Dense(11836,activation='softmax'))\n",
        "model.compile(loss=keras.losses.sparse_categorical_crossentropy,optimizer='adam',metrics=['accuracy'])\n",
        "history=model.fit(trainarray,trainy,epochs=30,validation_data=[testarray,testy],batch_size=128) \n"
      ],
      "execution_count": 0,
      "outputs": [
        {
          "output_type": "stream",
          "text": [
            "W0619 19:50:21.398618 139644765677440 nn_ops.py:4224] Large dropout rate: 0.6 (>0.5). In TensorFlow 2.x, dropout() uses dropout rate instead of keep_prob. Please ensure that this is intended.\n",
            "W0619 19:50:21.626489 139644765677440 deprecation.py:323] From /usr/local/lib/python3.6/dist-packages/tensorflow/python/ops/math_grad.py:1250: add_dispatch_support.<locals>.wrapper (from tensorflow.python.ops.array_ops) is deprecated and will be removed in a future version.\n",
            "Instructions for updating:\n",
            "Use tf.where in 2.0, which has the same broadcast rule as np.where\n"
          ],
          "name": "stderr"
        },
        {
          "output_type": "stream",
          "text": [
            "Train on 180000 samples, validate on 20000 samples\n",
            "Epoch 1/30\n",
            "180000/180000 [==============================] - 329s 2ms/step - loss: 4.6548 - acc: 0.3767 - val_loss: 1.5470 - val_acc: 0.7329\n",
            "Epoch 2/30\n",
            "180000/180000 [==============================] - 343s 2ms/step - loss: 1.2378 - acc: 0.7697 - val_loss: 0.9925 - val_acc: 0.8195\n",
            "Epoch 3/30\n",
            "180000/180000 [==============================] - 342s 2ms/step - loss: 0.5234 - acc: 0.8860 - val_loss: 0.9045 - val_acc: 0.8399\n",
            "Epoch 4/30\n",
            "180000/180000 [==============================] - 342s 2ms/step - loss: 0.3116 - acc: 0.9275 - val_loss: 1.1124 - val_acc: 0.8037\n",
            "Epoch 5/30\n",
            "180000/180000 [==============================] - 341s 2ms/step - loss: 0.2337 - acc: 0.9440 - val_loss: 0.7667 - val_acc: 0.8640\n",
            "Epoch 6/30\n",
            "180000/180000 [==============================] - 326s 2ms/step - loss: 0.1846 - acc: 0.9558 - val_loss: 0.6613 - val_acc: 0.8891\n",
            "Epoch 7/30\n",
            "180000/180000 [==============================] - 326s 2ms/step - loss: 0.1633 - acc: 0.9608 - val_loss: 0.6504 - val_acc: 0.8899\n",
            "Epoch 8/30\n",
            "180000/180000 [==============================] - 325s 2ms/step - loss: 0.1391 - acc: 0.9667 - val_loss: 1.0141 - val_acc: 0.8384\n",
            "Epoch 9/30\n",
            "180000/180000 [==============================] - 325s 2ms/step - loss: 0.1272 - acc: 0.9692 - val_loss: 0.6761 - val_acc: 0.8894\n",
            "Epoch 10/30\n",
            "180000/180000 [==============================] - 325s 2ms/step - loss: 0.1172 - acc: 0.9721 - val_loss: 0.5658 - val_acc: 0.9101\n",
            "Epoch 11/30\n",
            "180000/180000 [==============================] - 325s 2ms/step - loss: 0.1057 - acc: 0.9752 - val_loss: 0.6312 - val_acc: 0.9002\n",
            "Epoch 12/30\n",
            "180000/180000 [==============================] - 325s 2ms/step - loss: 0.0990 - acc: 0.9768 - val_loss: 0.5767 - val_acc: 0.9083\n",
            "Epoch 13/30\n",
            "180000/180000 [==============================] - 326s 2ms/step - loss: 0.0937 - acc: 0.9780 - val_loss: 0.5718 - val_acc: 0.9096\n",
            "Epoch 14/30\n",
            "180000/180000 [==============================] - 325s 2ms/step - loss: 0.0880 - acc: 0.9795 - val_loss: 1.0875 - val_acc: 0.8390\n",
            "Epoch 15/30\n",
            "180000/180000 [==============================] - 325s 2ms/step - loss: 0.0838 - acc: 0.9805 - val_loss: 0.6391 - val_acc: 0.9012\n",
            "Epoch 16/30\n",
            "180000/180000 [==============================] - 325s 2ms/step - loss: 0.0806 - acc: 0.9816 - val_loss: 0.6606 - val_acc: 0.8958\n",
            "Epoch 17/30\n",
            "180000/180000 [==============================] - 325s 2ms/step - loss: 0.0777 - acc: 0.9825 - val_loss: 0.5714 - val_acc: 0.9137\n",
            "Epoch 18/30\n",
            "180000/180000 [==============================] - 325s 2ms/step - loss: 0.0739 - acc: 0.9832 - val_loss: 0.5397 - val_acc: 0.9212\n",
            "Epoch 19/30\n",
            "180000/180000 [==============================] - 325s 2ms/step - loss: 0.0684 - acc: 0.9844 - val_loss: 0.6490 - val_acc: 0.9012\n",
            "Epoch 20/30\n",
            "180000/180000 [==============================] - 325s 2ms/step - loss: 0.0686 - acc: 0.9845 - val_loss: 0.5817 - val_acc: 0.9124\n",
            "Epoch 21/30\n",
            "180000/180000 [==============================] - 325s 2ms/step - loss: 0.0641 - acc: 0.9856 - val_loss: 0.6012 - val_acc: 0.9091\n",
            "Epoch 22/30\n",
            "180000/180000 [==============================] - 325s 2ms/step - loss: 0.0644 - acc: 0.9857 - val_loss: 0.6598 - val_acc: 0.9002\n",
            "Epoch 23/30\n",
            "180000/180000 [==============================] - 326s 2ms/step - loss: 0.0598 - acc: 0.9868 - val_loss: 0.5533 - val_acc: 0.9185\n",
            "Epoch 24/30\n",
            "180000/180000 [==============================] - 325s 2ms/step - loss: 0.0577 - acc: 0.9870 - val_loss: 0.6329 - val_acc: 0.9084\n",
            "Epoch 25/30\n",
            "180000/180000 [==============================] - 326s 2ms/step - loss: 0.0551 - acc: 0.9878 - val_loss: 0.5622 - val_acc: 0.9185\n",
            "Epoch 26/30\n",
            "180000/180000 [==============================] - 325s 2ms/step - loss: 0.0528 - acc: 0.9883 - val_loss: 0.6116 - val_acc: 0.9100\n",
            "Epoch 27/30\n",
            "180000/180000 [==============================] - 325s 2ms/step - loss: 0.0537 - acc: 0.9882 - val_loss: 0.5081 - val_acc: 0.9263\n",
            "Epoch 28/30\n",
            "180000/180000 [==============================] - 325s 2ms/step - loss: 0.0474 - acc: 0.9896 - val_loss: 0.5505 - val_acc: 0.9192\n",
            "Epoch 29/30\n",
            "180000/180000 [==============================] - 325s 2ms/step - loss: 0.0484 - acc: 0.9894 - val_loss: 0.5581 - val_acc: 0.9175\n",
            "Epoch 30/30\n",
            "180000/180000 [==============================] - 325s 2ms/step - loss: 0.0474 - acc: 0.9897 - val_loss: 0.5054 - val_acc: 0.9285\n"
          ],
          "name": "stdout"
        }
      ]
    },
    {
      "cell_type": "code",
      "metadata": {
        "id": "qoof9Yj2lvr4",
        "colab_type": "code",
        "outputId": "4c1b9256-0dbb-4357-830f-5fd9a284da69",
        "colab": {
          "base_uri": "https://localhost:8080/",
          "height": 381
        }
      },
      "source": [
        "import matplotlib.pyplot as plt\n",
        "scores = model.evaluate(testarray,testy, verbose=0)\n",
        "print(\"Accuracy: %.2f%%\" % (scores[1]*100))\n",
        "\n",
        "# Test and train accuracy of the model\n",
        "model_3_test = scores[1]\n",
        "model_3_train = max(history.history['acc'])\n",
        "\n",
        "# Plotting Train and Test Loss VS no. of epochs\n",
        "# list of epoch numbers\n",
        "x = list(range(1,31))\n",
        "\n",
        "# Validation loss\n",
        "vy = history.history['val_loss']\n",
        "# Training loss\n",
        "ty = history.history['loss']\n",
        "\n",
        "# Calling the function to draw the plot\n",
        "plt_dynamic(x, vy, ty)"
      ],
      "execution_count": 0,
      "outputs": [
        {
          "output_type": "stream",
          "text": [
            "Accuracy: 92.86%\n"
          ],
          "name": "stdout"
        },
        {
          "output_type": "display_data",
          "data": {
            "image/png": "[encoded data removed]",
            "text/plain": [
              "<Figure size 720x360 with 1 Axes>"
            ]
          },
          "metadata": {
            "tags": []
          }
        }
      ]
    },
    {
      "cell_type": "code",
      "metadata": {
        "id": "YWZLEJk_6F-H",
        "colab_type": "code",
        "outputId": "873d8c4c-3972-4fb5-a622-6bcd0baa63b7",
        "colab": {
          "base_uri": "https://localhost:8080/",
          "height": 497
        }
      },
      "source": [
        "#do bidirectional lstm in this\n",
        "import keras as keras\n",
        "import tensorflow as tf\n",
        "from keras.models import Sequential\n",
        "from keras.layers import Dense,Dropout,Flatten,BatchNormalization\n",
        "from keras.layers import Conv1D,MaxPooling1D\n",
        "from keras.layers import LSTM,Bidirectional\n",
        "model=Sequential()\n",
        "model.add(Dense(200,activation='relu',input_shape=(200,26)))\n",
        "model.add(Dropout(0.4))\n",
        "model.add(BatchNormalization())\n",
        "model.add(Bidirectional(LSTM(26,dropout=0.2,return_sequences=True)))\n",
        "model.add(BatchNormalization())\n",
        "model.add(Flatten())\n",
        "model.add(Dense(11836,activation='softmax'))\n",
        "model.compile(loss=keras.losses.sparse_categorical_crossentropy,optimizer='adam',metrics=['accuracy'])\n",
        "history=model.fit(trainarray,trainy,epochs=3,validation_data=[testarray,testy],batch_size=128) \n"
      ],
      "execution_count": 0,
      "outputs": [
        {
          "output_type": "stream",
          "text": [
            "Using TensorFlow backend.\n",
            "WARNING: Logging before flag parsing goes to stderr.\n",
            "W0620 12:33:09.188477 140488317740928 deprecation_wrapper.py:119] From /usr/local/lib/python3.6/dist-packages/keras/backend/tensorflow_backend.py:74: The name tf.get_default_graph is deprecated. Please use tf.compat.v1.get_default_graph instead.\n",
            "\n",
            "W0620 12:33:09.227867 140488317740928 deprecation_wrapper.py:119] From /usr/local/lib/python3.6/dist-packages/keras/backend/tensorflow_backend.py:517: The name tf.placeholder is deprecated. Please use tf.compat.v1.placeholder instead.\n",
            "\n",
            "W0620 12:33:09.237042 140488317740928 deprecation_wrapper.py:119] From /usr/local/lib/python3.6/dist-packages/keras/backend/tensorflow_backend.py:4138: The name tf.random_uniform is deprecated. Please use tf.random.uniform instead.\n",
            "\n",
            "W0620 12:33:09.270805 140488317740928 deprecation_wrapper.py:119] From /usr/local/lib/python3.6/dist-packages/keras/backend/tensorflow_backend.py:133: The name tf.placeholder_with_default is deprecated. Please use tf.compat.v1.placeholder_with_default instead.\n",
            "\n",
            "W0620 12:33:09.283224 140488317740928 deprecation.py:506] From /usr/local/lib/python3.6/dist-packages/keras/backend/tensorflow_backend.py:3445: calling dropout (from tensorflow.python.ops.nn_ops) with keep_prob is deprecated and will be removed in a future version.\n",
            "Instructions for updating:\n",
            "Please use `rate` instead of `keep_prob`. Rate should be set to `rate = 1 - keep_prob`.\n",
            "W0620 12:33:10.224582 140488317740928 deprecation_wrapper.py:119] From /usr/local/lib/python3.6/dist-packages/keras/optimizers.py:790: The name tf.train.Optimizer is deprecated. Please use tf.compat.v1.train.Optimizer instead.\n",
            "\n",
            "W0620 12:33:10.256244 140488317740928 deprecation_wrapper.py:119] From /usr/local/lib/python3.6/dist-packages/keras/backend/tensorflow_backend.py:3341: The name tf.log is deprecated. Please use tf.math.log instead.\n",
            "\n",
            "W0620 12:33:10.411857 140488317740928 deprecation.py:323] From /usr/local/lib/python3.6/dist-packages/tensorflow/python/ops/math_grad.py:1250: add_dispatch_support.<locals>.wrapper (from tensorflow.python.ops.array_ops) is deprecated and will be removed in a future version.\n",
            "Instructions for updating:\n",
            "Use tf.where in 2.0, which has the same broadcast rule as np.where\n"
          ],
          "name": "stderr"
        },
        {
          "output_type": "stream",
          "text": [
            "Train on 180000 samples, validate on 20000 samples\n",
            "Epoch 1/3\n",
            "180000/180000 [==============================] - 1538s 9ms/step - loss: 2.2988 - acc: 0.7371 - val_loss: 0.6325 - val_acc: 0.9112\n",
            "Epoch 2/3\n",
            "180000/180000 [==============================] - 1536s 9ms/step - loss: 0.2449 - acc: 0.9800 - val_loss: 0.6362 - val_acc: 0.9126\n",
            "Epoch 3/3\n",
            "180000/180000 [==============================] - 1511s 8ms/step - loss: 0.2006 - acc: 0.9867 - val_loss: 0.6668 - val_acc: 0.9104\n"
          ],
          "name": "stdout"
        }
      ]
    },
    {
      "cell_type": "code",
      "metadata": {
        "id": "OeSPXyfGnNMc",
        "colab_type": "code",
        "outputId": "50f0602c-d2bf-441b-9eb8-4e6ac0440fcc",
        "colab": {
          "base_uri": "https://localhost:8080/",
          "height": 381
        }
      },
      "source": [
        "import matplotlib.pyplot as plt\n",
        "scores = model.evaluate(testarray,testy, verbose=0)\n",
        "print(\"Accuracy: %.2f%%\" % (scores[1]*100))\n",
        "\n",
        "# Test and train accuracy of the model\n",
        "model_3_test = scores[1]\n",
        "model_3_train = max(history.history['acc'])\n",
        "\n",
        "# Plotting Train and Test Loss VS no. of epochs\n",
        "# list of epoch numbers\n",
        "x = list(range(1,4))\n",
        "\n",
        "# Validation loss\n",
        "\n",
        "vy = history.history['val_loss']\n",
        "# Training loss\n",
        "ty = history.history['loss']\n",
        "\n",
        "# Calling the function to draw the plot\n",
        "plt_dynamic(x, vy, ty)"
      ],
      "execution_count": 0,
      "outputs": [
        {
          "output_type": "stream",
          "text": [
            "Accuracy: 91.04%\n"
          ],
          "name": "stdout"
        },
        {
          "output_type": "display_data",
          "data": {
            "image/png": "[encoded data removed]",
            "text/plain": [
              "<Figure size 720x360 with 1 Axes>"
            ]
          },
          "metadata": {
            "tags": []
          }
        }
      ]
    },
    {
      "cell_type": "markdown",
      "metadata": {
        "id": "76g4kfSXXp-f",
        "colab_type": "text"
      },
      "source": [
        "##*** FOR 130000 POINTS."
      ]
    },
    {
      "cell_type": "code",
      "metadata": {
        "id": "62Rs-948QnNk",
        "colab_type": "code",
        "colab": {
          "base_uri": "https://localhost:8080/",
          "height": 436
        },
        "outputId": "4f50fad2-e918-4e49-93ca-c9fe89055fb4"
      },
      "source": [
        "import pandas as pd\n",
        "s=[['CONVOLUTIONAL','70','128','(100,250)','(0.5,0.6)','(21,26)','0.98','0.89'],['CONVOLUTIONAL+LSTM','70','128','(300,250,300(LSTM))','(0.4,0.6,0.4)','(21,26)','0.98','0.88'],['CONVOLUTIONAL+LSTM','70','256','(300,250,500(LSTM))','(0.7,0.7,0.4)','(26,26)','0.98','0.86'],['DENSE+(BIDRIRECTIONAL LSTM)','5','128','(256,26(LSTM))','(0.7,0.5)','NONE','0.99','0.86'],['CONVOLUTIONAL','25','256','(100,250','(0.2,0.2)','(10,20)','0.85','0.85'],['CONVOLUTIONAL','80','128','(2000,250)','(0.4,0.6)','(26,20)','0.98','0.9'],['DENSE+LSTM+DENSE','60','128','(256,26,128)','(0.3,0.2,0.3)','NONE','0.85','0.88'],['CONVOLUTIONAL','25','256','(100,250)','(0.2,0.2)','(10,20)','0.98','0.87'],['CONVOLUTIONAL','80','64','(100,250)','(0.2,0.3)','(25,26)','0.85','0.89'],['CONVOLUTIONAL','60','128','(100,250))','(0.5)','(26,26)','0.95','0.90'],['CONVOLUTIONAL','100','256','(1500,500,512)','(0.5,0.4,0.4)',\"(21,26,1('ARCH. INSP.BY RESNET&BOT-NECK'))\",'0.99','0.9'],['CONVOLUTIONAL+CONVOLUTIONAL+BIDIRECTIONAL-LSTM','60','128','(500,250,300(BI-LSTM))','(0.5,0.7,0.4)','(26,26)','0.95','0.82'],['DENSE+BIDIRECTIONAL-LSTM','2','128','(200,26)','(0.4,0.2)','NONE','0.98','0.89']]\n",
        "\n",
        "x=pd.DataFrame(s,columns=['DEEPLEARNINGTECHNIQUE','EPOCHS','BATCHSIZE','CONFIGURATION','DROPOUT RATES','KERNEL SIZE','TRAINING ACCURACY','TEST ACCURACY'])\n",
        "x"
      ],
      "execution_count": 6,
      "outputs": [
        {
          "output_type": "execute_result",
          "data": {
            "text/html": [
              "<div>\n",
              "<style scoped>\n",
              "    .dataframe tbody tr th:only-of-type {\n",
              "        vertical-align: middle;\n",
              "    }\n",
              "\n",
              "    .dataframe tbody tr th {\n",
              "        vertical-align: top;\n",
              "    }\n",
              "\n",
              "    .dataframe thead th {\n",
              "        text-align: right;\n",
              "    }\n",
              "</style>\n",
              "<table border=\"1\" class=\"dataframe\">\n",
              "  <thead>\n",
              "    <tr style=\"text-align: right;\">\n",
              "      <th></th>\n",
              "      <th>DEEPLEARNINGTECHNIQUE</th>\n",
              "      <th>EPOCHS</th>\n",
              "      <th>BATCHSIZE</th>\n",
              "      <th>CONFIGURATION</th>\n",
              "      <th>DROPOUT RATES</th>\n",
              "      <th>KERNEL SIZE</th>\n",
              "      <th>TRAINING ACCURACY</th>\n",
              "      <th>TEST ACCURACY</th>\n",
              "    </tr>\n",
              "  </thead>\n",
              "  <tbody>\n",
              "    <tr>\n",
              "      <th>0</th>\n",
              "      <td>CONVOLUTIONAL</td>\n",
              "      <td>70</td>\n",
              "      <td>128</td>\n",
              "      <td>(100,250)</td>\n",
              "      <td>(0.5,0.6)</td>\n",
              "      <td>(21,26)</td>\n",
              "      <td>0.98</td>\n",
              "      <td>0.89</td>\n",
              "    </tr>\n",
              "    <tr>\n",
              "      <th>1</th>\n",
              "      <td>CONVOLUTIONAL+LSTM</td>\n",
              "      <td>70</td>\n",
              "      <td>128</td>\n",
              "      <td>(300,250,300(LSTM))</td>\n",
              "      <td>(0.4,0.6,0.4)</td>\n",
              "      <td>(21,26)</td>\n",
              "      <td>0.98</td>\n",
              "      <td>0.88</td>\n",
              "    </tr>\n",
              "    <tr>\n",
              "      <th>2</th>\n",
              "      <td>CONVOLUTIONAL+LSTM</td>\n",
              "      <td>70</td>\n",
              "      <td>256</td>\n",
              "      <td>(300,250,500(LSTM))</td>\n",
              "      <td>(0.7,0.7,0.4)</td>\n",
              "      <td>(26,26)</td>\n",
              "      <td>0.98</td>\n",
              "      <td>0.86</td>\n",
              "    </tr>\n",
              "    <tr>\n",
              "      <th>3</th>\n",
              "      <td>DENSE+(BIDRIRECTIONAL LSTM)</td>\n",
              "      <td>5</td>\n",
              "      <td>128</td>\n",
              "      <td>(256,26(LSTM))</td>\n",
              "      <td>(0.7,0.5)</td>\n",
              "      <td>NONE</td>\n",
              "      <td>0.99</td>\n",
              "      <td>0.86</td>\n",
              "    </tr>\n",
              "    <tr>\n",
              "      <th>4</th>\n",
              "      <td>CONVOLUTIONAL</td>\n",
              "      <td>25</td>\n",
              "      <td>256</td>\n",
              "      <td>(100,250</td>\n",
              "      <td>(0.2,0.2)</td>\n",
              "      <td>(10,20)</td>\n",
              "      <td>0.85</td>\n",
              "      <td>0.85</td>\n",
              "    </tr>\n",
              "    <tr>\n",
              "      <th>5</th>\n",
              "      <td>CONVOLUTIONAL</td>\n",
              "      <td>80</td>\n",
              "      <td>128</td>\n",
              "      <td>(2000,250)</td>\n",
              "      <td>(0.4,0.6)</td>\n",
              "      <td>(26,20)</td>\n",
              "      <td>0.98</td>\n",
              "      <td>0.9</td>\n",
              "    </tr>\n",
              "    <tr>\n",
              "      <th>6</th>\n",
              "      <td>DENSE+LSTM+DENSE</td>\n",
              "      <td>60</td>\n",
              "      <td>128</td>\n",
              "      <td>(256,26,128)</td>\n",
              "      <td>(0.3,0.2,0.3)</td>\n",
              "      <td>NONE</td>\n",
              "      <td>0.85</td>\n",
              "      <td>0.88</td>\n",
              "    </tr>\n",
              "    <tr>\n",
              "      <th>7</th>\n",
              "      <td>CONVOLUTIONAL</td>\n",
              "      <td>25</td>\n",
              "      <td>256</td>\n",
              "      <td>(100,250)</td>\n",
              "      <td>(0.2,0.2)</td>\n",
              "      <td>(10,20)</td>\n",
              "      <td>0.98</td>\n",
              "      <td>0.87</td>\n",
              "    </tr>\n",
              "    <tr>\n",
              "      <th>8</th>\n",
              "      <td>CONVOLUTIONAL</td>\n",
              "      <td>80</td>\n",
              "      <td>64</td>\n",
              "      <td>(100,250)</td>\n",
              "      <td>(0.2,0.3)</td>\n",
              "      <td>(25,26)</td>\n",
              "      <td>0.85</td>\n",
              "      <td>0.89</td>\n",
              "    </tr>\n",
              "    <tr>\n",
              "      <th>9</th>\n",
              "      <td>CONVOLUTIONAL</td>\n",
              "      <td>60</td>\n",
              "      <td>128</td>\n",
              "      <td>(100,250))</td>\n",
              "      <td>(0.5)</td>\n",
              "      <td>(26,26)</td>\n",
              "      <td>0.95</td>\n",
              "      <td>0.90</td>\n",
              "    </tr>\n",
              "    <tr>\n",
              "      <th>10</th>\n",
              "      <td>CONVOLUTIONAL</td>\n",
              "      <td>100</td>\n",
              "      <td>256</td>\n",
              "      <td>(1500,500,512)</td>\n",
              "      <td>(0.5,0.4,0.4)</td>\n",
              "      <td>(21,26,1('ARCH. INSP.BY RESNET&amp;BOT-NECK'))</td>\n",
              "      <td>0.99</td>\n",
              "      <td>0.9</td>\n",
              "    </tr>\n",
              "    <tr>\n",
              "      <th>11</th>\n",
              "      <td>CONVOLUTIONAL+CONVOLUTIONAL+BIDIRECTIONAL-LSTM</td>\n",
              "      <td>60</td>\n",
              "      <td>128</td>\n",
              "      <td>(500,250,300(BI-LSTM))</td>\n",
              "      <td>(0.5,0.7,0.4)</td>\n",
              "      <td>(26,26)</td>\n",
              "      <td>0.95</td>\n",
              "      <td>0.82</td>\n",
              "    </tr>\n",
              "    <tr>\n",
              "      <th>12</th>\n",
              "      <td>DENSE+BIDIRECTIONAL-LSTM</td>\n",
              "      <td>2</td>\n",
              "      <td>128</td>\n",
              "      <td>(200,26)</td>\n",
              "      <td>(0.4,0.2)</td>\n",
              "      <td>NONE</td>\n",
              "      <td>0.98</td>\n",
              "      <td>0.89</td>\n",
              "    </tr>\n",
              "  </tbody>\n",
              "</table>\n",
              "</div>"
            ],
            "text/plain": [
              "                             DEEPLEARNINGTECHNIQUE  ... TEST ACCURACY\n",
              "0                                    CONVOLUTIONAL  ...          0.89\n",
              "1                               CONVOLUTIONAL+LSTM  ...          0.88\n",
              "2                               CONVOLUTIONAL+LSTM  ...          0.86\n",
              "3                      DENSE+(BIDRIRECTIONAL LSTM)  ...          0.86\n",
              "4                                    CONVOLUTIONAL  ...          0.85\n",
              "5                                    CONVOLUTIONAL  ...           0.9\n",
              "6                                 DENSE+LSTM+DENSE  ...          0.88\n",
              "7                                    CONVOLUTIONAL  ...          0.87\n",
              "8                                    CONVOLUTIONAL  ...          0.89\n",
              "9                                    CONVOLUTIONAL  ...          0.90\n",
              "10                                   CONVOLUTIONAL  ...           0.9\n",
              "11  CONVOLUTIONAL+CONVOLUTIONAL+BIDIRECTIONAL-LSTM  ...          0.82\n",
              "12                        DENSE+BIDIRECTIONAL-LSTM  ...          0.89\n",
              "\n",
              "[13 rows x 8 columns]"
            ]
          },
          "metadata": {
            "tags": []
          },
          "execution_count": 6
        }
      ]
    },
    {
      "cell_type": "markdown",
      "metadata": {
        "id": "aRFHIr_AeQeZ",
        "colab_type": "text"
      },
      "source": [
        "\n",
        "\n",
        "> ## ** FOR 180000 TRAINING SAMPLES\n",
        "\n"
      ]
    },
    {
      "cell_type": "code",
      "metadata": {
        "id": "qxJVYuumePdu",
        "colab_type": "code",
        "colab": {
          "base_uri": "https://localhost:8080/",
          "height": 137
        },
        "outputId": "807e7087-b3fc-4964-dd34-392c17f8bab0"
      },
      "source": [
        "import pandas as pd\n",
        "s=[['CONVOLUTIONAL','60','128','(100,250)','(0.5)','(26,26)','0.98','0.86'],['CONVOLUTIONAL','30','128','(2000,250)','(0.4,0.6)','(26,20)','0.99','0.93'],['DENSE+BIDIRECTIONAL-LSTM','2','128','(200,26)','(0.4,0.2)','NONE','0.98','0.91']]\n",
        "\n",
        "x=pd.DataFrame(s,columns=['DEEPLEARNINGTECHNIQUE','EPOCHS','BATCHSIZE','CONFIGURATION','DROPOUT RATES','KERNEL SIZE','TRAINING ACCURACY','TEST ACCURACY'])\n",
        "x"
      ],
      "execution_count": 8,
      "outputs": [
        {
          "output_type": "execute_result",
          "data": {
            "text/html": [
              "<div>\n",
              "<style scoped>\n",
              "    .dataframe tbody tr th:only-of-type {\n",
              "        vertical-align: middle;\n",
              "    }\n",
              "\n",
              "    .dataframe tbody tr th {\n",
              "        vertical-align: top;\n",
              "    }\n",
              "\n",
              "    .dataframe thead th {\n",
              "        text-align: right;\n",
              "    }\n",
              "</style>\n",
              "<table border=\"1\" class=\"dataframe\">\n",
              "  <thead>\n",
              "    <tr style=\"text-align: right;\">\n",
              "      <th></th>\n",
              "      <th>DEEPLEARNINGTECHNIQUE</th>\n",
              "      <th>EPOCHS</th>\n",
              "      <th>BATCHSIZE</th>\n",
              "      <th>CONFIGURATION</th>\n",
              "      <th>DROPOUT RATES</th>\n",
              "      <th>KERNEL SIZE</th>\n",
              "      <th>TRAINING ACCURACY</th>\n",
              "      <th>TEST ACCURACY</th>\n",
              "    </tr>\n",
              "  </thead>\n",
              "  <tbody>\n",
              "    <tr>\n",
              "      <th>0</th>\n",
              "      <td>CONVOLUTIONAL</td>\n",
              "      <td>60</td>\n",
              "      <td>128</td>\n",
              "      <td>(100,250)</td>\n",
              "      <td>(0.5)</td>\n",
              "      <td>(26,26)</td>\n",
              "      <td>0.98</td>\n",
              "      <td>0.86</td>\n",
              "    </tr>\n",
              "    <tr>\n",
              "      <th>1</th>\n",
              "      <td>CONVOLUTIONAL</td>\n",
              "      <td>30</td>\n",
              "      <td>128</td>\n",
              "      <td>(2000,250)</td>\n",
              "      <td>(0.4,0.6)</td>\n",
              "      <td>(26,20)</td>\n",
              "      <td>0.99</td>\n",
              "      <td>0.93</td>\n",
              "    </tr>\n",
              "    <tr>\n",
              "      <th>2</th>\n",
              "      <td>DENSE+BIDIRECTIONAL-LSTM</td>\n",
              "      <td>2</td>\n",
              "      <td>128</td>\n",
              "      <td>(200,26)</td>\n",
              "      <td>(0.4,0.2)</td>\n",
              "      <td>NONE</td>\n",
              "      <td>0.98</td>\n",
              "      <td>0.91</td>\n",
              "    </tr>\n",
              "  </tbody>\n",
              "</table>\n",
              "</div>"
            ],
            "text/plain": [
              "      DEEPLEARNINGTECHNIQUE EPOCHS  ... TRAINING ACCURACY TEST ACCURACY\n",
              "0             CONVOLUTIONAL     60  ...              0.98          0.86\n",
              "1             CONVOLUTIONAL     30  ...              0.99          0.93\n",
              "2  DENSE+BIDIRECTIONAL-LSTM      2  ...              0.98          0.91\n",
              "\n",
              "[3 rows x 8 columns]"
            ]
          },
          "metadata": {
            "tags": []
          },
          "execution_count": 8
        }
      ]
    },
    {
      "cell_type": "markdown",
      "metadata": {
        "colab_type": "text",
        "id": "LDuY7yYmaIKq"
      },
      "source": [
        "# OBSERVATIONS DOCUMENTATION AND KEYTAKEAWAYS.\n",
        "\n",
        "\n",
        "\n",
        "#### IN PFAM RANDOM SPLIT CASE STUDY WE ARE GIVEN WITH SEQUENCE AND WE HAVE TO PREDICT THE FMILY OF THE PROTEIN. WE HAVE TO PREDICT THE FAMILY PROTEIN.\n",
        "#### WE HAVE THE INPUT FEATURES TO OUR MODEL .AMINO ACID IS THE SEQUENCE FOR THIS DOMAIN.\n",
        "\n",
        "#### Description of fields: - sequence: These are usually the input features to your model. Amino acid sequence for this domain. There are 20 very common amino acids (frequency > 1,000,000), and 4 amino acids that are quite uncommon: X, U, B, O, Z. - family_accession: These are usually the labels for your model. Accession number in form PFxxxxx.y (Pfam), where xxxxx is the family accession, and y is the version number.\n",
        "\n",
        "\n",
        "#### WE HAVE DATA FOR TRAINING ,CROSS VALIDATION AND TESTING SEPERATELY. WE HAVE DONE EXPLORATORY DATA ANALTYSIS FOR DATA. WE HAVE 1100 CLASS LABELS WHICH ARE VERY FREQUENT.\n",
        "\n",
        "\n",
        "#### OBSERVATIONS ARE FEW FAMILY ACCESSIONS ARE SIMILAR\n",
        "##### FROM THE EXPLOARTORY DATA ANLYSIS HISTOGRAM PLOTS OF WE HAVE VISUALISED SEQUENCE LENGTH THE TRAIN DATA , TEST DATA AND CROSS VALIDATION DATA.\n",
        "#### WE HAVE VISUALISED THE BOXPLOT AND VIOLIN PLOT FOR THE ALIGNMENT LENGTH.\n",
        "\n",
        "#### WE HAVE PLOTTED THE PROBABILITY DENSITY FUNCTION AND CONSIDERD THE LENGTH OF SEQUENCE.WE HAVE CONSIDERD THE LENGTH OF 200 DUE TO LACK OF COMPUTATIONAL POWER. WE HAVE ALSO PLOTTED THE LENGTH OF SEQUENCE.\n",
        "\n",
        "#### WE HAVE ENCODED EVERY LETTER OF SEQUENCE INTO LENGTH OF 26. WE HAVE OBTAINED THE SEQUENCE PATTERN AND DETERMINED THE CLASS LABEL.\n",
        "\n",
        "#### THERE ARE FEW KEY TAKE AWAYS \n",
        "* SEQUEENCE LENGTH IS ALMOST SIMILAR FOR THE PARTICULAR CLASS LABEL.\n",
        "* THE SEQUENCE OF THE PROTEIN FOLLOW A PATTERN.\n",
        "\n",
        "#### WE WILL TRAINED THE MODEL USING THE CONVOLUTIONAL NERAL NETWORS  FROM THE FEATURES WE EXTRACT TO PREDICT THE CLASSLABEL.\n",
        "\n",
        "#### OBSERVATIONS AFTER PERFORMING FEATURE EXTRACTION:-\n",
        "** UNIQUE CLASS LABELS HAVE UNIQUE LENGTH OF SEQUENCE\n",
        "\n",
        "** THE SEQUENCE WHICH ARE REPRESENTED BY THE UNDEFINED DOTS THEIR INDICES ARE ALMOST SIMILAR FOR THAT PARTICULAR CLASSLABEL.\n",
        "\n",
        "#### THERE ARE VARIOUS RESEARCH PAPERS,BLOGS,YOUTUBE VIDEOS WHICH DESCRIBE THE REALTION OF PROTEIN SEQUENCES..\n",
        "\n",
        "#### ALL THE ANLAYSIS WE HAVE DONE IS PART OF PROTEIN SEQUENCING TO PREDICT WHETHER THAT PROTEIN SEQUENCE BELONGS TO PARTICULAR FAMILY OR NOT.\n",
        "\n",
        "#### WE HAVE USED VARIOUS CONFIGURATIONS WE HAVE OBTAINED THE MAXIMUM ACCURACY OF  PERCENT.\n",
        "\n",
        "\n",
        "#### WE HAVE USED RELU AS THE ACTIVATION FUNCTION FOR THE INPUT AND HIDDEN LAYERS AND SOFTMAX AS THE ACTIVATION FUNCTION TO PREDICT FOR THE OUTPUT LAYER BASED ON PROBABILTY.\n",
        "\n",
        "#### WE CONSIDERD ACCURACY AS THE METRIC. WE HAVE PLOTTED THE GRAPHS FOR THE TRAINLOSS AND CROSS VALIDATION LOSS TO SEE THE HOW MODEL IS PERFORMING AND WHETHER THE MODEL IS OVERFITTING OR UNDERFITTING.\n",
        "\n",
        "#### WE HAVE USED DROPUTS AND BATCH NORMALIZATION WHICH ARE USED TO PREVENT THE OVERFITTING OF THE MODEL.\n",
        "\n",
        "#### USING THE DROPOUT LAYER WE CAN SWITCH OFF THE CELLS OF LAYER BASED ON THE PROBABILITY GIVEN."
      ]
    },
    {
      "cell_type": "markdown",
      "metadata": {
        "id": "nlqTwVvNxJc3",
        "colab_type": "text"
      },
      "source": [
        "### WE HAVE TRAINED THE MODEL ON 130000 SAMPLES OF TRAIN DATA. WE HAVE USED VARIOUS DEEP LEARNING TECHNUIQUES FROM THE MULTI LAYER PERCEPTRONS ,CONVOLUTIONAL NUERAL NETWORKS,VARIOUS ARCHITECTURES OF CONVOLUTIONAL NYUERAL NETWROKS SPECIALLY INSPIRED BY RESIDUAL NETWORKS AND EXTRACTION OF BOTTLENECK FEATURES.\n",
        "\n",
        "\n",
        "### WE HAVE ALSO DONE THE LSTM LAYER (LONG-SHORT-TERM MERMORY) AND THE BIDIRECTIONAL LSTM WITH VARYING THE NUMER OF EPOCHS,BATCH SIZE KERNEL SIZE(IN CASE OF CNN) WITH DIFFERENT DROPOUT RATES .WE HAVE USED BOTH CNN ALONG WITH BIDIRECTIONAL LSTM AND LSTM IN SOME CASES. WE HAVE OBTAINED THE ACCURACY OF 90 PERCENTAGE USING THE CONVOLUTIONAL NUERAL NETS AND BIDIRECTIONAL LSTMS.\n",
        "\n",
        "\n",
        "### WE HAVE ALSO USED 180000 TRAINING SAMPLES DIRECTLY UPLOADED IN THE DRIVE PROCESSING IN LATOP OF 32 GB RAM. USING THE 180000 TRAINING SAMPLES WE HAVE ACHIEVED THE ACCURACY OF APPROXIMATELY 93 PERCENTAGE( 0.928) WITH CONVOLUTIONAL NUERAL NETWORKS.\n",
        "\n",
        "### THIS ARE THE DEEPLEARNING TECHNIQUES THAT ARE USED WHICH ARE BETTER THEAN THE HIDDEN MARKOV MODELS TAKES LESS TIME AND COMPUTATION POWER AND ACHIEVE BEST RESULTS."
      ]
    },
    {
      "cell_type": "code",
      "metadata": {
        "id": "ZVF__AYv0luM",
        "colab_type": "code",
        "colab": {}
      },
      "source": [
        ""
      ],
      "execution_count": 0,
      "outputs": []
    }
  ]
}
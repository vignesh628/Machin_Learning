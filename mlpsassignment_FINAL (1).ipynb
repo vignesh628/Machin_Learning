{
  "nbformat": 4,
  "nbformat_minor": 0,
  "metadata": {
    "colab": {
      "name": "mlpsassignment_FINAL.ipynb",
      "version": "0.3.2",
      "provenance": [],
      "collapsed_sections": []
    },
    "kernelspec": {
      "name": "python3",
      "display_name": "Python 3"
    }
  },
  "cells": [
    {
      "metadata": {
        "id": "uu2H8VN3ugL1",
        "colab_type": "text"
      },
      "cell_type": "markdown",
      "source": [
        "#MLP ASSIGNMENT OVER MNIST DATASET \n",
        "###MLP WHICH IS APPLYING THE MULTI LAYER PERCEPTRONS WE USE THIS DEEP LEARNING TECHNIQUES WITH THE HIDDEN LAYERS WITH THE CELLS OF ACTIVATION FUNCTIONA THAT ARE INTERNALLY CONNECTED AND PEFORM THE BACKPRPOGATION INORDER TO REDUCE THE LOSS BETWEEN PREDICTED VALUE AND THE ACTUAL VALUE. WE USE THE OPTIMIASTION FUNCTIONS TO MINIMISE THE LOSS OF STOCHASTIC GRADIENT DESCENT  WE WILL CONVERGE TO MINIMISE OUT LOSS. WE WILL TRAIN MODELS AND VALIDATE THE MODELS USING THE TEST DATA."
      ]
    },
    {
      "metadata": {
        "id": "A0uAsObBv3cr",
        "colab_type": "code",
        "outputId": "be6a0d8c-42e2-4515-8029-237cde2fa955",
        "colab": {
          "base_uri": "https://localhost:8080/",
          "height": 34
        }
      },
      "cell_type": "code",
      "source": [
        "from keras.utils import np_utils\n",
        "from keras.datasets import mnist\n",
        "import seaborn as sns\n",
        "from keras.initializers import RandomNormal\n"
      ],
      "execution_count": 0,
      "outputs": [
        {
          "output_type": "stream",
          "text": [
            "Using TensorFlow backend.\n"
          ],
          "name": "stderr"
        }
      ]
    },
    {
      "metadata": {
        "id": "QZPIGs5wwQSB",
        "colab_type": "code",
        "colab": {}
      },
      "cell_type": "code",
      "source": [
        "import matplotlib.pyplot as plt\n",
        "import numpy as np\n",
        "import time\n"
      ],
      "execution_count": 0,
      "outputs": []
    },
    {
      "metadata": {
        "id": "GC0V3CacwcG5",
        "colab_type": "code",
        "colab": {}
      },
      "cell_type": "code",
      "source": [
        "def dynamicplot(x,validationy,testy,ax):\n",
        "  ax.plot(x,validationy,label='validatiomn loss')\n",
        "  ax.plot(x,testy,label='testloss')\n",
        "  plt.xlabel('epoch')\n",
        "  plt.ylabel('categroicalcrossentropy')\n",
        "  plt.legend()\n",
        "  plt.show()"
      ],
      "execution_count": 0,
      "outputs": []
    },
    {
      "metadata": {
        "id": "EJm3bjt9xA2w",
        "colab_type": "code",
        "outputId": "f7187878-ac16-4aaf-f2ac-a292c9b9dc7d",
        "colab": {
          "base_uri": "https://localhost:8080/",
          "height": 52
        }
      },
      "cell_type": "code",
      "source": [
        "(xtrain,ytrain),(xtest,ytest)=mnist.load_data()"
      ],
      "execution_count": 0,
      "outputs": [
        {
          "output_type": "stream",
          "text": [
            "Downloading data from https://s3.amazonaws.com/img-datasets/mnist.npz\n",
            "11493376/11490434 [==============================] - 0s 0us/step\n"
          ],
          "name": "stdout"
        }
      ]
    },
    {
      "metadata": {
        "id": "kby6wx73xL8f",
        "colab_type": "code",
        "outputId": "04ce2013-1958-4788-abc3-4955d2e9744b",
        "colab": {
          "base_uri": "https://localhost:8080/",
          "height": 34
        }
      },
      "cell_type": "code",
      "source": [
        "print(xtrain[0][27])"
      ],
      "execution_count": 0,
      "outputs": [
        {
          "output_type": "stream",
          "text": [
            "[0 0 0 0 0 0 0 0 0 0 0 0 0 0 0 0 0 0 0 0 0 0 0 0 0 0 0 0]\n"
          ],
          "name": "stdout"
        }
      ]
    },
    {
      "metadata": {
        "id": "7imVHTakxO6h",
        "colab_type": "code",
        "outputId": "84e57c67-0879-45d7-ccc3-b392f185851c",
        "colab": {
          "base_uri": "https://localhost:8080/",
          "height": 34
        }
      },
      "cell_type": "code",
      "source": [
        "#the imput is of shape 3dimensional vector\n",
        "print(xtrain.shape)"
      ],
      "execution_count": 0,
      "outputs": [
        {
          "output_type": "stream",
          "text": [
            "(60000, 28, 28)\n"
          ],
          "name": "stdout"
        }
      ]
    },
    {
      "metadata": {
        "id": "EGtkjeEExtbR",
        "colab_type": "code",
        "outputId": "c4ab5a2c-1a70-4446-a6c9-038bff1346c5",
        "colab": {
          "base_uri": "https://localhost:8080/",
          "height": 52
        }
      },
      "cell_type": "code",
      "source": [
        "#we want it as 60000data points and reshape data as 784 which data is 784 pixels\n",
        "xtrain=xtrain.reshape(xtrain.shape[0],xtrain.shape[1]*xtrain.shape[2])\n",
        "xtest=xtest.reshape(xtest.shape[0],xtest.shape[1]*xtest.shape[2])\n",
        "print(xtrain.shape)\n",
        "print(xtest.shape)"
      ],
      "execution_count": 0,
      "outputs": [
        {
          "output_type": "stream",
          "text": [
            "(60000, 784)\n",
            "(10000, 784)\n"
          ],
          "name": "stdout"
        }
      ]
    },
    {
      "metadata": {
        "id": "qqzFeeHpyVGZ",
        "colab_type": "code",
        "outputId": "102cc7c6-4d42-4b8b-f69b-ba0b4c5097e5",
        "colab": {
          "base_uri": "https://localhost:8080/",
          "height": 34
        }
      },
      "cell_type": "code",
      "source": [
        "print(ytrain.shape)"
      ],
      "execution_count": 0,
      "outputs": [
        {
          "output_type": "stream",
          "text": [
            "(60000,)\n"
          ],
          "name": "stdout"
        }
      ]
    },
    {
      "metadata": {
        "id": "XG3Go11syY0N",
        "colab_type": "code",
        "colab": {}
      },
      "cell_type": "code",
      "source": [
        "#the values are between 0 and 255\n",
        "#normalixzing  the data\n",
        "xtrain=xtrain/255\n",
        "xtest=xtest/255"
      ],
      "execution_count": 0,
      "outputs": []
    },
    {
      "metadata": {
        "id": "DmNwo2Bfyxrm",
        "colab_type": "code",
        "outputId": "6b19436c-8226-4e3d-bd39-3d7f74bc55cd",
        "colab": {
          "base_uri": "https://localhost:8080/",
          "height": 2288
        }
      },
      "cell_type": "code",
      "source": [
        "print(xtrain[0])"
      ],
      "execution_count": 0,
      "outputs": [
        {
          "output_type": "stream",
          "text": [
            "[0.         0.         0.         0.         0.         0.\n",
            " 0.         0.         0.         0.         0.         0.\n",
            " 0.         0.         0.         0.         0.         0.\n",
            " 0.         0.         0.         0.         0.         0.\n",
            " 0.         0.         0.         0.         0.         0.\n",
            " 0.         0.         0.         0.         0.         0.\n",
            " 0.         0.         0.         0.         0.         0.\n",
            " 0.         0.         0.         0.         0.         0.\n",
            " 0.         0.         0.         0.         0.         0.\n",
            " 0.         0.         0.         0.         0.         0.\n",
            " 0.         0.         0.         0.         0.         0.\n",
            " 0.         0.         0.         0.         0.         0.\n",
            " 0.         0.         0.         0.         0.         0.\n",
            " 0.         0.         0.         0.         0.         0.\n",
            " 0.         0.         0.         0.         0.         0.\n",
            " 0.         0.         0.         0.         0.         0.\n",
            " 0.         0.         0.         0.         0.         0.\n",
            " 0.         0.         0.         0.         0.         0.\n",
            " 0.         0.         0.         0.         0.         0.\n",
            " 0.         0.         0.         0.         0.         0.\n",
            " 0.         0.         0.         0.         0.         0.\n",
            " 0.         0.         0.         0.         0.         0.\n",
            " 0.         0.         0.         0.         0.         0.\n",
            " 0.         0.         0.         0.         0.         0.\n",
            " 0.         0.         0.         0.         0.         0.\n",
            " 0.         0.         0.01176471 0.07058824 0.07058824 0.07058824\n",
            " 0.49411765 0.53333333 0.68627451 0.10196078 0.65098039 1.\n",
            " 0.96862745 0.49803922 0.         0.         0.         0.\n",
            " 0.         0.         0.         0.         0.         0.\n",
            " 0.         0.         0.11764706 0.14117647 0.36862745 0.60392157\n",
            " 0.66666667 0.99215686 0.99215686 0.99215686 0.99215686 0.99215686\n",
            " 0.88235294 0.6745098  0.99215686 0.94901961 0.76470588 0.25098039\n",
            " 0.         0.         0.         0.         0.         0.\n",
            " 0.         0.         0.         0.         0.         0.19215686\n",
            " 0.93333333 0.99215686 0.99215686 0.99215686 0.99215686 0.99215686\n",
            " 0.99215686 0.99215686 0.99215686 0.98431373 0.36470588 0.32156863\n",
            " 0.32156863 0.21960784 0.15294118 0.         0.         0.\n",
            " 0.         0.         0.         0.         0.         0.\n",
            " 0.         0.         0.         0.07058824 0.85882353 0.99215686\n",
            " 0.99215686 0.99215686 0.99215686 0.99215686 0.77647059 0.71372549\n",
            " 0.96862745 0.94509804 0.         0.         0.         0.\n",
            " 0.         0.         0.         0.         0.         0.\n",
            " 0.         0.         0.         0.         0.         0.\n",
            " 0.         0.         0.31372549 0.61176471 0.41960784 0.99215686\n",
            " 0.99215686 0.80392157 0.04313725 0.         0.16862745 0.60392157\n",
            " 0.         0.         0.         0.         0.         0.\n",
            " 0.         0.         0.         0.         0.         0.\n",
            " 0.         0.         0.         0.         0.         0.\n",
            " 0.         0.05490196 0.00392157 0.60392157 0.99215686 0.35294118\n",
            " 0.         0.         0.         0.         0.         0.\n",
            " 0.         0.         0.         0.         0.         0.\n",
            " 0.         0.         0.         0.         0.         0.\n",
            " 0.         0.         0.         0.         0.         0.\n",
            " 0.         0.54509804 0.99215686 0.74509804 0.00784314 0.\n",
            " 0.         0.         0.         0.         0.         0.\n",
            " 0.         0.         0.         0.         0.         0.\n",
            " 0.         0.         0.         0.         0.         0.\n",
            " 0.         0.         0.         0.         0.         0.04313725\n",
            " 0.74509804 0.99215686 0.2745098  0.         0.         0.\n",
            " 0.         0.         0.         0.         0.         0.\n",
            " 0.         0.         0.         0.         0.         0.\n",
            " 0.         0.         0.         0.         0.         0.\n",
            " 0.         0.         0.         0.         0.1372549  0.94509804\n",
            " 0.88235294 0.62745098 0.42352941 0.00392157 0.         0.\n",
            " 0.         0.         0.         0.         0.         0.\n",
            " 0.         0.         0.         0.         0.         0.\n",
            " 0.         0.         0.         0.         0.         0.\n",
            " 0.         0.         0.         0.31764706 0.94117647 0.99215686\n",
            " 0.99215686 0.46666667 0.09803922 0.         0.         0.\n",
            " 0.         0.         0.         0.         0.         0.\n",
            " 0.         0.         0.         0.         0.         0.\n",
            " 0.         0.         0.         0.         0.         0.\n",
            " 0.         0.         0.17647059 0.72941176 0.99215686 0.99215686\n",
            " 0.58823529 0.10588235 0.         0.         0.         0.\n",
            " 0.         0.         0.         0.         0.         0.\n",
            " 0.         0.         0.         0.         0.         0.\n",
            " 0.         0.         0.         0.         0.         0.\n",
            " 0.         0.0627451  0.36470588 0.98823529 0.99215686 0.73333333\n",
            " 0.         0.         0.         0.         0.         0.\n",
            " 0.         0.         0.         0.         0.         0.\n",
            " 0.         0.         0.         0.         0.         0.\n",
            " 0.         0.         0.         0.         0.         0.\n",
            " 0.         0.97647059 0.99215686 0.97647059 0.25098039 0.\n",
            " 0.         0.         0.         0.         0.         0.\n",
            " 0.         0.         0.         0.         0.         0.\n",
            " 0.         0.         0.         0.         0.         0.\n",
            " 0.         0.         0.18039216 0.50980392 0.71764706 0.99215686\n",
            " 0.99215686 0.81176471 0.00784314 0.         0.         0.\n",
            " 0.         0.         0.         0.         0.         0.\n",
            " 0.         0.         0.         0.         0.         0.\n",
            " 0.         0.         0.         0.         0.15294118 0.58039216\n",
            " 0.89803922 0.99215686 0.99215686 0.99215686 0.98039216 0.71372549\n",
            " 0.         0.         0.         0.         0.         0.\n",
            " 0.         0.         0.         0.         0.         0.\n",
            " 0.         0.         0.         0.         0.         0.\n",
            " 0.09411765 0.44705882 0.86666667 0.99215686 0.99215686 0.99215686\n",
            " 0.99215686 0.78823529 0.30588235 0.         0.         0.\n",
            " 0.         0.         0.         0.         0.         0.\n",
            " 0.         0.         0.         0.         0.         0.\n",
            " 0.         0.         0.09019608 0.25882353 0.83529412 0.99215686\n",
            " 0.99215686 0.99215686 0.99215686 0.77647059 0.31764706 0.00784314\n",
            " 0.         0.         0.         0.         0.         0.\n",
            " 0.         0.         0.         0.         0.         0.\n",
            " 0.         0.         0.         0.         0.07058824 0.67058824\n",
            " 0.85882353 0.99215686 0.99215686 0.99215686 0.99215686 0.76470588\n",
            " 0.31372549 0.03529412 0.         0.         0.         0.\n",
            " 0.         0.         0.         0.         0.         0.\n",
            " 0.         0.         0.         0.         0.         0.\n",
            " 0.21568627 0.6745098  0.88627451 0.99215686 0.99215686 0.99215686\n",
            " 0.99215686 0.95686275 0.52156863 0.04313725 0.         0.\n",
            " 0.         0.         0.         0.         0.         0.\n",
            " 0.         0.         0.         0.         0.         0.\n",
            " 0.         0.         0.         0.         0.53333333 0.99215686\n",
            " 0.99215686 0.99215686 0.83137255 0.52941176 0.51764706 0.0627451\n",
            " 0.         0.         0.         0.         0.         0.\n",
            " 0.         0.         0.         0.         0.         0.\n",
            " 0.         0.         0.         0.         0.         0.\n",
            " 0.         0.         0.         0.         0.         0.\n",
            " 0.         0.         0.         0.         0.         0.\n",
            " 0.         0.         0.         0.         0.         0.\n",
            " 0.         0.         0.         0.         0.         0.\n",
            " 0.         0.         0.         0.         0.         0.\n",
            " 0.         0.         0.         0.         0.         0.\n",
            " 0.         0.         0.         0.         0.         0.\n",
            " 0.         0.         0.         0.         0.         0.\n",
            " 0.         0.         0.         0.         0.         0.\n",
            " 0.         0.         0.         0.         0.         0.\n",
            " 0.         0.         0.         0.         0.         0.\n",
            " 0.         0.         0.         0.         0.         0.\n",
            " 0.         0.         0.         0.         0.         0.\n",
            " 0.         0.         0.         0.        ]\n"
          ],
          "name": "stdout"
        }
      ]
    },
    {
      "metadata": {
        "id": "xh7BW3ezy0fp",
        "colab_type": "code",
        "outputId": "48ff5998-1e30-4069-ba47-b530ade71cc9",
        "colab": {
          "base_uri": "https://localhost:8080/",
          "height": 34
        }
      },
      "cell_type": "code",
      "source": [
        "print(xtrain[0].shape)"
      ],
      "execution_count": 0,
      "outputs": [
        {
          "output_type": "stream",
          "text": [
            "(784,)\n"
          ],
          "name": "stdout"
        }
      ]
    },
    {
      "metadata": {
        "id": "4ChFz9kazB_j",
        "colab_type": "code",
        "colab": {}
      },
      "cell_type": "code",
      "source": [
        "#onehot encode the ytrain just comnverting the features into ccategorical\n",
        "ytrain=np_utils.to_categorical(ytrain,10)\n",
        "ytest=np_utils.to_categorical(ytest,10)"
      ],
      "execution_count": 0,
      "outputs": []
    },
    {
      "metadata": {
        "id": "eX4XNabYziqi",
        "colab_type": "code",
        "outputId": "3451e607-9b66-487c-90b8-5a4b26c8caff",
        "colab": {
          "base_uri": "https://localhost:8080/",
          "height": 34
        }
      },
      "cell_type": "code",
      "source": [
        "from keras.models import Sequential\n",
        "from keras.layers import Dense,Activation,Dropout\n",
        "from keras.layers.normalization import BatchNormalization\n",
        "\n",
        "outputdimensions=10\n",
        "inputdimensions=xtrain.shape[1]\n",
        "print(inputdimensions)"
      ],
      "execution_count": 0,
      "outputs": [
        {
          "output_type": "stream",
          "text": [
            "784\n"
          ],
          "name": "stdout"
        }
      ]
    },
    {
      "metadata": {
        "id": "NnObGdWp2FCW",
        "colab_type": "code",
        "outputId": "c04d043a-8338-4948-d1bf-1d07413181d2",
        "colab": {
          "base_uri": "https://localhost:8080/",
          "height": 52
        }
      },
      "cell_type": "code",
      "source": [
        "print(ytest.shape)\n",
        "print(xtest.shape)"
      ],
      "execution_count": 0,
      "outputs": [
        {
          "output_type": "stream",
          "text": [
            "(10000, 10)\n",
            "(10000, 784)\n"
          ],
          "name": "stdout"
        }
      ]
    },
    {
      "metadata": {
        "id": "oBnH8A5g0f4g",
        "colab_type": "code",
        "outputId": "67421b6e-7b5d-4b49-9bcd-15f431ba600c",
        "colab": {
          "base_uri": "https://localhost:8080/",
          "height": 728
        }
      },
      "cell_type": "code",
      "source": [
        "model=Sequential()\n",
        "model.add(Dense(364,input_dim=inputdimensions,activation='relu'))\n",
        "model.add(BatchNormalization())\n",
        "model.add(Dropout(0.5))\n",
        "model.add(Dense(52,activation='relu'))\n",
        "model.add(BatchNormalization())\n",
        "model.add(Dropout(0.5))\n",
        "model.add(Dense(10,activation='softmax'))\n",
        "model.compile(optimizer='adam',loss='categorical_crossentropy',metrics=['accuracy'])\n",
        "history=model.fit(xtrain,ytrain,batch_size=128,epochs=20,validation_data=(xtest,ytest),verbose=1)"
      ],
      "execution_count": 0,
      "outputs": [
        {
          "output_type": "stream",
          "text": [
            "Train on 60000 samples, validate on 10000 samples\n",
            "Epoch 1/20\n",
            "60000/60000 [==============================] - 17s 291us/step - loss: 0.5176 - acc: 0.8458 - val_loss: 0.1616 - val_acc: 0.9501\n",
            "Epoch 2/20\n",
            "60000/60000 [==============================] - 12s 193us/step - loss: 0.2525 - acc: 0.9274 - val_loss: 0.1228 - val_acc: 0.9627\n",
            "Epoch 3/20\n",
            "60000/60000 [==============================] - 12s 197us/step - loss: 0.2003 - acc: 0.9425 - val_loss: 0.1027 - val_acc: 0.9691\n",
            "Epoch 4/20\n",
            "60000/60000 [==============================] - 12s 200us/step - loss: 0.1701 - acc: 0.9508 - val_loss: 0.0916 - val_acc: 0.9721\n",
            "Epoch 5/20\n",
            "60000/60000 [==============================] - 12s 197us/step - loss: 0.1530 - acc: 0.9551 - val_loss: 0.0858 - val_acc: 0.9741\n",
            "Epoch 6/20\n",
            "60000/60000 [==============================] - 11s 190us/step - loss: 0.1368 - acc: 0.9608 - val_loss: 0.0807 - val_acc: 0.9745\n",
            "Epoch 7/20\n",
            "60000/60000 [==============================] - 12s 198us/step - loss: 0.1283 - acc: 0.9625 - val_loss: 0.0749 - val_acc: 0.9781\n",
            "Epoch 8/20\n",
            "60000/60000 [==============================] - 12s 198us/step - loss: 0.1194 - acc: 0.9653 - val_loss: 0.0755 - val_acc: 0.9778\n",
            "Epoch 9/20\n",
            "60000/60000 [==============================] - 12s 200us/step - loss: 0.1149 - acc: 0.9665 - val_loss: 0.0679 - val_acc: 0.9802\n",
            "Epoch 10/20\n",
            "60000/60000 [==============================] - 12s 200us/step - loss: 0.1052 - acc: 0.9693 - val_loss: 0.0663 - val_acc: 0.9803\n",
            "Epoch 11/20\n",
            "60000/60000 [==============================] - 12s 200us/step - loss: 0.1002 - acc: 0.9699 - val_loss: 0.0660 - val_acc: 0.9804\n",
            "Epoch 12/20\n",
            "60000/60000 [==============================] - 11s 191us/step - loss: 0.0961 - acc: 0.9715 - val_loss: 0.0690 - val_acc: 0.9799\n",
            "Epoch 13/20\n",
            "60000/60000 [==============================] - 12s 194us/step - loss: 0.0949 - acc: 0.9720 - val_loss: 0.0697 - val_acc: 0.9786\n",
            "Epoch 14/20\n",
            "60000/60000 [==============================] - 11s 191us/step - loss: 0.0895 - acc: 0.9735 - val_loss: 0.0646 - val_acc: 0.9798\n",
            "Epoch 15/20\n",
            "60000/60000 [==============================] - 12s 197us/step - loss: 0.0872 - acc: 0.9739 - val_loss: 0.0634 - val_acc: 0.9817\n",
            "Epoch 16/20\n",
            "60000/60000 [==============================] - 12s 195us/step - loss: 0.0821 - acc: 0.9757 - val_loss: 0.0618 - val_acc: 0.9818\n",
            "Epoch 17/20\n",
            "60000/60000 [==============================] - 12s 196us/step - loss: 0.0813 - acc: 0.9757 - val_loss: 0.0651 - val_acc: 0.9809\n",
            "Epoch 18/20\n",
            "60000/60000 [==============================] - 12s 197us/step - loss: 0.0793 - acc: 0.9763 - val_loss: 0.0674 - val_acc: 0.9809\n",
            "Epoch 19/20\n",
            "60000/60000 [==============================] - 12s 198us/step - loss: 0.0738 - acc: 0.9778 - val_loss: 0.0631 - val_acc: 0.9813\n",
            "Epoch 20/20\n",
            "60000/60000 [==============================] - 12s 207us/step - loss: 0.0733 - acc: 0.9784 - val_loss: 0.0621 - val_acc: 0.9816\n"
          ],
          "name": "stdout"
        }
      ]
    },
    {
      "metadata": {
        "id": "qnTwCF3z1mDQ",
        "colab_type": "code",
        "outputId": "4ff0b54c-ec51-4887-991c-25aa4177388d",
        "colab": {
          "base_uri": "https://localhost:8080/",
          "height": 52
        }
      },
      "cell_type": "code",
      "source": [
        "score=model.evaluate(xtest,ytest,verbose=0)\n",
        "print('test score',score[0])\n",
        "print('test accuracy',score[1])"
      ],
      "execution_count": 0,
      "outputs": [
        {
          "output_type": "stream",
          "text": [
            "test score 0.0621104669367196\n",
            "test accuracy 0.9816\n"
          ],
          "name": "stdout"
        }
      ]
    },
    {
      "metadata": {
        "id": "akRhMq_x26I0",
        "colab_type": "code",
        "outputId": "0f0d20c0-6728-4153-dbff-e7cb40f18dc2",
        "colab": {
          "base_uri": "https://localhost:8080/",
          "height": 361
        }
      },
      "cell_type": "code",
      "source": [
        "fig,ax=plt.subplots()\n",
        "x=list(range(1,21))\n",
        "validationy=history.history['val_loss']\n",
        "testy=history.history['loss']\n",
        "dynamicplot(x,validationy,testy,ax)"
      ],
      "execution_count": 0,
      "outputs": [
        {
          "output_type": "display_data",
          "data": {
            "image/png": "[encoded data removed]",
            "text/plain": [
              "<Figure size 576x396 with 1 Axes>"
            ]
          },
          "metadata": {
            "tags": []
          }
        }
      ]
    },
    {
      "metadata": {
        "id": "CKKNxTjk6YmD",
        "colab_type": "code",
        "outputId": "dcfafb3b-5835-4e96-9549-d3f73f3c4085",
        "colab": {
          "base_uri": "https://localhost:8080/",
          "height": 728
        }
      },
      "cell_type": "code",
      "source": [
        "model1=Sequential()\n",
        "model1.add(Dense(364,input_dim=inputdimensions,activation='relu'))\n",
        "model1.add(BatchNormalization())\n",
        "model1.add(Dropout(0.5))\n",
        "model1.add(Dense(512,input_dim=inputdimensions,activation='relu'))\n",
        "model1.add(BatchNormalization())\n",
        "model1.add(Dropout(0.2))\n",
        "model1.add(Dense(52,activation='relu'))\n",
        "model1.add(BatchNormalization())\n",
        "model1.add(Dropout(0.3))\n",
        "model1.add(Dense(10,activation='softmax'))\n",
        "model1.compile(optimizer='adam',loss='categorical_crossentropy',metrics=['accuracy'])\n",
        "history=model1.fit(xtrain,ytrain,batch_size=128,epochs=20,validation_data=(xtest,ytest),verbose=1)"
      ],
      "execution_count": 0,
      "outputs": [
        {
          "output_type": "stream",
          "text": [
            "Train on 60000 samples, validate on 10000 samples\n",
            "Epoch 1/20\n",
            "60000/60000 [==============================] - 26s 441us/step - loss: 0.3885 - acc: 0.8828 - val_loss: 0.1358 - val_acc: 0.9583\n",
            "Epoch 2/20\n",
            "60000/60000 [==============================] - 19s 319us/step - loss: 0.1926 - acc: 0.9423 - val_loss: 0.1065 - val_acc: 0.9677\n",
            "Epoch 3/20\n",
            "60000/60000 [==============================] - 19s 315us/step - loss: 0.1561 - acc: 0.9535 - val_loss: 0.0942 - val_acc: 0.9706\n",
            "Epoch 4/20\n",
            "60000/60000 [==============================] - 19s 318us/step - loss: 0.1291 - acc: 0.9618 - val_loss: 0.0854 - val_acc: 0.9735\n",
            "Epoch 5/20\n",
            "60000/60000 [==============================] - 19s 323us/step - loss: 0.1197 - acc: 0.9640 - val_loss: 0.0748 - val_acc: 0.9772\n",
            "Epoch 6/20\n",
            "60000/60000 [==============================] - 19s 320us/step - loss: 0.1115 - acc: 0.9664 - val_loss: 0.0766 - val_acc: 0.9776\n",
            "Epoch 7/20\n",
            "60000/60000 [==============================] - 19s 319us/step - loss: 0.1025 - acc: 0.9685 - val_loss: 0.0791 - val_acc: 0.9762\n",
            "Epoch 8/20\n",
            "60000/60000 [==============================] - 19s 320us/step - loss: 0.0982 - acc: 0.9698 - val_loss: 0.0668 - val_acc: 0.9806\n",
            "Epoch 9/20\n",
            "60000/60000 [==============================] - 20s 329us/step - loss: 0.0916 - acc: 0.9720 - val_loss: 0.0588 - val_acc: 0.9805\n",
            "Epoch 10/20\n",
            "60000/60000 [==============================] - 19s 323us/step - loss: 0.0848 - acc: 0.9746 - val_loss: 0.0618 - val_acc: 0.9815\n",
            "Epoch 11/20\n",
            "60000/60000 [==============================] - 19s 321us/step - loss: 0.0789 - acc: 0.9759 - val_loss: 0.0666 - val_acc: 0.9809\n",
            "Epoch 12/20\n",
            "60000/60000 [==============================] - 19s 321us/step - loss: 0.0738 - acc: 0.9764 - val_loss: 0.0644 - val_acc: 0.9815\n",
            "Epoch 13/20\n",
            "60000/60000 [==============================] - 19s 315us/step - loss: 0.0721 - acc: 0.9772 - val_loss: 0.0637 - val_acc: 0.9812\n",
            "Epoch 14/20\n",
            "60000/60000 [==============================] - 19s 315us/step - loss: 0.0730 - acc: 0.9772 - val_loss: 0.0605 - val_acc: 0.9826\n",
            "Epoch 15/20\n",
            "60000/60000 [==============================] - 20s 326us/step - loss: 0.0677 - acc: 0.9791 - val_loss: 0.0591 - val_acc: 0.9826\n",
            "Epoch 16/20\n",
            "60000/60000 [==============================] - 20s 330us/step - loss: 0.0606 - acc: 0.9809 - val_loss: 0.0597 - val_acc: 0.9833\n",
            "Epoch 17/20\n",
            "60000/60000 [==============================] - 19s 319us/step - loss: 0.0613 - acc: 0.9797 - val_loss: 0.0583 - val_acc: 0.9832\n",
            "Epoch 18/20\n",
            "60000/60000 [==============================] - 19s 317us/step - loss: 0.0609 - acc: 0.9799 - val_loss: 0.0571 - val_acc: 0.9836\n",
            "Epoch 19/20\n",
            "60000/60000 [==============================] - 19s 316us/step - loss: 0.0603 - acc: 0.9806 - val_loss: 0.0542 - val_acc: 0.9846\n",
            "Epoch 20/20\n",
            "60000/60000 [==============================] - 19s 324us/step - loss: 0.0536 - acc: 0.9830 - val_loss: 0.0620 - val_acc: 0.9827\n"
          ],
          "name": "stdout"
        }
      ]
    },
    {
      "metadata": {
        "id": "lhnqa2PI7iUU",
        "colab_type": "code",
        "outputId": "1badb151-532a-42d8-ccf4-b8b1c005349e",
        "colab": {
          "base_uri": "https://localhost:8080/",
          "height": 52
        }
      },
      "cell_type": "code",
      "source": [
        "score=model.evaluate(xtest,ytest,verbose=0)\n",
        "print('test score',score[0])\n",
        "print('test accuracy',score[1])"
      ],
      "execution_count": 0,
      "outputs": [
        {
          "output_type": "stream",
          "text": [
            "test score 0.0621104669367196\n",
            "test accuracy 0.9816\n"
          ],
          "name": "stdout"
        }
      ]
    },
    {
      "metadata": {
        "id": "3vXXVyAc7m2j",
        "colab_type": "code",
        "outputId": "bb4ef248-184d-4417-b4df-91e6b48997c3",
        "colab": {
          "base_uri": "https://localhost:8080/",
          "height": 361
        }
      },
      "cell_type": "code",
      "source": [
        "fig,ax=plt.subplots()\n",
        "x=list(range(1,21))\n",
        "validationy=history.history['val_loss']\n",
        "testy=history.history['loss']\n",
        "dynamicplot(x,validationy,testy,ax)"
      ],
      "execution_count": 0,
      "outputs": [
        {
          "output_type": "display_data",
          "data": {
            "image/png": "[encoded data removed]",
            "text/plain": [
              "<Figure size 576x396 with 1 Axes>"
            ]
          },
          "metadata": {
            "tags": []
          }
        }
      ]
    },
    {
      "metadata": {
        "id": "y0K6jexM7njt",
        "colab_type": "code",
        "outputId": "4f1897da-1705-49fa-f13b-0bf9b6a7a012",
        "colab": {
          "base_uri": "https://localhost:8080/",
          "height": 728
        }
      },
      "cell_type": "code",
      "source": [
        "model2=Sequential()\n",
        "model2.add(Dense(364,input_dim=inputdimensions,activation='relu'))\n",
        "model2.add(BatchNormalization())\n",
        "model2.add(Dropout(0.2))\n",
        "model2.add(Dense(512,input_dim=inputdimensions,activation='relu'))\n",
        "model2.add(BatchNormalization())\n",
        "model2.add(Dropout(0.3))\n",
        "model2.add(Dense(784,input_dim=inputdimensions,activation='relu'))\n",
        "model2.add(BatchNormalization())\n",
        "model2.add(Dropout(0.4))\n",
        "model2.add(Dense(512,input_dim=inputdimensions,activation='relu'))\n",
        "model2.add(BatchNormalization())\n",
        "model2.add(Dropout(0.5))\n",
        "model2.add(Dense(200,activation='relu'))\n",
        "model2.add(BatchNormalization())\n",
        "model2.add(Dropout(0.6))\n",
        "model2.add(Dense(10,activation='softmax'))\n",
        "model2.compile(optimizer='adam',loss='categorical_crossentropy',metrics=['accuracy'])\n",
        "history=model2.fit(xtrain,ytrain,batch_size=128,epochs=20,validation_data=(xtest,ytest),verbose=1)"
      ],
      "execution_count": 0,
      "outputs": [
        {
          "output_type": "stream",
          "text": [
            "Train on 60000 samples, validate on 10000 samples\n",
            "Epoch 1/20\n",
            "60000/60000 [==============================] - 28s 469us/step - loss: 0.5001 - acc: 0.8530 - val_loss: 0.1449 - val_acc: 0.9583\n",
            "Epoch 2/20\n",
            "60000/60000 [==============================] - 26s 435us/step - loss: 0.1877 - acc: 0.9456 - val_loss: 0.1093 - val_acc: 0.9699\n",
            "Epoch 3/20\n",
            "60000/60000 [==============================] - 26s 434us/step - loss: 0.1483 - acc: 0.9575 - val_loss: 0.0906 - val_acc: 0.9734\n",
            "Epoch 4/20\n",
            "60000/60000 [==============================] - 26s 434us/step - loss: 0.1207 - acc: 0.9648 - val_loss: 0.1021 - val_acc: 0.9707\n",
            "Epoch 5/20\n",
            "60000/60000 [==============================] - 26s 432us/step - loss: 0.1090 - acc: 0.9682 - val_loss: 0.0855 - val_acc: 0.9740\n",
            "Epoch 6/20\n",
            "60000/60000 [==============================] - 26s 434us/step - loss: 0.0957 - acc: 0.9720 - val_loss: 0.0856 - val_acc: 0.9747\n",
            "Epoch 7/20\n",
            "60000/60000 [==============================] - 26s 433us/step - loss: 0.0884 - acc: 0.9749 - val_loss: 0.0719 - val_acc: 0.9796\n",
            "Epoch 8/20\n",
            "60000/60000 [==============================] - 26s 433us/step - loss: 0.0822 - acc: 0.9765 - val_loss: 0.0910 - val_acc: 0.9759\n",
            "Epoch 9/20\n",
            "60000/60000 [==============================] - 26s 437us/step - loss: 0.0784 - acc: 0.9772 - val_loss: 0.0880 - val_acc: 0.9745\n",
            "Epoch 10/20\n",
            "60000/60000 [==============================] - 26s 437us/step - loss: 0.0734 - acc: 0.9786 - val_loss: 0.0678 - val_acc: 0.9803\n",
            "Epoch 11/20\n",
            "60000/60000 [==============================] - 26s 442us/step - loss: 0.0647 - acc: 0.9814 - val_loss: 0.0635 - val_acc: 0.9811\n",
            "Epoch 12/20\n",
            "60000/60000 [==============================] - 26s 434us/step - loss: 0.0619 - acc: 0.9824 - val_loss: 0.0798 - val_acc: 0.9798\n",
            "Epoch 13/20\n",
            "60000/60000 [==============================] - 26s 434us/step - loss: 0.0570 - acc: 0.9834 - val_loss: 0.0727 - val_acc: 0.9807\n",
            "Epoch 14/20\n",
            "60000/60000 [==============================] - 26s 437us/step - loss: 0.0578 - acc: 0.9837 - val_loss: 0.0723 - val_acc: 0.9798\n",
            "Epoch 15/20\n",
            "60000/60000 [==============================] - 26s 436us/step - loss: 0.0550 - acc: 0.9838 - val_loss: 0.0619 - val_acc: 0.9832\n",
            "Epoch 16/20\n",
            "60000/60000 [==============================] - 26s 434us/step - loss: 0.0498 - acc: 0.9852 - val_loss: 0.0731 - val_acc: 0.9808\n",
            "Epoch 17/20\n",
            "60000/60000 [==============================] - 26s 433us/step - loss: 0.0460 - acc: 0.9867 - val_loss: 0.0795 - val_acc: 0.9798\n",
            "Epoch 18/20\n",
            "60000/60000 [==============================] - 26s 435us/step - loss: 0.0463 - acc: 0.9863 - val_loss: 0.0692 - val_acc: 0.9814\n",
            "Epoch 19/20\n",
            "60000/60000 [==============================] - 26s 433us/step - loss: 0.0398 - acc: 0.9882 - val_loss: 0.0753 - val_acc: 0.9803\n",
            "Epoch 20/20\n",
            "60000/60000 [==============================] - 26s 434us/step - loss: 0.0402 - acc: 0.9879 - val_loss: 0.0804 - val_acc: 0.9825\n"
          ],
          "name": "stdout"
        }
      ]
    },
    {
      "metadata": {
        "id": "gKArEvDd77Cn",
        "colab_type": "code",
        "outputId": "5cf3ee46-201c-47b5-b9eb-3370b2cd676e",
        "colab": {
          "base_uri": "https://localhost:8080/",
          "height": 52
        }
      },
      "cell_type": "code",
      "source": [
        "score=model.evaluate(xtest,ytest,verbose=0)\n",
        "print('test score',score[0])\n",
        "print('test accuracy',score[1])"
      ],
      "execution_count": 0,
      "outputs": [
        {
          "output_type": "stream",
          "text": [
            "test score 0.07184817352769897\n",
            "test accuracy 0.9785\n"
          ],
          "name": "stdout"
        }
      ]
    },
    {
      "metadata": {
        "id": "ZIVihJsW78oa",
        "colab_type": "code",
        "outputId": "90ba3a19-2606-4dd4-f5aa-4c0f0261edc0",
        "colab": {
          "base_uri": "https://localhost:8080/",
          "height": 361
        }
      },
      "cell_type": "code",
      "source": [
        "fig,ax=plt.subplots()\n",
        "x=list(range(1,21))\n",
        "validationy=history.history['val_loss']\n",
        "testy=history.history['loss']\n",
        "dynamicplot(x,validationy,testy,ax)"
      ],
      "execution_count": 0,
      "outputs": [
        {
          "output_type": "display_data",
          "data": {
            "image/png": "[encoded data removed]",
            "text/plain": [
              "<Figure size 576x396 with 1 Axes>"
            ]
          },
          "metadata": {
            "tags": []
          }
        }
      ]
    },
    {
      "metadata": {
        "colab_type": "code",
        "outputId": "86fdc702-e007-4aa2-9008-7f0ae1d81f12",
        "id": "ZQdGt9zTnkRX",
        "colab": {
          "base_uri": "https://localhost:8080/",
          "height": 728
        }
      },
      "cell_type": "code",
      "source": [
        "model3=Sequential()\n",
        "model3.add(Dense(364,input_dim=inputdimensions,activation='relu'))\n",
        "model3.add(BatchNormalization())\n",
        "model3.add(Dense(512,input_dim=inputdimensions,activation='relu'))\n",
        "model3.add(BatchNormalization())\n",
        "model3.add(Dense(52,activation='relu'))\n",
        "model3.add(BatchNormalization())\n",
        "model3.add(Dense(10,activation='softmax'))\n",
        "model3.compile(optimizer='adam',loss='categorical_crossentropy',metrics=['accuracy'])\n",
        "history=model3.fit(xtrain,ytrain,batch_size=128,epochs=20,validation_data=(xtest,ytest),verbose=1)"
      ],
      "execution_count": 0,
      "outputs": [
        {
          "output_type": "stream",
          "text": [
            "Train on 60000 samples, validate on 10000 samples\n",
            "Epoch 1/20\n",
            "60000/60000 [==============================] - 13s 210us/step - loss: 0.1939 - acc: 0.9429 - val_loss: 0.1124 - val_acc: 0.9655\n",
            "Epoch 2/20\n",
            "60000/60000 [==============================] - 10s 166us/step - loss: 0.0750 - acc: 0.9768 - val_loss: 0.0809 - val_acc: 0.9734\n",
            "Epoch 3/20\n",
            "60000/60000 [==============================] - 10s 169us/step - loss: 0.0488 - acc: 0.9845 - val_loss: 0.0829 - val_acc: 0.9732\n",
            "Epoch 4/20\n",
            "60000/60000 [==============================] - 10s 166us/step - loss: 0.0388 - acc: 0.9879 - val_loss: 0.0793 - val_acc: 0.9748\n",
            "Epoch 5/20\n",
            "60000/60000 [==============================] - 10s 165us/step - loss: 0.0313 - acc: 0.9897 - val_loss: 0.0809 - val_acc: 0.9766\n",
            "Epoch 6/20\n",
            "60000/60000 [==============================] - 10s 166us/step - loss: 0.0275 - acc: 0.9910 - val_loss: 0.0745 - val_acc: 0.9777\n",
            "Epoch 7/20\n",
            "60000/60000 [==============================] - 10s 167us/step - loss: 0.0230 - acc: 0.9925 - val_loss: 0.0861 - val_acc: 0.9740\n",
            "Epoch 8/20\n",
            "60000/60000 [==============================] - 10s 166us/step - loss: 0.0206 - acc: 0.9929 - val_loss: 0.0719 - val_acc: 0.9787\n",
            "Epoch 9/20\n",
            "60000/60000 [==============================] - 10s 168us/step - loss: 0.0167 - acc: 0.9945 - val_loss: 0.0745 - val_acc: 0.9789\n",
            "Epoch 10/20\n",
            "60000/60000 [==============================] - 10s 166us/step - loss: 0.0164 - acc: 0.9944 - val_loss: 0.0745 - val_acc: 0.9802\n",
            "Epoch 11/20\n",
            "60000/60000 [==============================] - 10s 168us/step - loss: 0.0167 - acc: 0.9946 - val_loss: 0.0817 - val_acc: 0.9775\n",
            "Epoch 12/20\n",
            "60000/60000 [==============================] - 10s 166us/step - loss: 0.0131 - acc: 0.9957 - val_loss: 0.0673 - val_acc: 0.9819\n",
            "Epoch 13/20\n",
            "60000/60000 [==============================] - 10s 167us/step - loss: 0.0163 - acc: 0.9942 - val_loss: 0.0836 - val_acc: 0.9785\n",
            "Epoch 14/20\n",
            "60000/60000 [==============================] - 10s 167us/step - loss: 0.0133 - acc: 0.9955 - val_loss: 0.0744 - val_acc: 0.9806\n",
            "Epoch 15/20\n",
            "60000/60000 [==============================] - 10s 169us/step - loss: 0.0093 - acc: 0.9970 - val_loss: 0.0680 - val_acc: 0.9813\n",
            "Epoch 16/20\n",
            "60000/60000 [==============================] - 10s 168us/step - loss: 0.0094 - acc: 0.9969 - val_loss: 0.0724 - val_acc: 0.9807\n",
            "Epoch 17/20\n",
            "60000/60000 [==============================] - 10s 167us/step - loss: 0.0099 - acc: 0.9966 - val_loss: 0.0828 - val_acc: 0.9790\n",
            "Epoch 18/20\n",
            "60000/60000 [==============================] - 10s 166us/step - loss: 0.0114 - acc: 0.9962 - val_loss: 0.0765 - val_acc: 0.9816\n",
            "Epoch 19/20\n",
            "60000/60000 [==============================] - 10s 170us/step - loss: 0.0092 - acc: 0.9971 - val_loss: 0.0749 - val_acc: 0.9812\n",
            "Epoch 20/20\n",
            "60000/60000 [==============================] - 12s 197us/step - loss: 0.0071 - acc: 0.9976 - val_loss: 0.0722 - val_acc: 0.9818\n"
          ],
          "name": "stdout"
        }
      ]
    },
    {
      "metadata": {
        "colab_type": "code",
        "outputId": "c9b74430-6c5e-4ebd-9812-91403190d59a",
        "id": "jlwgiODPnkRf",
        "colab": {
          "base_uri": "https://localhost:8080/",
          "height": 52
        }
      },
      "cell_type": "code",
      "source": [
        "score=model.evaluate(xtest,ytest,verbose=0)\n",
        "print('test score',score[0])\n",
        "print('test accuracy',score[1])"
      ],
      "execution_count": 0,
      "outputs": [
        {
          "output_type": "stream",
          "text": [
            "test score 0.12161973871234805\n",
            "test accuracy 0.9695\n"
          ],
          "name": "stdout"
        }
      ]
    },
    {
      "metadata": {
        "colab_type": "code",
        "outputId": "a07e77c8-a2cb-4bf0-82d5-7d5ebaee66b6",
        "id": "uvQ6i44AnkRl",
        "colab": {
          "base_uri": "https://localhost:8080/",
          "height": 361
        }
      },
      "cell_type": "code",
      "source": [
        "fig,ax=plt.subplots()\n",
        "x=list(range(1,21))\n",
        "validationy=history.history['val_loss']\n",
        "testy=history.history['loss']\n",
        "dynamicplot(x,validationy,testy,ax)"
      ],
      "execution_count": 0,
      "outputs": [
        {
          "output_type": "display_data",
          "data": {
            "image/png": "[encoded data removed]",
            "text/plain": [
              "<Figure size 576x396 with 1 Axes>"
            ]
          },
          "metadata": {
            "tags": []
          }
        }
      ]
    },
    {
      "metadata": {
        "colab_type": "code",
        "outputId": "39ad396c-02a3-4936-eea1-215ed3bf6ab5",
        "id": "fAAzCYTtp5ho",
        "colab": {
          "base_uri": "https://localhost:8080/",
          "height": 728
        }
      },
      "cell_type": "code",
      "source": [
        "model4=Sequential()\n",
        "model4.add(Dense(364,input_dim=inputdimensions,activation='relu'))\n",
        "model4.add(Dense(512,input_dim=inputdimensions,activation='relu'))\n",
        "model4.add(Dense(20,input_dim=inputdimensions,activation='relu'))\n",
        "model4.add(Dense(10,input_dim=inputdimensions,activation='relu'))\n",
        "model4.add(Dense(60,input_dim=inputdimensions,activation='relu'))\n",
        "model4.add(Dense(52,activation='relu'))\n",
        "model4.add(Dense(10,activation='softmax'))\n",
        "model4.compile(optimizer='adam',loss='categorical_crossentropy',metrics=['accuracy'])\n",
        "history1=model4.fit(xtrain,ytrain,batch_size=128,epochs=20,validation_data=(xtest,ytest),verbose=1)"
      ],
      "execution_count": 0,
      "outputs": [
        {
          "output_type": "stream",
          "text": [
            "Train on 60000 samples, validate on 10000 samples\n",
            "Epoch 1/20\n",
            "60000/60000 [==============================] - 20s 328us/step - loss: 0.3797 - acc: 0.8813 - val_loss: 0.1399 - val_acc: 0.9600\n",
            "Epoch 2/20\n",
            "60000/60000 [==============================] - 15s 256us/step - loss: 0.1165 - acc: 0.9656 - val_loss: 0.1081 - val_acc: 0.9672\n",
            "Epoch 3/20\n",
            "60000/60000 [==============================] - 15s 242us/step - loss: 0.0787 - acc: 0.9764 - val_loss: 0.0844 - val_acc: 0.9759\n",
            "Epoch 4/20\n",
            "60000/60000 [==============================] - 15s 246us/step - loss: 0.0594 - acc: 0.9820 - val_loss: 0.0892 - val_acc: 0.9752\n",
            "Epoch 5/20\n",
            "60000/60000 [==============================] - 15s 250us/step - loss: 0.0448 - acc: 0.9858 - val_loss: 0.0905 - val_acc: 0.9742\n",
            "Epoch 6/20\n",
            "60000/60000 [==============================] - 15s 248us/step - loss: 0.0362 - acc: 0.9886 - val_loss: 0.0816 - val_acc: 0.9773\n",
            "Epoch 7/20\n",
            "60000/60000 [==============================] - 15s 246us/step - loss: 0.0316 - acc: 0.9901 - val_loss: 0.0901 - val_acc: 0.9769\n",
            "Epoch 8/20\n",
            "60000/60000 [==============================] - 15s 252us/step - loss: 0.0274 - acc: 0.9913 - val_loss: 0.0977 - val_acc: 0.9756\n",
            "Epoch 9/20\n",
            "60000/60000 [==============================] - 15s 252us/step - loss: 0.0234 - acc: 0.9925 - val_loss: 0.1007 - val_acc: 0.9772\n",
            "Epoch 10/20\n",
            "60000/60000 [==============================] - 15s 249us/step - loss: 0.0224 - acc: 0.9928 - val_loss: 0.0952 - val_acc: 0.9773\n",
            "Epoch 11/20\n",
            "60000/60000 [==============================] - 14s 237us/step - loss: 0.0183 - acc: 0.9939 - val_loss: 0.0868 - val_acc: 0.9801\n",
            "Epoch 12/20\n",
            "60000/60000 [==============================] - 15s 249us/step - loss: 0.0213 - acc: 0.9935 - val_loss: 0.1202 - val_acc: 0.9717\n",
            "Epoch 13/20\n",
            "60000/60000 [==============================] - 15s 248us/step - loss: 0.0158 - acc: 0.9949 - val_loss: 0.0904 - val_acc: 0.9805\n",
            "Epoch 14/20\n",
            "60000/60000 [==============================] - 15s 250us/step - loss: 0.0135 - acc: 0.9958 - val_loss: 0.1000 - val_acc: 0.9789\n",
            "Epoch 15/20\n",
            "60000/60000 [==============================] - 15s 242us/step - loss: 0.0106 - acc: 0.9968 - val_loss: 0.0963 - val_acc: 0.9806\n",
            "Epoch 16/20\n",
            "60000/60000 [==============================] - 15s 252us/step - loss: 0.0152 - acc: 0.9952 - val_loss: 0.0987 - val_acc: 0.9793\n",
            "Epoch 17/20\n",
            "60000/60000 [==============================] - 15s 247us/step - loss: 0.0137 - acc: 0.9960 - val_loss: 0.1016 - val_acc: 0.9789\n",
            "Epoch 18/20\n",
            "60000/60000 [==============================] - 14s 241us/step - loss: 0.0105 - acc: 0.9968 - val_loss: 0.1085 - val_acc: 0.9799\n",
            "Epoch 19/20\n",
            "60000/60000 [==============================] - 15s 243us/step - loss: 0.0119 - acc: 0.9966 - val_loss: 0.0958 - val_acc: 0.9810\n",
            "Epoch 20/20\n",
            "60000/60000 [==============================] - 15s 243us/step - loss: 0.0094 - acc: 0.9972 - val_loss: 0.0930 - val_acc: 0.9823\n"
          ],
          "name": "stdout"
        }
      ]
    },
    {
      "metadata": {
        "colab_type": "code",
        "outputId": "50cd604f-1423-43a9-ceac-738b049627f5",
        "id": "pqdFWAbfp5hx",
        "colab": {
          "base_uri": "https://localhost:8080/",
          "height": 52
        }
      },
      "cell_type": "code",
      "source": [
        "score=model.evaluate(xtest,ytest,verbose=0)\n",
        "print('test score',score[0])\n",
        "print('test accuracy',score[1])"
      ],
      "execution_count": 0,
      "outputs": [
        {
          "output_type": "stream",
          "text": [
            "test score 0.12161973871234805\n",
            "test accuracy 0.9695\n"
          ],
          "name": "stdout"
        }
      ]
    },
    {
      "metadata": {
        "colab_type": "code",
        "outputId": "c070400a-e7af-4189-8658-c015689c8c6b",
        "id": "ei5MKeZcp5h6",
        "colab": {
          "base_uri": "https://localhost:8080/",
          "height": 361
        }
      },
      "cell_type": "code",
      "source": [
        "fig,ax=plt.subplots()\n",
        "x=list(range(1,21))\n",
        "validationy=history1.history['val_loss']\n",
        "testy=history1.history['loss']\n",
        "dynamicplot(x,validationy,testy,ax)"
      ],
      "execution_count": 0,
      "outputs": [
        {
          "output_type": "display_data",
          "data": {
            "image/png": "[encoded data removed]",
            "text/plain": [
              "<Figure size 576x396 with 1 Axes>"
            ]
          },
          "metadata": {
            "tags": []
          }
        }
      ]
    },
    {
      "metadata": {
        "id": "v29gebc7zLhu",
        "colab_type": "text"
      },
      "cell_type": "markdown",
      "source": [
        "with out dropouts and batchnormalisation the test accuracy is decreasing"
      ]
    },
    {
      "metadata": {
        "id": "yg86i0o9yJF2",
        "colab_type": "text"
      },
      "cell_type": "markdown",
      "source": [
        "#DOCUMENTATION CONCLUSION AND KEYTAKEAWAYS. "
      ]
    },
    {
      "metadata": {
        "id": "uOy1jg-38sol",
        "colab_type": "code",
        "outputId": "c43c6fee-5918-41c7-ff23-6d743acebeb3",
        "colab": {
          "base_uri": "https://localhost:8080/",
          "height": 202
        }
      },
      "cell_type": "code",
      "source": [
        "import pandas as pd\n",
        "\n",
        "data = [[3,[364,562,10],0.06,0.982,'yes','yes'],[4,[364,512,52,10],0.071,0.9785,'yes','yes'],[6,[364,512,784,512,200,10],0.06,0.9785,'yes','yes'],[6,[364,512,784,512,200,10],0.06,0.96,'no','yes'],[6,[364,512,784,512,200,10],0.06,0.96,'no','no'] ]\n",
        "pd.DataFrame(data, columns=[\"number of layers\",'layers', \"testscore\",'testsccuracy','using_dropouts','using_batch_normalisation'],index=['1','2','3','4','5'])\n"
      ],
      "execution_count": 0,
      "outputs": [
        {
          "output_type": "execute_result",
          "data": {
            "text/html": [
              "<div>\n",
              "<style scoped>\n",
              "    .dataframe tbody tr th:only-of-type {\n",
              "        vertical-align: middle;\n",
              "    }\n",
              "\n",
              "    .dataframe tbody tr th {\n",
              "        vertical-align: top;\n",
              "    }\n",
              "\n",
              "    .dataframe thead th {\n",
              "        text-align: right;\n",
              "    }\n",
              "</style>\n",
              "<table border=\"1\" class=\"dataframe\">\n",
              "  <thead>\n",
              "    <tr style=\"text-align: right;\">\n",
              "      <th></th>\n",
              "      <th>number of layers</th>\n",
              "      <th>layers</th>\n",
              "      <th>testscore</th>\n",
              "      <th>testsccuracy</th>\n",
              "      <th>using_dropouts</th>\n",
              "      <th>using_batch_normalisation</th>\n",
              "    </tr>\n",
              "  </thead>\n",
              "  <tbody>\n",
              "    <tr>\n",
              "      <th>1</th>\n",
              "      <td>3</td>\n",
              "      <td>[364, 562, 10]</td>\n",
              "      <td>0.060</td>\n",
              "      <td>0.9820</td>\n",
              "      <td>yes</td>\n",
              "      <td>yes</td>\n",
              "    </tr>\n",
              "    <tr>\n",
              "      <th>2</th>\n",
              "      <td>4</td>\n",
              "      <td>[364, 512, 52, 10]</td>\n",
              "      <td>0.071</td>\n",
              "      <td>0.9785</td>\n",
              "      <td>yes</td>\n",
              "      <td>yes</td>\n",
              "    </tr>\n",
              "    <tr>\n",
              "      <th>3</th>\n",
              "      <td>6</td>\n",
              "      <td>[364, 512, 784, 512, 200, 10]</td>\n",
              "      <td>0.060</td>\n",
              "      <td>0.9785</td>\n",
              "      <td>yes</td>\n",
              "      <td>yes</td>\n",
              "    </tr>\n",
              "    <tr>\n",
              "      <th>4</th>\n",
              "      <td>6</td>\n",
              "      <td>[364, 512, 784, 512, 200, 10]</td>\n",
              "      <td>0.060</td>\n",
              "      <td>0.9785</td>\n",
              "      <td>no</td>\n",
              "      <td>yes</td>\n",
              "    </tr>\n",
              "    <tr>\n",
              "      <th>5</th>\n",
              "      <td>6</td>\n",
              "      <td>[364, 512, 784, 512, 200, 10]</td>\n",
              "      <td>0.060</td>\n",
              "      <td>0.9785</td>\n",
              "      <td>no</td>\n",
              "      <td>no</td>\n",
              "    </tr>\n",
              "  </tbody>\n",
              "</table>\n",
              "</div>"
            ],
            "text/plain": [
              "   number of layers                         layers  testscore  testsccuracy  \\\n",
              "1                 3                 [364, 562, 10]      0.060        0.9820   \n",
              "2                 4             [364, 512, 52, 10]      0.071        0.9785   \n",
              "3                 6  [364, 512, 784, 512, 200, 10]      0.060        0.9785   \n",
              "4                 6  [364, 512, 784, 512, 200, 10]      0.060        0.9785   \n",
              "5                 6  [364, 512, 784, 512, 200, 10]      0.060        0.9785   \n",
              "\n",
              "  using_dropouts using_batch_normalisation  \n",
              "1            yes                       yes  \n",
              "2            yes                       yes  \n",
              "3            yes                       yes  \n",
              "4             no                       yes  \n",
              "5             no                        no  "
            ]
          },
          "metadata": {
            "tags": []
          },
          "execution_count": 48
        }
      ]
    },
    {
      "metadata": {
        "id": "8Tfn9Ao8vxCQ",
        "colab_type": "text"
      },
      "cell_type": "markdown",
      "source": [
        "### AS THE PART OF ASSIGNEMENT TASKWE USE THE MULTIPLE HIDDEN LAYERS WITH THE DIFFERENT DROPOUT RATES AND BATCH NORMALISATION LAYER. WE USE THE DROPUTS TO PREVENT THE MODEL FORM OVERFITTING WE WILL SWITH OF THE SOME OF THE CELLS IN THE HIDDEN LAYER BASED ON THE PERCENTAGE OF DROPOUT.WE ALSO USE THE BATCH NORMALISATION LAYER TO PERFORM THE BATCHNORMALISATION BECAUSE AFTER WE SEND THE DATA THROUGH THE ACTIVATION FUNCTIONS AND SUMMING WIL HAPPEN OVER THE DATA WHICH LEADS THE DATA TO LOOSE OTS ORIGINAL BEHAVIOR SO WE USE THE BATCH NORMALISATION TO NORMALIE THE DATA . "
      ]
    },
    {
      "metadata": {
        "id": "BF-R6AJlwsLA",
        "colab_type": "text"
      },
      "cell_type": "markdown",
      "source": [
        "### WE HAVE LOADED THE DATA AND NORMALISED THE OBTAINED DATA.WE CAN USE DIFFERENT ACTIVATION FUNCTIONS LIKE SIGMOID,RELU,TANH AND PERFORM THE ACTIVATION. WE FIT THE DATA. WE VARIED THE NUMBER OF DENSE LAYERS AND THE NUMBER OF CELLS IN THE EACH LAYER AND OBSERVED HOE THE MODEL IS CONVERGING REDUCING THE LOSS OF CATEGORICAL CROSS ENTROPY.WE USING THE GRAPH WE VISUALISED THE MODEL IS CONVERGING AND DEVIATING AND AGAIN CONVERGING O REDUCE ERROR. THE MAIN THING IS WE GONNA CONSIDER THE OUTPUT LAYER AS THE SOFTMAX LAYER IN WHICH THE OUTPUT IS TAKEN IN THE FORM OF PROBABILITIES THAT IT BELONGS T0 EACH CLASS LABEL AND WE TAKE MAXIMUM OUT OF THAT PROBABILITY."
      ]
    },
    {
      "metadata": {
        "id": "hI0uPqOOyGqX",
        "colab_type": "text"
      },
      "cell_type": "markdown",
      "source": [
        "###IF WE OBSERVE WE HAVE OBTAINED THE MORE ACCURACY WITH THE SIMPLE MODEL ITESELF USING THE BATCH NORMALISATION AND DROPOUT LAYER . IF WE OBSERVE THE MODELS PERFORMNCE IS REDUCING WHEN THE DROPOUTS AND BATCH NORMALISATION  ARE NOT USED."
      ]
    },
    {
      "metadata": {
        "id": "Z4XPgRtwy2Oj",
        "colab_type": "text"
      },
      "cell_type": "markdown",
      "source": [
        "### WITH SIMPLE DEEPLEARNING MODEL OF MLP WITHOUT ANY FEATUERS WE ARE ABLE TOACHIEVE ACCURACY OF 98 PERCENT."
      ]
    },
    {
      "metadata": {
        "id": "KqiVbYIiwrQv",
        "colab_type": "code",
        "colab": {}
      },
      "cell_type": "code",
      "source": [
        ""
      ],
      "execution_count": 0,
      "outputs": []
    }
  ]
}